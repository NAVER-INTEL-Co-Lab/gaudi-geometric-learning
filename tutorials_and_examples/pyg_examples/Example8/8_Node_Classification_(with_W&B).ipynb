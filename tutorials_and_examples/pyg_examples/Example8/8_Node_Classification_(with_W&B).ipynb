{
  "cells": [
    {
      "cell_type": "markdown",
      "metadata": {
        "id": "kS0CszLPesmC"
      },
      "source": [
        "<a href=\"https://colab.research.google.com/github/wandb/examples/blob/master/colabs/pyg/8_Node_Classification_(with_W&B).ipynb\" target=\"_parent\"><img src=\"https://colab.research.google.com/assets/colab-badge.svg\" alt=\"Open In Colab\"/></a>\n",
        "<!--- @wandbcode{pytorch_geometric_example} -->"
      ]
    },
    {
      "cell_type": "markdown",
      "metadata": {
        "id": "oRyZE56zesmD"
      },
      "source": [
        "<img src=\"http://wandb.me/logo-im-png\" width=\"400\" alt=\"Weights & Biases\" />\n",
        "<!--- @wandbcode{pytorch_geometric_example} -->"
      ]
    },
    {
      "cell_type": "code",
      "execution_count": 1,
      "metadata": {
        "id": "PKTunW1nesmE"
      },
      "outputs": [
        {
          "name": "stdout",
          "output_type": "stream",
          "text": [
            "PT_HPU_LAZY_MODE: 0\n"
          ]
        },
        {
          "name": "stderr",
          "output_type": "stream",
          "text": [
            "Calling add_step_closure function does not have any effect. It's lazy mode only functionality. (warning logged once)\n",
            "Calling mark_step function does not have any effect. It's lazy mode only functionality. (warning logged once)\n",
            "Calling iter_mark_step function does not have any effect. It's lazy mode only functionality. (warning logged once)\n"
          ]
        },
        {
          "name": "stdout",
          "output_type": "stream",
          "text": [
            "2.4.0a0+git74cd574\n"
          ]
        },
        {
          "name": "stderr",
          "output_type": "stream",
          "text": [
            "/usr/lib/python3.10/inspect.py:288: FutureWarning: `torch.distributed.reduce_op` is deprecated, please use `torch.distributed.ReduceOp` instead\n",
            "  return isinstance(object, types.FunctionType)\n"
          ]
        }
      ],
      "source": [
        "import os\n",
        "\n",
        "# Use the eager mode\n",
        "os.environ['PT_HPU_LAZY_MODE'] = '0'\n",
        "\n",
        "# Verify the environment variable is set\n",
        "print(f\"PT_HPU_LAZY_MODE: {os.environ['PT_HPU_LAZY_MODE']}\")\n",
        "\n",
        "import torch\n",
        "os.environ['TORCH'] = torch.__version__\n",
        "print(torch.__version__)\n",
        "\n",
        "import habana_frameworks.torch.core as htcore\n",
        "\n",
        "# use rich traceback\n",
        "\n",
        "from rich import traceback\n",
        "traceback.install()\n",
        "\n",
        "device = torch.device(\"hpu\")"
      ]
    },
    {
      "cell_type": "markdown",
      "metadata": {
        "id": "cicN6DVNesmF"
      },
      "source": [
        "Setup and login to Weights & Biases"
      ]
    },
    {
      "cell_type": "code",
      "execution_count": 2,
      "metadata": {
        "id": "rP9FxShVesmF"
      },
      "outputs": [],
      "source": [
        "enable_wandb = True\n",
        "if enable_wandb:\n",
        "    import wandb"
      ]
    },
    {
      "cell_type": "code",
      "execution_count": 3,
      "metadata": {
        "id": "S4KIBIOWesmF"
      },
      "outputs": [
        {
          "name": "stderr",
          "output_type": "stream",
          "text": [
            "\u001b[34m\u001b[1mwandb\u001b[0m: Using wandb-core as the SDK backend. Please refer to https://wandb.me/wandb-core for more information.\n",
            "\u001b[34m\u001b[1mwandb\u001b[0m: Logging into wandb.ai. (Learn how to deploy a W&B server locally: https://wandb.me/wandb-server)\n",
            "\u001b[34m\u001b[1mwandb\u001b[0m: You can find your API key in your browser here: https://wandb.ai/authorize\n",
            "\u001b[34m\u001b[1mwandb\u001b[0m: Paste an API key from your profile and hit enter, or press ctrl+c to quit:\u001b[34m\u001b[1mwandb\u001b[0m: Paste an API key from your profile and hit enter, or press ctrl+c to quit:\u001b[34m\u001b[1mwandb\u001b[0m: Appending key for api.wandb.ai to your netrc file: /root/.netrc\n"
          ]
        },
        {
          "data": {
            "text/plain": [
              "True"
            ]
          },
          "execution_count": 3,
          "metadata": {},
          "output_type": "execute_result"
        }
      ],
      "source": [
        "wandb.login()"
      ]
    },
    {
      "cell_type": "code",
      "execution_count": 4,
      "metadata": {
        "id": "1qKTci0aesmG"
      },
      "outputs": [
        {
          "name": "stdout",
          "output_type": "stream",
          "text": [
            "2.4.0a0+git74cd574\n"
          ]
        }
      ],
      "source": [
        "import pdb\n",
        "import pandas\n",
        "\n",
        "os.environ['TORCH'] = torch.__version__\n",
        "print(torch.__version__)"
      ]
    },
    {
      "cell_type": "markdown",
      "metadata": {
        "id": "F5RX_VqQesmG"
      },
      "source": [
        "Helper function for visualization.\n"
      ]
    },
    {
      "cell_type": "code",
      "execution_count": 5,
      "metadata": {
        "id": "3XRUi8MjesmH"
      },
      "outputs": [],
      "source": [
        "import matplotlib.pyplot as plt\n",
        "from sklearn.manifold import TSNE\n",
        "\n",
        "def visualize(h, color):\n",
        "    z = TSNE(n_components=2).fit_transform(h.detach().cpu().numpy())\n",
        "    plt.figure(figsize=(10,10))\n",
        "    plt.xticks([])\n",
        "    plt.yticks([])\n",
        "    plt.scatter(z[:, 0], z[:, 1], s=70, c=color, cmap=\"Set2\")\n",
        "    plt.show()\n",
        "\n",
        "def embedding_to_wandb(h, color, key=\"embedding\"):\n",
        "    num_components = h.shape[-1]\n",
        "    df = pandas.DataFrame(data=h.detach().cpu().numpy(),\n",
        "                        columns=[f\"c_{i}\" for i in range(num_components)])\n",
        "    df[\"target\"] = color.detach().cpu().numpy().astype(\"str\")\n",
        "    cols = df.columns.tolist()\n",
        "    df = df[cols[-1:] + cols[:-1]]\n",
        "    wandb.log({key: df})"
      ]
    },
    {
      "cell_type": "markdown",
      "metadata": {
        "id": "WP76409IesmH"
      },
      "source": [
        "# Node Classification with Graph Neural Networks\n",
        "\n",
        "[Previous: Introduction: Hands-on Graph Neural Networks](https://colab.research.google.com/drive/1h3-vJGRVloF5zStxL5I0rSy4ZUPNsjy8)\n",
        "\n",
        "This tutorial will teach you how to apply **Graph Neural Networks (GNNs) to the task of node classification**.\n",
        "Here, we are given the ground-truth labels of only a small subset of nodes, and want to infer the labels for all the remaining nodes (*transductive learning*).\n",
        "\n",
        "To demonstrate, we make use of the `Cora` dataset, which is a **citation network** where nodes represent documents.\n",
        "Each node is described by a 1433-dimensional bag-of-words feature vector.\n",
        "Two documents are connected if there exists a citation link between them.\n",
        "The task is to infer the category of each document (7 in total).\n",
        "\n",
        "This dataset was first introduced by [Yang et al. (2016)](https://arxiv.org/abs/1603.08861) as one of the datasets of the `Planetoid` benchmark suite.\n",
        "We again can make use [PyTorch Geometric](https://github.com/rusty1s/pytorch_geometric) for an easy access to this dataset via [`torch_geometric.datasets.Planetoid`](https://pytorch-geometric.readthedocs.io/en/latest/modules/datasets.html#torch_geometric.datasets.Planetoid):"
      ]
    },
    {
      "cell_type": "code",
      "execution_count": 6,
      "metadata": {
        "id": "5IxSF7gQesmI"
      },
      "outputs": [
        {
          "name": "stdout",
          "output_type": "stream",
          "text": [
            "\n",
            "Dataset: Cora():\n",
            "======================\n",
            "Number of graphs: 1\n",
            "Number of features: 1433\n",
            "Number of classes: 7\n",
            "\n",
            "Data(x=[2708, 1433], edge_index=[2, 10556], y=[2708], train_mask=[2708], val_mask=[2708], test_mask=[2708])\n",
            "===========================================================================================================\n",
            "Number of nodes: 2708\n",
            "Number of edges: 10556\n",
            "Average node degree: 3.90\n",
            "Number of training nodes: 140\n",
            "Training node label rate: 0.05\n",
            "Has isolated nodes: False\n",
            "Has self-loops: False\n",
            "Is undirected: True\n"
          ]
        }
      ],
      "source": [
        "from torch_geometric.datasets import Planetoid\n",
        "from torch_geometric.transforms import NormalizeFeatures\n",
        "\n",
        "\n",
        "\n",
        "dataset = Planetoid(root='data/Planetoid', name='Cora', transform=NormalizeFeatures())\n",
        "\n",
        "print()\n",
        "print(f'Dataset: {dataset}:')\n",
        "print('======================')\n",
        "print(f'Number of graphs: {len(dataset)}')\n",
        "print(f'Number of features: {dataset.num_features}')\n",
        "print(f'Number of classes: {dataset.num_classes}')\n",
        "\n",
        "data = dataset[0]  # Get the first graph object.\n",
        "\n",
        "print()\n",
        "print(data)\n",
        "print('===========================================================================================================')\n",
        "\n",
        "# Gather some statistics about the graph.\n",
        "print(f'Number of nodes: {data.num_nodes}')\n",
        "print(f'Number of edges: {data.num_edges}')\n",
        "print(f'Average node degree: {data.num_edges / data.num_nodes:.2f}')\n",
        "print(f'Number of training nodes: {data.train_mask.sum()}')\n",
        "print(f'Training node label rate: {int(data.train_mask.sum()) / data.num_nodes:.2f}')\n",
        "print(f'Has isolated nodes: {data.has_isolated_nodes()}')\n",
        "print(f'Has self-loops: {data.has_self_loops()}')\n",
        "print(f'Is undirected: {data.is_undirected()}')"
      ]
    },
    {
      "cell_type": "markdown",
      "metadata": {
        "id": "AKdPYYj5esmI"
      },
      "source": [
        "Overall, this dataset is quite similar to the previously used [`KarateClub`](https://pytorch-geometric.readthedocs.io/en/latest/modules/datasets.html#torch_geometric.datasets.KarateClub) network.\n",
        "We can see that the `Cora` network holds 2,708 nodes and 10,556 edges, resulting in an average node degree of 3.9.\n",
        "For training this dataset, we are given the ground-truth categories of 140 nodes (20 for each class).\n",
        "This results in a training node label rate of only 5%.\n",
        "\n",
        "In contrast to `KarateClub`, this graph holds the additional attributes `val_mask` and `test_mask`, which denotes which nodes should be used for validation and testing.\n",
        "Furthermore, we make use of **[data transformations](https://pytorch-geometric.readthedocs.io/en/latest/notes/introduction.html#data-transforms) via `transform=NormalizeFeatures()`**.\n",
        "Transforms can be used to modify your input data before inputting them into a neural network, *e.g.*, for normalization or data augmentation.\n",
        "Here, we [row-normalize](https://pytorch-geometric.readthedocs.io/en/latest/modules/transforms.html#torch_geometric.transforms.NormalizeFeatures) the bag-of-words input feature vectors.\n",
        "\n",
        "We can further see that this network is undirected, and that there exists no isolated nodes (each document has at least one citation)."
      ]
    },
    {
      "cell_type": "markdown",
      "metadata": {
        "id": "vb45djDgesmI"
      },
      "source": [
        "## Training a Multi-layer Perception Network (MLP)\n",
        "\n",
        "In theory, we should be able to infer the category of a document solely based on its content, *i.e.* its bag-of-words feature representation, without taking any relational information into account.\n",
        "\n",
        "Let's verify that by constructing a simple MLP that solely operates on input node features (using shared weights across all nodes):"
      ]
    },
    {
      "cell_type": "code",
      "execution_count": 7,
      "metadata": {
        "id": "A7nYYSlTesmI"
      },
      "outputs": [
        {
          "name": "stdout",
          "output_type": "stream",
          "text": [
            "MLP(\n",
            "  (lin1): Linear(in_features=1433, out_features=16, bias=True)\n",
            "  (lin2): Linear(in_features=16, out_features=7, bias=True)\n",
            ")\n"
          ]
        }
      ],
      "source": [
        "from torch.nn import Linear\n",
        "import torch.nn.functional as F\n",
        "\n",
        "\n",
        "class MLP(torch.nn.Module):\n",
        "    def __init__(self, hidden_channels):\n",
        "        super().__init__()\n",
        "        torch.manual_seed(12345)\n",
        "        self.lin1 = Linear(dataset.num_features, hidden_channels)\n",
        "        self.lin2 = Linear(hidden_channels, dataset.num_classes)\n",
        "\n",
        "    def forward(self, x):\n",
        "        x = self.lin1(x)\n",
        "        x = x.relu()\n",
        "        x = F.dropout(x, p=0.5, training=self.training)\n",
        "        x = self.lin2(x)\n",
        "        return x\n",
        "\n",
        "model = MLP(hidden_channels=16)\n",
        "print(model)"
      ]
    },
    {
      "cell_type": "markdown",
      "metadata": {
        "id": "AVNLh8nfesmI"
      },
      "source": [
        "(optionally) logging the data attributes to W&B summary."
      ]
    },
    {
      "cell_type": "code",
      "execution_count": 8,
      "metadata": {
        "id": "gkI-KkyDesmI"
      },
      "outputs": [
        {
          "name": "stderr",
          "output_type": "stream",
          "text": [
            "\u001b[34m\u001b[1mwandb\u001b[0m: Currently logged in as: \u001b[33mvezenbu\u001b[0m (\u001b[33mvezenbu-korea-advanced-institute-of-science-and-technology\u001b[0m). Use \u001b[1m`wandb login --relogin`\u001b[0m to force relogin\n"
          ]
        },
        {
          "data": {
            "text/html": [
              "Tracking run with wandb version 0.18.5"
            ],
            "text/plain": [
              "<IPython.core.display.HTML object>"
            ]
          },
          "metadata": {},
          "output_type": "display_data"
        },
        {
          "data": {
            "text/html": [
              "Run data is saved locally in <code>/root/raw_torch_for_scatter/pyg_examples/wandb/run-20241031_072403-ok2ty4im</code>"
            ],
            "text/plain": [
              "<IPython.core.display.HTML object>"
            ]
          },
          "metadata": {},
          "output_type": "display_data"
        },
        {
          "data": {
            "text/html": [
              "Syncing run <strong><a href='https://wandb.ai/vezenbu-korea-advanced-institute-of-science-and-technology/node-classification/runs/ok2ty4im' target=\"_blank\">ethereal-zombie-1</a></strong> to <a href='https://wandb.ai/vezenbu-korea-advanced-institute-of-science-and-technology/node-classification' target=\"_blank\">Weights & Biases</a> (<a href='https://wandb.me/run' target=\"_blank\">docs</a>)<br/>"
            ],
            "text/plain": [
              "<IPython.core.display.HTML object>"
            ]
          },
          "metadata": {},
          "output_type": "display_data"
        },
        {
          "data": {
            "text/html": [
              " View project at <a href='https://wandb.ai/vezenbu-korea-advanced-institute-of-science-and-technology/node-classification' target=\"_blank\">https://wandb.ai/vezenbu-korea-advanced-institute-of-science-and-technology/node-classification</a>"
            ],
            "text/plain": [
              "<IPython.core.display.HTML object>"
            ]
          },
          "metadata": {},
          "output_type": "display_data"
        },
        {
          "data": {
            "text/html": [
              " View run at <a href='https://wandb.ai/vezenbu-korea-advanced-institute-of-science-and-technology/node-classification/runs/ok2ty4im' target=\"_blank\">https://wandb.ai/vezenbu-korea-advanced-institute-of-science-and-technology/node-classification/runs/ok2ty4im</a>"
            ],
            "text/plain": [
              "<IPython.core.display.HTML object>"
            ]
          },
          "metadata": {},
          "output_type": "display_data"
        }
      ],
      "source": [
        "if enable_wandb:\n",
        "    wandb.init(project='node-classification')\n",
        "    summary = dict()\n",
        "    summary[\"data\"] = dict()\n",
        "    summary[\"data\"][\"num_features\"] = dataset.num_features\n",
        "    summary[\"data\"][\"num_classes\"] = dataset.num_classes\n",
        "    summary[\"data\"][\"num_nodes\"] = data.num_nodes\n",
        "    summary[\"data\"][\"num_edges\"] = data.num_edges\n",
        "    summary[\"data\"][\"has_isolated_nodes\"] = data.has_isolated_nodes()\n",
        "    summary[\"data\"][\"has_self_nodes\"] = data.has_self_loops()\n",
        "    summary[\"data\"][\"is_undirected\"] = data.is_undirected()\n",
        "    summary[\"data\"][\"num_training_nodes\"] = data.train_mask.sum()\n",
        "    wandb.summary = summary"
      ]
    },
    {
      "cell_type": "markdown",
      "metadata": {
        "id": "ge2dO6SdesmJ"
      },
      "source": [
        "Our MLP is defined by two linear layers and enhanced by [ReLU](https://pytorch.org/docs/stable/generated/torch.nn.ReLU.html?highlight=relu#torch.nn.ReLU) non-linearity and [dropout](https://pytorch.org/docs/stable/generated/torch.nn.Dropout.html?highlight=dropout#torch.nn.Dropout).\n",
        "Here, we first reduce the 1433-dimensional feature vector to a low-dimensional embedding (`hidden_channels=16`), while the second linear layer acts as a classifier that should map each low-dimensional node embedding to one of the 7 classes.\n",
        "\n",
        "Let's train our simple MLP by following a similar procedure as described in [the first part of this tutorial](https://colab.research.google.com/drive/1h3-vJGRVloF5zStxL5I0rSy4ZUPNsjy8).\n",
        "We again make use of the **cross entropy loss** and **Adam optimizer**.\n",
        "This time, we also define a **`test` function** to evaluate how well our final model performs on the test node set (which labels have not been observed during training).\n",
        "\n",
        "We also visualize the embeddings of the untrained model to in visually comparing the progress made by the training process below.\n",
        "\n",
        "\n",
        "**NOTE**: *For W&B mode, please set up the embedding projector from the setting panel of the logged table. More information can be found here: https://docs.wandb.ai/ref/app/features/panels/weave/embedding-projector*"
      ]
    },
    {
      "cell_type": "code",
      "execution_count": 9,
      "metadata": {
        "id": "yrwox4PeesmJ"
      },
      "outputs": [
        {
          "name": "stderr",
          "output_type": "stream",
          "text": [
            "============================= HABANA PT BRIDGE CONFIGURATION =========================== \n",
            " PT_HPU_LAZY_MODE = 0\n",
            " PT_RECIPE_CACHE_PATH = \n",
            " PT_CACHE_FOLDER_DELETE = 0\n",
            " PT_HPU_RECIPE_CACHE_CONFIG = \n",
            " PT_HPU_MAX_COMPOUND_OP_SIZE = 9223372036854775807\n",
            " PT_HPU_LAZY_ACC_PAR_MODE = 1\n",
            " PT_HPU_ENABLE_REFINE_DYNAMIC_SHAPES = 0\n",
            " PT_HPU_EAGER_PIPELINE_ENABLE = 1\n",
            " PT_HPU_EAGER_COLLECTIVE_PIPELINE_ENABLE = 1\n",
            "---------------------------: System Configuration :---------------------------\n",
            "Num CPU Cores : 160\n",
            "CPU RAM       : 2113407800 KB\n",
            "------------------------------------------------------------------------------\n"
          ]
        }
      ],
      "source": [
        "# from IPython.display import Javascript  # Restrict height of output cell.\n",
        "# display(Javascript('''google.colab.output.setIframeHeight(0, true, {maxHeight: 300})'''))\n",
        "\n",
        "model = MLP(hidden_channels=16)\n",
        "model = model.to(device)\n",
        "data = data.to(device)\n",
        "\n",
        "with torch.no_grad():\n",
        "  out = model(data.x)\n",
        "\n",
        "if enable_wandb:\n",
        "    embedding_to_wandb(out, color=data.y, key=\"mlp/embedding/init\")\n",
        "else:\n",
        "    visualize(out, data.y)\n",
        "\n"
      ]
    },
    {
      "cell_type": "code",
      "execution_count": 10,
      "metadata": {},
      "outputs": [
        {
          "data": {
            "application/vnd.jupyter.widget-view+json": {
              "model_id": "a7bf9b3e72154e21bb7482a060fbcb77",
              "version_major": 2,
              "version_minor": 0
            },
            "text/plain": [
              "  0%|          | 0/200 [00:00<?, ?it/s]"
            ]
          },
          "metadata": {},
          "output_type": "display_data"
        },
        {
          "name": "stderr",
          "output_type": "stream",
          "text": [
            "/usr/local/lib/python3.10/dist-packages/torch/jit/_check.py:178: UserWarning: The TorchScript type system doesn't support instance-level annotations on empty non-base types in `__init__`. Instead, either 1) use a type annotation in the class body, or 2) wrap the type in `torch.jit.Attribute`.\n",
            "  warnings.warn(\n",
            "/usr/local/lib/python3.10/dist-packages/torch/jit/_check.py:178: UserWarning: The TorchScript type system doesn't support instance-level annotations on empty non-base types in `__init__`. Instead, either 1) use a type annotation in the class body, or 2) wrap the type in `torch.jit.Attribute`.\n",
            "  warnings.warn(\n"
          ]
        },
        {
          "name": "stdout",
          "output_type": "stream",
          "text": [
            "Epoch: 001, Loss: 1.9612\n",
            "Epoch: 002, Loss: 1.9569\n",
            "Epoch: 003, Loss: 1.9500\n",
            "Epoch: 004, Loss: 1.9439\n",
            "Epoch: 005, Loss: 1.9356\n",
            "Epoch: 006, Loss: 1.9237\n",
            "Epoch: 007, Loss: 1.9151\n",
            "Epoch: 008, Loss: 1.9127\n",
            "Epoch: 009, Loss: 1.9031\n",
            "Epoch: 010, Loss: 1.8928\n",
            "Epoch: 011, Loss: 1.8841\n",
            "Epoch: 012, Loss: 1.8597\n",
            "Epoch: 013, Loss: 1.8555\n",
            "Epoch: 014, Loss: 1.8501\n",
            "Epoch: 015, Loss: 1.8220\n",
            "Epoch: 016, Loss: 1.8000\n",
            "Epoch: 017, Loss: 1.8146\n",
            "Epoch: 018, Loss: 1.7932\n",
            "Epoch: 019, Loss: 1.7786\n",
            "Epoch: 020, Loss: 1.7740\n",
            "Epoch: 021, Loss: 1.7332\n",
            "Epoch: 022, Loss: 1.7200\n",
            "Epoch: 023, Loss: 1.7089\n",
            "Epoch: 024, Loss: 1.6720\n",
            "Epoch: 025, Loss: 1.6581\n",
            "Epoch: 026, Loss: 1.6362\n",
            "Epoch: 027, Loss: 1.6421\n",
            "Epoch: 028, Loss: 1.5879\n",
            "Epoch: 029, Loss: 1.5543\n",
            "Epoch: 030, Loss: 1.5596\n",
            "Epoch: 031, Loss: 1.5388\n",
            "Epoch: 032, Loss: 1.5178\n",
            "Epoch: 033, Loss: 1.4862\n",
            "Epoch: 034, Loss: 1.4869\n",
            "Epoch: 035, Loss: 1.4252\n",
            "Epoch: 036, Loss: 1.4446\n",
            "Epoch: 037, Loss: 1.4017\n",
            "Epoch: 038, Loss: 1.3415\n",
            "Epoch: 039, Loss: 1.3317\n",
            "Epoch: 040, Loss: 1.3214\n",
            "Epoch: 041, Loss: 1.3017\n",
            "Epoch: 042, Loss: 1.2854\n",
            "Epoch: 043, Loss: 1.2879\n",
            "Epoch: 044, Loss: 1.1940\n",
            "Epoch: 045, Loss: 1.1999\n",
            "Epoch: 046, Loss: 1.2127\n",
            "Epoch: 047, Loss: 1.1205\n",
            "Epoch: 048, Loss: 1.1690\n",
            "Epoch: 049, Loss: 1.1248\n",
            "Epoch: 050, Loss: 1.0762\n",
            "Epoch: 051, Loss: 1.1177\n",
            "Epoch: 052, Loss: 1.0181\n",
            "Epoch: 053, Loss: 1.0615\n",
            "Epoch: 054, Loss: 1.0003\n",
            "Epoch: 055, Loss: 1.0568\n",
            "Epoch: 056, Loss: 1.0048\n",
            "Epoch: 057, Loss: 0.9644\n",
            "Epoch: 058, Loss: 0.8873\n",
            "Epoch: 059, Loss: 0.9442\n",
            "Epoch: 060, Loss: 0.9419\n",
            "Epoch: 061, Loss: 0.8674\n",
            "Epoch: 062, Loss: 0.8710\n",
            "Epoch: 063, Loss: 0.8163\n",
            "Epoch: 064, Loss: 0.8661\n",
            "Epoch: 065, Loss: 0.8922\n",
            "Epoch: 066, Loss: 0.8349\n",
            "Epoch: 067, Loss: 0.8131\n",
            "Epoch: 068, Loss: 0.8865\n",
            "Epoch: 069, Loss: 0.8056\n",
            "Epoch: 070, Loss: 0.7722\n",
            "Epoch: 071, Loss: 0.7958\n",
            "Epoch: 072, Loss: 0.7850\n",
            "Epoch: 073, Loss: 0.7624\n",
            "Epoch: 074, Loss: 0.7030\n",
            "Epoch: 075, Loss: 0.7766\n",
            "Epoch: 076, Loss: 0.7179\n",
            "Epoch: 077, Loss: 0.6894\n",
            "Epoch: 078, Loss: 0.6669\n",
            "Epoch: 079, Loss: 0.7376\n",
            "Epoch: 080, Loss: 0.6743\n",
            "Epoch: 081, Loss: 0.6152\n",
            "Epoch: 082, Loss: 0.6600\n",
            "Epoch: 083, Loss: 0.6292\n",
            "Epoch: 084, Loss: 0.7358\n",
            "Epoch: 085, Loss: 0.5937\n",
            "Epoch: 086, Loss: 0.7079\n",
            "Epoch: 087, Loss: 0.6596\n",
            "Epoch: 088, Loss: 0.6130\n",
            "Epoch: 089, Loss: 0.6286\n",
            "Epoch: 090, Loss: 0.6620\n",
            "Epoch: 091, Loss: 0.6868\n",
            "Epoch: 092, Loss: 0.6449\n",
            "Epoch: 093, Loss: 0.6621\n",
            "Epoch: 094, Loss: 0.6153\n",
            "Epoch: 095, Loss: 0.6397\n",
            "Epoch: 096, Loss: 0.5354\n",
            "Epoch: 097, Loss: 0.6004\n",
            "Epoch: 098, Loss: 0.6103\n",
            "Epoch: 099, Loss: 0.5916\n",
            "Epoch: 100, Loss: 0.6032\n",
            "Epoch: 101, Loss: 0.6357\n",
            "Epoch: 102, Loss: 0.6206\n",
            "Epoch: 103, Loss: 0.5639\n",
            "Epoch: 104, Loss: 0.5716\n",
            "Epoch: 105, Loss: 0.6366\n",
            "Epoch: 106, Loss: 0.6356\n",
            "Epoch: 107, Loss: 0.6076\n",
            "Epoch: 108, Loss: 0.5384\n",
            "Epoch: 109, Loss: 0.5251\n",
            "Epoch: 110, Loss: 0.5929\n",
            "Epoch: 111, Loss: 0.6298\n",
            "Epoch: 112, Loss: 0.5655\n",
            "Epoch: 113, Loss: 0.6012\n",
            "Epoch: 114, Loss: 0.5734\n",
            "Epoch: 115, Loss: 0.5762\n",
            "Epoch: 116, Loss: 0.5359\n",
            "Epoch: 117, Loss: 0.5100\n",
            "Epoch: 118, Loss: 0.5236\n",
            "Epoch: 119, Loss: 0.6093\n",
            "Epoch: 120, Loss: 0.5677\n",
            "Epoch: 121, Loss: 0.5029\n",
            "Epoch: 122, Loss: 0.6073\n",
            "Epoch: 123, Loss: 0.5774\n",
            "Epoch: 124, Loss: 0.5308\n",
            "Epoch: 125, Loss: 0.5128\n",
            "Epoch: 126, Loss: 0.4778\n",
            "Epoch: 127, Loss: 0.6061\n",
            "Epoch: 128, Loss: 0.4988\n",
            "Epoch: 129, Loss: 0.4560\n",
            "Epoch: 130, Loss: 0.4557\n",
            "Epoch: 131, Loss: 0.5076\n",
            "Epoch: 132, Loss: 0.4567\n",
            "Epoch: 133, Loss: 0.5028\n",
            "Epoch: 134, Loss: 0.4850\n",
            "Epoch: 135, Loss: 0.4985\n",
            "Epoch: 136, Loss: 0.5146\n",
            "Epoch: 137, Loss: 0.4609\n",
            "Epoch: 138, Loss: 0.4799\n",
            "Epoch: 139, Loss: 0.5070\n",
            "Epoch: 140, Loss: 0.5056\n",
            "Epoch: 141, Loss: 0.4688\n",
            "Epoch: 142, Loss: 0.4894\n",
            "Epoch: 143, Loss: 0.4997\n",
            "Epoch: 144, Loss: 0.4579\n",
            "Epoch: 145, Loss: 0.4277\n",
            "Epoch: 146, Loss: 0.4516\n",
            "Epoch: 147, Loss: 0.5060\n",
            "Epoch: 148, Loss: 0.4409\n",
            "Epoch: 149, Loss: 0.4451\n",
            "Epoch: 150, Loss: 0.4380\n",
            "Epoch: 151, Loss: 0.4075\n",
            "Epoch: 152, Loss: 0.4764\n",
            "Epoch: 153, Loss: 0.4900\n",
            "Epoch: 154, Loss: 0.4550\n",
            "Epoch: 155, Loss: 0.4068\n",
            "Epoch: 156, Loss: 0.4150\n",
            "Epoch: 157, Loss: 0.4478\n",
            "Epoch: 158, Loss: 0.4763\n",
            "Epoch: 159, Loss: 0.5074\n",
            "Epoch: 160, Loss: 0.4621\n",
            "Epoch: 161, Loss: 0.4262\n",
            "Epoch: 162, Loss: 0.4162\n",
            "Epoch: 163, Loss: 0.4436\n",
            "Epoch: 164, Loss: 0.4548\n",
            "Epoch: 165, Loss: 0.4325\n",
            "Epoch: 166, Loss: 0.4885\n",
            "Epoch: 167, Loss: 0.4502\n",
            "Epoch: 168, Loss: 0.3918\n",
            "Epoch: 169, Loss: 0.4435\n",
            "Epoch: 170, Loss: 0.4032\n",
            "Epoch: 171, Loss: 0.4157\n",
            "Epoch: 172, Loss: 0.3712\n",
            "Epoch: 173, Loss: 0.4280\n",
            "Epoch: 174, Loss: 0.4027\n",
            "Epoch: 175, Loss: 0.4398\n",
            "Epoch: 176, Loss: 0.4240\n",
            "Epoch: 177, Loss: 0.4682\n",
            "Epoch: 178, Loss: 0.5226\n",
            "Epoch: 179, Loss: 0.4374\n",
            "Epoch: 180, Loss: 0.4037\n",
            "Epoch: 181, Loss: 0.4571\n",
            "Epoch: 182, Loss: 0.3956\n",
            "Epoch: 183, Loss: 0.4745\n",
            "Epoch: 184, Loss: 0.4641\n",
            "Epoch: 185, Loss: 0.4792\n",
            "Epoch: 186, Loss: 0.4897\n",
            "Epoch: 187, Loss: 0.3829\n",
            "Epoch: 188, Loss: 0.3988\n",
            "Epoch: 189, Loss: 0.3949\n",
            "Epoch: 190, Loss: 0.4647\n",
            "Epoch: 191, Loss: 0.4570\n",
            "Epoch: 192, Loss: 0.4248\n",
            "Epoch: 193, Loss: 0.4436\n",
            "Epoch: 194, Loss: 0.4009\n",
            "Epoch: 195, Loss: 0.3617\n",
            "Epoch: 196, Loss: 0.4877\n",
            "Epoch: 197, Loss: 0.4364\n",
            "Epoch: 198, Loss: 0.4117\n",
            "Epoch: 199, Loss: 0.4004\n",
            "Epoch: 200, Loss: 0.4028\n"
          ]
        }
      ],
      "source": [
        "from tqdm.auto import trange\n",
        "\n",
        "criterion = torch.nn.CrossEntropyLoss()  # Define loss criterion.\n",
        "optimizer = torch.optim.Adam(model.parameters(), lr=0.01, weight_decay=5e-4)  # Define optimizer.\n",
        "\n",
        "def train():\n",
        "      model.train()\n",
        "      optimizer.zero_grad()  # Clear gradients.\n",
        "      out = model(data.x)  # Perform a single forward pass.\n",
        "      loss = criterion(out[data.train_mask], data.y[data.train_mask])  # Compute the loss solely based on the training nodes.\n",
        "      loss.backward()  # Derive gradients.\n",
        "      optimizer.step()  # Update parameters based on gradients.\n",
        "      return loss\n",
        "\n",
        "def test():\n",
        "      model.eval()\n",
        "      out = model(data.x)\n",
        "      pred = out.argmax(dim=1)  # Use the class with highest probability.\n",
        "      test_correct = pred[data.test_mask] == data.y[data.test_mask]  # Check against ground-truth labels.\n",
        "      test_acc = int(test_correct.sum()) / int(data.test_mask.sum())  # Derive ratio of correct predictions.\n",
        "      return test_acc\n",
        "\n",
        "model.train()\n",
        "model = torch.compile(model, backend=\"hpu_backend\")\n",
        "for epoch in trange(1, 201):\n",
        "    loss = train()\n",
        "    if enable_wandb:\n",
        "        wandb.log({\"mlp/loss\": loss})\n",
        "    print(f'Epoch: {epoch:03d}, Loss: {loss:.4f}')"
      ]
    },
    {
      "cell_type": "markdown",
      "metadata": {
        "id": "oPQJVA9jesmJ"
      },
      "source": [
        "After training the model, we can call the `test` function to see how well our model performs on unseen labels.\n",
        "Here, we are interested in the accuracy of the model, *i.e.*, the ratio of correctly classified nodes:\n",
        "\n",
        "We also visualize the embeddings of the output. This will give us a visual hint as to how good the model is performing, when compared to the embeddings of the geometric models defined below."
      ]
    },
    {
      "cell_type": "code",
      "execution_count": 11,
      "metadata": {
        "id": "orbQD5gLesmJ"
      },
      "outputs": [
        {
          "name": "stderr",
          "output_type": "stream",
          "text": [
            "/usr/local/lib/python3.10/dist-packages/torch/jit/_check.py:178: UserWarning: The TorchScript type system doesn't support instance-level annotations on empty non-base types in `__init__`. Instead, either 1) use a type annotation in the class body, or 2) wrap the type in `torch.jit.Attribute`.\n",
            "  warnings.warn(\n"
          ]
        },
        {
          "name": "stdout",
          "output_type": "stream",
          "text": [
            "Test Accuracy: 0.6010\n"
          ]
        }
      ],
      "source": [
        "test_acc = test()\n",
        "\n",
        "out = model(data.x)\n",
        "if enable_wandb:\n",
        "    embedding_to_wandb(out, color=data.y, key=\"mlp/embedding/trained\")\n",
        "    wandb.summary[\"mlp/accuracy\"] = test_acc\n",
        "    wandb.log({\"mlp/accuracy\": test_acc})\n",
        "else:\n",
        "  visualize(out, data.y)\n",
        "\n",
        "print(f'Test Accuracy: {test_acc:.4f}')"
      ]
    },
    {
      "cell_type": "markdown",
      "metadata": {
        "id": "5vxxm2c3esmJ"
      },
      "source": [
        "As one can see, our MLP performs rather bad with only about 59% test accuracy.\n",
        "But why does the MLP do not perform better?\n",
        "The main reason for that is that this model suffers from heavy overfitting due to only having access to a **small amount of training nodes**, and therefore generalizes poorly to unseen node representations.\n",
        "\n",
        "It also fails to incorporate an important bias into the model: **Cited papers are very likely related to the category of a document**.\n",
        "That is exactly where Graph Neural Networks come into play and can help to boost the performance of our model.\n",
        "\n"
      ]
    },
    {
      "cell_type": "markdown",
      "metadata": {
        "id": "6N9F7UUCesmJ"
      },
      "source": [
        "## Training a Graph Neural Network (GNN)\n",
        "\n",
        "We can easily convert our MLP to a GNN by swapping the `torch.nn.Linear` layers with PyG's GNN operators.\n",
        "\n",
        "Following-up on [the first part of this tutorial](https://colab.research.google.com/drive/1h3-vJGRVloF5zStxL5I0rSy4ZUPNsjy8), we replace the linear layers by the [`GCNConv`](https://pytorch-geometric.readthedocs.io/en/latest/modules/nn.html#torch_geometric.nn.conv.GCNConv) module.\n",
        "To recap, the **GCN layer** ([Kipf et al. (2017)](https://arxiv.org/abs/1609.02907)) is defined as\n",
        "\n",
        "$$\n",
        "\\mathbf{x}_v^{(\\ell + 1)} = \\mathbf{W}^{(\\ell + 1)} \\sum_{w \\in \\mathcal{N}(v) \\, \\cup \\, \\{ v \\}} \\frac{1}{c_{w,v}} \\cdot \\mathbf{x}_w^{(\\ell)}\n",
        "$$\n",
        "\n",
        "where $\\mathbf{W}^{(\\ell + 1)}$ denotes a trainable weight matrix of shape `[num_output_features, num_input_features]` and $c_{w,v}$ refers to a fixed normalization coefficient for each edge.\n",
        "In contrast, a single `Linear` layer is defined as\n",
        "\n",
        "$$\n",
        "\\mathbf{x}_v^{(\\ell + 1)} = \\mathbf{W}^{(\\ell + 1)} \\mathbf{x}_v^{(\\ell)}\n",
        "$$\n",
        "\n",
        "which does not make use of neighboring node information."
      ]
    },
    {
      "cell_type": "code",
      "execution_count": 12,
      "metadata": {
        "id": "KsYyko32esmJ"
      },
      "outputs": [
        {
          "name": "stdout",
          "output_type": "stream",
          "text": [
            "GCN(\n",
            "  (conv1): GCNConv(1433, 16)\n",
            "  (conv2): GCNConv(16, 7)\n",
            ")\n"
          ]
        }
      ],
      "source": [
        "from torch_geometric.nn import GCNConv\n",
        "\n",
        "\n",
        "class GCN(torch.nn.Module):\n",
        "    def __init__(self, hidden_channels):\n",
        "        super().__init__()\n",
        "        torch.manual_seed(1234567)\n",
        "        self.conv1 = GCNConv(dataset.num_features, hidden_channels)\n",
        "        self.conv2 = GCNConv(hidden_channels, dataset.num_classes)\n",
        "\n",
        "    def forward(self, x, edge_index):\n",
        "        x = self.conv1(x, edge_index)\n",
        "        x = x.relu()\n",
        "        x = F.dropout(x, p=0.5, training=self.training)\n",
        "        x = self.conv2(x, edge_index)\n",
        "        return x\n",
        "\n",
        "model = GCN(hidden_channels=16)\n",
        "print(model)"
      ]
    },
    {
      "cell_type": "markdown",
      "metadata": {
        "id": "qDCW87hfesmK"
      },
      "source": [
        "Let's visualize the node embeddings of our **untrained** GCN network.\n",
        "For visualization, we make use of [**TSNE**](https://scikit-learn.org/stable/modules/generated/sklearn.manifold.TSNE.html) to embed our 7-dimensional node embeddings onto a 2D plane."
      ]
    },
    {
      "cell_type": "code",
      "execution_count": 13,
      "metadata": {
        "id": "KgZFncVmesmK"
      },
      "outputs": [],
      "source": [
        "model = GCN(hidden_channels=16)\n",
        "model = model.to(device)\n",
        "model.eval()\n",
        "\n",
        "out = model(data.x, data.edge_index)\n",
        "\n",
        "if enable_wandb:\n",
        "    embedding_to_wandb(out, color=data.y, key=\"gcn/embedding/init\")\n",
        "else:\n",
        "    visualize(out, data.y)"
      ]
    },
    {
      "cell_type": "markdown",
      "metadata": {
        "id": "BecrHjdxesmK"
      },
      "source": [
        "We certainly can do better by training our model.\n",
        "The training and testing procedure is once again the same, but this time we make use of the node features `x` **and** the graph connectivity `edge_index` as input to our GCN model."
      ]
    },
    {
      "cell_type": "code",
      "execution_count": 14,
      "metadata": {
        "id": "_yUySYbhesmK"
      },
      "outputs": [
        {
          "name": "stderr",
          "output_type": "stream",
          "text": [
            "/usr/local/lib/python3.10/dist-packages/torch/jit/_check.py:178: UserWarning: The TorchScript type system doesn't support instance-level annotations on empty non-base types in `__init__`. Instead, either 1) use a type annotation in the class body, or 2) wrap the type in `torch.jit.Attribute`.\n",
            "  warnings.warn(\n",
            "/usr/local/lib/python3.10/dist-packages/torch/jit/_check.py:178: UserWarning: The TorchScript type system doesn't support instance-level annotations on empty non-base types in `__init__`. Instead, either 1) use a type annotation in the class body, or 2) wrap the type in `torch.jit.Attribute`.\n",
            "  warnings.warn(\n",
            "/usr/local/lib/python3.10/dist-packages/torch/jit/_check.py:178: UserWarning: The TorchScript type system doesn't support instance-level annotations on empty non-base types in `__init__`. Instead, either 1) use a type annotation in the class body, or 2) wrap the type in `torch.jit.Attribute`.\n",
            "  warnings.warn(\n",
            "/usr/local/lib/python3.10/dist-packages/torch/jit/_check.py:178: UserWarning: The TorchScript type system doesn't support instance-level annotations on empty non-base types in `__init__`. Instead, either 1) use a type annotation in the class body, or 2) wrap the type in `torch.jit.Attribute`.\n",
            "  warnings.warn(\n",
            "/usr/local/lib/python3.10/dist-packages/torch/jit/_check.py:178: UserWarning: The TorchScript type system doesn't support instance-level annotations on empty non-base types in `__init__`. Instead, either 1) use a type annotation in the class body, or 2) wrap the type in `torch.jit.Attribute`.\n",
            "  warnings.warn(\n",
            "/usr/local/lib/python3.10/dist-packages/torch/jit/_check.py:178: UserWarning: The TorchScript type system doesn't support instance-level annotations on empty non-base types in `__init__`. Instead, either 1) use a type annotation in the class body, or 2) wrap the type in `torch.jit.Attribute`.\n",
            "  warnings.warn(\n",
            "/usr/local/lib/python3.10/dist-packages/torch/jit/_check.py:178: UserWarning: The TorchScript type system doesn't support instance-level annotations on empty non-base types in `__init__`. Instead, either 1) use a type annotation in the class body, or 2) wrap the type in `torch.jit.Attribute`.\n",
            "  warnings.warn(\n"
          ]
        },
        {
          "name": "stdout",
          "output_type": "stream",
          "text": [
            "Epoch: 001, Loss: 1.9463\n",
            "Epoch: 002, Loss: 1.9413\n",
            "Epoch: 003, Loss: 1.9352\n",
            "Epoch: 004, Loss: 1.9274\n",
            "Epoch: 005, Loss: 1.9197\n",
            "Epoch: 006, Loss: 1.9118\n",
            "Epoch: 007, Loss: 1.9028\n",
            "Epoch: 008, Loss: 1.8924\n",
            "Epoch: 009, Loss: 1.8839\n",
            "Epoch: 010, Loss: 1.8703\n",
            "Epoch: 011, Loss: 1.8563\n",
            "Epoch: 012, Loss: 1.8438\n",
            "Epoch: 013, Loss: 1.8310\n",
            "Epoch: 014, Loss: 1.8227\n",
            "Epoch: 015, Loss: 1.8097\n",
            "Epoch: 016, Loss: 1.7926\n",
            "Epoch: 017, Loss: 1.7732\n",
            "Epoch: 018, Loss: 1.7646\n",
            "Epoch: 019, Loss: 1.7544\n",
            "Epoch: 020, Loss: 1.7509\n",
            "Epoch: 021, Loss: 1.7083\n",
            "Epoch: 022, Loss: 1.7095\n",
            "Epoch: 023, Loss: 1.6755\n",
            "Epoch: 024, Loss: 1.6527\n",
            "Epoch: 025, Loss: 1.6532\n",
            "Epoch: 026, Loss: 1.6301\n",
            "Epoch: 027, Loss: 1.6052\n",
            "Epoch: 028, Loss: 1.6205\n",
            "Epoch: 029, Loss: 1.5882\n",
            "Epoch: 030, Loss: 1.5774\n",
            "Epoch: 031, Loss: 1.5524\n",
            "Epoch: 032, Loss: 1.5169\n",
            "Epoch: 033, Loss: 1.4957\n",
            "Epoch: 034, Loss: 1.4620\n",
            "Epoch: 035, Loss: 1.4460\n",
            "Epoch: 036, Loss: 1.4478\n",
            "Epoch: 037, Loss: 1.4037\n",
            "Epoch: 038, Loss: 1.3871\n",
            "Epoch: 039, Loss: 1.3613\n",
            "Epoch: 040, Loss: 1.3815\n",
            "Epoch: 041, Loss: 1.3421\n",
            "Epoch: 042, Loss: 1.2726\n",
            "Epoch: 043, Loss: 1.3012\n",
            "Epoch: 044, Loss: 1.2552\n",
            "Epoch: 045, Loss: 1.2372\n",
            "Epoch: 046, Loss: 1.2097\n",
            "Epoch: 047, Loss: 1.2084\n",
            "Epoch: 048, Loss: 1.2315\n",
            "Epoch: 049, Loss: 1.1817\n",
            "Epoch: 050, Loss: 1.1914\n",
            "Epoch: 051, Loss: 1.1055\n",
            "Epoch: 052, Loss: 1.0841\n",
            "Epoch: 053, Loss: 1.0818\n",
            "Epoch: 054, Loss: 1.0674\n",
            "Epoch: 055, Loss: 1.0413\n",
            "Epoch: 056, Loss: 1.0544\n",
            "Epoch: 057, Loss: 0.9654\n",
            "Epoch: 058, Loss: 0.9931\n",
            "Epoch: 059, Loss: 0.9875\n",
            "Epoch: 060, Loss: 0.9633\n",
            "Epoch: 061, Loss: 0.9397\n",
            "Epoch: 062, Loss: 0.9085\n",
            "Epoch: 063, Loss: 0.9262\n",
            "Epoch: 064, Loss: 0.8987\n",
            "Epoch: 065, Loss: 0.9148\n",
            "Epoch: 066, Loss: 0.8705\n",
            "Epoch: 067, Loss: 0.8693\n",
            "Epoch: 068, Loss: 0.8539\n",
            "Epoch: 069, Loss: 0.8026\n",
            "Epoch: 070, Loss: 0.8089\n",
            "Epoch: 071, Loss: 0.8282\n",
            "Epoch: 072, Loss: 0.7803\n",
            "Epoch: 073, Loss: 0.7604\n",
            "Epoch: 074, Loss: 0.7621\n",
            "Epoch: 075, Loss: 0.7211\n",
            "Epoch: 076, Loss: 0.7243\n",
            "Epoch: 077, Loss: 0.7600\n",
            "Epoch: 078, Loss: 0.7283\n",
            "Epoch: 079, Loss: 0.7190\n",
            "Epoch: 080, Loss: 0.7299\n",
            "Epoch: 081, Loss: 0.7259\n",
            "Epoch: 082, Loss: 0.6753\n",
            "Epoch: 083, Loss: 0.6766\n",
            "Epoch: 084, Loss: 0.6749\n",
            "Epoch: 085, Loss: 0.6428\n",
            "Epoch: 086, Loss: 0.6450\n",
            "Epoch: 087, Loss: 0.6341\n",
            "Epoch: 088, Loss: 0.6724\n",
            "Epoch: 089, Loss: 0.6068\n",
            "Epoch: 090, Loss: 0.6268\n",
            "Epoch: 091, Loss: 0.5985\n",
            "Epoch: 092, Loss: 0.6175\n",
            "Epoch: 093, Loss: 0.6228\n",
            "Epoch: 094, Loss: 0.6205\n",
            "Epoch: 095, Loss: 0.5712\n",
            "Epoch: 096, Loss: 0.5803\n",
            "Epoch: 097, Loss: 0.5618\n",
            "Epoch: 098, Loss: 0.6200\n",
            "Epoch: 099, Loss: 0.5544\n",
            "Epoch: 100, Loss: 0.5417\n"
          ]
        }
      ],
      "source": [
        "# from IPython.display import Javascript  # Restrict height of output cell.\n",
        "# display(Javascript('''google.colab.output.setIframeHeight(0, true, {maxHeight: 300})'''))\n",
        "\n",
        "model = GCN(hidden_channels=16)\n",
        "model = model.to(device)\n",
        "if enable_wandb:\n",
        "    wandb.watch(model)\n",
        "\n",
        "optimizer = torch.optim.Adam(model.parameters(), lr=0.01, weight_decay=5e-4)\n",
        "criterion = torch.nn.CrossEntropyLoss()\n",
        "\n",
        "def train():\n",
        "      model.train()\n",
        "      optimizer.zero_grad()  # Clear gradients.\n",
        "      out = model(data.x, data.edge_index)  # Perform a single forward pass.\n",
        "      loss = criterion(out[data.train_mask], data.y[data.train_mask])  # Compute the loss solely based on the training nodes.\n",
        "      loss.backward()  # Derive gradients.\n",
        "      optimizer.step()  # Update parameters based on gradients.\n",
        "      return loss\n",
        "\n",
        "def test():\n",
        "      model.eval()\n",
        "      out = model(data.x, data.edge_index)\n",
        "      pred = out.argmax(dim=1)  # Use the class with highest probability.\n",
        "      test_correct = pred[data.test_mask] == data.y[data.test_mask]  # Check against ground-truth labels.\n",
        "      test_acc = int(test_correct.sum()) / int(data.test_mask.sum())  # Derive ratio of correct predictions.\n",
        "      return test_acc\n",
        "\n",
        "model.train()\n",
        "model = torch.compile(model, backend=\"hpu_backend\")\n",
        "for epoch in range(1, 101):\n",
        "    loss = train()\n",
        "    if enable_wandb:\n",
        "        wandb.log({\"gcn/loss\": loss})\n",
        "    print(f'Epoch: {epoch:03d}, Loss: {loss:.4f}')"
      ]
    },
    {
      "cell_type": "markdown",
      "metadata": {
        "id": "6hlxqGLnesmK"
      },
      "source": [
        "After training the model, we can check its test accuracy:"
      ]
    },
    {
      "cell_type": "code",
      "execution_count": 15,
      "metadata": {
        "id": "pZdVF3M0esmK"
      },
      "outputs": [
        {
          "name": "stderr",
          "output_type": "stream",
          "text": [
            "/usr/local/lib/python3.10/dist-packages/torch/jit/_check.py:178: UserWarning: The TorchScript type system doesn't support instance-level annotations on empty non-base types in `__init__`. Instead, either 1) use a type annotation in the class body, or 2) wrap the type in `torch.jit.Attribute`.\n",
            "  warnings.warn(\n",
            "/usr/local/lib/python3.10/dist-packages/torch/jit/_check.py:178: UserWarning: The TorchScript type system doesn't support instance-level annotations on empty non-base types in `__init__`. Instead, either 1) use a type annotation in the class body, or 2) wrap the type in `torch.jit.Attribute`.\n",
            "  warnings.warn(\n"
          ]
        },
        {
          "name": "stdout",
          "output_type": "stream",
          "text": [
            "Test Accuracy: 0.8120\n"
          ]
        },
        {
          "name": "stderr",
          "output_type": "stream",
          "text": [
            "/usr/local/lib/python3.10/dist-packages/torch/jit/_check.py:178: UserWarning: The TorchScript type system doesn't support instance-level annotations on empty non-base types in `__init__`. Instead, either 1) use a type annotation in the class body, or 2) wrap the type in `torch.jit.Attribute`.\n",
            "  warnings.warn(\n"
          ]
        }
      ],
      "source": [
        "test_acc = test()\n",
        "print(f'Test Accuracy: {test_acc:.4f}')"
      ]
    },
    {
      "cell_type": "markdown",
      "metadata": {
        "id": "ONw4iEwBesmK"
      },
      "source": [
        "**There it is!**\n",
        "By simply swapping the linear layers with GNN layers, we can reach **81.5% of test accuracy**!\n",
        "This is in stark contrast to the 59% of test accuracy obtained by our MLP, indicating that relational information plays a crucial role in obtaining better performance.\n",
        "\n",
        "We can also verify that once again by looking at the output embeddings of our **trained** model, which now produces a far better clustering of nodes of the same category."
      ]
    },
    {
      "cell_type": "code",
      "execution_count": 16,
      "metadata": {
        "id": "xDgnjsIKesmL"
      },
      "outputs": [
        {
          "data": {
            "application/vnd.jupyter.widget-view+json": {
              "model_id": "de74c742630c40e8b5a851ed789d89a3",
              "version_major": 2,
              "version_minor": 0
            },
            "text/plain": [
              "VBox(children=(Label(value='3.289 MB of 3.289 MB uploaded\\r'), FloatProgress(value=1.0, max=1.0)))"
            ]
          },
          "metadata": {},
          "output_type": "display_data"
        },
        {
          "data": {
            "text/html": [
              "<style>\n",
              "    table.wandb td:nth-child(1) { padding: 0 10px; text-align: left ; width: auto;} td:nth-child(2) {text-align: left ; width: 100%}\n",
              "    .wandb-row { display: flex; flex-direction: row; flex-wrap: wrap; justify-content: flex-start; width: 100% }\n",
              "    .wandb-col { display: flex; flex-direction: column; flex-basis: 100%; flex: 1; padding: 10px; }\n",
              "    </style>\n",
              "<div class=\"wandb-row\"><div class=\"wandb-col\"><h3>Run history:</h3><br/><table class=\"wandb\"><tr><td>gcn/accuracy</td><td>▁</td></tr><tr><td>gcn/loss</td><td>█████▇▇▇▇▇▆▆▆▅▄▄▄▄▄▄▃▃▃▃▃▃▂▂▂▂▂▂▂▂▁▁▁▁▁▁</td></tr><tr><td>mlp/accuracy</td><td>▁</td></tr><tr><td>mlp/loss</td><td>███▇▇▆▆▆▆▅▅▄▄▃▄▃▃▃▃▃▂▂▂▂▂▂▂▁▂▁▁▁▁▁▁▁▁▁▁▁</td></tr></table><br/></div><div class=\"wandb-col\"><h3>Run summary:</h3><br/><table class=\"wandb\"><tr><td>gcn/accuracy</td><td>0.812</td></tr><tr><td>gcn/loss</td><td>0.54167</td></tr><tr><td>mlp/accuracy</td><td>0.601</td></tr><tr><td>mlp/loss</td><td>0.40277</td></tr></table><br/></div></div>"
            ],
            "text/plain": [
              "<IPython.core.display.HTML object>"
            ]
          },
          "metadata": {},
          "output_type": "display_data"
        },
        {
          "data": {
            "text/html": [
              " View run <strong style=\"color:#cdcd00\">ethereal-zombie-1</strong> at: <a href='https://wandb.ai/vezenbu-korea-advanced-institute-of-science-and-technology/node-classification/runs/ok2ty4im' target=\"_blank\">https://wandb.ai/vezenbu-korea-advanced-institute-of-science-and-technology/node-classification/runs/ok2ty4im</a><br/> View project at: <a href='https://wandb.ai/vezenbu-korea-advanced-institute-of-science-and-technology/node-classification' target=\"_blank\">https://wandb.ai/vezenbu-korea-advanced-institute-of-science-and-technology/node-classification</a><br/>Synced 4 W&B file(s), 0 media file(s), 11 artifact file(s) and 4 other file(s)"
            ],
            "text/plain": [
              "<IPython.core.display.HTML object>"
            ]
          },
          "metadata": {},
          "output_type": "display_data"
        },
        {
          "data": {
            "text/html": [
              "Find logs at: <code>./wandb/run-20241031_072403-ok2ty4im/logs</code>"
            ],
            "text/plain": [
              "<IPython.core.display.HTML object>"
            ]
          },
          "metadata": {},
          "output_type": "display_data"
        }
      ],
      "source": [
        "model.eval()\n",
        "\n",
        "out = model(data.x, data.edge_index)\n",
        "\n",
        "if enable_wandb:\n",
        "    wandb.summary[\"gcn/accuracy\"] = test_acc\n",
        "    wandb.log({\"gcn/accuracy\": test_acc})\n",
        "    embedding_to_wandb(out, color=data.y, key=\"gcn/embedding/trained\")\n",
        "    wandb.finish()\n",
        "else:\n",
        "    visualize(out, data.y)"
      ]
    },
    {
      "cell_type": "markdown",
      "metadata": {
        "id": "ehSZmJ-tesmL"
      },
      "source": [
        "## Using W&B Sweeps"
      ]
    },
    {
      "cell_type": "markdown",
      "metadata": {
        "id": "epe0R8TsesmL"
      },
      "source": [
        "In this section, we'll look into how we can use [W&B Sweeps](https://wandb.ai/site/sweeps/) to perform a hyper-parameter search for the GCN. For this to work, it is essential for wandb to be enabled, i.e., `enable_wandb` should be set to `True`."
      ]
    },
    {
      "cell_type": "code",
      "execution_count": 17,
      "metadata": {
        "id": "2JsiyrueesmL"
      },
      "outputs": [],
      "source": [
        "assert enable_wandb, \"W&B not enabled. Please, enable W&B and restart the notebook\""
      ]
    },
    {
      "cell_type": "code",
      "execution_count": 19,
      "metadata": {
        "id": "q0G2BjhdesmL"
      },
      "outputs": [],
      "source": [
        "import tqdm\n",
        "\n",
        "def agent_fn():\n",
        "    wandb.init()\n",
        "    model = GCN(hidden_channels=wandb.config.hidden_channels)\n",
        "    model = model.to(device)\n",
        "    wandb.watch(model)\n",
        "\n",
        "    with torch.no_grad():\n",
        "      out = model(data.x, data.edge_index)\n",
        "      embedding_to_wandb(out, color=data.y, key=\"gcn/embedding/init\")\n",
        "\n",
        "    optimizer = torch.optim.Adam(model.parameters(), lr=wandb.config.lr, weight_decay=wandb.config.weight_decay)\n",
        "    criterion = torch.nn.CrossEntropyLoss()\n",
        "\n",
        "    def train():\n",
        "          model.train()\n",
        "          optimizer.zero_grad()  # Clear gradients.\n",
        "          out = model(data.x, data.edge_index)  # Perform a single forward pass.\n",
        "          loss = criterion(out[data.train_mask], data.y[data.train_mask])  # Compute the loss solely based on the training nodes.\n",
        "          loss.backward()  # Derive gradients.\n",
        "          optimizer.step()  # Update parameters based on gradients.\n",
        "          return loss\n",
        "\n",
        "    def test():\n",
        "          model.eval()\n",
        "          out = model(data.x, data.edge_index)\n",
        "          pred = out.argmax(dim=1)  # Use the class with highest probability.\n",
        "          test_correct = pred[data.test_mask] == data.y[data.test_mask]  # Check against ground-truth labels.\n",
        "          test_acc = int(test_correct.sum()) / int(data.test_mask.sum())  # Derive ratio of correct predictions.\n",
        "          return test_acc\n",
        "\n",
        "    model.train()\n",
        "    model = torch.compile(model, backend=\"hpu_backend\")\n",
        "    for epoch in tqdm.tqdm(range(1, 101)):\n",
        "        loss = train()\n",
        "        wandb.log({\"gcn/loss\": loss})\n",
        "\n",
        "\n",
        "    model.eval()\n",
        "\n",
        "    out = model(data.x, data.edge_index)\n",
        "    test_acc = test()\n",
        "    wandb.summary[\"gcn/accuracy\"] = test_acc\n",
        "    wandb.log({\"gcn/accuracy\": test_acc})\n",
        "    embedding_to_wandb(out, color=data.y, key=\"gcn/embedding/trained\")\n",
        "    wandb.finish()"
      ]
    },
    {
      "cell_type": "code",
      "execution_count": 20,
      "metadata": {
        "id": "_lobCWA-esmL"
      },
      "outputs": [
        {
          "name": "stdout",
          "output_type": "stream",
          "text": [
            "Create sweep with ID: vk9i6qwp\n",
            "Sweep URL: https://wandb.ai/vezenbu-korea-advanced-institute-of-science-and-technology/node-classification/sweeps/vk9i6qwp\n"
          ]
        }
      ],
      "source": [
        "sweep_config = {\n",
        "    \"name\": \"gcn-sweep\",\n",
        "    \"method\": \"bayes\",\n",
        "    \"metric\": {\n",
        "        \"name\": \"gcn/accuracy\",\n",
        "        \"goal\": \"maximize\",\n",
        "    },\n",
        "    \"parameters\": {\n",
        "        \"hidden_channels\": {\n",
        "            \"values\": [8, 16, 32]\n",
        "        },\n",
        "        \"weight_decay\": {\n",
        "            \"distribution\": \"normal\",\n",
        "            \"mu\": 5e-4,\n",
        "            \"sigma\": 1e-5,\n",
        "        },\n",
        "        \"lr\": {\n",
        "            \"min\": 1e-4,\n",
        "            \"max\": 1e-3\n",
        "        }\n",
        "    }\n",
        "}\n",
        "\n",
        "# Register the Sweep with W&B\n",
        "sweep_id = wandb.sweep(sweep_config, project=\"node-classification\")"
      ]
    },
    {
      "cell_type": "code",
      "execution_count": 21,
      "metadata": {
        "id": "wrJfgeM-esmL"
      },
      "outputs": [
        {
          "name": "stderr",
          "output_type": "stream",
          "text": [
            "\u001b[34m\u001b[1mwandb\u001b[0m: Agent Starting Run: 75zzswxq with config:\n",
            "\u001b[34m\u001b[1mwandb\u001b[0m: \thidden_channels: 32\n",
            "\u001b[34m\u001b[1mwandb\u001b[0m: \tlr: 0.00021405304855338328\n",
            "\u001b[34m\u001b[1mwandb\u001b[0m: \tweight_decay: 0.0004991641713124486\n"
          ]
        },
        {
          "data": {
            "text/html": [
              "Tracking run with wandb version 0.18.5"
            ],
            "text/plain": [
              "<IPython.core.display.HTML object>"
            ]
          },
          "metadata": {},
          "output_type": "display_data"
        },
        {
          "data": {
            "text/html": [
              "Run data is saved locally in <code>/root/raw_torch_for_scatter/pyg_examples/wandb/run-20241031_073226-75zzswxq</code>"
            ],
            "text/plain": [
              "<IPython.core.display.HTML object>"
            ]
          },
          "metadata": {},
          "output_type": "display_data"
        },
        {
          "data": {
            "text/html": [
              "Syncing run <strong><a href='https://wandb.ai/vezenbu-korea-advanced-institute-of-science-and-technology/node-classification/runs/75zzswxq' target=\"_blank\">ethereal-sweep-1</a></strong> to <a href='https://wandb.ai/vezenbu-korea-advanced-institute-of-science-and-technology/node-classification' target=\"_blank\">Weights & Biases</a> (<a href='https://wandb.me/run' target=\"_blank\">docs</a>)<br/>Sweep page: <a href='https://wandb.ai/vezenbu-korea-advanced-institute-of-science-and-technology/node-classification/sweeps/vk9i6qwp' target=\"_blank\">https://wandb.ai/vezenbu-korea-advanced-institute-of-science-and-technology/node-classification/sweeps/vk9i6qwp</a>"
            ],
            "text/plain": [
              "<IPython.core.display.HTML object>"
            ]
          },
          "metadata": {},
          "output_type": "display_data"
        },
        {
          "data": {
            "text/html": [
              " View project at <a href='https://wandb.ai/vezenbu-korea-advanced-institute-of-science-and-technology/node-classification' target=\"_blank\">https://wandb.ai/vezenbu-korea-advanced-institute-of-science-and-technology/node-classification</a>"
            ],
            "text/plain": [
              "<IPython.core.display.HTML object>"
            ]
          },
          "metadata": {},
          "output_type": "display_data"
        },
        {
          "data": {
            "text/html": [
              " View sweep at <a href='https://wandb.ai/vezenbu-korea-advanced-institute-of-science-and-technology/node-classification/sweeps/vk9i6qwp' target=\"_blank\">https://wandb.ai/vezenbu-korea-advanced-institute-of-science-and-technology/node-classification/sweeps/vk9i6qwp</a>"
            ],
            "text/plain": [
              "<IPython.core.display.HTML object>"
            ]
          },
          "metadata": {},
          "output_type": "display_data"
        },
        {
          "data": {
            "text/html": [
              " View run at <a href='https://wandb.ai/vezenbu-korea-advanced-institute-of-science-and-technology/node-classification/runs/75zzswxq' target=\"_blank\">https://wandb.ai/vezenbu-korea-advanced-institute-of-science-and-technology/node-classification/runs/75zzswxq</a>"
            ],
            "text/plain": [
              "<IPython.core.display.HTML object>"
            ]
          },
          "metadata": {},
          "output_type": "display_data"
        },
        {
          "name": "stderr",
          "output_type": "stream",
          "text": [
            "  0%|          | 0/100 [00:00<?, ?it/s]/usr/local/lib/python3.10/dist-packages/torch/jit/_check.py:178: UserWarning: The TorchScript type system doesn't support instance-level annotations on empty non-base types in `__init__`. Instead, either 1) use a type annotation in the class body, or 2) wrap the type in `torch.jit.Attribute`.\n",
            "  warnings.warn(\n",
            "/usr/local/lib/python3.10/dist-packages/torch/jit/_check.py:178: UserWarning: The TorchScript type system doesn't support instance-level annotations on empty non-base types in `__init__`. Instead, either 1) use a type annotation in the class body, or 2) wrap the type in `torch.jit.Attribute`.\n",
            "  warnings.warn(\n",
            "/usr/local/lib/python3.10/dist-packages/torch/jit/_check.py:178: UserWarning: The TorchScript type system doesn't support instance-level annotations on empty non-base types in `__init__`. Instead, either 1) use a type annotation in the class body, or 2) wrap the type in `torch.jit.Attribute`.\n",
            "  warnings.warn(\n",
            "/usr/local/lib/python3.10/dist-packages/torch/jit/_check.py:178: UserWarning: The TorchScript type system doesn't support instance-level annotations on empty non-base types in `__init__`. Instead, either 1) use a type annotation in the class body, or 2) wrap the type in `torch.jit.Attribute`.\n",
            "  warnings.warn(\n",
            "100%|██████████| 100/100 [00:02<00:00, 40.31it/s]\n",
            "/usr/local/lib/python3.10/dist-packages/torch/jit/_check.py:178: UserWarning: The TorchScript type system doesn't support instance-level annotations on empty non-base types in `__init__`. Instead, either 1) use a type annotation in the class body, or 2) wrap the type in `torch.jit.Attribute`.\n",
            "  warnings.warn(\n",
            "/usr/local/lib/python3.10/dist-packages/torch/jit/_check.py:178: UserWarning: The TorchScript type system doesn't support instance-level annotations on empty non-base types in `__init__`. Instead, either 1) use a type annotation in the class body, or 2) wrap the type in `torch.jit.Attribute`.\n",
            "  warnings.warn(\n",
            "/usr/local/lib/python3.10/dist-packages/torch/jit/_check.py:178: UserWarning: The TorchScript type system doesn't support instance-level annotations on empty non-base types in `__init__`. Instead, either 1) use a type annotation in the class body, or 2) wrap the type in `torch.jit.Attribute`.\n",
            "  warnings.warn(\n"
          ]
        },
        {
          "data": {
            "application/vnd.jupyter.widget-view+json": {
              "model_id": "f70a75896d75413ebbfc5bd08bf9d0b8",
              "version_major": 2,
              "version_minor": 0
            },
            "text/plain": [
              "VBox(children=(Label(value='1.724 MB of 1.724 MB uploaded\\r'), FloatProgress(value=1.0, max=1.0)))"
            ]
          },
          "metadata": {},
          "output_type": "display_data"
        },
        {
          "data": {
            "text/html": [
              "<style>\n",
              "    table.wandb td:nth-child(1) { padding: 0 10px; text-align: left ; width: auto;} td:nth-child(2) {text-align: left ; width: 100%}\n",
              "    .wandb-row { display: flex; flex-direction: row; flex-wrap: wrap; justify-content: flex-start; width: 100% }\n",
              "    .wandb-col { display: flex; flex-direction: column; flex-basis: 100%; flex: 1; padding: 10px; }\n",
              "    </style>\n",
              "<div class=\"wandb-row\"><div class=\"wandb-col\"><h3>Run history:</h3><br/><table class=\"wandb\"><tr><td>gcn/accuracy</td><td>▁</td></tr><tr><td>gcn/loss</td><td>█████▇▇▇▇▇▇▇▇▇▆▆▆▆▆▆▆▅▅▅▅▄▄▄▃▃▃▃▂▂▃▂▂▂▁▁</td></tr></table><br/></div><div class=\"wandb-col\"><h3>Run summary:</h3><br/><table class=\"wandb\"><tr><td>gcn/accuracy</td><td>0.516</td></tr><tr><td>gcn/loss</td><td>1.91123</td></tr></table><br/></div></div>"
            ],
            "text/plain": [
              "<IPython.core.display.HTML object>"
            ]
          },
          "metadata": {},
          "output_type": "display_data"
        },
        {
          "data": {
            "text/html": [
              " View run <strong style=\"color:#cdcd00\">ethereal-sweep-1</strong> at: <a href='https://wandb.ai/vezenbu-korea-advanced-institute-of-science-and-technology/node-classification/runs/75zzswxq' target=\"_blank\">https://wandb.ai/vezenbu-korea-advanced-institute-of-science-and-technology/node-classification/runs/75zzswxq</a><br/> View project at: <a href='https://wandb.ai/vezenbu-korea-advanced-institute-of-science-and-technology/node-classification' target=\"_blank\">https://wandb.ai/vezenbu-korea-advanced-institute-of-science-and-technology/node-classification</a><br/>Synced 5 W&B file(s), 0 media file(s), 6 artifact file(s) and 2 other file(s)"
            ],
            "text/plain": [
              "<IPython.core.display.HTML object>"
            ]
          },
          "metadata": {},
          "output_type": "display_data"
        },
        {
          "data": {
            "text/html": [
              "Find logs at: <code>./wandb/run-20241031_073226-75zzswxq/logs</code>"
            ],
            "text/plain": [
              "<IPython.core.display.HTML object>"
            ]
          },
          "metadata": {},
          "output_type": "display_data"
        },
        {
          "name": "stderr",
          "output_type": "stream",
          "text": [
            "\u001b[34m\u001b[1mwandb\u001b[0m: Agent Starting Run: xyy0z0vn with config:\n",
            "\u001b[34m\u001b[1mwandb\u001b[0m: \thidden_channels: 32\n",
            "\u001b[34m\u001b[1mwandb\u001b[0m: \tlr: 0.0001601407223794174\n",
            "\u001b[34m\u001b[1mwandb\u001b[0m: \tweight_decay: 0.0005166954547654093\n"
          ]
        },
        {
          "data": {
            "text/html": [
              "Tracking run with wandb version 0.18.5"
            ],
            "text/plain": [
              "<IPython.core.display.HTML object>"
            ]
          },
          "metadata": {},
          "output_type": "display_data"
        },
        {
          "data": {
            "text/html": [
              "Run data is saved locally in <code>/root/raw_torch_for_scatter/pyg_examples/wandb/run-20241031_073242-xyy0z0vn</code>"
            ],
            "text/plain": [
              "<IPython.core.display.HTML object>"
            ]
          },
          "metadata": {},
          "output_type": "display_data"
        },
        {
          "data": {
            "text/html": [
              "Syncing run <strong><a href='https://wandb.ai/vezenbu-korea-advanced-institute-of-science-and-technology/node-classification/runs/xyy0z0vn' target=\"_blank\">solar-sweep-2</a></strong> to <a href='https://wandb.ai/vezenbu-korea-advanced-institute-of-science-and-technology/node-classification' target=\"_blank\">Weights & Biases</a> (<a href='https://wandb.me/run' target=\"_blank\">docs</a>)<br/>Sweep page: <a href='https://wandb.ai/vezenbu-korea-advanced-institute-of-science-and-technology/node-classification/sweeps/vk9i6qwp' target=\"_blank\">https://wandb.ai/vezenbu-korea-advanced-institute-of-science-and-technology/node-classification/sweeps/vk9i6qwp</a>"
            ],
            "text/plain": [
              "<IPython.core.display.HTML object>"
            ]
          },
          "metadata": {},
          "output_type": "display_data"
        },
        {
          "data": {
            "text/html": [
              " View project at <a href='https://wandb.ai/vezenbu-korea-advanced-institute-of-science-and-technology/node-classification' target=\"_blank\">https://wandb.ai/vezenbu-korea-advanced-institute-of-science-and-technology/node-classification</a>"
            ],
            "text/plain": [
              "<IPython.core.display.HTML object>"
            ]
          },
          "metadata": {},
          "output_type": "display_data"
        },
        {
          "data": {
            "text/html": [
              " View sweep at <a href='https://wandb.ai/vezenbu-korea-advanced-institute-of-science-and-technology/node-classification/sweeps/vk9i6qwp' target=\"_blank\">https://wandb.ai/vezenbu-korea-advanced-institute-of-science-and-technology/node-classification/sweeps/vk9i6qwp</a>"
            ],
            "text/plain": [
              "<IPython.core.display.HTML object>"
            ]
          },
          "metadata": {},
          "output_type": "display_data"
        },
        {
          "data": {
            "text/html": [
              " View run at <a href='https://wandb.ai/vezenbu-korea-advanced-institute-of-science-and-technology/node-classification/runs/xyy0z0vn' target=\"_blank\">https://wandb.ai/vezenbu-korea-advanced-institute-of-science-and-technology/node-classification/runs/xyy0z0vn</a>"
            ],
            "text/plain": [
              "<IPython.core.display.HTML object>"
            ]
          },
          "metadata": {},
          "output_type": "display_data"
        },
        {
          "name": "stderr",
          "output_type": "stream",
          "text": [
            "  0%|          | 0/100 [00:00<?, ?it/s]/usr/local/lib/python3.10/dist-packages/torch/jit/_check.py:178: UserWarning: The TorchScript type system doesn't support instance-level annotations on empty non-base types in `__init__`. Instead, either 1) use a type annotation in the class body, or 2) wrap the type in `torch.jit.Attribute`.\n",
            "  warnings.warn(\n",
            "/usr/local/lib/python3.10/dist-packages/torch/jit/_check.py:178: UserWarning: The TorchScript type system doesn't support instance-level annotations on empty non-base types in `__init__`. Instead, either 1) use a type annotation in the class body, or 2) wrap the type in `torch.jit.Attribute`.\n",
            "  warnings.warn(\n",
            "/usr/local/lib/python3.10/dist-packages/torch/jit/_check.py:178: UserWarning: The TorchScript type system doesn't support instance-level annotations on empty non-base types in `__init__`. Instead, either 1) use a type annotation in the class body, or 2) wrap the type in `torch.jit.Attribute`.\n",
            "  warnings.warn(\n",
            "/usr/local/lib/python3.10/dist-packages/torch/jit/_check.py:178: UserWarning: The TorchScript type system doesn't support instance-level annotations on empty non-base types in `__init__`. Instead, either 1) use a type annotation in the class body, or 2) wrap the type in `torch.jit.Attribute`.\n",
            "  warnings.warn(\n",
            "100%|██████████| 100/100 [00:02<00:00, 41.81it/s]\n",
            "/usr/local/lib/python3.10/dist-packages/torch/jit/_check.py:178: UserWarning: The TorchScript type system doesn't support instance-level annotations on empty non-base types in `__init__`. Instead, either 1) use a type annotation in the class body, or 2) wrap the type in `torch.jit.Attribute`.\n",
            "  warnings.warn(\n",
            "/usr/local/lib/python3.10/dist-packages/torch/jit/_check.py:178: UserWarning: The TorchScript type system doesn't support instance-level annotations on empty non-base types in `__init__`. Instead, either 1) use a type annotation in the class body, or 2) wrap the type in `torch.jit.Attribute`.\n",
            "  warnings.warn(\n",
            "/usr/local/lib/python3.10/dist-packages/torch/jit/_check.py:178: UserWarning: The TorchScript type system doesn't support instance-level annotations on empty non-base types in `__init__`. Instead, either 1) use a type annotation in the class body, or 2) wrap the type in `torch.jit.Attribute`.\n",
            "  warnings.warn(\n"
          ]
        },
        {
          "data": {
            "application/vnd.jupyter.widget-view+json": {
              "model_id": "cb03e718ba5b4d9ea7805695031a7729",
              "version_major": 2,
              "version_minor": 0
            },
            "text/plain": [
              "VBox(children=(Label(value='1.728 MB of 1.728 MB uploaded\\r'), FloatProgress(value=1.0, max=1.0)))"
            ]
          },
          "metadata": {},
          "output_type": "display_data"
        },
        {
          "data": {
            "text/html": [
              "<style>\n",
              "    table.wandb td:nth-child(1) { padding: 0 10px; text-align: left ; width: auto;} td:nth-child(2) {text-align: left ; width: 100%}\n",
              "    .wandb-row { display: flex; flex-direction: row; flex-wrap: wrap; justify-content: flex-start; width: 100% }\n",
              "    .wandb-col { display: flex; flex-direction: column; flex-basis: 100%; flex: 1; padding: 10px; }\n",
              "    </style>\n",
              "<div class=\"wandb-row\"><div class=\"wandb-col\"><h3>Run history:</h3><br/><table class=\"wandb\"><tr><td>gcn/accuracy</td><td>▁</td></tr><tr><td>gcn/loss</td><td>████▇▇▇▇▇▇▇▆▆▆▆▆▆▆▅▆▅▅▅▅▄▄▄▄▄▄▃▃▃▃▂▂▂▂▁▁</td></tr></table><br/></div><div class=\"wandb-col\"><h3>Run summary:</h3><br/><table class=\"wandb\"><tr><td>gcn/accuracy</td><td>0.464</td></tr><tr><td>gcn/loss</td><td>1.92163</td></tr></table><br/></div></div>"
            ],
            "text/plain": [
              "<IPython.core.display.HTML object>"
            ]
          },
          "metadata": {},
          "output_type": "display_data"
        },
        {
          "data": {
            "text/html": [
              " View run <strong style=\"color:#cdcd00\">solar-sweep-2</strong> at: <a href='https://wandb.ai/vezenbu-korea-advanced-institute-of-science-and-technology/node-classification/runs/xyy0z0vn' target=\"_blank\">https://wandb.ai/vezenbu-korea-advanced-institute-of-science-and-technology/node-classification/runs/xyy0z0vn</a><br/> View project at: <a href='https://wandb.ai/vezenbu-korea-advanced-institute-of-science-and-technology/node-classification' target=\"_blank\">https://wandb.ai/vezenbu-korea-advanced-institute-of-science-and-technology/node-classification</a><br/>Synced 5 W&B file(s), 0 media file(s), 4 artifact file(s) and 2 other file(s)"
            ],
            "text/plain": [
              "<IPython.core.display.HTML object>"
            ]
          },
          "metadata": {},
          "output_type": "display_data"
        },
        {
          "data": {
            "text/html": [
              "Find logs at: <code>./wandb/run-20241031_073242-xyy0z0vn/logs</code>"
            ],
            "text/plain": [
              "<IPython.core.display.HTML object>"
            ]
          },
          "metadata": {},
          "output_type": "display_data"
        },
        {
          "name": "stderr",
          "output_type": "stream",
          "text": [
            "\u001b[34m\u001b[1mwandb\u001b[0m: Agent Starting Run: nfem7gkm with config:\n",
            "\u001b[34m\u001b[1mwandb\u001b[0m: \thidden_channels: 8\n",
            "\u001b[34m\u001b[1mwandb\u001b[0m: \tlr: 0.0002653351471000063\n",
            "\u001b[34m\u001b[1mwandb\u001b[0m: \tweight_decay: 0.000499897228654775\n"
          ]
        },
        {
          "data": {
            "text/html": [
              "Tracking run with wandb version 0.18.5"
            ],
            "text/plain": [
              "<IPython.core.display.HTML object>"
            ]
          },
          "metadata": {},
          "output_type": "display_data"
        },
        {
          "data": {
            "text/html": [
              "Run data is saved locally in <code>/root/raw_torch_for_scatter/pyg_examples/wandb/run-20241031_073258-nfem7gkm</code>"
            ],
            "text/plain": [
              "<IPython.core.display.HTML object>"
            ]
          },
          "metadata": {},
          "output_type": "display_data"
        },
        {
          "data": {
            "text/html": [
              "Syncing run <strong><a href='https://wandb.ai/vezenbu-korea-advanced-institute-of-science-and-technology/node-classification/runs/nfem7gkm' target=\"_blank\">dandy-sweep-3</a></strong> to <a href='https://wandb.ai/vezenbu-korea-advanced-institute-of-science-and-technology/node-classification' target=\"_blank\">Weights & Biases</a> (<a href='https://wandb.me/run' target=\"_blank\">docs</a>)<br/>Sweep page: <a href='https://wandb.ai/vezenbu-korea-advanced-institute-of-science-and-technology/node-classification/sweeps/vk9i6qwp' target=\"_blank\">https://wandb.ai/vezenbu-korea-advanced-institute-of-science-and-technology/node-classification/sweeps/vk9i6qwp</a>"
            ],
            "text/plain": [
              "<IPython.core.display.HTML object>"
            ]
          },
          "metadata": {},
          "output_type": "display_data"
        },
        {
          "data": {
            "text/html": [
              " View project at <a href='https://wandb.ai/vezenbu-korea-advanced-institute-of-science-and-technology/node-classification' target=\"_blank\">https://wandb.ai/vezenbu-korea-advanced-institute-of-science-and-technology/node-classification</a>"
            ],
            "text/plain": [
              "<IPython.core.display.HTML object>"
            ]
          },
          "metadata": {},
          "output_type": "display_data"
        },
        {
          "data": {
            "text/html": [
              " View sweep at <a href='https://wandb.ai/vezenbu-korea-advanced-institute-of-science-and-technology/node-classification/sweeps/vk9i6qwp' target=\"_blank\">https://wandb.ai/vezenbu-korea-advanced-institute-of-science-and-technology/node-classification/sweeps/vk9i6qwp</a>"
            ],
            "text/plain": [
              "<IPython.core.display.HTML object>"
            ]
          },
          "metadata": {},
          "output_type": "display_data"
        },
        {
          "data": {
            "text/html": [
              " View run at <a href='https://wandb.ai/vezenbu-korea-advanced-institute-of-science-and-technology/node-classification/runs/nfem7gkm' target=\"_blank\">https://wandb.ai/vezenbu-korea-advanced-institute-of-science-and-technology/node-classification/runs/nfem7gkm</a>"
            ],
            "text/plain": [
              "<IPython.core.display.HTML object>"
            ]
          },
          "metadata": {},
          "output_type": "display_data"
        },
        {
          "name": "stderr",
          "output_type": "stream",
          "text": [
            "  0%|          | 0/100 [00:00<?, ?it/s]/usr/local/lib/python3.10/dist-packages/torch/jit/_check.py:178: UserWarning: The TorchScript type system doesn't support instance-level annotations on empty non-base types in `__init__`. Instead, either 1) use a type annotation in the class body, or 2) wrap the type in `torch.jit.Attribute`.\n",
            "  warnings.warn(\n",
            "/usr/local/lib/python3.10/dist-packages/torch/jit/_check.py:178: UserWarning: The TorchScript type system doesn't support instance-level annotations on empty non-base types in `__init__`. Instead, either 1) use a type annotation in the class body, or 2) wrap the type in `torch.jit.Attribute`.\n",
            "  warnings.warn(\n",
            "/usr/local/lib/python3.10/dist-packages/torch/jit/_check.py:178: UserWarning: The TorchScript type system doesn't support instance-level annotations on empty non-base types in `__init__`. Instead, either 1) use a type annotation in the class body, or 2) wrap the type in `torch.jit.Attribute`.\n",
            "  warnings.warn(\n",
            "/usr/local/lib/python3.10/dist-packages/torch/jit/_check.py:178: UserWarning: The TorchScript type system doesn't support instance-level annotations on empty non-base types in `__init__`. Instead, either 1) use a type annotation in the class body, or 2) wrap the type in `torch.jit.Attribute`.\n",
            "  warnings.warn(\n",
            "100%|██████████| 100/100 [00:02<00:00, 41.78it/s]\n",
            "/usr/local/lib/python3.10/dist-packages/torch/jit/_check.py:178: UserWarning: The TorchScript type system doesn't support instance-level annotations on empty non-base types in `__init__`. Instead, either 1) use a type annotation in the class body, or 2) wrap the type in `torch.jit.Attribute`.\n",
            "  warnings.warn(\n",
            "/usr/local/lib/python3.10/dist-packages/torch/jit/_check.py:178: UserWarning: The TorchScript type system doesn't support instance-level annotations on empty non-base types in `__init__`. Instead, either 1) use a type annotation in the class body, or 2) wrap the type in `torch.jit.Attribute`.\n",
            "  warnings.warn(\n",
            "/usr/local/lib/python3.10/dist-packages/torch/jit/_check.py:178: UserWarning: The TorchScript type system doesn't support instance-level annotations on empty non-base types in `__init__`. Instead, either 1) use a type annotation in the class body, or 2) wrap the type in `torch.jit.Attribute`.\n",
            "  warnings.warn(\n"
          ]
        },
        {
          "data": {
            "application/vnd.jupyter.widget-view+json": {
              "model_id": "3d7160a0a6094fd199760f9cc15421e1",
              "version_major": 2,
              "version_minor": 0
            },
            "text/plain": [
              "VBox(children=(Label(value='1.745 MB of 1.745 MB uploaded\\r'), FloatProgress(value=1.0, max=1.0)))"
            ]
          },
          "metadata": {},
          "output_type": "display_data"
        },
        {
          "data": {
            "text/html": [
              "<style>\n",
              "    table.wandb td:nth-child(1) { padding: 0 10px; text-align: left ; width: auto;} td:nth-child(2) {text-align: left ; width: 100%}\n",
              "    .wandb-row { display: flex; flex-direction: row; flex-wrap: wrap; justify-content: flex-start; width: 100% }\n",
              "    .wandb-col { display: flex; flex-direction: column; flex-basis: 100%; flex: 1; padding: 10px; }\n",
              "    </style>\n",
              "<div class=\"wandb-row\"><div class=\"wandb-col\"><h3>Run history:</h3><br/><table class=\"wandb\"><tr><td>gcn/accuracy</td><td>▁</td></tr><tr><td>gcn/loss</td><td>███▇▇▇▇▇▆▇▆▆▆▆▆▆▆▅▅▅▅▄▄▅▄▄▃▄▃▃▃▃▂▂▂▂▁▁▁▁</td></tr></table><br/></div><div class=\"wandb-col\"><h3>Run summary:</h3><br/><table class=\"wandb\"><tr><td>gcn/accuracy</td><td>0.579</td></tr><tr><td>gcn/loss</td><td>1.92914</td></tr></table><br/></div></div>"
            ],
            "text/plain": [
              "<IPython.core.display.HTML object>"
            ]
          },
          "metadata": {},
          "output_type": "display_data"
        },
        {
          "data": {
            "text/html": [
              " View run <strong style=\"color:#cdcd00\">dandy-sweep-3</strong> at: <a href='https://wandb.ai/vezenbu-korea-advanced-institute-of-science-and-technology/node-classification/runs/nfem7gkm' target=\"_blank\">https://wandb.ai/vezenbu-korea-advanced-institute-of-science-and-technology/node-classification/runs/nfem7gkm</a><br/> View project at: <a href='https://wandb.ai/vezenbu-korea-advanced-institute-of-science-and-technology/node-classification' target=\"_blank\">https://wandb.ai/vezenbu-korea-advanced-institute-of-science-and-technology/node-classification</a><br/>Synced 5 W&B file(s), 0 media file(s), 4 artifact file(s) and 2 other file(s)"
            ],
            "text/plain": [
              "<IPython.core.display.HTML object>"
            ]
          },
          "metadata": {},
          "output_type": "display_data"
        },
        {
          "data": {
            "text/html": [
              "Find logs at: <code>./wandb/run-20241031_073258-nfem7gkm/logs</code>"
            ],
            "text/plain": [
              "<IPython.core.display.HTML object>"
            ]
          },
          "metadata": {},
          "output_type": "display_data"
        },
        {
          "name": "stderr",
          "output_type": "stream",
          "text": [
            "\u001b[34m\u001b[1mwandb\u001b[0m: Sweep Agent: Waiting for job.\n",
            "\u001b[34m\u001b[1mwandb\u001b[0m: Job received.\n",
            "\u001b[34m\u001b[1mwandb\u001b[0m: Agent Starting Run: ys13ktv3 with config:\n",
            "\u001b[34m\u001b[1mwandb\u001b[0m: \thidden_channels: 8\n",
            "\u001b[34m\u001b[1mwandb\u001b[0m: \tlr: 0.00019534594793397644\n",
            "\u001b[34m\u001b[1mwandb\u001b[0m: \tweight_decay: 0.0004996462020335567\n"
          ]
        },
        {
          "data": {
            "text/html": [
              "Tracking run with wandb version 0.18.5"
            ],
            "text/plain": [
              "<IPython.core.display.HTML object>"
            ]
          },
          "metadata": {},
          "output_type": "display_data"
        },
        {
          "data": {
            "text/html": [
              "Run data is saved locally in <code>/root/raw_torch_for_scatter/pyg_examples/wandb/run-20241031_073319-ys13ktv3</code>"
            ],
            "text/plain": [
              "<IPython.core.display.HTML object>"
            ]
          },
          "metadata": {},
          "output_type": "display_data"
        },
        {
          "data": {
            "text/html": [
              "Syncing run <strong><a href='https://wandb.ai/vezenbu-korea-advanced-institute-of-science-and-technology/node-classification/runs/ys13ktv3' target=\"_blank\">driven-sweep-4</a></strong> to <a href='https://wandb.ai/vezenbu-korea-advanced-institute-of-science-and-technology/node-classification' target=\"_blank\">Weights & Biases</a> (<a href='https://wandb.me/run' target=\"_blank\">docs</a>)<br/>Sweep page: <a href='https://wandb.ai/vezenbu-korea-advanced-institute-of-science-and-technology/node-classification/sweeps/vk9i6qwp' target=\"_blank\">https://wandb.ai/vezenbu-korea-advanced-institute-of-science-and-technology/node-classification/sweeps/vk9i6qwp</a>"
            ],
            "text/plain": [
              "<IPython.core.display.HTML object>"
            ]
          },
          "metadata": {},
          "output_type": "display_data"
        },
        {
          "data": {
            "text/html": [
              " View project at <a href='https://wandb.ai/vezenbu-korea-advanced-institute-of-science-and-technology/node-classification' target=\"_blank\">https://wandb.ai/vezenbu-korea-advanced-institute-of-science-and-technology/node-classification</a>"
            ],
            "text/plain": [
              "<IPython.core.display.HTML object>"
            ]
          },
          "metadata": {},
          "output_type": "display_data"
        },
        {
          "data": {
            "text/html": [
              " View sweep at <a href='https://wandb.ai/vezenbu-korea-advanced-institute-of-science-and-technology/node-classification/sweeps/vk9i6qwp' target=\"_blank\">https://wandb.ai/vezenbu-korea-advanced-institute-of-science-and-technology/node-classification/sweeps/vk9i6qwp</a>"
            ],
            "text/plain": [
              "<IPython.core.display.HTML object>"
            ]
          },
          "metadata": {},
          "output_type": "display_data"
        },
        {
          "data": {
            "text/html": [
              " View run at <a href='https://wandb.ai/vezenbu-korea-advanced-institute-of-science-and-technology/node-classification/runs/ys13ktv3' target=\"_blank\">https://wandb.ai/vezenbu-korea-advanced-institute-of-science-and-technology/node-classification/runs/ys13ktv3</a>"
            ],
            "text/plain": [
              "<IPython.core.display.HTML object>"
            ]
          },
          "metadata": {},
          "output_type": "display_data"
        },
        {
          "name": "stderr",
          "output_type": "stream",
          "text": [
            "  0%|          | 0/100 [00:00<?, ?it/s]/usr/local/lib/python3.10/dist-packages/torch/jit/_check.py:178: UserWarning: The TorchScript type system doesn't support instance-level annotations on empty non-base types in `__init__`. Instead, either 1) use a type annotation in the class body, or 2) wrap the type in `torch.jit.Attribute`.\n",
            "  warnings.warn(\n",
            "/usr/local/lib/python3.10/dist-packages/torch/jit/_check.py:178: UserWarning: The TorchScript type system doesn't support instance-level annotations on empty non-base types in `__init__`. Instead, either 1) use a type annotation in the class body, or 2) wrap the type in `torch.jit.Attribute`.\n",
            "  warnings.warn(\n",
            "/usr/local/lib/python3.10/dist-packages/torch/jit/_check.py:178: UserWarning: The TorchScript type system doesn't support instance-level annotations on empty non-base types in `__init__`. Instead, either 1) use a type annotation in the class body, or 2) wrap the type in `torch.jit.Attribute`.\n",
            "  warnings.warn(\n",
            "/usr/local/lib/python3.10/dist-packages/torch/jit/_check.py:178: UserWarning: The TorchScript type system doesn't support instance-level annotations on empty non-base types in `__init__`. Instead, either 1) use a type annotation in the class body, or 2) wrap the type in `torch.jit.Attribute`.\n",
            "  warnings.warn(\n",
            "100%|██████████| 100/100 [00:02<00:00, 41.57it/s]\n",
            "/usr/local/lib/python3.10/dist-packages/torch/jit/_check.py:178: UserWarning: The TorchScript type system doesn't support instance-level annotations on empty non-base types in `__init__`. Instead, either 1) use a type annotation in the class body, or 2) wrap the type in `torch.jit.Attribute`.\n",
            "  warnings.warn(\n",
            "/usr/local/lib/python3.10/dist-packages/torch/jit/_check.py:178: UserWarning: The TorchScript type system doesn't support instance-level annotations on empty non-base types in `__init__`. Instead, either 1) use a type annotation in the class body, or 2) wrap the type in `torch.jit.Attribute`.\n",
            "  warnings.warn(\n",
            "/usr/local/lib/python3.10/dist-packages/torch/jit/_check.py:178: UserWarning: The TorchScript type system doesn't support instance-level annotations on empty non-base types in `__init__`. Instead, either 1) use a type annotation in the class body, or 2) wrap the type in `torch.jit.Attribute`.\n",
            "  warnings.warn(\n"
          ]
        },
        {
          "data": {
            "application/vnd.jupyter.widget-view+json": {
              "model_id": "678bc1c94e8b45fe971c2c437ce5f89d",
              "version_major": 2,
              "version_minor": 0
            },
            "text/plain": [
              "VBox(children=(Label(value='1.747 MB of 1.747 MB uploaded\\r'), FloatProgress(value=1.0, max=1.0)))"
            ]
          },
          "metadata": {},
          "output_type": "display_data"
        },
        {
          "data": {
            "text/html": [
              "<style>\n",
              "    table.wandb td:nth-child(1) { padding: 0 10px; text-align: left ; width: auto;} td:nth-child(2) {text-align: left ; width: 100%}\n",
              "    .wandb-row { display: flex; flex-direction: row; flex-wrap: wrap; justify-content: flex-start; width: 100% }\n",
              "    .wandb-col { display: flex; flex-direction: column; flex-basis: 100%; flex: 1; padding: 10px; }\n",
              "    </style>\n",
              "<div class=\"wandb-row\"><div class=\"wandb-col\"><h3>Run history:</h3><br/><table class=\"wandb\"><tr><td>gcn/accuracy</td><td>▁</td></tr><tr><td>gcn/loss</td><td>██████▇▇▇▇▇▇▇▇▇▇▆▆▆▆▆▆▆▅▅▄▅▄▃▄▃▃▃▃▂▂▁▂▁▁</td></tr></table><br/></div><div class=\"wandb-col\"><h3>Run summary:</h3><br/><table class=\"wandb\"><tr><td>gcn/accuracy</td><td>0.536</td></tr><tr><td>gcn/loss</td><td>1.93455</td></tr></table><br/></div></div>"
            ],
            "text/plain": [
              "<IPython.core.display.HTML object>"
            ]
          },
          "metadata": {},
          "output_type": "display_data"
        },
        {
          "data": {
            "text/html": [
              " View run <strong style=\"color:#cdcd00\">driven-sweep-4</strong> at: <a href='https://wandb.ai/vezenbu-korea-advanced-institute-of-science-and-technology/node-classification/runs/ys13ktv3' target=\"_blank\">https://wandb.ai/vezenbu-korea-advanced-institute-of-science-and-technology/node-classification/runs/ys13ktv3</a><br/> View project at: <a href='https://wandb.ai/vezenbu-korea-advanced-institute-of-science-and-technology/node-classification' target=\"_blank\">https://wandb.ai/vezenbu-korea-advanced-institute-of-science-and-technology/node-classification</a><br/>Synced 5 W&B file(s), 0 media file(s), 4 artifact file(s) and 2 other file(s)"
            ],
            "text/plain": [
              "<IPython.core.display.HTML object>"
            ]
          },
          "metadata": {},
          "output_type": "display_data"
        },
        {
          "data": {
            "text/html": [
              "Find logs at: <code>./wandb/run-20241031_073319-ys13ktv3/logs</code>"
            ],
            "text/plain": [
              "<IPython.core.display.HTML object>"
            ]
          },
          "metadata": {},
          "output_type": "display_data"
        },
        {
          "name": "stderr",
          "output_type": "stream",
          "text": [
            "\u001b[34m\u001b[1mwandb\u001b[0m: Agent Starting Run: fa2bd2d0 with config:\n",
            "\u001b[34m\u001b[1mwandb\u001b[0m: \thidden_channels: 8\n",
            "\u001b[34m\u001b[1mwandb\u001b[0m: \tlr: 0.00026517926430140654\n",
            "\u001b[34m\u001b[1mwandb\u001b[0m: \tweight_decay: 0.0004976365842099288\n"
          ]
        },
        {
          "data": {
            "text/html": [
              "Tracking run with wandb version 0.18.5"
            ],
            "text/plain": [
              "<IPython.core.display.HTML object>"
            ]
          },
          "metadata": {},
          "output_type": "display_data"
        },
        {
          "data": {
            "text/html": [
              "Run data is saved locally in <code>/root/raw_torch_for_scatter/pyg_examples/wandb/run-20241031_073336-fa2bd2d0</code>"
            ],
            "text/plain": [
              "<IPython.core.display.HTML object>"
            ]
          },
          "metadata": {},
          "output_type": "display_data"
        },
        {
          "data": {
            "text/html": [
              "Syncing run <strong><a href='https://wandb.ai/vezenbu-korea-advanced-institute-of-science-and-technology/node-classification/runs/fa2bd2d0' target=\"_blank\">icy-sweep-5</a></strong> to <a href='https://wandb.ai/vezenbu-korea-advanced-institute-of-science-and-technology/node-classification' target=\"_blank\">Weights & Biases</a> (<a href='https://wandb.me/run' target=\"_blank\">docs</a>)<br/>Sweep page: <a href='https://wandb.ai/vezenbu-korea-advanced-institute-of-science-and-technology/node-classification/sweeps/vk9i6qwp' target=\"_blank\">https://wandb.ai/vezenbu-korea-advanced-institute-of-science-and-technology/node-classification/sweeps/vk9i6qwp</a>"
            ],
            "text/plain": [
              "<IPython.core.display.HTML object>"
            ]
          },
          "metadata": {},
          "output_type": "display_data"
        },
        {
          "data": {
            "text/html": [
              " View project at <a href='https://wandb.ai/vezenbu-korea-advanced-institute-of-science-and-technology/node-classification' target=\"_blank\">https://wandb.ai/vezenbu-korea-advanced-institute-of-science-and-technology/node-classification</a>"
            ],
            "text/plain": [
              "<IPython.core.display.HTML object>"
            ]
          },
          "metadata": {},
          "output_type": "display_data"
        },
        {
          "data": {
            "text/html": [
              " View sweep at <a href='https://wandb.ai/vezenbu-korea-advanced-institute-of-science-and-technology/node-classification/sweeps/vk9i6qwp' target=\"_blank\">https://wandb.ai/vezenbu-korea-advanced-institute-of-science-and-technology/node-classification/sweeps/vk9i6qwp</a>"
            ],
            "text/plain": [
              "<IPython.core.display.HTML object>"
            ]
          },
          "metadata": {},
          "output_type": "display_data"
        },
        {
          "data": {
            "text/html": [
              " View run at <a href='https://wandb.ai/vezenbu-korea-advanced-institute-of-science-and-technology/node-classification/runs/fa2bd2d0' target=\"_blank\">https://wandb.ai/vezenbu-korea-advanced-institute-of-science-and-technology/node-classification/runs/fa2bd2d0</a>"
            ],
            "text/plain": [
              "<IPython.core.display.HTML object>"
            ]
          },
          "metadata": {},
          "output_type": "display_data"
        },
        {
          "name": "stderr",
          "output_type": "stream",
          "text": [
            "  0%|          | 0/100 [00:00<?, ?it/s]/usr/local/lib/python3.10/dist-packages/torch/jit/_check.py:178: UserWarning: The TorchScript type system doesn't support instance-level annotations on empty non-base types in `__init__`. Instead, either 1) use a type annotation in the class body, or 2) wrap the type in `torch.jit.Attribute`.\n",
            "  warnings.warn(\n",
            "/usr/local/lib/python3.10/dist-packages/torch/jit/_check.py:178: UserWarning: The TorchScript type system doesn't support instance-level annotations on empty non-base types in `__init__`. Instead, either 1) use a type annotation in the class body, or 2) wrap the type in `torch.jit.Attribute`.\n",
            "  warnings.warn(\n",
            "/usr/local/lib/python3.10/dist-packages/torch/jit/_check.py:178: UserWarning: The TorchScript type system doesn't support instance-level annotations on empty non-base types in `__init__`. Instead, either 1) use a type annotation in the class body, or 2) wrap the type in `torch.jit.Attribute`.\n",
            "  warnings.warn(\n",
            "/usr/local/lib/python3.10/dist-packages/torch/jit/_check.py:178: UserWarning: The TorchScript type system doesn't support instance-level annotations on empty non-base types in `__init__`. Instead, either 1) use a type annotation in the class body, or 2) wrap the type in `torch.jit.Attribute`.\n",
            "  warnings.warn(\n",
            "100%|██████████| 100/100 [00:02<00:00, 41.77it/s]\n",
            "/usr/local/lib/python3.10/dist-packages/torch/jit/_check.py:178: UserWarning: The TorchScript type system doesn't support instance-level annotations on empty non-base types in `__init__`. Instead, either 1) use a type annotation in the class body, or 2) wrap the type in `torch.jit.Attribute`.\n",
            "  warnings.warn(\n",
            "/usr/local/lib/python3.10/dist-packages/torch/jit/_check.py:178: UserWarning: The TorchScript type system doesn't support instance-level annotations on empty non-base types in `__init__`. Instead, either 1) use a type annotation in the class body, or 2) wrap the type in `torch.jit.Attribute`.\n",
            "  warnings.warn(\n",
            "/usr/local/lib/python3.10/dist-packages/torch/jit/_check.py:178: UserWarning: The TorchScript type system doesn't support instance-level annotations on empty non-base types in `__init__`. Instead, either 1) use a type annotation in the class body, or 2) wrap the type in `torch.jit.Attribute`.\n",
            "  warnings.warn(\n"
          ]
        },
        {
          "data": {
            "application/vnd.jupyter.widget-view+json": {
              "model_id": "ae51ae8cb2a34bcb982a591f9e3188d6",
              "version_major": 2,
              "version_minor": 0
            },
            "text/plain": [
              "VBox(children=(Label(value='1.746 MB of 1.746 MB uploaded\\r'), FloatProgress(value=1.0, max=1.0)))"
            ]
          },
          "metadata": {},
          "output_type": "display_data"
        },
        {
          "data": {
            "text/html": [
              "<style>\n",
              "    table.wandb td:nth-child(1) { padding: 0 10px; text-align: left ; width: auto;} td:nth-child(2) {text-align: left ; width: 100%}\n",
              "    .wandb-row { display: flex; flex-direction: row; flex-wrap: wrap; justify-content: flex-start; width: 100% }\n",
              "    .wandb-col { display: flex; flex-direction: column; flex-basis: 100%; flex: 1; padding: 10px; }\n",
              "    </style>\n",
              "<div class=\"wandb-row\"><div class=\"wandb-col\"><h3>Run history:</h3><br/><table class=\"wandb\"><tr><td>gcn/accuracy</td><td>▁</td></tr><tr><td>gcn/loss</td><td>█████▇▇▇▇▇▆▆▆▆▆▆▅▅▅▅▅▅▄▅▄▄▄▄▄▄▃▃▃▃▂▂▁▂▂▁</td></tr></table><br/></div><div class=\"wandb-col\"><h3>Run summary:</h3><br/><table class=\"wandb\"><tr><td>gcn/accuracy</td><td>0.581</td></tr><tr><td>gcn/loss</td><td>1.92914</td></tr></table><br/></div></div>"
            ],
            "text/plain": [
              "<IPython.core.display.HTML object>"
            ]
          },
          "metadata": {},
          "output_type": "display_data"
        },
        {
          "data": {
            "text/html": [
              " View run <strong style=\"color:#cdcd00\">icy-sweep-5</strong> at: <a href='https://wandb.ai/vezenbu-korea-advanced-institute-of-science-and-technology/node-classification/runs/fa2bd2d0' target=\"_blank\">https://wandb.ai/vezenbu-korea-advanced-institute-of-science-and-technology/node-classification/runs/fa2bd2d0</a><br/> View project at: <a href='https://wandb.ai/vezenbu-korea-advanced-institute-of-science-and-technology/node-classification' target=\"_blank\">https://wandb.ai/vezenbu-korea-advanced-institute-of-science-and-technology/node-classification</a><br/>Synced 5 W&B file(s), 0 media file(s), 4 artifact file(s) and 2 other file(s)"
            ],
            "text/plain": [
              "<IPython.core.display.HTML object>"
            ]
          },
          "metadata": {},
          "output_type": "display_data"
        },
        {
          "data": {
            "text/html": [
              "Find logs at: <code>./wandb/run-20241031_073336-fa2bd2d0/logs</code>"
            ],
            "text/plain": [
              "<IPython.core.display.HTML object>"
            ]
          },
          "metadata": {},
          "output_type": "display_data"
        },
        {
          "name": "stderr",
          "output_type": "stream",
          "text": [
            "\u001b[34m\u001b[1mwandb\u001b[0m: Agent Starting Run: xo3x6smq with config:\n",
            "\u001b[34m\u001b[1mwandb\u001b[0m: \thidden_channels: 8\n",
            "\u001b[34m\u001b[1mwandb\u001b[0m: \tlr: 0.00035859496494407967\n",
            "\u001b[34m\u001b[1mwandb\u001b[0m: \tweight_decay: 0.0005000390947828654\n"
          ]
        },
        {
          "data": {
            "text/html": [
              "Tracking run with wandb version 0.18.5"
            ],
            "text/plain": [
              "<IPython.core.display.HTML object>"
            ]
          },
          "metadata": {},
          "output_type": "display_data"
        },
        {
          "data": {
            "text/html": [
              "Run data is saved locally in <code>/root/raw_torch_for_scatter/pyg_examples/wandb/run-20241031_073352-xo3x6smq</code>"
            ],
            "text/plain": [
              "<IPython.core.display.HTML object>"
            ]
          },
          "metadata": {},
          "output_type": "display_data"
        },
        {
          "data": {
            "text/html": [
              "Syncing run <strong><a href='https://wandb.ai/vezenbu-korea-advanced-institute-of-science-and-technology/node-classification/runs/xo3x6smq' target=\"_blank\">pious-sweep-6</a></strong> to <a href='https://wandb.ai/vezenbu-korea-advanced-institute-of-science-and-technology/node-classification' target=\"_blank\">Weights & Biases</a> (<a href='https://wandb.me/run' target=\"_blank\">docs</a>)<br/>Sweep page: <a href='https://wandb.ai/vezenbu-korea-advanced-institute-of-science-and-technology/node-classification/sweeps/vk9i6qwp' target=\"_blank\">https://wandb.ai/vezenbu-korea-advanced-institute-of-science-and-technology/node-classification/sweeps/vk9i6qwp</a>"
            ],
            "text/plain": [
              "<IPython.core.display.HTML object>"
            ]
          },
          "metadata": {},
          "output_type": "display_data"
        },
        {
          "data": {
            "text/html": [
              " View project at <a href='https://wandb.ai/vezenbu-korea-advanced-institute-of-science-and-technology/node-classification' target=\"_blank\">https://wandb.ai/vezenbu-korea-advanced-institute-of-science-and-technology/node-classification</a>"
            ],
            "text/plain": [
              "<IPython.core.display.HTML object>"
            ]
          },
          "metadata": {},
          "output_type": "display_data"
        },
        {
          "data": {
            "text/html": [
              " View sweep at <a href='https://wandb.ai/vezenbu-korea-advanced-institute-of-science-and-technology/node-classification/sweeps/vk9i6qwp' target=\"_blank\">https://wandb.ai/vezenbu-korea-advanced-institute-of-science-and-technology/node-classification/sweeps/vk9i6qwp</a>"
            ],
            "text/plain": [
              "<IPython.core.display.HTML object>"
            ]
          },
          "metadata": {},
          "output_type": "display_data"
        },
        {
          "data": {
            "text/html": [
              " View run at <a href='https://wandb.ai/vezenbu-korea-advanced-institute-of-science-and-technology/node-classification/runs/xo3x6smq' target=\"_blank\">https://wandb.ai/vezenbu-korea-advanced-institute-of-science-and-technology/node-classification/runs/xo3x6smq</a>"
            ],
            "text/plain": [
              "<IPython.core.display.HTML object>"
            ]
          },
          "metadata": {},
          "output_type": "display_data"
        },
        {
          "name": "stderr",
          "output_type": "stream",
          "text": [
            "  0%|          | 0/100 [00:00<?, ?it/s]/usr/local/lib/python3.10/dist-packages/torch/jit/_check.py:178: UserWarning: The TorchScript type system doesn't support instance-level annotations on empty non-base types in `__init__`. Instead, either 1) use a type annotation in the class body, or 2) wrap the type in `torch.jit.Attribute`.\n",
            "  warnings.warn(\n",
            "/usr/local/lib/python3.10/dist-packages/torch/jit/_check.py:178: UserWarning: The TorchScript type system doesn't support instance-level annotations on empty non-base types in `__init__`. Instead, either 1) use a type annotation in the class body, or 2) wrap the type in `torch.jit.Attribute`.\n",
            "  warnings.warn(\n",
            "/usr/local/lib/python3.10/dist-packages/torch/jit/_check.py:178: UserWarning: The TorchScript type system doesn't support instance-level annotations on empty non-base types in `__init__`. Instead, either 1) use a type annotation in the class body, or 2) wrap the type in `torch.jit.Attribute`.\n",
            "  warnings.warn(\n",
            "/usr/local/lib/python3.10/dist-packages/torch/jit/_check.py:178: UserWarning: The TorchScript type system doesn't support instance-level annotations on empty non-base types in `__init__`. Instead, either 1) use a type annotation in the class body, or 2) wrap the type in `torch.jit.Attribute`.\n",
            "  warnings.warn(\n",
            "100%|██████████| 100/100 [00:02<00:00, 42.27it/s]\n",
            "/usr/local/lib/python3.10/dist-packages/torch/jit/_check.py:178: UserWarning: The TorchScript type system doesn't support instance-level annotations on empty non-base types in `__init__`. Instead, either 1) use a type annotation in the class body, or 2) wrap the type in `torch.jit.Attribute`.\n",
            "  warnings.warn(\n",
            "/usr/local/lib/python3.10/dist-packages/torch/jit/_check.py:178: UserWarning: The TorchScript type system doesn't support instance-level annotations on empty non-base types in `__init__`. Instead, either 1) use a type annotation in the class body, or 2) wrap the type in `torch.jit.Attribute`.\n",
            "  warnings.warn(\n",
            "/usr/local/lib/python3.10/dist-packages/torch/jit/_check.py:178: UserWarning: The TorchScript type system doesn't support instance-level annotations on empty non-base types in `__init__`. Instead, either 1) use a type annotation in the class body, or 2) wrap the type in `torch.jit.Attribute`.\n",
            "  warnings.warn(\n"
          ]
        },
        {
          "data": {
            "application/vnd.jupyter.widget-view+json": {
              "model_id": "a3a2c809443640cdb64b2b284316c9f9",
              "version_major": 2,
              "version_minor": 0
            },
            "text/plain": [
              "VBox(children=(Label(value='1.742 MB of 1.742 MB uploaded\\r'), FloatProgress(value=1.0, max=1.0)))"
            ]
          },
          "metadata": {},
          "output_type": "display_data"
        },
        {
          "data": {
            "text/html": [
              "<style>\n",
              "    table.wandb td:nth-child(1) { padding: 0 10px; text-align: left ; width: auto;} td:nth-child(2) {text-align: left ; width: 100%}\n",
              "    .wandb-row { display: flex; flex-direction: row; flex-wrap: wrap; justify-content: flex-start; width: 100% }\n",
              "    .wandb-col { display: flex; flex-direction: column; flex-basis: 100%; flex: 1; padding: 10px; }\n",
              "    </style>\n",
              "<div class=\"wandb-row\"><div class=\"wandb-col\"><h3>Run history:</h3><br/><table class=\"wandb\"><tr><td>gcn/accuracy</td><td>▁</td></tr><tr><td>gcn/loss</td><td>█████▇▇▇▇▇▇▇▇▇▇▇▆▆▆▆▅▅▅▅▅▄▄▄▄▄▃▃▃▃▃▃▃▃▂▁</td></tr></table><br/></div><div class=\"wandb-col\"><h3>Run summary:</h3><br/><table class=\"wandb\"><tr><td>gcn/accuracy</td><td>0.619</td></tr><tr><td>gcn/loss</td><td>1.92177</td></tr></table><br/></div></div>"
            ],
            "text/plain": [
              "<IPython.core.display.HTML object>"
            ]
          },
          "metadata": {},
          "output_type": "display_data"
        },
        {
          "data": {
            "text/html": [
              " View run <strong style=\"color:#cdcd00\">pious-sweep-6</strong> at: <a href='https://wandb.ai/vezenbu-korea-advanced-institute-of-science-and-technology/node-classification/runs/xo3x6smq' target=\"_blank\">https://wandb.ai/vezenbu-korea-advanced-institute-of-science-and-technology/node-classification/runs/xo3x6smq</a><br/> View project at: <a href='https://wandb.ai/vezenbu-korea-advanced-institute-of-science-and-technology/node-classification' target=\"_blank\">https://wandb.ai/vezenbu-korea-advanced-institute-of-science-and-technology/node-classification</a><br/>Synced 5 W&B file(s), 0 media file(s), 4 artifact file(s) and 2 other file(s)"
            ],
            "text/plain": [
              "<IPython.core.display.HTML object>"
            ]
          },
          "metadata": {},
          "output_type": "display_data"
        },
        {
          "data": {
            "text/html": [
              "Find logs at: <code>./wandb/run-20241031_073352-xo3x6smq/logs</code>"
            ],
            "text/plain": [
              "<IPython.core.display.HTML object>"
            ]
          },
          "metadata": {},
          "output_type": "display_data"
        },
        {
          "name": "stderr",
          "output_type": "stream",
          "text": [
            "\u001b[34m\u001b[1mwandb\u001b[0m: Agent Starting Run: 5dolnni7 with config:\n",
            "\u001b[34m\u001b[1mwandb\u001b[0m: \thidden_channels: 8\n",
            "\u001b[34m\u001b[1mwandb\u001b[0m: \tlr: 0.0004747950980142545\n",
            "\u001b[34m\u001b[1mwandb\u001b[0m: \tweight_decay: 0.0005003629783838275\n"
          ]
        },
        {
          "data": {
            "text/html": [
              "Tracking run with wandb version 0.18.5"
            ],
            "text/plain": [
              "<IPython.core.display.HTML object>"
            ]
          },
          "metadata": {},
          "output_type": "display_data"
        },
        {
          "data": {
            "text/html": [
              "Run data is saved locally in <code>/root/raw_torch_for_scatter/pyg_examples/wandb/run-20241031_073408-5dolnni7</code>"
            ],
            "text/plain": [
              "<IPython.core.display.HTML object>"
            ]
          },
          "metadata": {},
          "output_type": "display_data"
        },
        {
          "data": {
            "text/html": [
              "Syncing run <strong><a href='https://wandb.ai/vezenbu-korea-advanced-institute-of-science-and-technology/node-classification/runs/5dolnni7' target=\"_blank\">true-sweep-7</a></strong> to <a href='https://wandb.ai/vezenbu-korea-advanced-institute-of-science-and-technology/node-classification' target=\"_blank\">Weights & Biases</a> (<a href='https://wandb.me/run' target=\"_blank\">docs</a>)<br/>Sweep page: <a href='https://wandb.ai/vezenbu-korea-advanced-institute-of-science-and-technology/node-classification/sweeps/vk9i6qwp' target=\"_blank\">https://wandb.ai/vezenbu-korea-advanced-institute-of-science-and-technology/node-classification/sweeps/vk9i6qwp</a>"
            ],
            "text/plain": [
              "<IPython.core.display.HTML object>"
            ]
          },
          "metadata": {},
          "output_type": "display_data"
        },
        {
          "data": {
            "text/html": [
              " View project at <a href='https://wandb.ai/vezenbu-korea-advanced-institute-of-science-and-technology/node-classification' target=\"_blank\">https://wandb.ai/vezenbu-korea-advanced-institute-of-science-and-technology/node-classification</a>"
            ],
            "text/plain": [
              "<IPython.core.display.HTML object>"
            ]
          },
          "metadata": {},
          "output_type": "display_data"
        },
        {
          "data": {
            "text/html": [
              " View sweep at <a href='https://wandb.ai/vezenbu-korea-advanced-institute-of-science-and-technology/node-classification/sweeps/vk9i6qwp' target=\"_blank\">https://wandb.ai/vezenbu-korea-advanced-institute-of-science-and-technology/node-classification/sweeps/vk9i6qwp</a>"
            ],
            "text/plain": [
              "<IPython.core.display.HTML object>"
            ]
          },
          "metadata": {},
          "output_type": "display_data"
        },
        {
          "data": {
            "text/html": [
              " View run at <a href='https://wandb.ai/vezenbu-korea-advanced-institute-of-science-and-technology/node-classification/runs/5dolnni7' target=\"_blank\">https://wandb.ai/vezenbu-korea-advanced-institute-of-science-and-technology/node-classification/runs/5dolnni7</a>"
            ],
            "text/plain": [
              "<IPython.core.display.HTML object>"
            ]
          },
          "metadata": {},
          "output_type": "display_data"
        },
        {
          "name": "stderr",
          "output_type": "stream",
          "text": [
            "  0%|          | 0/100 [00:00<?, ?it/s]/usr/local/lib/python3.10/dist-packages/torch/jit/_check.py:178: UserWarning: The TorchScript type system doesn't support instance-level annotations on empty non-base types in `__init__`. Instead, either 1) use a type annotation in the class body, or 2) wrap the type in `torch.jit.Attribute`.\n",
            "  warnings.warn(\n",
            "/usr/local/lib/python3.10/dist-packages/torch/jit/_check.py:178: UserWarning: The TorchScript type system doesn't support instance-level annotations on empty non-base types in `__init__`. Instead, either 1) use a type annotation in the class body, or 2) wrap the type in `torch.jit.Attribute`.\n",
            "  warnings.warn(\n",
            "/usr/local/lib/python3.10/dist-packages/torch/jit/_check.py:178: UserWarning: The TorchScript type system doesn't support instance-level annotations on empty non-base types in `__init__`. Instead, either 1) use a type annotation in the class body, or 2) wrap the type in `torch.jit.Attribute`.\n",
            "  warnings.warn(\n",
            "/usr/local/lib/python3.10/dist-packages/torch/jit/_check.py:178: UserWarning: The TorchScript type system doesn't support instance-level annotations on empty non-base types in `__init__`. Instead, either 1) use a type annotation in the class body, or 2) wrap the type in `torch.jit.Attribute`.\n",
            "  warnings.warn(\n",
            "100%|██████████| 100/100 [00:02<00:00, 36.84it/s]\n",
            "/usr/local/lib/python3.10/dist-packages/torch/jit/_check.py:178: UserWarning: The TorchScript type system doesn't support instance-level annotations on empty non-base types in `__init__`. Instead, either 1) use a type annotation in the class body, or 2) wrap the type in `torch.jit.Attribute`.\n",
            "  warnings.warn(\n",
            "/usr/local/lib/python3.10/dist-packages/torch/jit/_check.py:178: UserWarning: The TorchScript type system doesn't support instance-level annotations on empty non-base types in `__init__`. Instead, either 1) use a type annotation in the class body, or 2) wrap the type in `torch.jit.Attribute`.\n",
            "  warnings.warn(\n",
            "/usr/local/lib/python3.10/dist-packages/torch/jit/_check.py:178: UserWarning: The TorchScript type system doesn't support instance-level annotations on empty non-base types in `__init__`. Instead, either 1) use a type annotation in the class body, or 2) wrap the type in `torch.jit.Attribute`.\n",
            "  warnings.warn(\n"
          ]
        },
        {
          "data": {
            "application/vnd.jupyter.widget-view+json": {
              "model_id": "8919a14230d540feb29ba766ca398e88",
              "version_major": 2,
              "version_minor": 0
            },
            "text/plain": [
              "VBox(children=(Label(value='1.740 MB of 1.740 MB uploaded\\r'), FloatProgress(value=1.0, max=1.0)))"
            ]
          },
          "metadata": {},
          "output_type": "display_data"
        },
        {
          "data": {
            "text/html": [
              "<style>\n",
              "    table.wandb td:nth-child(1) { padding: 0 10px; text-align: left ; width: auto;} td:nth-child(2) {text-align: left ; width: 100%}\n",
              "    .wandb-row { display: flex; flex-direction: row; flex-wrap: wrap; justify-content: flex-start; width: 100% }\n",
              "    .wandb-col { display: flex; flex-direction: column; flex-basis: 100%; flex: 1; padding: 10px; }\n",
              "    </style>\n",
              "<div class=\"wandb-row\"><div class=\"wandb-col\"><h3>Run history:</h3><br/><table class=\"wandb\"><tr><td>gcn/accuracy</td><td>▁</td></tr><tr><td>gcn/loss</td><td>█████▇▇▇▇▇▇▇▇▇▇▇▆▆▆▆▅▅▅▄▅▄▄▄▃▄▃▃▃▃▂▂▁▁▂▁</td></tr></table><br/></div><div class=\"wandb-col\"><h3>Run summary:</h3><br/><table class=\"wandb\"><tr><td>gcn/accuracy</td><td>0.645</td></tr><tr><td>gcn/loss</td><td>1.9133</td></tr></table><br/></div></div>"
            ],
            "text/plain": [
              "<IPython.core.display.HTML object>"
            ]
          },
          "metadata": {},
          "output_type": "display_data"
        },
        {
          "data": {
            "text/html": [
              " View run <strong style=\"color:#cdcd00\">true-sweep-7</strong> at: <a href='https://wandb.ai/vezenbu-korea-advanced-institute-of-science-and-technology/node-classification/runs/5dolnni7' target=\"_blank\">https://wandb.ai/vezenbu-korea-advanced-institute-of-science-and-technology/node-classification/runs/5dolnni7</a><br/> View project at: <a href='https://wandb.ai/vezenbu-korea-advanced-institute-of-science-and-technology/node-classification' target=\"_blank\">https://wandb.ai/vezenbu-korea-advanced-institute-of-science-and-technology/node-classification</a><br/>Synced 5 W&B file(s), 0 media file(s), 4 artifact file(s) and 2 other file(s)"
            ],
            "text/plain": [
              "<IPython.core.display.HTML object>"
            ]
          },
          "metadata": {},
          "output_type": "display_data"
        },
        {
          "data": {
            "text/html": [
              "Find logs at: <code>./wandb/run-20241031_073408-5dolnni7/logs</code>"
            ],
            "text/plain": [
              "<IPython.core.display.HTML object>"
            ]
          },
          "metadata": {},
          "output_type": "display_data"
        },
        {
          "name": "stderr",
          "output_type": "stream",
          "text": [
            "\u001b[34m\u001b[1mwandb\u001b[0m: Agent Starting Run: f8885hrm with config:\n",
            "\u001b[34m\u001b[1mwandb\u001b[0m: \thidden_channels: 8\n",
            "\u001b[34m\u001b[1mwandb\u001b[0m: \tlr: 0.0006136598738560905\n",
            "\u001b[34m\u001b[1mwandb\u001b[0m: \tweight_decay: 0.0004981415276978594\n"
          ]
        },
        {
          "data": {
            "text/html": [
              "Tracking run with wandb version 0.18.5"
            ],
            "text/plain": [
              "<IPython.core.display.HTML object>"
            ]
          },
          "metadata": {},
          "output_type": "display_data"
        },
        {
          "data": {
            "text/html": [
              "Run data is saved locally in <code>/root/raw_torch_for_scatter/pyg_examples/wandb/run-20241031_073424-f8885hrm</code>"
            ],
            "text/plain": [
              "<IPython.core.display.HTML object>"
            ]
          },
          "metadata": {},
          "output_type": "display_data"
        },
        {
          "data": {
            "text/html": [
              "Syncing run <strong><a href='https://wandb.ai/vezenbu-korea-advanced-institute-of-science-and-technology/node-classification/runs/f8885hrm' target=\"_blank\">fallen-sweep-8</a></strong> to <a href='https://wandb.ai/vezenbu-korea-advanced-institute-of-science-and-technology/node-classification' target=\"_blank\">Weights & Biases</a> (<a href='https://wandb.me/run' target=\"_blank\">docs</a>)<br/>Sweep page: <a href='https://wandb.ai/vezenbu-korea-advanced-institute-of-science-and-technology/node-classification/sweeps/vk9i6qwp' target=\"_blank\">https://wandb.ai/vezenbu-korea-advanced-institute-of-science-and-technology/node-classification/sweeps/vk9i6qwp</a>"
            ],
            "text/plain": [
              "<IPython.core.display.HTML object>"
            ]
          },
          "metadata": {},
          "output_type": "display_data"
        },
        {
          "data": {
            "text/html": [
              " View project at <a href='https://wandb.ai/vezenbu-korea-advanced-institute-of-science-and-technology/node-classification' target=\"_blank\">https://wandb.ai/vezenbu-korea-advanced-institute-of-science-and-technology/node-classification</a>"
            ],
            "text/plain": [
              "<IPython.core.display.HTML object>"
            ]
          },
          "metadata": {},
          "output_type": "display_data"
        },
        {
          "data": {
            "text/html": [
              " View sweep at <a href='https://wandb.ai/vezenbu-korea-advanced-institute-of-science-and-technology/node-classification/sweeps/vk9i6qwp' target=\"_blank\">https://wandb.ai/vezenbu-korea-advanced-institute-of-science-and-technology/node-classification/sweeps/vk9i6qwp</a>"
            ],
            "text/plain": [
              "<IPython.core.display.HTML object>"
            ]
          },
          "metadata": {},
          "output_type": "display_data"
        },
        {
          "data": {
            "text/html": [
              " View run at <a href='https://wandb.ai/vezenbu-korea-advanced-institute-of-science-and-technology/node-classification/runs/f8885hrm' target=\"_blank\">https://wandb.ai/vezenbu-korea-advanced-institute-of-science-and-technology/node-classification/runs/f8885hrm</a>"
            ],
            "text/plain": [
              "<IPython.core.display.HTML object>"
            ]
          },
          "metadata": {},
          "output_type": "display_data"
        },
        {
          "name": "stderr",
          "output_type": "stream",
          "text": [
            "  0%|          | 0/100 [00:00<?, ?it/s]/usr/local/lib/python3.10/dist-packages/torch/jit/_check.py:178: UserWarning: The TorchScript type system doesn't support instance-level annotations on empty non-base types in `__init__`. Instead, either 1) use a type annotation in the class body, or 2) wrap the type in `torch.jit.Attribute`.\n",
            "  warnings.warn(\n",
            "/usr/local/lib/python3.10/dist-packages/torch/jit/_check.py:178: UserWarning: The TorchScript type system doesn't support instance-level annotations on empty non-base types in `__init__`. Instead, either 1) use a type annotation in the class body, or 2) wrap the type in `torch.jit.Attribute`.\n",
            "  warnings.warn(\n",
            "/usr/local/lib/python3.10/dist-packages/torch/jit/_check.py:178: UserWarning: The TorchScript type system doesn't support instance-level annotations on empty non-base types in `__init__`. Instead, either 1) use a type annotation in the class body, or 2) wrap the type in `torch.jit.Attribute`.\n",
            "  warnings.warn(\n",
            "/usr/local/lib/python3.10/dist-packages/torch/jit/_check.py:178: UserWarning: The TorchScript type system doesn't support instance-level annotations on empty non-base types in `__init__`. Instead, either 1) use a type annotation in the class body, or 2) wrap the type in `torch.jit.Attribute`.\n",
            "  warnings.warn(\n",
            "100%|██████████| 100/100 [00:02<00:00, 41.81it/s]\n",
            "/usr/local/lib/python3.10/dist-packages/torch/jit/_check.py:178: UserWarning: The TorchScript type system doesn't support instance-level annotations on empty non-base types in `__init__`. Instead, either 1) use a type annotation in the class body, or 2) wrap the type in `torch.jit.Attribute`.\n",
            "  warnings.warn(\n",
            "/usr/local/lib/python3.10/dist-packages/torch/jit/_check.py:178: UserWarning: The TorchScript type system doesn't support instance-level annotations on empty non-base types in `__init__`. Instead, either 1) use a type annotation in the class body, or 2) wrap the type in `torch.jit.Attribute`.\n",
            "  warnings.warn(\n",
            "/usr/local/lib/python3.10/dist-packages/torch/jit/_check.py:178: UserWarning: The TorchScript type system doesn't support instance-level annotations on empty non-base types in `__init__`. Instead, either 1) use a type annotation in the class body, or 2) wrap the type in `torch.jit.Attribute`.\n",
            "  warnings.warn(\n"
          ]
        },
        {
          "data": {
            "application/vnd.jupyter.widget-view+json": {
              "model_id": "bbe1c11caf264c6296ab6986555d017c",
              "version_major": 2,
              "version_minor": 0
            },
            "text/plain": [
              "VBox(children=(Label(value='1.736 MB of 1.736 MB uploaded\\r'), FloatProgress(value=1.0, max=1.0)))"
            ]
          },
          "metadata": {},
          "output_type": "display_data"
        },
        {
          "data": {
            "text/html": [
              "<style>\n",
              "    table.wandb td:nth-child(1) { padding: 0 10px; text-align: left ; width: auto;} td:nth-child(2) {text-align: left ; width: 100%}\n",
              "    .wandb-row { display: flex; flex-direction: row; flex-wrap: wrap; justify-content: flex-start; width: 100% }\n",
              "    .wandb-col { display: flex; flex-direction: column; flex-basis: 100%; flex: 1; padding: 10px; }\n",
              "    </style>\n",
              "<div class=\"wandb-row\"><div class=\"wandb-col\"><h3>Run history:</h3><br/><table class=\"wandb\"><tr><td>gcn/accuracy</td><td>▁</td></tr><tr><td>gcn/loss</td><td>█████████▇▇▇▇▇▇▇▇▇▆▆▅▅▅▅▄▅▄▄▄▄▃▃▃▂▂▂▂▂▁▁</td></tr></table><br/></div><div class=\"wandb-col\"><h3>Run summary:</h3><br/><table class=\"wandb\"><tr><td>gcn/accuracy</td><td>0.65</td></tr><tr><td>gcn/loss</td><td>1.90155</td></tr></table><br/></div></div>"
            ],
            "text/plain": [
              "<IPython.core.display.HTML object>"
            ]
          },
          "metadata": {},
          "output_type": "display_data"
        },
        {
          "data": {
            "text/html": [
              " View run <strong style=\"color:#cdcd00\">fallen-sweep-8</strong> at: <a href='https://wandb.ai/vezenbu-korea-advanced-institute-of-science-and-technology/node-classification/runs/f8885hrm' target=\"_blank\">https://wandb.ai/vezenbu-korea-advanced-institute-of-science-and-technology/node-classification/runs/f8885hrm</a><br/> View project at: <a href='https://wandb.ai/vezenbu-korea-advanced-institute-of-science-and-technology/node-classification' target=\"_blank\">https://wandb.ai/vezenbu-korea-advanced-institute-of-science-and-technology/node-classification</a><br/>Synced 5 W&B file(s), 0 media file(s), 4 artifact file(s) and 2 other file(s)"
            ],
            "text/plain": [
              "<IPython.core.display.HTML object>"
            ]
          },
          "metadata": {},
          "output_type": "display_data"
        },
        {
          "data": {
            "text/html": [
              "Find logs at: <code>./wandb/run-20241031_073424-f8885hrm/logs</code>"
            ],
            "text/plain": [
              "<IPython.core.display.HTML object>"
            ]
          },
          "metadata": {},
          "output_type": "display_data"
        },
        {
          "name": "stderr",
          "output_type": "stream",
          "text": [
            "\u001b[34m\u001b[1mwandb\u001b[0m: Agent Starting Run: 5xz6cltj with config:\n",
            "\u001b[34m\u001b[1mwandb\u001b[0m: \thidden_channels: 8\n",
            "\u001b[34m\u001b[1mwandb\u001b[0m: \tlr: 0.0005633954616194216\n",
            "\u001b[34m\u001b[1mwandb\u001b[0m: \tweight_decay: 0.0004985233731252548\n"
          ]
        },
        {
          "data": {
            "text/html": [
              "Tracking run with wandb version 0.18.5"
            ],
            "text/plain": [
              "<IPython.core.display.HTML object>"
            ]
          },
          "metadata": {},
          "output_type": "display_data"
        },
        {
          "data": {
            "text/html": [
              "Run data is saved locally in <code>/root/raw_torch_for_scatter/pyg_examples/wandb/run-20241031_073440-5xz6cltj</code>"
            ],
            "text/plain": [
              "<IPython.core.display.HTML object>"
            ]
          },
          "metadata": {},
          "output_type": "display_data"
        },
        {
          "data": {
            "text/html": [
              "Syncing run <strong><a href='https://wandb.ai/vezenbu-korea-advanced-institute-of-science-and-technology/node-classification/runs/5xz6cltj' target=\"_blank\">smooth-sweep-9</a></strong> to <a href='https://wandb.ai/vezenbu-korea-advanced-institute-of-science-and-technology/node-classification' target=\"_blank\">Weights & Biases</a> (<a href='https://wandb.me/run' target=\"_blank\">docs</a>)<br/>Sweep page: <a href='https://wandb.ai/vezenbu-korea-advanced-institute-of-science-and-technology/node-classification/sweeps/vk9i6qwp' target=\"_blank\">https://wandb.ai/vezenbu-korea-advanced-institute-of-science-and-technology/node-classification/sweeps/vk9i6qwp</a>"
            ],
            "text/plain": [
              "<IPython.core.display.HTML object>"
            ]
          },
          "metadata": {},
          "output_type": "display_data"
        },
        {
          "data": {
            "text/html": [
              " View project at <a href='https://wandb.ai/vezenbu-korea-advanced-institute-of-science-and-technology/node-classification' target=\"_blank\">https://wandb.ai/vezenbu-korea-advanced-institute-of-science-and-technology/node-classification</a>"
            ],
            "text/plain": [
              "<IPython.core.display.HTML object>"
            ]
          },
          "metadata": {},
          "output_type": "display_data"
        },
        {
          "data": {
            "text/html": [
              " View sweep at <a href='https://wandb.ai/vezenbu-korea-advanced-institute-of-science-and-technology/node-classification/sweeps/vk9i6qwp' target=\"_blank\">https://wandb.ai/vezenbu-korea-advanced-institute-of-science-and-technology/node-classification/sweeps/vk9i6qwp</a>"
            ],
            "text/plain": [
              "<IPython.core.display.HTML object>"
            ]
          },
          "metadata": {},
          "output_type": "display_data"
        },
        {
          "data": {
            "text/html": [
              " View run at <a href='https://wandb.ai/vezenbu-korea-advanced-institute-of-science-and-technology/node-classification/runs/5xz6cltj' target=\"_blank\">https://wandb.ai/vezenbu-korea-advanced-institute-of-science-and-technology/node-classification/runs/5xz6cltj</a>"
            ],
            "text/plain": [
              "<IPython.core.display.HTML object>"
            ]
          },
          "metadata": {},
          "output_type": "display_data"
        },
        {
          "name": "stderr",
          "output_type": "stream",
          "text": [
            "  0%|          | 0/100 [00:00<?, ?it/s]/usr/local/lib/python3.10/dist-packages/torch/jit/_check.py:178: UserWarning: The TorchScript type system doesn't support instance-level annotations on empty non-base types in `__init__`. Instead, either 1) use a type annotation in the class body, or 2) wrap the type in `torch.jit.Attribute`.\n",
            "  warnings.warn(\n",
            "/usr/local/lib/python3.10/dist-packages/torch/jit/_check.py:178: UserWarning: The TorchScript type system doesn't support instance-level annotations on empty non-base types in `__init__`. Instead, either 1) use a type annotation in the class body, or 2) wrap the type in `torch.jit.Attribute`.\n",
            "  warnings.warn(\n",
            "/usr/local/lib/python3.10/dist-packages/torch/jit/_check.py:178: UserWarning: The TorchScript type system doesn't support instance-level annotations on empty non-base types in `__init__`. Instead, either 1) use a type annotation in the class body, or 2) wrap the type in `torch.jit.Attribute`.\n",
            "  warnings.warn(\n",
            "/usr/local/lib/python3.10/dist-packages/torch/jit/_check.py:178: UserWarning: The TorchScript type system doesn't support instance-level annotations on empty non-base types in `__init__`. Instead, either 1) use a type annotation in the class body, or 2) wrap the type in `torch.jit.Attribute`.\n",
            "  warnings.warn(\n",
            "100%|██████████| 100/100 [00:02<00:00, 42.12it/s]\n",
            "/usr/local/lib/python3.10/dist-packages/torch/jit/_check.py:178: UserWarning: The TorchScript type system doesn't support instance-level annotations on empty non-base types in `__init__`. Instead, either 1) use a type annotation in the class body, or 2) wrap the type in `torch.jit.Attribute`.\n",
            "  warnings.warn(\n",
            "/usr/local/lib/python3.10/dist-packages/torch/jit/_check.py:178: UserWarning: The TorchScript type system doesn't support instance-level annotations on empty non-base types in `__init__`. Instead, either 1) use a type annotation in the class body, or 2) wrap the type in `torch.jit.Attribute`.\n",
            "  warnings.warn(\n",
            "/usr/local/lib/python3.10/dist-packages/torch/jit/_check.py:178: UserWarning: The TorchScript type system doesn't support instance-level annotations on empty non-base types in `__init__`. Instead, either 1) use a type annotation in the class body, or 2) wrap the type in `torch.jit.Attribute`.\n",
            "  warnings.warn(\n"
          ]
        },
        {
          "data": {
            "application/vnd.jupyter.widget-view+json": {
              "model_id": "1504b7fec3254b32a822ecc2f456feb7",
              "version_major": 2,
              "version_minor": 0
            },
            "text/plain": [
              "VBox(children=(Label(value='1.737 MB of 1.737 MB uploaded\\r'), FloatProgress(value=1.0, max=1.0)))"
            ]
          },
          "metadata": {},
          "output_type": "display_data"
        },
        {
          "data": {
            "text/html": [
              "<style>\n",
              "    table.wandb td:nth-child(1) { padding: 0 10px; text-align: left ; width: auto;} td:nth-child(2) {text-align: left ; width: 100%}\n",
              "    .wandb-row { display: flex; flex-direction: row; flex-wrap: wrap; justify-content: flex-start; width: 100% }\n",
              "    .wandb-col { display: flex; flex-direction: column; flex-basis: 100%; flex: 1; padding: 10px; }\n",
              "    </style>\n",
              "<div class=\"wandb-row\"><div class=\"wandb-col\"><h3>Run history:</h3><br/><table class=\"wandb\"><tr><td>gcn/accuracy</td><td>▁</td></tr><tr><td>gcn/loss</td><td>█████▇▇▇▇▇▇▇▆▆▆▆▆▆▆▅▅▅▅▅▅▄▅▄▄▄▃▄▃▃▃▂▂▂▁▁</td></tr></table><br/></div><div class=\"wandb-col\"><h3>Run summary:</h3><br/><table class=\"wandb\"><tr><td>gcn/accuracy</td><td>0.64</td></tr><tr><td>gcn/loss</td><td>1.90526</td></tr></table><br/></div></div>"
            ],
            "text/plain": [
              "<IPython.core.display.HTML object>"
            ]
          },
          "metadata": {},
          "output_type": "display_data"
        },
        {
          "data": {
            "text/html": [
              " View run <strong style=\"color:#cdcd00\">smooth-sweep-9</strong> at: <a href='https://wandb.ai/vezenbu-korea-advanced-institute-of-science-and-technology/node-classification/runs/5xz6cltj' target=\"_blank\">https://wandb.ai/vezenbu-korea-advanced-institute-of-science-and-technology/node-classification/runs/5xz6cltj</a><br/> View project at: <a href='https://wandb.ai/vezenbu-korea-advanced-institute-of-science-and-technology/node-classification' target=\"_blank\">https://wandb.ai/vezenbu-korea-advanced-institute-of-science-and-technology/node-classification</a><br/>Synced 5 W&B file(s), 0 media file(s), 4 artifact file(s) and 2 other file(s)"
            ],
            "text/plain": [
              "<IPython.core.display.HTML object>"
            ]
          },
          "metadata": {},
          "output_type": "display_data"
        },
        {
          "data": {
            "text/html": [
              "Find logs at: <code>./wandb/run-20241031_073440-5xz6cltj/logs</code>"
            ],
            "text/plain": [
              "<IPython.core.display.HTML object>"
            ]
          },
          "metadata": {},
          "output_type": "display_data"
        },
        {
          "name": "stderr",
          "output_type": "stream",
          "text": [
            "\u001b[34m\u001b[1mwandb\u001b[0m: Agent Starting Run: leem8lnq with config:\n",
            "\u001b[34m\u001b[1mwandb\u001b[0m: \thidden_channels: 8\n",
            "\u001b[34m\u001b[1mwandb\u001b[0m: \tlr: 0.0007773906605787343\n",
            "\u001b[34m\u001b[1mwandb\u001b[0m: \tweight_decay: 0.0005014442249745626\n"
          ]
        },
        {
          "data": {
            "text/html": [
              "Tracking run with wandb version 0.18.5"
            ],
            "text/plain": [
              "<IPython.core.display.HTML object>"
            ]
          },
          "metadata": {},
          "output_type": "display_data"
        },
        {
          "data": {
            "text/html": [
              "Run data is saved locally in <code>/root/raw_torch_for_scatter/pyg_examples/wandb/run-20241031_073456-leem8lnq</code>"
            ],
            "text/plain": [
              "<IPython.core.display.HTML object>"
            ]
          },
          "metadata": {},
          "output_type": "display_data"
        },
        {
          "data": {
            "text/html": [
              "Syncing run <strong><a href='https://wandb.ai/vezenbu-korea-advanced-institute-of-science-and-technology/node-classification/runs/leem8lnq' target=\"_blank\">brisk-sweep-10</a></strong> to <a href='https://wandb.ai/vezenbu-korea-advanced-institute-of-science-and-technology/node-classification' target=\"_blank\">Weights & Biases</a> (<a href='https://wandb.me/run' target=\"_blank\">docs</a>)<br/>Sweep page: <a href='https://wandb.ai/vezenbu-korea-advanced-institute-of-science-and-technology/node-classification/sweeps/vk9i6qwp' target=\"_blank\">https://wandb.ai/vezenbu-korea-advanced-institute-of-science-and-technology/node-classification/sweeps/vk9i6qwp</a>"
            ],
            "text/plain": [
              "<IPython.core.display.HTML object>"
            ]
          },
          "metadata": {},
          "output_type": "display_data"
        },
        {
          "data": {
            "text/html": [
              " View project at <a href='https://wandb.ai/vezenbu-korea-advanced-institute-of-science-and-technology/node-classification' target=\"_blank\">https://wandb.ai/vezenbu-korea-advanced-institute-of-science-and-technology/node-classification</a>"
            ],
            "text/plain": [
              "<IPython.core.display.HTML object>"
            ]
          },
          "metadata": {},
          "output_type": "display_data"
        },
        {
          "data": {
            "text/html": [
              " View sweep at <a href='https://wandb.ai/vezenbu-korea-advanced-institute-of-science-and-technology/node-classification/sweeps/vk9i6qwp' target=\"_blank\">https://wandb.ai/vezenbu-korea-advanced-institute-of-science-and-technology/node-classification/sweeps/vk9i6qwp</a>"
            ],
            "text/plain": [
              "<IPython.core.display.HTML object>"
            ]
          },
          "metadata": {},
          "output_type": "display_data"
        },
        {
          "data": {
            "text/html": [
              " View run at <a href='https://wandb.ai/vezenbu-korea-advanced-institute-of-science-and-technology/node-classification/runs/leem8lnq' target=\"_blank\">https://wandb.ai/vezenbu-korea-advanced-institute-of-science-and-technology/node-classification/runs/leem8lnq</a>"
            ],
            "text/plain": [
              "<IPython.core.display.HTML object>"
            ]
          },
          "metadata": {},
          "output_type": "display_data"
        },
        {
          "name": "stderr",
          "output_type": "stream",
          "text": [
            "  0%|          | 0/100 [00:00<?, ?it/s]/usr/local/lib/python3.10/dist-packages/torch/jit/_check.py:178: UserWarning: The TorchScript type system doesn't support instance-level annotations on empty non-base types in `__init__`. Instead, either 1) use a type annotation in the class body, or 2) wrap the type in `torch.jit.Attribute`.\n",
            "  warnings.warn(\n",
            "/usr/local/lib/python3.10/dist-packages/torch/jit/_check.py:178: UserWarning: The TorchScript type system doesn't support instance-level annotations on empty non-base types in `__init__`. Instead, either 1) use a type annotation in the class body, or 2) wrap the type in `torch.jit.Attribute`.\n",
            "  warnings.warn(\n",
            "/usr/local/lib/python3.10/dist-packages/torch/jit/_check.py:178: UserWarning: The TorchScript type system doesn't support instance-level annotations on empty non-base types in `__init__`. Instead, either 1) use a type annotation in the class body, or 2) wrap the type in `torch.jit.Attribute`.\n",
            "  warnings.warn(\n",
            "/usr/local/lib/python3.10/dist-packages/torch/jit/_check.py:178: UserWarning: The TorchScript type system doesn't support instance-level annotations on empty non-base types in `__init__`. Instead, either 1) use a type annotation in the class body, or 2) wrap the type in `torch.jit.Attribute`.\n",
            "  warnings.warn(\n",
            "100%|██████████| 100/100 [00:02<00:00, 42.21it/s]\n",
            "/usr/local/lib/python3.10/dist-packages/torch/jit/_check.py:178: UserWarning: The TorchScript type system doesn't support instance-level annotations on empty non-base types in `__init__`. Instead, either 1) use a type annotation in the class body, or 2) wrap the type in `torch.jit.Attribute`.\n",
            "  warnings.warn(\n",
            "/usr/local/lib/python3.10/dist-packages/torch/jit/_check.py:178: UserWarning: The TorchScript type system doesn't support instance-level annotations on empty non-base types in `__init__`. Instead, either 1) use a type annotation in the class body, or 2) wrap the type in `torch.jit.Attribute`.\n",
            "  warnings.warn(\n",
            "/usr/local/lib/python3.10/dist-packages/torch/jit/_check.py:178: UserWarning: The TorchScript type system doesn't support instance-level annotations on empty non-base types in `__init__`. Instead, either 1) use a type annotation in the class body, or 2) wrap the type in `torch.jit.Attribute`.\n",
            "  warnings.warn(\n"
          ]
        },
        {
          "data": {
            "application/vnd.jupyter.widget-view+json": {
              "model_id": "ff46f0fa0677435fac75286a75630e48",
              "version_major": 2,
              "version_minor": 0
            },
            "text/plain": [
              "VBox(children=(Label(value='1.733 MB of 1.733 MB uploaded\\r'), FloatProgress(value=1.0, max=1.0)))"
            ]
          },
          "metadata": {},
          "output_type": "display_data"
        },
        {
          "data": {
            "text/html": [
              "<style>\n",
              "    table.wandb td:nth-child(1) { padding: 0 10px; text-align: left ; width: auto;} td:nth-child(2) {text-align: left ; width: 100%}\n",
              "    .wandb-row { display: flex; flex-direction: row; flex-wrap: wrap; justify-content: flex-start; width: 100% }\n",
              "    .wandb-col { display: flex; flex-direction: column; flex-basis: 100%; flex: 1; padding: 10px; }\n",
              "    </style>\n",
              "<div class=\"wandb-row\"><div class=\"wandb-col\"><h3>Run history:</h3><br/><table class=\"wandb\"><tr><td>gcn/accuracy</td><td>▁</td></tr><tr><td>gcn/loss</td><td>████████▇▇▇▇▇▇▇▇▆▆▆▆▆▆▆▅▅▄▅▄▄▄▃▄▄▃▃▃▃▃▂▁</td></tr></table><br/></div><div class=\"wandb-col\"><h3>Run summary:</h3><br/><table class=\"wandb\"><tr><td>gcn/accuracy</td><td>0.653</td></tr><tr><td>gcn/loss</td><td>1.88696</td></tr></table><br/></div></div>"
            ],
            "text/plain": [
              "<IPython.core.display.HTML object>"
            ]
          },
          "metadata": {},
          "output_type": "display_data"
        },
        {
          "data": {
            "text/html": [
              " View run <strong style=\"color:#cdcd00\">brisk-sweep-10</strong> at: <a href='https://wandb.ai/vezenbu-korea-advanced-institute-of-science-and-technology/node-classification/runs/leem8lnq' target=\"_blank\">https://wandb.ai/vezenbu-korea-advanced-institute-of-science-and-technology/node-classification/runs/leem8lnq</a><br/> View project at: <a href='https://wandb.ai/vezenbu-korea-advanced-institute-of-science-and-technology/node-classification' target=\"_blank\">https://wandb.ai/vezenbu-korea-advanced-institute-of-science-and-technology/node-classification</a><br/>Synced 5 W&B file(s), 0 media file(s), 4 artifact file(s) and 2 other file(s)"
            ],
            "text/plain": [
              "<IPython.core.display.HTML object>"
            ]
          },
          "metadata": {},
          "output_type": "display_data"
        },
        {
          "data": {
            "text/html": [
              "Find logs at: <code>./wandb/run-20241031_073456-leem8lnq/logs</code>"
            ],
            "text/plain": [
              "<IPython.core.display.HTML object>"
            ]
          },
          "metadata": {},
          "output_type": "display_data"
        },
        {
          "name": "stderr",
          "output_type": "stream",
          "text": [
            "\u001b[34m\u001b[1mwandb\u001b[0m: Agent Starting Run: w4mv033p with config:\n",
            "\u001b[34m\u001b[1mwandb\u001b[0m: \thidden_channels: 8\n",
            "\u001b[34m\u001b[1mwandb\u001b[0m: \tlr: 0.0007597659170361502\n",
            "\u001b[34m\u001b[1mwandb\u001b[0m: \tweight_decay: 0.0004970087501537213\n"
          ]
        },
        {
          "data": {
            "application/vnd.jupyter.widget-view+json": {
              "model_id": "07a03e189ad448e7815abe7924ef2a0c",
              "version_major": 2,
              "version_minor": 0
            },
            "text/plain": [
              "VBox(children=(Label(value='Waiting for wandb.init()...\\r'), FloatProgress(value=0.011111952266138462, max=1.0…"
            ]
          },
          "metadata": {},
          "output_type": "display_data"
        },
        {
          "data": {
            "text/html": [
              "Tracking run with wandb version 0.18.5"
            ],
            "text/plain": [
              "<IPython.core.display.HTML object>"
            ]
          },
          "metadata": {},
          "output_type": "display_data"
        },
        {
          "data": {
            "text/html": [
              "Run data is saved locally in <code>/root/raw_torch_for_scatter/pyg_examples/wandb/run-20241031_073512-w4mv033p</code>"
            ],
            "text/plain": [
              "<IPython.core.display.HTML object>"
            ]
          },
          "metadata": {},
          "output_type": "display_data"
        },
        {
          "data": {
            "text/html": [
              "Syncing run <strong><a href='https://wandb.ai/vezenbu-korea-advanced-institute-of-science-and-technology/node-classification/runs/w4mv033p' target=\"_blank\">ethereal-sweep-11</a></strong> to <a href='https://wandb.ai/vezenbu-korea-advanced-institute-of-science-and-technology/node-classification' target=\"_blank\">Weights & Biases</a> (<a href='https://wandb.me/run' target=\"_blank\">docs</a>)<br/>Sweep page: <a href='https://wandb.ai/vezenbu-korea-advanced-institute-of-science-and-technology/node-classification/sweeps/vk9i6qwp' target=\"_blank\">https://wandb.ai/vezenbu-korea-advanced-institute-of-science-and-technology/node-classification/sweeps/vk9i6qwp</a>"
            ],
            "text/plain": [
              "<IPython.core.display.HTML object>"
            ]
          },
          "metadata": {},
          "output_type": "display_data"
        },
        {
          "data": {
            "text/html": [
              " View project at <a href='https://wandb.ai/vezenbu-korea-advanced-institute-of-science-and-technology/node-classification' target=\"_blank\">https://wandb.ai/vezenbu-korea-advanced-institute-of-science-and-technology/node-classification</a>"
            ],
            "text/plain": [
              "<IPython.core.display.HTML object>"
            ]
          },
          "metadata": {},
          "output_type": "display_data"
        },
        {
          "data": {
            "text/html": [
              " View sweep at <a href='https://wandb.ai/vezenbu-korea-advanced-institute-of-science-and-technology/node-classification/sweeps/vk9i6qwp' target=\"_blank\">https://wandb.ai/vezenbu-korea-advanced-institute-of-science-and-technology/node-classification/sweeps/vk9i6qwp</a>"
            ],
            "text/plain": [
              "<IPython.core.display.HTML object>"
            ]
          },
          "metadata": {},
          "output_type": "display_data"
        },
        {
          "data": {
            "text/html": [
              " View run at <a href='https://wandb.ai/vezenbu-korea-advanced-institute-of-science-and-technology/node-classification/runs/w4mv033p' target=\"_blank\">https://wandb.ai/vezenbu-korea-advanced-institute-of-science-and-technology/node-classification/runs/w4mv033p</a>"
            ],
            "text/plain": [
              "<IPython.core.display.HTML object>"
            ]
          },
          "metadata": {},
          "output_type": "display_data"
        },
        {
          "name": "stderr",
          "output_type": "stream",
          "text": [
            "  0%|          | 0/100 [00:00<?, ?it/s]/usr/local/lib/python3.10/dist-packages/torch/jit/_check.py:178: UserWarning: The TorchScript type system doesn't support instance-level annotations on empty non-base types in `__init__`. Instead, either 1) use a type annotation in the class body, or 2) wrap the type in `torch.jit.Attribute`.\n",
            "  warnings.warn(\n",
            "/usr/local/lib/python3.10/dist-packages/torch/jit/_check.py:178: UserWarning: The TorchScript type system doesn't support instance-level annotations on empty non-base types in `__init__`. Instead, either 1) use a type annotation in the class body, or 2) wrap the type in `torch.jit.Attribute`.\n",
            "  warnings.warn(\n",
            "/usr/local/lib/python3.10/dist-packages/torch/jit/_check.py:178: UserWarning: The TorchScript type system doesn't support instance-level annotations on empty non-base types in `__init__`. Instead, either 1) use a type annotation in the class body, or 2) wrap the type in `torch.jit.Attribute`.\n",
            "  warnings.warn(\n",
            "/usr/local/lib/python3.10/dist-packages/torch/jit/_check.py:178: UserWarning: The TorchScript type system doesn't support instance-level annotations on empty non-base types in `__init__`. Instead, either 1) use a type annotation in the class body, or 2) wrap the type in `torch.jit.Attribute`.\n",
            "  warnings.warn(\n",
            "100%|██████████| 100/100 [00:02<00:00, 36.37it/s]\n",
            "/usr/local/lib/python3.10/dist-packages/torch/jit/_check.py:178: UserWarning: The TorchScript type system doesn't support instance-level annotations on empty non-base types in `__init__`. Instead, either 1) use a type annotation in the class body, or 2) wrap the type in `torch.jit.Attribute`.\n",
            "  warnings.warn(\n",
            "/usr/local/lib/python3.10/dist-packages/torch/jit/_check.py:178: UserWarning: The TorchScript type system doesn't support instance-level annotations on empty non-base types in `__init__`. Instead, either 1) use a type annotation in the class body, or 2) wrap the type in `torch.jit.Attribute`.\n",
            "  warnings.warn(\n",
            "/usr/local/lib/python3.10/dist-packages/torch/jit/_check.py:178: UserWarning: The TorchScript type system doesn't support instance-level annotations on empty non-base types in `__init__`. Instead, either 1) use a type annotation in the class body, or 2) wrap the type in `torch.jit.Attribute`.\n",
            "  warnings.warn(\n"
          ]
        },
        {
          "data": {
            "application/vnd.jupyter.widget-view+json": {
              "model_id": "12585ee907f14583978bf44baacea1f4",
              "version_major": 2,
              "version_minor": 0
            },
            "text/plain": [
              "VBox(children=(Label(value='1.733 MB of 1.733 MB uploaded\\r'), FloatProgress(value=1.0, max=1.0)))"
            ]
          },
          "metadata": {},
          "output_type": "display_data"
        },
        {
          "data": {
            "text/html": [
              "<style>\n",
              "    table.wandb td:nth-child(1) { padding: 0 10px; text-align: left ; width: auto;} td:nth-child(2) {text-align: left ; width: 100%}\n",
              "    .wandb-row { display: flex; flex-direction: row; flex-wrap: wrap; justify-content: flex-start; width: 100% }\n",
              "    .wandb-col { display: flex; flex-direction: column; flex-basis: 100%; flex: 1; padding: 10px; }\n",
              "    </style>\n",
              "<div class=\"wandb-row\"><div class=\"wandb-col\"><h3>Run history:</h3><br/><table class=\"wandb\"><tr><td>gcn/accuracy</td><td>▁</td></tr><tr><td>gcn/loss</td><td>█████▇▇▇▇▇▇▇▇▆▆▆▆▆▆▅▅▅▅▄▅▅▄▄▃▃▃▃▂▃▂▂▂▁▂▁</td></tr></table><br/></div><div class=\"wandb-col\"><h3>Run summary:</h3><br/><table class=\"wandb\"><tr><td>gcn/accuracy</td><td>0.656</td></tr><tr><td>gcn/loss</td><td>1.88839</td></tr></table><br/></div></div>"
            ],
            "text/plain": [
              "<IPython.core.display.HTML object>"
            ]
          },
          "metadata": {},
          "output_type": "display_data"
        },
        {
          "data": {
            "text/html": [
              " View run <strong style=\"color:#cdcd00\">ethereal-sweep-11</strong> at: <a href='https://wandb.ai/vezenbu-korea-advanced-institute-of-science-and-technology/node-classification/runs/w4mv033p' target=\"_blank\">https://wandb.ai/vezenbu-korea-advanced-institute-of-science-and-technology/node-classification/runs/w4mv033p</a><br/> View project at: <a href='https://wandb.ai/vezenbu-korea-advanced-institute-of-science-and-technology/node-classification' target=\"_blank\">https://wandb.ai/vezenbu-korea-advanced-institute-of-science-and-technology/node-classification</a><br/>Synced 5 W&B file(s), 0 media file(s), 4 artifact file(s) and 2 other file(s)"
            ],
            "text/plain": [
              "<IPython.core.display.HTML object>"
            ]
          },
          "metadata": {},
          "output_type": "display_data"
        },
        {
          "data": {
            "text/html": [
              "Find logs at: <code>./wandb/run-20241031_073512-w4mv033p/logs</code>"
            ],
            "text/plain": [
              "<IPython.core.display.HTML object>"
            ]
          },
          "metadata": {},
          "output_type": "display_data"
        },
        {
          "name": "stderr",
          "output_type": "stream",
          "text": [
            "\u001b[34m\u001b[1mwandb\u001b[0m: Agent Starting Run: 3zj335x0 with config:\n",
            "\u001b[34m\u001b[1mwandb\u001b[0m: \thidden_channels: 8\n",
            "\u001b[34m\u001b[1mwandb\u001b[0m: \tlr: 0.0007266550665567157\n",
            "\u001b[34m\u001b[1mwandb\u001b[0m: \tweight_decay: 0.0004999254238685098\n"
          ]
        },
        {
          "data": {
            "text/html": [
              "Tracking run with wandb version 0.18.5"
            ],
            "text/plain": [
              "<IPython.core.display.HTML object>"
            ]
          },
          "metadata": {},
          "output_type": "display_data"
        },
        {
          "data": {
            "text/html": [
              "Run data is saved locally in <code>/root/raw_torch_for_scatter/pyg_examples/wandb/run-20241031_073528-3zj335x0</code>"
            ],
            "text/plain": [
              "<IPython.core.display.HTML object>"
            ]
          },
          "metadata": {},
          "output_type": "display_data"
        },
        {
          "data": {
            "text/html": [
              "Syncing run <strong><a href='https://wandb.ai/vezenbu-korea-advanced-institute-of-science-and-technology/node-classification/runs/3zj335x0' target=\"_blank\">rose-sweep-12</a></strong> to <a href='https://wandb.ai/vezenbu-korea-advanced-institute-of-science-and-technology/node-classification' target=\"_blank\">Weights & Biases</a> (<a href='https://wandb.me/run' target=\"_blank\">docs</a>)<br/>Sweep page: <a href='https://wandb.ai/vezenbu-korea-advanced-institute-of-science-and-technology/node-classification/sweeps/vk9i6qwp' target=\"_blank\">https://wandb.ai/vezenbu-korea-advanced-institute-of-science-and-technology/node-classification/sweeps/vk9i6qwp</a>"
            ],
            "text/plain": [
              "<IPython.core.display.HTML object>"
            ]
          },
          "metadata": {},
          "output_type": "display_data"
        },
        {
          "data": {
            "text/html": [
              " View project at <a href='https://wandb.ai/vezenbu-korea-advanced-institute-of-science-and-technology/node-classification' target=\"_blank\">https://wandb.ai/vezenbu-korea-advanced-institute-of-science-and-technology/node-classification</a>"
            ],
            "text/plain": [
              "<IPython.core.display.HTML object>"
            ]
          },
          "metadata": {},
          "output_type": "display_data"
        },
        {
          "data": {
            "text/html": [
              " View sweep at <a href='https://wandb.ai/vezenbu-korea-advanced-institute-of-science-and-technology/node-classification/sweeps/vk9i6qwp' target=\"_blank\">https://wandb.ai/vezenbu-korea-advanced-institute-of-science-and-technology/node-classification/sweeps/vk9i6qwp</a>"
            ],
            "text/plain": [
              "<IPython.core.display.HTML object>"
            ]
          },
          "metadata": {},
          "output_type": "display_data"
        },
        {
          "data": {
            "text/html": [
              " View run at <a href='https://wandb.ai/vezenbu-korea-advanced-institute-of-science-and-technology/node-classification/runs/3zj335x0' target=\"_blank\">https://wandb.ai/vezenbu-korea-advanced-institute-of-science-and-technology/node-classification/runs/3zj335x0</a>"
            ],
            "text/plain": [
              "<IPython.core.display.HTML object>"
            ]
          },
          "metadata": {},
          "output_type": "display_data"
        },
        {
          "name": "stderr",
          "output_type": "stream",
          "text": [
            "  0%|          | 0/100 [00:00<?, ?it/s]/usr/local/lib/python3.10/dist-packages/torch/jit/_check.py:178: UserWarning: The TorchScript type system doesn't support instance-level annotations on empty non-base types in `__init__`. Instead, either 1) use a type annotation in the class body, or 2) wrap the type in `torch.jit.Attribute`.\n",
            "  warnings.warn(\n",
            "/usr/local/lib/python3.10/dist-packages/torch/jit/_check.py:178: UserWarning: The TorchScript type system doesn't support instance-level annotations on empty non-base types in `__init__`. Instead, either 1) use a type annotation in the class body, or 2) wrap the type in `torch.jit.Attribute`.\n",
            "  warnings.warn(\n",
            "/usr/local/lib/python3.10/dist-packages/torch/jit/_check.py:178: UserWarning: The TorchScript type system doesn't support instance-level annotations on empty non-base types in `__init__`. Instead, either 1) use a type annotation in the class body, or 2) wrap the type in `torch.jit.Attribute`.\n",
            "  warnings.warn(\n",
            "/usr/local/lib/python3.10/dist-packages/torch/jit/_check.py:178: UserWarning: The TorchScript type system doesn't support instance-level annotations on empty non-base types in `__init__`. Instead, either 1) use a type annotation in the class body, or 2) wrap the type in `torch.jit.Attribute`.\n",
            "  warnings.warn(\n",
            "100%|██████████| 100/100 [00:02<00:00, 41.49it/s]\n",
            "/usr/local/lib/python3.10/dist-packages/torch/jit/_check.py:178: UserWarning: The TorchScript type system doesn't support instance-level annotations on empty non-base types in `__init__`. Instead, either 1) use a type annotation in the class body, or 2) wrap the type in `torch.jit.Attribute`.\n",
            "  warnings.warn(\n",
            "/usr/local/lib/python3.10/dist-packages/torch/jit/_check.py:178: UserWarning: The TorchScript type system doesn't support instance-level annotations on empty non-base types in `__init__`. Instead, either 1) use a type annotation in the class body, or 2) wrap the type in `torch.jit.Attribute`.\n",
            "  warnings.warn(\n",
            "/usr/local/lib/python3.10/dist-packages/torch/jit/_check.py:178: UserWarning: The TorchScript type system doesn't support instance-level annotations on empty non-base types in `__init__`. Instead, either 1) use a type annotation in the class body, or 2) wrap the type in `torch.jit.Attribute`.\n",
            "  warnings.warn(\n"
          ]
        },
        {
          "data": {
            "application/vnd.jupyter.widget-view+json": {
              "model_id": "6a126c44ab964fea860f237545c8c36f",
              "version_major": 2,
              "version_minor": 0
            },
            "text/plain": [
              "VBox(children=(Label(value='1.733 MB of 1.733 MB uploaded\\r'), FloatProgress(value=1.0, max=1.0)))"
            ]
          },
          "metadata": {},
          "output_type": "display_data"
        },
        {
          "data": {
            "text/html": [
              "<style>\n",
              "    table.wandb td:nth-child(1) { padding: 0 10px; text-align: left ; width: auto;} td:nth-child(2) {text-align: left ; width: 100%}\n",
              "    .wandb-row { display: flex; flex-direction: row; flex-wrap: wrap; justify-content: flex-start; width: 100% }\n",
              "    .wandb-col { display: flex; flex-direction: column; flex-basis: 100%; flex: 1; padding: 10px; }\n",
              "    </style>\n",
              "<div class=\"wandb-row\"><div class=\"wandb-col\"><h3>Run history:</h3><br/><table class=\"wandb\"><tr><td>gcn/accuracy</td><td>▁</td></tr><tr><td>gcn/loss</td><td>█████▇▇▇▇▇▇▆▆▆▆▅▅▅▅▅▄▄▄▄▄▃▃▃▃▃▃▂▂▂▂▂▂▁▁▁</td></tr></table><br/></div><div class=\"wandb-col\"><h3>Run summary:</h3><br/><table class=\"wandb\"><tr><td>gcn/accuracy</td><td>0.649</td></tr><tr><td>gcn/loss</td><td>1.89122</td></tr></table><br/></div></div>"
            ],
            "text/plain": [
              "<IPython.core.display.HTML object>"
            ]
          },
          "metadata": {},
          "output_type": "display_data"
        },
        {
          "data": {
            "text/html": [
              " View run <strong style=\"color:#cdcd00\">rose-sweep-12</strong> at: <a href='https://wandb.ai/vezenbu-korea-advanced-institute-of-science-and-technology/node-classification/runs/3zj335x0' target=\"_blank\">https://wandb.ai/vezenbu-korea-advanced-institute-of-science-and-technology/node-classification/runs/3zj335x0</a><br/> View project at: <a href='https://wandb.ai/vezenbu-korea-advanced-institute-of-science-and-technology/node-classification' target=\"_blank\">https://wandb.ai/vezenbu-korea-advanced-institute-of-science-and-technology/node-classification</a><br/>Synced 5 W&B file(s), 0 media file(s), 4 artifact file(s) and 2 other file(s)"
            ],
            "text/plain": [
              "<IPython.core.display.HTML object>"
            ]
          },
          "metadata": {},
          "output_type": "display_data"
        },
        {
          "data": {
            "text/html": [
              "Find logs at: <code>./wandb/run-20241031_073528-3zj335x0/logs</code>"
            ],
            "text/plain": [
              "<IPython.core.display.HTML object>"
            ]
          },
          "metadata": {},
          "output_type": "display_data"
        },
        {
          "name": "stderr",
          "output_type": "stream",
          "text": [
            "\u001b[34m\u001b[1mwandb\u001b[0m: Agent Starting Run: ep74qcev with config:\n",
            "\u001b[34m\u001b[1mwandb\u001b[0m: \thidden_channels: 8\n",
            "\u001b[34m\u001b[1mwandb\u001b[0m: \tlr: 0.0008182856325265312\n",
            "\u001b[34m\u001b[1mwandb\u001b[0m: \tweight_decay: 0.0004999775247515077\n"
          ]
        },
        {
          "data": {
            "text/html": [
              "Tracking run with wandb version 0.18.5"
            ],
            "text/plain": [
              "<IPython.core.display.HTML object>"
            ]
          },
          "metadata": {},
          "output_type": "display_data"
        },
        {
          "data": {
            "text/html": [
              "Run data is saved locally in <code>/root/raw_torch_for_scatter/pyg_examples/wandb/run-20241031_073544-ep74qcev</code>"
            ],
            "text/plain": [
              "<IPython.core.display.HTML object>"
            ]
          },
          "metadata": {},
          "output_type": "display_data"
        },
        {
          "data": {
            "text/html": [
              "Syncing run <strong><a href='https://wandb.ai/vezenbu-korea-advanced-institute-of-science-and-technology/node-classification/runs/ep74qcev' target=\"_blank\">celestial-sweep-13</a></strong> to <a href='https://wandb.ai/vezenbu-korea-advanced-institute-of-science-and-technology/node-classification' target=\"_blank\">Weights & Biases</a> (<a href='https://wandb.me/run' target=\"_blank\">docs</a>)<br/>Sweep page: <a href='https://wandb.ai/vezenbu-korea-advanced-institute-of-science-and-technology/node-classification/sweeps/vk9i6qwp' target=\"_blank\">https://wandb.ai/vezenbu-korea-advanced-institute-of-science-and-technology/node-classification/sweeps/vk9i6qwp</a>"
            ],
            "text/plain": [
              "<IPython.core.display.HTML object>"
            ]
          },
          "metadata": {},
          "output_type": "display_data"
        },
        {
          "data": {
            "text/html": [
              " View project at <a href='https://wandb.ai/vezenbu-korea-advanced-institute-of-science-and-technology/node-classification' target=\"_blank\">https://wandb.ai/vezenbu-korea-advanced-institute-of-science-and-technology/node-classification</a>"
            ],
            "text/plain": [
              "<IPython.core.display.HTML object>"
            ]
          },
          "metadata": {},
          "output_type": "display_data"
        },
        {
          "data": {
            "text/html": [
              " View sweep at <a href='https://wandb.ai/vezenbu-korea-advanced-institute-of-science-and-technology/node-classification/sweeps/vk9i6qwp' target=\"_blank\">https://wandb.ai/vezenbu-korea-advanced-institute-of-science-and-technology/node-classification/sweeps/vk9i6qwp</a>"
            ],
            "text/plain": [
              "<IPython.core.display.HTML object>"
            ]
          },
          "metadata": {},
          "output_type": "display_data"
        },
        {
          "data": {
            "text/html": [
              " View run at <a href='https://wandb.ai/vezenbu-korea-advanced-institute-of-science-and-technology/node-classification/runs/ep74qcev' target=\"_blank\">https://wandb.ai/vezenbu-korea-advanced-institute-of-science-and-technology/node-classification/runs/ep74qcev</a>"
            ],
            "text/plain": [
              "<IPython.core.display.HTML object>"
            ]
          },
          "metadata": {},
          "output_type": "display_data"
        },
        {
          "name": "stderr",
          "output_type": "stream",
          "text": [
            "  0%|          | 0/100 [00:00<?, ?it/s]/usr/local/lib/python3.10/dist-packages/torch/jit/_check.py:178: UserWarning: The TorchScript type system doesn't support instance-level annotations on empty non-base types in `__init__`. Instead, either 1) use a type annotation in the class body, or 2) wrap the type in `torch.jit.Attribute`.\n",
            "  warnings.warn(\n",
            "/usr/local/lib/python3.10/dist-packages/torch/jit/_check.py:178: UserWarning: The TorchScript type system doesn't support instance-level annotations on empty non-base types in `__init__`. Instead, either 1) use a type annotation in the class body, or 2) wrap the type in `torch.jit.Attribute`.\n",
            "  warnings.warn(\n",
            "/usr/local/lib/python3.10/dist-packages/torch/jit/_check.py:178: UserWarning: The TorchScript type system doesn't support instance-level annotations on empty non-base types in `__init__`. Instead, either 1) use a type annotation in the class body, or 2) wrap the type in `torch.jit.Attribute`.\n",
            "  warnings.warn(\n",
            "/usr/local/lib/python3.10/dist-packages/torch/jit/_check.py:178: UserWarning: The TorchScript type system doesn't support instance-level annotations on empty non-base types in `__init__`. Instead, either 1) use a type annotation in the class body, or 2) wrap the type in `torch.jit.Attribute`.\n",
            "  warnings.warn(\n",
            "100%|██████████| 100/100 [00:02<00:00, 41.48it/s]\n",
            "/usr/local/lib/python3.10/dist-packages/torch/jit/_check.py:178: UserWarning: The TorchScript type system doesn't support instance-level annotations on empty non-base types in `__init__`. Instead, either 1) use a type annotation in the class body, or 2) wrap the type in `torch.jit.Attribute`.\n",
            "  warnings.warn(\n",
            "/usr/local/lib/python3.10/dist-packages/torch/jit/_check.py:178: UserWarning: The TorchScript type system doesn't support instance-level annotations on empty non-base types in `__init__`. Instead, either 1) use a type annotation in the class body, or 2) wrap the type in `torch.jit.Attribute`.\n",
            "  warnings.warn(\n",
            "/usr/local/lib/python3.10/dist-packages/torch/jit/_check.py:178: UserWarning: The TorchScript type system doesn't support instance-level annotations on empty non-base types in `__init__`. Instead, either 1) use a type annotation in the class body, or 2) wrap the type in `torch.jit.Attribute`.\n",
            "  warnings.warn(\n"
          ]
        },
        {
          "data": {
            "application/vnd.jupyter.widget-view+json": {
              "model_id": "35d1bf83ff0e42299b16afc722ba620c",
              "version_major": 2,
              "version_minor": 0
            },
            "text/plain": [
              "VBox(children=(Label(value='1.731 MB of 1.731 MB uploaded\\r'), FloatProgress(value=1.0, max=1.0)))"
            ]
          },
          "metadata": {},
          "output_type": "display_data"
        },
        {
          "data": {
            "text/html": [
              "<style>\n",
              "    table.wandb td:nth-child(1) { padding: 0 10px; text-align: left ; width: auto;} td:nth-child(2) {text-align: left ; width: 100%}\n",
              "    .wandb-row { display: flex; flex-direction: row; flex-wrap: wrap; justify-content: flex-start; width: 100% }\n",
              "    .wandb-col { display: flex; flex-direction: column; flex-basis: 100%; flex: 1; padding: 10px; }\n",
              "    </style>\n",
              "<div class=\"wandb-row\"><div class=\"wandb-col\"><h3>Run history:</h3><br/><table class=\"wandb\"><tr><td>gcn/accuracy</td><td>▁</td></tr><tr><td>gcn/loss</td><td>██████▇▇▇▇▇▇▇▆▆▆▆▆▅▅▅▅▄▅▄▄▄▄▃▃▃▃▂▂▂▂▂▁▁▁</td></tr></table><br/></div><div class=\"wandb-col\"><h3>Run summary:</h3><br/><table class=\"wandb\"><tr><td>gcn/accuracy</td><td>0.656</td></tr><tr><td>gcn/loss</td><td>1.88279</td></tr></table><br/></div></div>"
            ],
            "text/plain": [
              "<IPython.core.display.HTML object>"
            ]
          },
          "metadata": {},
          "output_type": "display_data"
        },
        {
          "data": {
            "text/html": [
              " View run <strong style=\"color:#cdcd00\">celestial-sweep-13</strong> at: <a href='https://wandb.ai/vezenbu-korea-advanced-institute-of-science-and-technology/node-classification/runs/ep74qcev' target=\"_blank\">https://wandb.ai/vezenbu-korea-advanced-institute-of-science-and-technology/node-classification/runs/ep74qcev</a><br/> View project at: <a href='https://wandb.ai/vezenbu-korea-advanced-institute-of-science-and-technology/node-classification' target=\"_blank\">https://wandb.ai/vezenbu-korea-advanced-institute-of-science-and-technology/node-classification</a><br/>Synced 5 W&B file(s), 0 media file(s), 4 artifact file(s) and 2 other file(s)"
            ],
            "text/plain": [
              "<IPython.core.display.HTML object>"
            ]
          },
          "metadata": {},
          "output_type": "display_data"
        },
        {
          "data": {
            "text/html": [
              "Find logs at: <code>./wandb/run-20241031_073544-ep74qcev/logs</code>"
            ],
            "text/plain": [
              "<IPython.core.display.HTML object>"
            ]
          },
          "metadata": {},
          "output_type": "display_data"
        },
        {
          "name": "stderr",
          "output_type": "stream",
          "text": [
            "\u001b[34m\u001b[1mwandb\u001b[0m: Agent Starting Run: 5zgu4gin with config:\n",
            "\u001b[34m\u001b[1mwandb\u001b[0m: \thidden_channels: 8\n",
            "\u001b[34m\u001b[1mwandb\u001b[0m: \tlr: 0.0008726137547272673\n",
            "\u001b[34m\u001b[1mwandb\u001b[0m: \tweight_decay: 0.0005014146862740249\n"
          ]
        },
        {
          "data": {
            "text/html": [
              "Tracking run with wandb version 0.18.5"
            ],
            "text/plain": [
              "<IPython.core.display.HTML object>"
            ]
          },
          "metadata": {},
          "output_type": "display_data"
        },
        {
          "data": {
            "text/html": [
              "Run data is saved locally in <code>/root/raw_torch_for_scatter/pyg_examples/wandb/run-20241031_073601-5zgu4gin</code>"
            ],
            "text/plain": [
              "<IPython.core.display.HTML object>"
            ]
          },
          "metadata": {},
          "output_type": "display_data"
        },
        {
          "data": {
            "text/html": [
              "Syncing run <strong><a href='https://wandb.ai/vezenbu-korea-advanced-institute-of-science-and-technology/node-classification/runs/5zgu4gin' target=\"_blank\">treasured-sweep-14</a></strong> to <a href='https://wandb.ai/vezenbu-korea-advanced-institute-of-science-and-technology/node-classification' target=\"_blank\">Weights & Biases</a> (<a href='https://wandb.me/run' target=\"_blank\">docs</a>)<br/>Sweep page: <a href='https://wandb.ai/vezenbu-korea-advanced-institute-of-science-and-technology/node-classification/sweeps/vk9i6qwp' target=\"_blank\">https://wandb.ai/vezenbu-korea-advanced-institute-of-science-and-technology/node-classification/sweeps/vk9i6qwp</a>"
            ],
            "text/plain": [
              "<IPython.core.display.HTML object>"
            ]
          },
          "metadata": {},
          "output_type": "display_data"
        },
        {
          "data": {
            "text/html": [
              " View project at <a href='https://wandb.ai/vezenbu-korea-advanced-institute-of-science-and-technology/node-classification' target=\"_blank\">https://wandb.ai/vezenbu-korea-advanced-institute-of-science-and-technology/node-classification</a>"
            ],
            "text/plain": [
              "<IPython.core.display.HTML object>"
            ]
          },
          "metadata": {},
          "output_type": "display_data"
        },
        {
          "data": {
            "text/html": [
              " View sweep at <a href='https://wandb.ai/vezenbu-korea-advanced-institute-of-science-and-technology/node-classification/sweeps/vk9i6qwp' target=\"_blank\">https://wandb.ai/vezenbu-korea-advanced-institute-of-science-and-technology/node-classification/sweeps/vk9i6qwp</a>"
            ],
            "text/plain": [
              "<IPython.core.display.HTML object>"
            ]
          },
          "metadata": {},
          "output_type": "display_data"
        },
        {
          "data": {
            "text/html": [
              " View run at <a href='https://wandb.ai/vezenbu-korea-advanced-institute-of-science-and-technology/node-classification/runs/5zgu4gin' target=\"_blank\">https://wandb.ai/vezenbu-korea-advanced-institute-of-science-and-technology/node-classification/runs/5zgu4gin</a>"
            ],
            "text/plain": [
              "<IPython.core.display.HTML object>"
            ]
          },
          "metadata": {},
          "output_type": "display_data"
        },
        {
          "name": "stderr",
          "output_type": "stream",
          "text": [
            "  0%|          | 0/100 [00:00<?, ?it/s]/usr/local/lib/python3.10/dist-packages/torch/jit/_check.py:178: UserWarning: The TorchScript type system doesn't support instance-level annotations on empty non-base types in `__init__`. Instead, either 1) use a type annotation in the class body, or 2) wrap the type in `torch.jit.Attribute`.\n",
            "  warnings.warn(\n",
            "/usr/local/lib/python3.10/dist-packages/torch/jit/_check.py:178: UserWarning: The TorchScript type system doesn't support instance-level annotations on empty non-base types in `__init__`. Instead, either 1) use a type annotation in the class body, or 2) wrap the type in `torch.jit.Attribute`.\n",
            "  warnings.warn(\n",
            "/usr/local/lib/python3.10/dist-packages/torch/jit/_check.py:178: UserWarning: The TorchScript type system doesn't support instance-level annotations on empty non-base types in `__init__`. Instead, either 1) use a type annotation in the class body, or 2) wrap the type in `torch.jit.Attribute`.\n",
            "  warnings.warn(\n",
            "/usr/local/lib/python3.10/dist-packages/torch/jit/_check.py:178: UserWarning: The TorchScript type system doesn't support instance-level annotations on empty non-base types in `__init__`. Instead, either 1) use a type annotation in the class body, or 2) wrap the type in `torch.jit.Attribute`.\n",
            "  warnings.warn(\n",
            "100%|██████████| 100/100 [00:02<00:00, 41.89it/s]\n",
            "/usr/local/lib/python3.10/dist-packages/torch/jit/_check.py:178: UserWarning: The TorchScript type system doesn't support instance-level annotations on empty non-base types in `__init__`. Instead, either 1) use a type annotation in the class body, or 2) wrap the type in `torch.jit.Attribute`.\n",
            "  warnings.warn(\n",
            "/usr/local/lib/python3.10/dist-packages/torch/jit/_check.py:178: UserWarning: The TorchScript type system doesn't support instance-level annotations on empty non-base types in `__init__`. Instead, either 1) use a type annotation in the class body, or 2) wrap the type in `torch.jit.Attribute`.\n",
            "  warnings.warn(\n",
            "/usr/local/lib/python3.10/dist-packages/torch/jit/_check.py:178: UserWarning: The TorchScript type system doesn't support instance-level annotations on empty non-base types in `__init__`. Instead, either 1) use a type annotation in the class body, or 2) wrap the type in `torch.jit.Attribute`.\n",
            "  warnings.warn(\n"
          ]
        },
        {
          "data": {
            "application/vnd.jupyter.widget-view+json": {
              "model_id": "2c1faf79e3194c5ab15530587c617319",
              "version_major": 2,
              "version_minor": 0
            },
            "text/plain": [
              "VBox(children=(Label(value='1.730 MB of 1.730 MB uploaded\\r'), FloatProgress(value=1.0, max=1.0)))"
            ]
          },
          "metadata": {},
          "output_type": "display_data"
        },
        {
          "data": {
            "text/html": [
              "<style>\n",
              "    table.wandb td:nth-child(1) { padding: 0 10px; text-align: left ; width: auto;} td:nth-child(2) {text-align: left ; width: 100%}\n",
              "    .wandb-row { display: flex; flex-direction: row; flex-wrap: wrap; justify-content: flex-start; width: 100% }\n",
              "    .wandb-col { display: flex; flex-direction: column; flex-basis: 100%; flex: 1; padding: 10px; }\n",
              "    </style>\n",
              "<div class=\"wandb-row\"><div class=\"wandb-col\"><h3>Run history:</h3><br/><table class=\"wandb\"><tr><td>gcn/accuracy</td><td>▁</td></tr><tr><td>gcn/loss</td><td>██████▇▇▇▇▇▇▇▇▆▆▆▆▅▅▅▅▅▅▄▄▅▄▄▄▃▃▃▃▃▃▂▁▂▁</td></tr></table><br/></div><div class=\"wandb-col\"><h3>Run summary:</h3><br/><table class=\"wandb\"><tr><td>gcn/accuracy</td><td>0.66</td></tr><tr><td>gcn/loss</td><td>1.87737</td></tr></table><br/></div></div>"
            ],
            "text/plain": [
              "<IPython.core.display.HTML object>"
            ]
          },
          "metadata": {},
          "output_type": "display_data"
        },
        {
          "data": {
            "text/html": [
              " View run <strong style=\"color:#cdcd00\">treasured-sweep-14</strong> at: <a href='https://wandb.ai/vezenbu-korea-advanced-institute-of-science-and-technology/node-classification/runs/5zgu4gin' target=\"_blank\">https://wandb.ai/vezenbu-korea-advanced-institute-of-science-and-technology/node-classification/runs/5zgu4gin</a><br/> View project at: <a href='https://wandb.ai/vezenbu-korea-advanced-institute-of-science-and-technology/node-classification' target=\"_blank\">https://wandb.ai/vezenbu-korea-advanced-institute-of-science-and-technology/node-classification</a><br/>Synced 5 W&B file(s), 0 media file(s), 4 artifact file(s) and 2 other file(s)"
            ],
            "text/plain": [
              "<IPython.core.display.HTML object>"
            ]
          },
          "metadata": {},
          "output_type": "display_data"
        },
        {
          "data": {
            "text/html": [
              "Find logs at: <code>./wandb/run-20241031_073601-5zgu4gin/logs</code>"
            ],
            "text/plain": [
              "<IPython.core.display.HTML object>"
            ]
          },
          "metadata": {},
          "output_type": "display_data"
        },
        {
          "name": "stderr",
          "output_type": "stream",
          "text": [
            "\u001b[34m\u001b[1mwandb\u001b[0m: Agent Starting Run: t0eaahye with config:\n",
            "\u001b[34m\u001b[1mwandb\u001b[0m: \thidden_channels: 8\n",
            "\u001b[34m\u001b[1mwandb\u001b[0m: \tlr: 0.0009546604901549074\n",
            "\u001b[34m\u001b[1mwandb\u001b[0m: \tweight_decay: 0.0005000207450728102\n"
          ]
        },
        {
          "data": {
            "text/html": [
              "Tracking run with wandb version 0.18.5"
            ],
            "text/plain": [
              "<IPython.core.display.HTML object>"
            ]
          },
          "metadata": {},
          "output_type": "display_data"
        },
        {
          "data": {
            "text/html": [
              "Run data is saved locally in <code>/root/raw_torch_for_scatter/pyg_examples/wandb/run-20241031_073617-t0eaahye</code>"
            ],
            "text/plain": [
              "<IPython.core.display.HTML object>"
            ]
          },
          "metadata": {},
          "output_type": "display_data"
        },
        {
          "data": {
            "text/html": [
              "Syncing run <strong><a href='https://wandb.ai/vezenbu-korea-advanced-institute-of-science-and-technology/node-classification/runs/t0eaahye' target=\"_blank\">eternal-sweep-15</a></strong> to <a href='https://wandb.ai/vezenbu-korea-advanced-institute-of-science-and-technology/node-classification' target=\"_blank\">Weights & Biases</a> (<a href='https://wandb.me/run' target=\"_blank\">docs</a>)<br/>Sweep page: <a href='https://wandb.ai/vezenbu-korea-advanced-institute-of-science-and-technology/node-classification/sweeps/vk9i6qwp' target=\"_blank\">https://wandb.ai/vezenbu-korea-advanced-institute-of-science-and-technology/node-classification/sweeps/vk9i6qwp</a>"
            ],
            "text/plain": [
              "<IPython.core.display.HTML object>"
            ]
          },
          "metadata": {},
          "output_type": "display_data"
        },
        {
          "data": {
            "text/html": [
              " View project at <a href='https://wandb.ai/vezenbu-korea-advanced-institute-of-science-and-technology/node-classification' target=\"_blank\">https://wandb.ai/vezenbu-korea-advanced-institute-of-science-and-technology/node-classification</a>"
            ],
            "text/plain": [
              "<IPython.core.display.HTML object>"
            ]
          },
          "metadata": {},
          "output_type": "display_data"
        },
        {
          "data": {
            "text/html": [
              " View sweep at <a href='https://wandb.ai/vezenbu-korea-advanced-institute-of-science-and-technology/node-classification/sweeps/vk9i6qwp' target=\"_blank\">https://wandb.ai/vezenbu-korea-advanced-institute-of-science-and-technology/node-classification/sweeps/vk9i6qwp</a>"
            ],
            "text/plain": [
              "<IPython.core.display.HTML object>"
            ]
          },
          "metadata": {},
          "output_type": "display_data"
        },
        {
          "data": {
            "text/html": [
              " View run at <a href='https://wandb.ai/vezenbu-korea-advanced-institute-of-science-and-technology/node-classification/runs/t0eaahye' target=\"_blank\">https://wandb.ai/vezenbu-korea-advanced-institute-of-science-and-technology/node-classification/runs/t0eaahye</a>"
            ],
            "text/plain": [
              "<IPython.core.display.HTML object>"
            ]
          },
          "metadata": {},
          "output_type": "display_data"
        },
        {
          "name": "stderr",
          "output_type": "stream",
          "text": [
            "  0%|          | 0/100 [00:00<?, ?it/s]/usr/local/lib/python3.10/dist-packages/torch/jit/_check.py:178: UserWarning: The TorchScript type system doesn't support instance-level annotations on empty non-base types in `__init__`. Instead, either 1) use a type annotation in the class body, or 2) wrap the type in `torch.jit.Attribute`.\n",
            "  warnings.warn(\n",
            "/usr/local/lib/python3.10/dist-packages/torch/jit/_check.py:178: UserWarning: The TorchScript type system doesn't support instance-level annotations on empty non-base types in `__init__`. Instead, either 1) use a type annotation in the class body, or 2) wrap the type in `torch.jit.Attribute`.\n",
            "  warnings.warn(\n",
            "/usr/local/lib/python3.10/dist-packages/torch/jit/_check.py:178: UserWarning: The TorchScript type system doesn't support instance-level annotations on empty non-base types in `__init__`. Instead, either 1) use a type annotation in the class body, or 2) wrap the type in `torch.jit.Attribute`.\n",
            "  warnings.warn(\n",
            "/usr/local/lib/python3.10/dist-packages/torch/jit/_check.py:178: UserWarning: The TorchScript type system doesn't support instance-level annotations on empty non-base types in `__init__`. Instead, either 1) use a type annotation in the class body, or 2) wrap the type in `torch.jit.Attribute`.\n",
            "  warnings.warn(\n",
            "100%|██████████| 100/100 [00:02<00:00, 41.83it/s]\n",
            "/usr/local/lib/python3.10/dist-packages/torch/jit/_check.py:178: UserWarning: The TorchScript type system doesn't support instance-level annotations on empty non-base types in `__init__`. Instead, either 1) use a type annotation in the class body, or 2) wrap the type in `torch.jit.Attribute`.\n",
            "  warnings.warn(\n",
            "/usr/local/lib/python3.10/dist-packages/torch/jit/_check.py:178: UserWarning: The TorchScript type system doesn't support instance-level annotations on empty non-base types in `__init__`. Instead, either 1) use a type annotation in the class body, or 2) wrap the type in `torch.jit.Attribute`.\n",
            "  warnings.warn(\n",
            "/usr/local/lib/python3.10/dist-packages/torch/jit/_check.py:178: UserWarning: The TorchScript type system doesn't support instance-level annotations on empty non-base types in `__init__`. Instead, either 1) use a type annotation in the class body, or 2) wrap the type in `torch.jit.Attribute`.\n",
            "  warnings.warn(\n"
          ]
        },
        {
          "data": {
            "application/vnd.jupyter.widget-view+json": {
              "model_id": "5c233d75f6894b578a5e6b33e6a4dd0f",
              "version_major": 2,
              "version_minor": 0
            },
            "text/plain": [
              "VBox(children=(Label(value='1.729 MB of 1.729 MB uploaded\\r'), FloatProgress(value=1.0, max=1.0)))"
            ]
          },
          "metadata": {},
          "output_type": "display_data"
        },
        {
          "data": {
            "text/html": [
              "<style>\n",
              "    table.wandb td:nth-child(1) { padding: 0 10px; text-align: left ; width: auto;} td:nth-child(2) {text-align: left ; width: 100%}\n",
              "    .wandb-row { display: flex; flex-direction: row; flex-wrap: wrap; justify-content: flex-start; width: 100% }\n",
              "    .wandb-col { display: flex; flex-direction: column; flex-basis: 100%; flex: 1; padding: 10px; }\n",
              "    </style>\n",
              "<div class=\"wandb-row\"><div class=\"wandb-col\"><h3>Run history:</h3><br/><table class=\"wandb\"><tr><td>gcn/accuracy</td><td>▁</td></tr><tr><td>gcn/loss</td><td>█████▇▇▇▇▇▇▇▇▇▇▆▆▆▆▆▅▅▅▅▅▄▄▄▃▃▄▃▃▃▃▂▂▂▂▁</td></tr></table><br/></div><div class=\"wandb-col\"><h3>Run summary:</h3><br/><table class=\"wandb\"><tr><td>gcn/accuracy</td><td>0.66</td></tr><tr><td>gcn/loss</td><td>1.87072</td></tr></table><br/></div></div>"
            ],
            "text/plain": [
              "<IPython.core.display.HTML object>"
            ]
          },
          "metadata": {},
          "output_type": "display_data"
        },
        {
          "data": {
            "text/html": [
              " View run <strong style=\"color:#cdcd00\">eternal-sweep-15</strong> at: <a href='https://wandb.ai/vezenbu-korea-advanced-institute-of-science-and-technology/node-classification/runs/t0eaahye' target=\"_blank\">https://wandb.ai/vezenbu-korea-advanced-institute-of-science-and-technology/node-classification/runs/t0eaahye</a><br/> View project at: <a href='https://wandb.ai/vezenbu-korea-advanced-institute-of-science-and-technology/node-classification' target=\"_blank\">https://wandb.ai/vezenbu-korea-advanced-institute-of-science-and-technology/node-classification</a><br/>Synced 5 W&B file(s), 0 media file(s), 4 artifact file(s) and 2 other file(s)"
            ],
            "text/plain": [
              "<IPython.core.display.HTML object>"
            ]
          },
          "metadata": {},
          "output_type": "display_data"
        },
        {
          "data": {
            "text/html": [
              "Find logs at: <code>./wandb/run-20241031_073617-t0eaahye/logs</code>"
            ],
            "text/plain": [
              "<IPython.core.display.HTML object>"
            ]
          },
          "metadata": {},
          "output_type": "display_data"
        },
        {
          "name": "stderr",
          "output_type": "stream",
          "text": [
            "\u001b[34m\u001b[1mwandb\u001b[0m: Agent Starting Run: llzqqgxv with config:\n",
            "\u001b[34m\u001b[1mwandb\u001b[0m: \thidden_channels: 8\n",
            "\u001b[34m\u001b[1mwandb\u001b[0m: \tlr: 0.0008921560669542675\n",
            "\u001b[34m\u001b[1mwandb\u001b[0m: \tweight_decay: 0.0004968175438521258\n"
          ]
        },
        {
          "data": {
            "text/html": [
              "Tracking run with wandb version 0.18.5"
            ],
            "text/plain": [
              "<IPython.core.display.HTML object>"
            ]
          },
          "metadata": {},
          "output_type": "display_data"
        },
        {
          "data": {
            "text/html": [
              "Run data is saved locally in <code>/root/raw_torch_for_scatter/pyg_examples/wandb/run-20241031_073633-llzqqgxv</code>"
            ],
            "text/plain": [
              "<IPython.core.display.HTML object>"
            ]
          },
          "metadata": {},
          "output_type": "display_data"
        },
        {
          "data": {
            "text/html": [
              "Syncing run <strong><a href='https://wandb.ai/vezenbu-korea-advanced-institute-of-science-and-technology/node-classification/runs/llzqqgxv' target=\"_blank\">drawn-sweep-16</a></strong> to <a href='https://wandb.ai/vezenbu-korea-advanced-institute-of-science-and-technology/node-classification' target=\"_blank\">Weights & Biases</a> (<a href='https://wandb.me/run' target=\"_blank\">docs</a>)<br/>Sweep page: <a href='https://wandb.ai/vezenbu-korea-advanced-institute-of-science-and-technology/node-classification/sweeps/vk9i6qwp' target=\"_blank\">https://wandb.ai/vezenbu-korea-advanced-institute-of-science-and-technology/node-classification/sweeps/vk9i6qwp</a>"
            ],
            "text/plain": [
              "<IPython.core.display.HTML object>"
            ]
          },
          "metadata": {},
          "output_type": "display_data"
        },
        {
          "data": {
            "text/html": [
              " View project at <a href='https://wandb.ai/vezenbu-korea-advanced-institute-of-science-and-technology/node-classification' target=\"_blank\">https://wandb.ai/vezenbu-korea-advanced-institute-of-science-and-technology/node-classification</a>"
            ],
            "text/plain": [
              "<IPython.core.display.HTML object>"
            ]
          },
          "metadata": {},
          "output_type": "display_data"
        },
        {
          "data": {
            "text/html": [
              " View sweep at <a href='https://wandb.ai/vezenbu-korea-advanced-institute-of-science-and-technology/node-classification/sweeps/vk9i6qwp' target=\"_blank\">https://wandb.ai/vezenbu-korea-advanced-institute-of-science-and-technology/node-classification/sweeps/vk9i6qwp</a>"
            ],
            "text/plain": [
              "<IPython.core.display.HTML object>"
            ]
          },
          "metadata": {},
          "output_type": "display_data"
        },
        {
          "data": {
            "text/html": [
              " View run at <a href='https://wandb.ai/vezenbu-korea-advanced-institute-of-science-and-technology/node-classification/runs/llzqqgxv' target=\"_blank\">https://wandb.ai/vezenbu-korea-advanced-institute-of-science-and-technology/node-classification/runs/llzqqgxv</a>"
            ],
            "text/plain": [
              "<IPython.core.display.HTML object>"
            ]
          },
          "metadata": {},
          "output_type": "display_data"
        },
        {
          "name": "stderr",
          "output_type": "stream",
          "text": [
            "  0%|          | 0/100 [00:00<?, ?it/s]/usr/local/lib/python3.10/dist-packages/torch/jit/_check.py:178: UserWarning: The TorchScript type system doesn't support instance-level annotations on empty non-base types in `__init__`. Instead, either 1) use a type annotation in the class body, or 2) wrap the type in `torch.jit.Attribute`.\n",
            "  warnings.warn(\n",
            "/usr/local/lib/python3.10/dist-packages/torch/jit/_check.py:178: UserWarning: The TorchScript type system doesn't support instance-level annotations on empty non-base types in `__init__`. Instead, either 1) use a type annotation in the class body, or 2) wrap the type in `torch.jit.Attribute`.\n",
            "  warnings.warn(\n",
            "/usr/local/lib/python3.10/dist-packages/torch/jit/_check.py:178: UserWarning: The TorchScript type system doesn't support instance-level annotations on empty non-base types in `__init__`. Instead, either 1) use a type annotation in the class body, or 2) wrap the type in `torch.jit.Attribute`.\n",
            "  warnings.warn(\n",
            "/usr/local/lib/python3.10/dist-packages/torch/jit/_check.py:178: UserWarning: The TorchScript type system doesn't support instance-level annotations on empty non-base types in `__init__`. Instead, either 1) use a type annotation in the class body, or 2) wrap the type in `torch.jit.Attribute`.\n",
            "  warnings.warn(\n",
            "100%|██████████| 100/100 [00:02<00:00, 41.27it/s]\n",
            "/usr/local/lib/python3.10/dist-packages/torch/jit/_check.py:178: UserWarning: The TorchScript type system doesn't support instance-level annotations on empty non-base types in `__init__`. Instead, either 1) use a type annotation in the class body, or 2) wrap the type in `torch.jit.Attribute`.\n",
            "  warnings.warn(\n",
            "/usr/local/lib/python3.10/dist-packages/torch/jit/_check.py:178: UserWarning: The TorchScript type system doesn't support instance-level annotations on empty non-base types in `__init__`. Instead, either 1) use a type annotation in the class body, or 2) wrap the type in `torch.jit.Attribute`.\n",
            "  warnings.warn(\n",
            "/usr/local/lib/python3.10/dist-packages/torch/jit/_check.py:178: UserWarning: The TorchScript type system doesn't support instance-level annotations on empty non-base types in `__init__`. Instead, either 1) use a type annotation in the class body, or 2) wrap the type in `torch.jit.Attribute`.\n",
            "  warnings.warn(\n"
          ]
        },
        {
          "data": {
            "application/vnd.jupyter.widget-view+json": {
              "model_id": "cdeb938bcb674bb4b9aff1b13fbb7db4",
              "version_major": 2,
              "version_minor": 0
            },
            "text/plain": [
              "VBox(children=(Label(value='1.730 MB of 1.730 MB uploaded\\r'), FloatProgress(value=1.0, max=1.0)))"
            ]
          },
          "metadata": {},
          "output_type": "display_data"
        },
        {
          "data": {
            "text/html": [
              "<style>\n",
              "    table.wandb td:nth-child(1) { padding: 0 10px; text-align: left ; width: auto;} td:nth-child(2) {text-align: left ; width: 100%}\n",
              "    .wandb-row { display: flex; flex-direction: row; flex-wrap: wrap; justify-content: flex-start; width: 100% }\n",
              "    .wandb-col { display: flex; flex-direction: column; flex-basis: 100%; flex: 1; padding: 10px; }\n",
              "    </style>\n",
              "<div class=\"wandb-row\"><div class=\"wandb-col\"><h3>Run history:</h3><br/><table class=\"wandb\"><tr><td>gcn/accuracy</td><td>▁</td></tr><tr><td>gcn/loss</td><td>██████▇▇▇▇▇▇▇▆▆▆▆▆▅▅▅▅▅▅▄▄▄▄▄▃▄▃▃▃▃▃▂▂▂▁</td></tr></table><br/></div><div class=\"wandb-col\"><h3>Run summary:</h3><br/><table class=\"wandb\"><tr><td>gcn/accuracy</td><td>0.658</td></tr><tr><td>gcn/loss</td><td>1.87534</td></tr></table><br/></div></div>"
            ],
            "text/plain": [
              "<IPython.core.display.HTML object>"
            ]
          },
          "metadata": {},
          "output_type": "display_data"
        },
        {
          "data": {
            "text/html": [
              " View run <strong style=\"color:#cdcd00\">drawn-sweep-16</strong> at: <a href='https://wandb.ai/vezenbu-korea-advanced-institute-of-science-and-technology/node-classification/runs/llzqqgxv' target=\"_blank\">https://wandb.ai/vezenbu-korea-advanced-institute-of-science-and-technology/node-classification/runs/llzqqgxv</a><br/> View project at: <a href='https://wandb.ai/vezenbu-korea-advanced-institute-of-science-and-technology/node-classification' target=\"_blank\">https://wandb.ai/vezenbu-korea-advanced-institute-of-science-and-technology/node-classification</a><br/>Synced 5 W&B file(s), 0 media file(s), 4 artifact file(s) and 2 other file(s)"
            ],
            "text/plain": [
              "<IPython.core.display.HTML object>"
            ]
          },
          "metadata": {},
          "output_type": "display_data"
        },
        {
          "data": {
            "text/html": [
              "Find logs at: <code>./wandb/run-20241031_073633-llzqqgxv/logs</code>"
            ],
            "text/plain": [
              "<IPython.core.display.HTML object>"
            ]
          },
          "metadata": {},
          "output_type": "display_data"
        },
        {
          "name": "stderr",
          "output_type": "stream",
          "text": [
            "\u001b[34m\u001b[1mwandb\u001b[0m: Agent Starting Run: 8yndgk5h with config:\n",
            "\u001b[34m\u001b[1mwandb\u001b[0m: \thidden_channels: 8\n",
            "\u001b[34m\u001b[1mwandb\u001b[0m: \tlr: 0.0008967103258416532\n",
            "\u001b[34m\u001b[1mwandb\u001b[0m: \tweight_decay: 0.0004994718354360021\n"
          ]
        },
        {
          "data": {
            "text/html": [
              "Tracking run with wandb version 0.18.5"
            ],
            "text/plain": [
              "<IPython.core.display.HTML object>"
            ]
          },
          "metadata": {},
          "output_type": "display_data"
        },
        {
          "data": {
            "text/html": [
              "Run data is saved locally in <code>/root/raw_torch_for_scatter/pyg_examples/wandb/run-20241031_073649-8yndgk5h</code>"
            ],
            "text/plain": [
              "<IPython.core.display.HTML object>"
            ]
          },
          "metadata": {},
          "output_type": "display_data"
        },
        {
          "data": {
            "text/html": [
              "Syncing run <strong><a href='https://wandb.ai/vezenbu-korea-advanced-institute-of-science-and-technology/node-classification/runs/8yndgk5h' target=\"_blank\">giddy-sweep-17</a></strong> to <a href='https://wandb.ai/vezenbu-korea-advanced-institute-of-science-and-technology/node-classification' target=\"_blank\">Weights & Biases</a> (<a href='https://wandb.me/run' target=\"_blank\">docs</a>)<br/>Sweep page: <a href='https://wandb.ai/vezenbu-korea-advanced-institute-of-science-and-technology/node-classification/sweeps/vk9i6qwp' target=\"_blank\">https://wandb.ai/vezenbu-korea-advanced-institute-of-science-and-technology/node-classification/sweeps/vk9i6qwp</a>"
            ],
            "text/plain": [
              "<IPython.core.display.HTML object>"
            ]
          },
          "metadata": {},
          "output_type": "display_data"
        },
        {
          "data": {
            "text/html": [
              " View project at <a href='https://wandb.ai/vezenbu-korea-advanced-institute-of-science-and-technology/node-classification' target=\"_blank\">https://wandb.ai/vezenbu-korea-advanced-institute-of-science-and-technology/node-classification</a>"
            ],
            "text/plain": [
              "<IPython.core.display.HTML object>"
            ]
          },
          "metadata": {},
          "output_type": "display_data"
        },
        {
          "data": {
            "text/html": [
              " View sweep at <a href='https://wandb.ai/vezenbu-korea-advanced-institute-of-science-and-technology/node-classification/sweeps/vk9i6qwp' target=\"_blank\">https://wandb.ai/vezenbu-korea-advanced-institute-of-science-and-technology/node-classification/sweeps/vk9i6qwp</a>"
            ],
            "text/plain": [
              "<IPython.core.display.HTML object>"
            ]
          },
          "metadata": {},
          "output_type": "display_data"
        },
        {
          "data": {
            "text/html": [
              " View run at <a href='https://wandb.ai/vezenbu-korea-advanced-institute-of-science-and-technology/node-classification/runs/8yndgk5h' target=\"_blank\">https://wandb.ai/vezenbu-korea-advanced-institute-of-science-and-technology/node-classification/runs/8yndgk5h</a>"
            ],
            "text/plain": [
              "<IPython.core.display.HTML object>"
            ]
          },
          "metadata": {},
          "output_type": "display_data"
        },
        {
          "name": "stderr",
          "output_type": "stream",
          "text": [
            "  0%|          | 0/100 [00:00<?, ?it/s]/usr/local/lib/python3.10/dist-packages/torch/jit/_check.py:178: UserWarning: The TorchScript type system doesn't support instance-level annotations on empty non-base types in `__init__`. Instead, either 1) use a type annotation in the class body, or 2) wrap the type in `torch.jit.Attribute`.\n",
            "  warnings.warn(\n",
            "/usr/local/lib/python3.10/dist-packages/torch/jit/_check.py:178: UserWarning: The TorchScript type system doesn't support instance-level annotations on empty non-base types in `__init__`. Instead, either 1) use a type annotation in the class body, or 2) wrap the type in `torch.jit.Attribute`.\n",
            "  warnings.warn(\n",
            "/usr/local/lib/python3.10/dist-packages/torch/jit/_check.py:178: UserWarning: The TorchScript type system doesn't support instance-level annotations on empty non-base types in `__init__`. Instead, either 1) use a type annotation in the class body, or 2) wrap the type in `torch.jit.Attribute`.\n",
            "  warnings.warn(\n",
            "/usr/local/lib/python3.10/dist-packages/torch/jit/_check.py:178: UserWarning: The TorchScript type system doesn't support instance-level annotations on empty non-base types in `__init__`. Instead, either 1) use a type annotation in the class body, or 2) wrap the type in `torch.jit.Attribute`.\n",
            "  warnings.warn(\n",
            "100%|██████████| 100/100 [00:02<00:00, 41.36it/s]\n",
            "/usr/local/lib/python3.10/dist-packages/torch/jit/_check.py:178: UserWarning: The TorchScript type system doesn't support instance-level annotations on empty non-base types in `__init__`. Instead, either 1) use a type annotation in the class body, or 2) wrap the type in `torch.jit.Attribute`.\n",
            "  warnings.warn(\n",
            "/usr/local/lib/python3.10/dist-packages/torch/jit/_check.py:178: UserWarning: The TorchScript type system doesn't support instance-level annotations on empty non-base types in `__init__`. Instead, either 1) use a type annotation in the class body, or 2) wrap the type in `torch.jit.Attribute`.\n",
            "  warnings.warn(\n",
            "/usr/local/lib/python3.10/dist-packages/torch/jit/_check.py:178: UserWarning: The TorchScript type system doesn't support instance-level annotations on empty non-base types in `__init__`. Instead, either 1) use a type annotation in the class body, or 2) wrap the type in `torch.jit.Attribute`.\n",
            "  warnings.warn(\n"
          ]
        },
        {
          "data": {
            "application/vnd.jupyter.widget-view+json": {
              "model_id": "6ddb16038e974af0b8db86eb1c670443",
              "version_major": 2,
              "version_minor": 0
            },
            "text/plain": [
              "VBox(children=(Label(value='1.730 MB of 1.730 MB uploaded\\r'), FloatProgress(value=1.0, max=1.0)))"
            ]
          },
          "metadata": {},
          "output_type": "display_data"
        },
        {
          "data": {
            "text/html": [
              "<style>\n",
              "    table.wandb td:nth-child(1) { padding: 0 10px; text-align: left ; width: auto;} td:nth-child(2) {text-align: left ; width: 100%}\n",
              "    .wandb-row { display: flex; flex-direction: row; flex-wrap: wrap; justify-content: flex-start; width: 100% }\n",
              "    .wandb-col { display: flex; flex-direction: column; flex-basis: 100%; flex: 1; padding: 10px; }\n",
              "    </style>\n",
              "<div class=\"wandb-row\"><div class=\"wandb-col\"><h3>Run history:</h3><br/><table class=\"wandb\"><tr><td>gcn/accuracy</td><td>▁</td></tr><tr><td>gcn/loss</td><td>██████▇▇▇▇▇▇▆▆▆▆▆▆▆▆▅▅▄▄▄▄▄▄▃▃▃▃▃▂▂▂▂▂▂▁</td></tr></table><br/></div><div class=\"wandb-col\"><h3>Run summary:</h3><br/><table class=\"wandb\"><tr><td>gcn/accuracy</td><td>0.658</td></tr><tr><td>gcn/loss</td><td>1.87495</td></tr></table><br/></div></div>"
            ],
            "text/plain": [
              "<IPython.core.display.HTML object>"
            ]
          },
          "metadata": {},
          "output_type": "display_data"
        },
        {
          "data": {
            "text/html": [
              " View run <strong style=\"color:#cdcd00\">giddy-sweep-17</strong> at: <a href='https://wandb.ai/vezenbu-korea-advanced-institute-of-science-and-technology/node-classification/runs/8yndgk5h' target=\"_blank\">https://wandb.ai/vezenbu-korea-advanced-institute-of-science-and-technology/node-classification/runs/8yndgk5h</a><br/> View project at: <a href='https://wandb.ai/vezenbu-korea-advanced-institute-of-science-and-technology/node-classification' target=\"_blank\">https://wandb.ai/vezenbu-korea-advanced-institute-of-science-and-technology/node-classification</a><br/>Synced 5 W&B file(s), 0 media file(s), 4 artifact file(s) and 2 other file(s)"
            ],
            "text/plain": [
              "<IPython.core.display.HTML object>"
            ]
          },
          "metadata": {},
          "output_type": "display_data"
        },
        {
          "data": {
            "text/html": [
              "Find logs at: <code>./wandb/run-20241031_073649-8yndgk5h/logs</code>"
            ],
            "text/plain": [
              "<IPython.core.display.HTML object>"
            ]
          },
          "metadata": {},
          "output_type": "display_data"
        },
        {
          "name": "stderr",
          "output_type": "stream",
          "text": [
            "\u001b[34m\u001b[1mwandb\u001b[0m: Agent Starting Run: vqin3dvr with config:\n",
            "\u001b[34m\u001b[1mwandb\u001b[0m: \thidden_channels: 8\n",
            "\u001b[34m\u001b[1mwandb\u001b[0m: \tlr: 0.0008491239714193491\n",
            "\u001b[34m\u001b[1mwandb\u001b[0m: \tweight_decay: 0.00050176420090394\n"
          ]
        },
        {
          "data": {
            "text/html": [
              "Tracking run with wandb version 0.18.5"
            ],
            "text/plain": [
              "<IPython.core.display.HTML object>"
            ]
          },
          "metadata": {},
          "output_type": "display_data"
        },
        {
          "data": {
            "text/html": [
              "Run data is saved locally in <code>/root/raw_torch_for_scatter/pyg_examples/wandb/run-20241031_073705-vqin3dvr</code>"
            ],
            "text/plain": [
              "<IPython.core.display.HTML object>"
            ]
          },
          "metadata": {},
          "output_type": "display_data"
        },
        {
          "data": {
            "text/html": [
              "Syncing run <strong><a href='https://wandb.ai/vezenbu-korea-advanced-institute-of-science-and-technology/node-classification/runs/vqin3dvr' target=\"_blank\">flowing-sweep-18</a></strong> to <a href='https://wandb.ai/vezenbu-korea-advanced-institute-of-science-and-technology/node-classification' target=\"_blank\">Weights & Biases</a> (<a href='https://wandb.me/run' target=\"_blank\">docs</a>)<br/>Sweep page: <a href='https://wandb.ai/vezenbu-korea-advanced-institute-of-science-and-technology/node-classification/sweeps/vk9i6qwp' target=\"_blank\">https://wandb.ai/vezenbu-korea-advanced-institute-of-science-and-technology/node-classification/sweeps/vk9i6qwp</a>"
            ],
            "text/plain": [
              "<IPython.core.display.HTML object>"
            ]
          },
          "metadata": {},
          "output_type": "display_data"
        },
        {
          "data": {
            "text/html": [
              " View project at <a href='https://wandb.ai/vezenbu-korea-advanced-institute-of-science-and-technology/node-classification' target=\"_blank\">https://wandb.ai/vezenbu-korea-advanced-institute-of-science-and-technology/node-classification</a>"
            ],
            "text/plain": [
              "<IPython.core.display.HTML object>"
            ]
          },
          "metadata": {},
          "output_type": "display_data"
        },
        {
          "data": {
            "text/html": [
              " View sweep at <a href='https://wandb.ai/vezenbu-korea-advanced-institute-of-science-and-technology/node-classification/sweeps/vk9i6qwp' target=\"_blank\">https://wandb.ai/vezenbu-korea-advanced-institute-of-science-and-technology/node-classification/sweeps/vk9i6qwp</a>"
            ],
            "text/plain": [
              "<IPython.core.display.HTML object>"
            ]
          },
          "metadata": {},
          "output_type": "display_data"
        },
        {
          "data": {
            "text/html": [
              " View run at <a href='https://wandb.ai/vezenbu-korea-advanced-institute-of-science-and-technology/node-classification/runs/vqin3dvr' target=\"_blank\">https://wandb.ai/vezenbu-korea-advanced-institute-of-science-and-technology/node-classification/runs/vqin3dvr</a>"
            ],
            "text/plain": [
              "<IPython.core.display.HTML object>"
            ]
          },
          "metadata": {},
          "output_type": "display_data"
        },
        {
          "name": "stderr",
          "output_type": "stream",
          "text": [
            "  0%|          | 0/100 [00:00<?, ?it/s]/usr/local/lib/python3.10/dist-packages/torch/jit/_check.py:178: UserWarning: The TorchScript type system doesn't support instance-level annotations on empty non-base types in `__init__`. Instead, either 1) use a type annotation in the class body, or 2) wrap the type in `torch.jit.Attribute`.\n",
            "  warnings.warn(\n",
            "/usr/local/lib/python3.10/dist-packages/torch/jit/_check.py:178: UserWarning: The TorchScript type system doesn't support instance-level annotations on empty non-base types in `__init__`. Instead, either 1) use a type annotation in the class body, or 2) wrap the type in `torch.jit.Attribute`.\n",
            "  warnings.warn(\n",
            "/usr/local/lib/python3.10/dist-packages/torch/jit/_check.py:178: UserWarning: The TorchScript type system doesn't support instance-level annotations on empty non-base types in `__init__`. Instead, either 1) use a type annotation in the class body, or 2) wrap the type in `torch.jit.Attribute`.\n",
            "  warnings.warn(\n",
            "/usr/local/lib/python3.10/dist-packages/torch/jit/_check.py:178: UserWarning: The TorchScript type system doesn't support instance-level annotations on empty non-base types in `__init__`. Instead, either 1) use a type annotation in the class body, or 2) wrap the type in `torch.jit.Attribute`.\n",
            "  warnings.warn(\n",
            "100%|██████████| 100/100 [00:02<00:00, 41.81it/s]\n",
            "/usr/local/lib/python3.10/dist-packages/torch/jit/_check.py:178: UserWarning: The TorchScript type system doesn't support instance-level annotations on empty non-base types in `__init__`. Instead, either 1) use a type annotation in the class body, or 2) wrap the type in `torch.jit.Attribute`.\n",
            "  warnings.warn(\n",
            "/usr/local/lib/python3.10/dist-packages/torch/jit/_check.py:178: UserWarning: The TorchScript type system doesn't support instance-level annotations on empty non-base types in `__init__`. Instead, either 1) use a type annotation in the class body, or 2) wrap the type in `torch.jit.Attribute`.\n",
            "  warnings.warn(\n",
            "/usr/local/lib/python3.10/dist-packages/torch/jit/_check.py:178: UserWarning: The TorchScript type system doesn't support instance-level annotations on empty non-base types in `__init__`. Instead, either 1) use a type annotation in the class body, or 2) wrap the type in `torch.jit.Attribute`.\n",
            "  warnings.warn(\n"
          ]
        },
        {
          "data": {
            "application/vnd.jupyter.widget-view+json": {
              "model_id": "77b9abef59ec4eefad820117854c43a2",
              "version_major": 2,
              "version_minor": 0
            },
            "text/plain": [
              "VBox(children=(Label(value='1.731 MB of 1.731 MB uploaded\\r'), FloatProgress(value=1.0, max=1.0)))"
            ]
          },
          "metadata": {},
          "output_type": "display_data"
        },
        {
          "data": {
            "text/html": [
              "<style>\n",
              "    table.wandb td:nth-child(1) { padding: 0 10px; text-align: left ; width: auto;} td:nth-child(2) {text-align: left ; width: 100%}\n",
              "    .wandb-row { display: flex; flex-direction: row; flex-wrap: wrap; justify-content: flex-start; width: 100% }\n",
              "    .wandb-col { display: flex; flex-direction: column; flex-basis: 100%; flex: 1; padding: 10px; }\n",
              "    </style>\n",
              "<div class=\"wandb-row\"><div class=\"wandb-col\"><h3>Run history:</h3><br/><table class=\"wandb\"><tr><td>gcn/accuracy</td><td>▁</td></tr><tr><td>gcn/loss</td><td>██████▇▇▇▇▇▇▇▆▆▆▆▆▅▅▅▅▄▄▅▄▄▄▄▄▃▃▂▃▂▁▂▁▁▁</td></tr></table><br/></div><div class=\"wandb-col\"><h3>Run summary:</h3><br/><table class=\"wandb\"><tr><td>gcn/accuracy</td><td>0.658</td></tr><tr><td>gcn/loss</td><td>1.87998</td></tr></table><br/></div></div>"
            ],
            "text/plain": [
              "<IPython.core.display.HTML object>"
            ]
          },
          "metadata": {},
          "output_type": "display_data"
        },
        {
          "data": {
            "text/html": [
              " View run <strong style=\"color:#cdcd00\">flowing-sweep-18</strong> at: <a href='https://wandb.ai/vezenbu-korea-advanced-institute-of-science-and-technology/node-classification/runs/vqin3dvr' target=\"_blank\">https://wandb.ai/vezenbu-korea-advanced-institute-of-science-and-technology/node-classification/runs/vqin3dvr</a><br/> View project at: <a href='https://wandb.ai/vezenbu-korea-advanced-institute-of-science-and-technology/node-classification' target=\"_blank\">https://wandb.ai/vezenbu-korea-advanced-institute-of-science-and-technology/node-classification</a><br/>Synced 5 W&B file(s), 0 media file(s), 4 artifact file(s) and 2 other file(s)"
            ],
            "text/plain": [
              "<IPython.core.display.HTML object>"
            ]
          },
          "metadata": {},
          "output_type": "display_data"
        },
        {
          "data": {
            "text/html": [
              "Find logs at: <code>./wandb/run-20241031_073705-vqin3dvr/logs</code>"
            ],
            "text/plain": [
              "<IPython.core.display.HTML object>"
            ]
          },
          "metadata": {},
          "output_type": "display_data"
        },
        {
          "name": "stderr",
          "output_type": "stream",
          "text": [
            "\u001b[34m\u001b[1mwandb\u001b[0m: Agent Starting Run: ys19wa2t with config:\n",
            "\u001b[34m\u001b[1mwandb\u001b[0m: \thidden_channels: 8\n",
            "\u001b[34m\u001b[1mwandb\u001b[0m: \tlr: 0.0009485464329818946\n",
            "\u001b[34m\u001b[1mwandb\u001b[0m: \tweight_decay: 0.0005039334620738972\n"
          ]
        },
        {
          "data": {
            "text/html": [
              "Tracking run with wandb version 0.18.5"
            ],
            "text/plain": [
              "<IPython.core.display.HTML object>"
            ]
          },
          "metadata": {},
          "output_type": "display_data"
        },
        {
          "data": {
            "text/html": [
              "Run data is saved locally in <code>/root/raw_torch_for_scatter/pyg_examples/wandb/run-20241031_073721-ys19wa2t</code>"
            ],
            "text/plain": [
              "<IPython.core.display.HTML object>"
            ]
          },
          "metadata": {},
          "output_type": "display_data"
        },
        {
          "data": {
            "text/html": [
              "Syncing run <strong><a href='https://wandb.ai/vezenbu-korea-advanced-institute-of-science-and-technology/node-classification/runs/ys19wa2t' target=\"_blank\">stellar-sweep-19</a></strong> to <a href='https://wandb.ai/vezenbu-korea-advanced-institute-of-science-and-technology/node-classification' target=\"_blank\">Weights & Biases</a> (<a href='https://wandb.me/run' target=\"_blank\">docs</a>)<br/>Sweep page: <a href='https://wandb.ai/vezenbu-korea-advanced-institute-of-science-and-technology/node-classification/sweeps/vk9i6qwp' target=\"_blank\">https://wandb.ai/vezenbu-korea-advanced-institute-of-science-and-technology/node-classification/sweeps/vk9i6qwp</a>"
            ],
            "text/plain": [
              "<IPython.core.display.HTML object>"
            ]
          },
          "metadata": {},
          "output_type": "display_data"
        },
        {
          "data": {
            "text/html": [
              " View project at <a href='https://wandb.ai/vezenbu-korea-advanced-institute-of-science-and-technology/node-classification' target=\"_blank\">https://wandb.ai/vezenbu-korea-advanced-institute-of-science-and-technology/node-classification</a>"
            ],
            "text/plain": [
              "<IPython.core.display.HTML object>"
            ]
          },
          "metadata": {},
          "output_type": "display_data"
        },
        {
          "data": {
            "text/html": [
              " View sweep at <a href='https://wandb.ai/vezenbu-korea-advanced-institute-of-science-and-technology/node-classification/sweeps/vk9i6qwp' target=\"_blank\">https://wandb.ai/vezenbu-korea-advanced-institute-of-science-and-technology/node-classification/sweeps/vk9i6qwp</a>"
            ],
            "text/plain": [
              "<IPython.core.display.HTML object>"
            ]
          },
          "metadata": {},
          "output_type": "display_data"
        },
        {
          "data": {
            "text/html": [
              " View run at <a href='https://wandb.ai/vezenbu-korea-advanced-institute-of-science-and-technology/node-classification/runs/ys19wa2t' target=\"_blank\">https://wandb.ai/vezenbu-korea-advanced-institute-of-science-and-technology/node-classification/runs/ys19wa2t</a>"
            ],
            "text/plain": [
              "<IPython.core.display.HTML object>"
            ]
          },
          "metadata": {},
          "output_type": "display_data"
        },
        {
          "name": "stderr",
          "output_type": "stream",
          "text": [
            "  0%|          | 0/100 [00:00<?, ?it/s]/usr/local/lib/python3.10/dist-packages/torch/jit/_check.py:178: UserWarning: The TorchScript type system doesn't support instance-level annotations on empty non-base types in `__init__`. Instead, either 1) use a type annotation in the class body, or 2) wrap the type in `torch.jit.Attribute`.\n",
            "  warnings.warn(\n",
            "/usr/local/lib/python3.10/dist-packages/torch/jit/_check.py:178: UserWarning: The TorchScript type system doesn't support instance-level annotations on empty non-base types in `__init__`. Instead, either 1) use a type annotation in the class body, or 2) wrap the type in `torch.jit.Attribute`.\n",
            "  warnings.warn(\n",
            "/usr/local/lib/python3.10/dist-packages/torch/jit/_check.py:178: UserWarning: The TorchScript type system doesn't support instance-level annotations on empty non-base types in `__init__`. Instead, either 1) use a type annotation in the class body, or 2) wrap the type in `torch.jit.Attribute`.\n",
            "  warnings.warn(\n",
            "/usr/local/lib/python3.10/dist-packages/torch/jit/_check.py:178: UserWarning: The TorchScript type system doesn't support instance-level annotations on empty non-base types in `__init__`. Instead, either 1) use a type annotation in the class body, or 2) wrap the type in `torch.jit.Attribute`.\n",
            "  warnings.warn(\n",
            "100%|██████████| 100/100 [00:02<00:00, 42.16it/s]\n",
            "/usr/local/lib/python3.10/dist-packages/torch/jit/_check.py:178: UserWarning: The TorchScript type system doesn't support instance-level annotations on empty non-base types in `__init__`. Instead, either 1) use a type annotation in the class body, or 2) wrap the type in `torch.jit.Attribute`.\n",
            "  warnings.warn(\n",
            "/usr/local/lib/python3.10/dist-packages/torch/jit/_check.py:178: UserWarning: The TorchScript type system doesn't support instance-level annotations on empty non-base types in `__init__`. Instead, either 1) use a type annotation in the class body, or 2) wrap the type in `torch.jit.Attribute`.\n",
            "  warnings.warn(\n",
            "/usr/local/lib/python3.10/dist-packages/torch/jit/_check.py:178: UserWarning: The TorchScript type system doesn't support instance-level annotations on empty non-base types in `__init__`. Instead, either 1) use a type annotation in the class body, or 2) wrap the type in `torch.jit.Attribute`.\n",
            "  warnings.warn(\n"
          ]
        },
        {
          "data": {
            "application/vnd.jupyter.widget-view+json": {
              "model_id": "63c87685579d49f6b2c5de0ef060c223",
              "version_major": 2,
              "version_minor": 0
            },
            "text/plain": [
              "VBox(children=(Label(value='1.304 MB of 1.304 MB uploaded\\r'), FloatProgress(value=1.0, max=1.0)))"
            ]
          },
          "metadata": {},
          "output_type": "display_data"
        },
        {
          "data": {
            "text/html": [
              "<style>\n",
              "    table.wandb td:nth-child(1) { padding: 0 10px; text-align: left ; width: auto;} td:nth-child(2) {text-align: left ; width: 100%}\n",
              "    .wandb-row { display: flex; flex-direction: row; flex-wrap: wrap; justify-content: flex-start; width: 100% }\n",
              "    .wandb-col { display: flex; flex-direction: column; flex-basis: 100%; flex: 1; padding: 10px; }\n",
              "    </style>\n",
              "<div class=\"wandb-row\"><div class=\"wandb-col\"><h3>Run history:</h3><br/><table class=\"wandb\"><tr><td>gcn/accuracy</td><td>▁</td></tr><tr><td>gcn/loss</td><td>██████▇▇▇▇▇▇▇▇▆▆▆▆▆▆▅▅▅▅▄▄▄▄▄▄▃▃▃▃▃▂▁▂▂▁</td></tr></table><br/></div><div class=\"wandb-col\"><h3>Run summary:</h3><br/><table class=\"wandb\"><tr><td>gcn/accuracy</td><td>0.663</td></tr><tr><td>gcn/loss</td><td>1.87135</td></tr></table><br/></div></div>"
            ],
            "text/plain": [
              "<IPython.core.display.HTML object>"
            ]
          },
          "metadata": {},
          "output_type": "display_data"
        },
        {
          "data": {
            "text/html": [
              " View run <strong style=\"color:#cdcd00\">stellar-sweep-19</strong> at: <a href='https://wandb.ai/vezenbu-korea-advanced-institute-of-science-and-technology/node-classification/runs/ys19wa2t' target=\"_blank\">https://wandb.ai/vezenbu-korea-advanced-institute-of-science-and-technology/node-classification/runs/ys19wa2t</a><br/> View project at: <a href='https://wandb.ai/vezenbu-korea-advanced-institute-of-science-and-technology/node-classification' target=\"_blank\">https://wandb.ai/vezenbu-korea-advanced-institute-of-science-and-technology/node-classification</a><br/>Synced 5 W&B file(s), 0 media file(s), 4 artifact file(s) and 2 other file(s)"
            ],
            "text/plain": [
              "<IPython.core.display.HTML object>"
            ]
          },
          "metadata": {},
          "output_type": "display_data"
        },
        {
          "data": {
            "text/html": [
              "Find logs at: <code>./wandb/run-20241031_073721-ys19wa2t/logs</code>"
            ],
            "text/plain": [
              "<IPython.core.display.HTML object>"
            ]
          },
          "metadata": {},
          "output_type": "display_data"
        },
        {
          "name": "stderr",
          "output_type": "stream",
          "text": [
            "\u001b[34m\u001b[1mwandb\u001b[0m: Agent Starting Run: c5yfzvvj with config:\n",
            "\u001b[34m\u001b[1mwandb\u001b[0m: \thidden_channels: 8\n",
            "\u001b[34m\u001b[1mwandb\u001b[0m: \tlr: 0.000816166983075295\n",
            "\u001b[34m\u001b[1mwandb\u001b[0m: \tweight_decay: 0.0005013880402688052\n"
          ]
        },
        {
          "data": {
            "text/html": [
              "Tracking run with wandb version 0.18.5"
            ],
            "text/plain": [
              "<IPython.core.display.HTML object>"
            ]
          },
          "metadata": {},
          "output_type": "display_data"
        },
        {
          "data": {
            "text/html": [
              "Run data is saved locally in <code>/root/raw_torch_for_scatter/pyg_examples/wandb/run-20241031_073738-c5yfzvvj</code>"
            ],
            "text/plain": [
              "<IPython.core.display.HTML object>"
            ]
          },
          "metadata": {},
          "output_type": "display_data"
        },
        {
          "data": {
            "text/html": [
              "Syncing run <strong><a href='https://wandb.ai/vezenbu-korea-advanced-institute-of-science-and-technology/node-classification/runs/c5yfzvvj' target=\"_blank\">snowy-sweep-20</a></strong> to <a href='https://wandb.ai/vezenbu-korea-advanced-institute-of-science-and-technology/node-classification' target=\"_blank\">Weights & Biases</a> (<a href='https://wandb.me/run' target=\"_blank\">docs</a>)<br/>Sweep page: <a href='https://wandb.ai/vezenbu-korea-advanced-institute-of-science-and-technology/node-classification/sweeps/vk9i6qwp' target=\"_blank\">https://wandb.ai/vezenbu-korea-advanced-institute-of-science-and-technology/node-classification/sweeps/vk9i6qwp</a>"
            ],
            "text/plain": [
              "<IPython.core.display.HTML object>"
            ]
          },
          "metadata": {},
          "output_type": "display_data"
        },
        {
          "data": {
            "text/html": [
              " View project at <a href='https://wandb.ai/vezenbu-korea-advanced-institute-of-science-and-technology/node-classification' target=\"_blank\">https://wandb.ai/vezenbu-korea-advanced-institute-of-science-and-technology/node-classification</a>"
            ],
            "text/plain": [
              "<IPython.core.display.HTML object>"
            ]
          },
          "metadata": {},
          "output_type": "display_data"
        },
        {
          "data": {
            "text/html": [
              " View sweep at <a href='https://wandb.ai/vezenbu-korea-advanced-institute-of-science-and-technology/node-classification/sweeps/vk9i6qwp' target=\"_blank\">https://wandb.ai/vezenbu-korea-advanced-institute-of-science-and-technology/node-classification/sweeps/vk9i6qwp</a>"
            ],
            "text/plain": [
              "<IPython.core.display.HTML object>"
            ]
          },
          "metadata": {},
          "output_type": "display_data"
        },
        {
          "data": {
            "text/html": [
              " View run at <a href='https://wandb.ai/vezenbu-korea-advanced-institute-of-science-and-technology/node-classification/runs/c5yfzvvj' target=\"_blank\">https://wandb.ai/vezenbu-korea-advanced-institute-of-science-and-technology/node-classification/runs/c5yfzvvj</a>"
            ],
            "text/plain": [
              "<IPython.core.display.HTML object>"
            ]
          },
          "metadata": {},
          "output_type": "display_data"
        },
        {
          "name": "stderr",
          "output_type": "stream",
          "text": [
            "  0%|          | 0/100 [00:00<?, ?it/s]/usr/local/lib/python3.10/dist-packages/torch/jit/_check.py:178: UserWarning: The TorchScript type system doesn't support instance-level annotations on empty non-base types in `__init__`. Instead, either 1) use a type annotation in the class body, or 2) wrap the type in `torch.jit.Attribute`.\n",
            "  warnings.warn(\n",
            "/usr/local/lib/python3.10/dist-packages/torch/jit/_check.py:178: UserWarning: The TorchScript type system doesn't support instance-level annotations on empty non-base types in `__init__`. Instead, either 1) use a type annotation in the class body, or 2) wrap the type in `torch.jit.Attribute`.\n",
            "  warnings.warn(\n",
            "/usr/local/lib/python3.10/dist-packages/torch/jit/_check.py:178: UserWarning: The TorchScript type system doesn't support instance-level annotations on empty non-base types in `__init__`. Instead, either 1) use a type annotation in the class body, or 2) wrap the type in `torch.jit.Attribute`.\n",
            "  warnings.warn(\n",
            "/usr/local/lib/python3.10/dist-packages/torch/jit/_check.py:178: UserWarning: The TorchScript type system doesn't support instance-level annotations on empty non-base types in `__init__`. Instead, either 1) use a type annotation in the class body, or 2) wrap the type in `torch.jit.Attribute`.\n",
            "  warnings.warn(\n",
            "100%|██████████| 100/100 [00:02<00:00, 35.50it/s]\n",
            "/usr/local/lib/python3.10/dist-packages/torch/jit/_check.py:178: UserWarning: The TorchScript type system doesn't support instance-level annotations on empty non-base types in `__init__`. Instead, either 1) use a type annotation in the class body, or 2) wrap the type in `torch.jit.Attribute`.\n",
            "  warnings.warn(\n",
            "/usr/local/lib/python3.10/dist-packages/torch/jit/_check.py:178: UserWarning: The TorchScript type system doesn't support instance-level annotations on empty non-base types in `__init__`. Instead, either 1) use a type annotation in the class body, or 2) wrap the type in `torch.jit.Attribute`.\n",
            "  warnings.warn(\n",
            "/usr/local/lib/python3.10/dist-packages/torch/jit/_check.py:178: UserWarning: The TorchScript type system doesn't support instance-level annotations on empty non-base types in `__init__`. Instead, either 1) use a type annotation in the class body, or 2) wrap the type in `torch.jit.Attribute`.\n",
            "  warnings.warn(\n"
          ]
        },
        {
          "data": {
            "application/vnd.jupyter.widget-view+json": {
              "model_id": "47e27ed33f874305bb7fcc24963b5b9c",
              "version_major": 2,
              "version_minor": 0
            },
            "text/plain": [
              "VBox(children=(Label(value='1.731 MB of 1.731 MB uploaded\\r'), FloatProgress(value=1.0, max=1.0)))"
            ]
          },
          "metadata": {},
          "output_type": "display_data"
        },
        {
          "data": {
            "text/html": [
              "<style>\n",
              "    table.wandb td:nth-child(1) { padding: 0 10px; text-align: left ; width: auto;} td:nth-child(2) {text-align: left ; width: 100%}\n",
              "    .wandb-row { display: flex; flex-direction: row; flex-wrap: wrap; justify-content: flex-start; width: 100% }\n",
              "    .wandb-col { display: flex; flex-direction: column; flex-basis: 100%; flex: 1; padding: 10px; }\n",
              "    </style>\n",
              "<div class=\"wandb-row\"><div class=\"wandb-col\"><h3>Run history:</h3><br/><table class=\"wandb\"><tr><td>gcn/accuracy</td><td>▁</td></tr><tr><td>gcn/loss</td><td>█████████▇▇▇▇▇▇▇▆▆▆▆▆▆▅▅▅▅▄▅▅▄▄▃▄▃▃▃▂▃▂▁</td></tr></table><br/></div><div class=\"wandb-col\"><h3>Run summary:</h3><br/><table class=\"wandb\"><tr><td>gcn/accuracy</td><td>0.658</td></tr><tr><td>gcn/loss</td><td>1.88304</td></tr></table><br/></div></div>"
            ],
            "text/plain": [
              "<IPython.core.display.HTML object>"
            ]
          },
          "metadata": {},
          "output_type": "display_data"
        },
        {
          "data": {
            "text/html": [
              " View run <strong style=\"color:#cdcd00\">snowy-sweep-20</strong> at: <a href='https://wandb.ai/vezenbu-korea-advanced-institute-of-science-and-technology/node-classification/runs/c5yfzvvj' target=\"_blank\">https://wandb.ai/vezenbu-korea-advanced-institute-of-science-and-technology/node-classification/runs/c5yfzvvj</a><br/> View project at: <a href='https://wandb.ai/vezenbu-korea-advanced-institute-of-science-and-technology/node-classification' target=\"_blank\">https://wandb.ai/vezenbu-korea-advanced-institute-of-science-and-technology/node-classification</a><br/>Synced 5 W&B file(s), 0 media file(s), 4 artifact file(s) and 2 other file(s)"
            ],
            "text/plain": [
              "<IPython.core.display.HTML object>"
            ]
          },
          "metadata": {},
          "output_type": "display_data"
        },
        {
          "data": {
            "text/html": [
              "Find logs at: <code>./wandb/run-20241031_073738-c5yfzvvj/logs</code>"
            ],
            "text/plain": [
              "<IPython.core.display.HTML object>"
            ]
          },
          "metadata": {},
          "output_type": "display_data"
        },
        {
          "name": "stderr",
          "output_type": "stream",
          "text": [
            "\u001b[34m\u001b[1mwandb\u001b[0m: Agent Starting Run: aoabbf4r with config:\n",
            "\u001b[34m\u001b[1mwandb\u001b[0m: \thidden_channels: 8\n",
            "\u001b[34m\u001b[1mwandb\u001b[0m: \tlr: 0.0009026900922460072\n",
            "\u001b[34m\u001b[1mwandb\u001b[0m: \tweight_decay: 0.0004992573471677996\n"
          ]
        },
        {
          "data": {
            "text/html": [
              "Tracking run with wandb version 0.18.5"
            ],
            "text/plain": [
              "<IPython.core.display.HTML object>"
            ]
          },
          "metadata": {},
          "output_type": "display_data"
        },
        {
          "data": {
            "text/html": [
              "Run data is saved locally in <code>/root/raw_torch_for_scatter/pyg_examples/wandb/run-20241031_073754-aoabbf4r</code>"
            ],
            "text/plain": [
              "<IPython.core.display.HTML object>"
            ]
          },
          "metadata": {},
          "output_type": "display_data"
        },
        {
          "data": {
            "text/html": [
              "Syncing run <strong><a href='https://wandb.ai/vezenbu-korea-advanced-institute-of-science-and-technology/node-classification/runs/aoabbf4r' target=\"_blank\">stoic-sweep-21</a></strong> to <a href='https://wandb.ai/vezenbu-korea-advanced-institute-of-science-and-technology/node-classification' target=\"_blank\">Weights & Biases</a> (<a href='https://wandb.me/run' target=\"_blank\">docs</a>)<br/>Sweep page: <a href='https://wandb.ai/vezenbu-korea-advanced-institute-of-science-and-technology/node-classification/sweeps/vk9i6qwp' target=\"_blank\">https://wandb.ai/vezenbu-korea-advanced-institute-of-science-and-technology/node-classification/sweeps/vk9i6qwp</a>"
            ],
            "text/plain": [
              "<IPython.core.display.HTML object>"
            ]
          },
          "metadata": {},
          "output_type": "display_data"
        },
        {
          "data": {
            "text/html": [
              " View project at <a href='https://wandb.ai/vezenbu-korea-advanced-institute-of-science-and-technology/node-classification' target=\"_blank\">https://wandb.ai/vezenbu-korea-advanced-institute-of-science-and-technology/node-classification</a>"
            ],
            "text/plain": [
              "<IPython.core.display.HTML object>"
            ]
          },
          "metadata": {},
          "output_type": "display_data"
        },
        {
          "data": {
            "text/html": [
              " View sweep at <a href='https://wandb.ai/vezenbu-korea-advanced-institute-of-science-and-technology/node-classification/sweeps/vk9i6qwp' target=\"_blank\">https://wandb.ai/vezenbu-korea-advanced-institute-of-science-and-technology/node-classification/sweeps/vk9i6qwp</a>"
            ],
            "text/plain": [
              "<IPython.core.display.HTML object>"
            ]
          },
          "metadata": {},
          "output_type": "display_data"
        },
        {
          "data": {
            "text/html": [
              " View run at <a href='https://wandb.ai/vezenbu-korea-advanced-institute-of-science-and-technology/node-classification/runs/aoabbf4r' target=\"_blank\">https://wandb.ai/vezenbu-korea-advanced-institute-of-science-and-technology/node-classification/runs/aoabbf4r</a>"
            ],
            "text/plain": [
              "<IPython.core.display.HTML object>"
            ]
          },
          "metadata": {},
          "output_type": "display_data"
        },
        {
          "name": "stderr",
          "output_type": "stream",
          "text": [
            "  0%|          | 0/100 [00:00<?, ?it/s]/usr/local/lib/python3.10/dist-packages/torch/jit/_check.py:178: UserWarning: The TorchScript type system doesn't support instance-level annotations on empty non-base types in `__init__`. Instead, either 1) use a type annotation in the class body, or 2) wrap the type in `torch.jit.Attribute`.\n",
            "  warnings.warn(\n",
            "/usr/local/lib/python3.10/dist-packages/torch/jit/_check.py:178: UserWarning: The TorchScript type system doesn't support instance-level annotations on empty non-base types in `__init__`. Instead, either 1) use a type annotation in the class body, or 2) wrap the type in `torch.jit.Attribute`.\n",
            "  warnings.warn(\n",
            "/usr/local/lib/python3.10/dist-packages/torch/jit/_check.py:178: UserWarning: The TorchScript type system doesn't support instance-level annotations on empty non-base types in `__init__`. Instead, either 1) use a type annotation in the class body, or 2) wrap the type in `torch.jit.Attribute`.\n",
            "  warnings.warn(\n",
            "/usr/local/lib/python3.10/dist-packages/torch/jit/_check.py:178: UserWarning: The TorchScript type system doesn't support instance-level annotations on empty non-base types in `__init__`. Instead, either 1) use a type annotation in the class body, or 2) wrap the type in `torch.jit.Attribute`.\n",
            "  warnings.warn(\n",
            "100%|██████████| 100/100 [00:02<00:00, 41.42it/s]\n",
            "/usr/local/lib/python3.10/dist-packages/torch/jit/_check.py:178: UserWarning: The TorchScript type system doesn't support instance-level annotations on empty non-base types in `__init__`. Instead, either 1) use a type annotation in the class body, or 2) wrap the type in `torch.jit.Attribute`.\n",
            "  warnings.warn(\n",
            "/usr/local/lib/python3.10/dist-packages/torch/jit/_check.py:178: UserWarning: The TorchScript type system doesn't support instance-level annotations on empty non-base types in `__init__`. Instead, either 1) use a type annotation in the class body, or 2) wrap the type in `torch.jit.Attribute`.\n",
            "  warnings.warn(\n",
            "/usr/local/lib/python3.10/dist-packages/torch/jit/_check.py:178: UserWarning: The TorchScript type system doesn't support instance-level annotations on empty non-base types in `__init__`. Instead, either 1) use a type annotation in the class body, or 2) wrap the type in `torch.jit.Attribute`.\n",
            "  warnings.warn(\n"
          ]
        },
        {
          "data": {
            "application/vnd.jupyter.widget-view+json": {
              "model_id": "1fded39df3284cddbc194891633b45a4",
              "version_major": 2,
              "version_minor": 0
            },
            "text/plain": [
              "VBox(children=(Label(value='1.730 MB of 1.730 MB uploaded\\r'), FloatProgress(value=1.0, max=1.0)))"
            ]
          },
          "metadata": {},
          "output_type": "display_data"
        },
        {
          "data": {
            "text/html": [
              "<style>\n",
              "    table.wandb td:nth-child(1) { padding: 0 10px; text-align: left ; width: auto;} td:nth-child(2) {text-align: left ; width: 100%}\n",
              "    .wandb-row { display: flex; flex-direction: row; flex-wrap: wrap; justify-content: flex-start; width: 100% }\n",
              "    .wandb-col { display: flex; flex-direction: column; flex-basis: 100%; flex: 1; padding: 10px; }\n",
              "    </style>\n",
              "<div class=\"wandb-row\"><div class=\"wandb-col\"><h3>Run history:</h3><br/><table class=\"wandb\"><tr><td>gcn/accuracy</td><td>▁</td></tr><tr><td>gcn/loss</td><td>███▇▇▇▇▇▇▇▇▇▇▆▆▆▆▆▆▅▅▅▅▅▅▄▅▄▄▄▄▄▃▃▃▃▂▃▂▁</td></tr></table><br/></div><div class=\"wandb-col\"><h3>Run summary:</h3><br/><table class=\"wandb\"><tr><td>gcn/accuracy</td><td>0.657</td></tr><tr><td>gcn/loss</td><td>1.87437</td></tr></table><br/></div></div>"
            ],
            "text/plain": [
              "<IPython.core.display.HTML object>"
            ]
          },
          "metadata": {},
          "output_type": "display_data"
        },
        {
          "data": {
            "text/html": [
              " View run <strong style=\"color:#cdcd00\">stoic-sweep-21</strong> at: <a href='https://wandb.ai/vezenbu-korea-advanced-institute-of-science-and-technology/node-classification/runs/aoabbf4r' target=\"_blank\">https://wandb.ai/vezenbu-korea-advanced-institute-of-science-and-technology/node-classification/runs/aoabbf4r</a><br/> View project at: <a href='https://wandb.ai/vezenbu-korea-advanced-institute-of-science-and-technology/node-classification' target=\"_blank\">https://wandb.ai/vezenbu-korea-advanced-institute-of-science-and-technology/node-classification</a><br/>Synced 5 W&B file(s), 0 media file(s), 4 artifact file(s) and 2 other file(s)"
            ],
            "text/plain": [
              "<IPython.core.display.HTML object>"
            ]
          },
          "metadata": {},
          "output_type": "display_data"
        },
        {
          "data": {
            "text/html": [
              "Find logs at: <code>./wandb/run-20241031_073754-aoabbf4r/logs</code>"
            ],
            "text/plain": [
              "<IPython.core.display.HTML object>"
            ]
          },
          "metadata": {},
          "output_type": "display_data"
        },
        {
          "name": "stderr",
          "output_type": "stream",
          "text": [
            "\u001b[34m\u001b[1mwandb\u001b[0m: Agent Starting Run: 57syqhac with config:\n",
            "\u001b[34m\u001b[1mwandb\u001b[0m: \thidden_channels: 8\n",
            "\u001b[34m\u001b[1mwandb\u001b[0m: \tlr: 0.000996749153332278\n",
            "\u001b[34m\u001b[1mwandb\u001b[0m: \tweight_decay: 0.0005032294648251124\n"
          ]
        },
        {
          "data": {
            "text/html": [
              "Tracking run with wandb version 0.18.5"
            ],
            "text/plain": [
              "<IPython.core.display.HTML object>"
            ]
          },
          "metadata": {},
          "output_type": "display_data"
        },
        {
          "data": {
            "text/html": [
              "Run data is saved locally in <code>/root/raw_torch_for_scatter/pyg_examples/wandb/run-20241031_073810-57syqhac</code>"
            ],
            "text/plain": [
              "<IPython.core.display.HTML object>"
            ]
          },
          "metadata": {},
          "output_type": "display_data"
        },
        {
          "data": {
            "text/html": [
              "Syncing run <strong><a href='https://wandb.ai/vezenbu-korea-advanced-institute-of-science-and-technology/node-classification/runs/57syqhac' target=\"_blank\">unique-sweep-22</a></strong> to <a href='https://wandb.ai/vezenbu-korea-advanced-institute-of-science-and-technology/node-classification' target=\"_blank\">Weights & Biases</a> (<a href='https://wandb.me/run' target=\"_blank\">docs</a>)<br/>Sweep page: <a href='https://wandb.ai/vezenbu-korea-advanced-institute-of-science-and-technology/node-classification/sweeps/vk9i6qwp' target=\"_blank\">https://wandb.ai/vezenbu-korea-advanced-institute-of-science-and-technology/node-classification/sweeps/vk9i6qwp</a>"
            ],
            "text/plain": [
              "<IPython.core.display.HTML object>"
            ]
          },
          "metadata": {},
          "output_type": "display_data"
        },
        {
          "data": {
            "text/html": [
              " View project at <a href='https://wandb.ai/vezenbu-korea-advanced-institute-of-science-and-technology/node-classification' target=\"_blank\">https://wandb.ai/vezenbu-korea-advanced-institute-of-science-and-technology/node-classification</a>"
            ],
            "text/plain": [
              "<IPython.core.display.HTML object>"
            ]
          },
          "metadata": {},
          "output_type": "display_data"
        },
        {
          "data": {
            "text/html": [
              " View sweep at <a href='https://wandb.ai/vezenbu-korea-advanced-institute-of-science-and-technology/node-classification/sweeps/vk9i6qwp' target=\"_blank\">https://wandb.ai/vezenbu-korea-advanced-institute-of-science-and-technology/node-classification/sweeps/vk9i6qwp</a>"
            ],
            "text/plain": [
              "<IPython.core.display.HTML object>"
            ]
          },
          "metadata": {},
          "output_type": "display_data"
        },
        {
          "data": {
            "text/html": [
              " View run at <a href='https://wandb.ai/vezenbu-korea-advanced-institute-of-science-and-technology/node-classification/runs/57syqhac' target=\"_blank\">https://wandb.ai/vezenbu-korea-advanced-institute-of-science-and-technology/node-classification/runs/57syqhac</a>"
            ],
            "text/plain": [
              "<IPython.core.display.HTML object>"
            ]
          },
          "metadata": {},
          "output_type": "display_data"
        },
        {
          "name": "stderr",
          "output_type": "stream",
          "text": [
            "  0%|          | 0/100 [00:00<?, ?it/s]/usr/local/lib/python3.10/dist-packages/torch/jit/_check.py:178: UserWarning: The TorchScript type system doesn't support instance-level annotations on empty non-base types in `__init__`. Instead, either 1) use a type annotation in the class body, or 2) wrap the type in `torch.jit.Attribute`.\n",
            "  warnings.warn(\n",
            "/usr/local/lib/python3.10/dist-packages/torch/jit/_check.py:178: UserWarning: The TorchScript type system doesn't support instance-level annotations on empty non-base types in `__init__`. Instead, either 1) use a type annotation in the class body, or 2) wrap the type in `torch.jit.Attribute`.\n",
            "  warnings.warn(\n",
            "/usr/local/lib/python3.10/dist-packages/torch/jit/_check.py:178: UserWarning: The TorchScript type system doesn't support instance-level annotations on empty non-base types in `__init__`. Instead, either 1) use a type annotation in the class body, or 2) wrap the type in `torch.jit.Attribute`.\n",
            "  warnings.warn(\n",
            "/usr/local/lib/python3.10/dist-packages/torch/jit/_check.py:178: UserWarning: The TorchScript type system doesn't support instance-level annotations on empty non-base types in `__init__`. Instead, either 1) use a type annotation in the class body, or 2) wrap the type in `torch.jit.Attribute`.\n",
            "  warnings.warn(\n",
            "100%|██████████| 100/100 [00:02<00:00, 41.71it/s]\n",
            "/usr/local/lib/python3.10/dist-packages/torch/jit/_check.py:178: UserWarning: The TorchScript type system doesn't support instance-level annotations on empty non-base types in `__init__`. Instead, either 1) use a type annotation in the class body, or 2) wrap the type in `torch.jit.Attribute`.\n",
            "  warnings.warn(\n",
            "/usr/local/lib/python3.10/dist-packages/torch/jit/_check.py:178: UserWarning: The TorchScript type system doesn't support instance-level annotations on empty non-base types in `__init__`. Instead, either 1) use a type annotation in the class body, or 2) wrap the type in `torch.jit.Attribute`.\n",
            "  warnings.warn(\n",
            "/usr/local/lib/python3.10/dist-packages/torch/jit/_check.py:178: UserWarning: The TorchScript type system doesn't support instance-level annotations on empty non-base types in `__init__`. Instead, either 1) use a type annotation in the class body, or 2) wrap the type in `torch.jit.Attribute`.\n",
            "  warnings.warn(\n"
          ]
        },
        {
          "data": {
            "application/vnd.jupyter.widget-view+json": {
              "model_id": "0276fbb072bf4036935a279606e64873",
              "version_major": 2,
              "version_minor": 0
            },
            "text/plain": [
              "VBox(children=(Label(value='1.728 MB of 1.728 MB uploaded\\r'), FloatProgress(value=1.0, max=1.0)))"
            ]
          },
          "metadata": {},
          "output_type": "display_data"
        },
        {
          "data": {
            "text/html": [
              "<style>\n",
              "    table.wandb td:nth-child(1) { padding: 0 10px; text-align: left ; width: auto;} td:nth-child(2) {text-align: left ; width: 100%}\n",
              "    .wandb-row { display: flex; flex-direction: row; flex-wrap: wrap; justify-content: flex-start; width: 100% }\n",
              "    .wandb-col { display: flex; flex-direction: column; flex-basis: 100%; flex: 1; padding: 10px; }\n",
              "    </style>\n",
              "<div class=\"wandb-row\"><div class=\"wandb-col\"><h3>Run history:</h3><br/><table class=\"wandb\"><tr><td>gcn/accuracy</td><td>▁</td></tr><tr><td>gcn/loss</td><td>█████▇▇▇▇▇▇▇▇▆▆▆▆▆▆▆▅▅▅▅▅▄▄▄▄▃▃▃▃▃▂▂▂▂▁▁</td></tr></table><br/></div><div class=\"wandb-col\"><h3>Run summary:</h3><br/><table class=\"wandb\"><tr><td>gcn/accuracy</td><td>0.663</td></tr><tr><td>gcn/loss</td><td>1.86687</td></tr></table><br/></div></div>"
            ],
            "text/plain": [
              "<IPython.core.display.HTML object>"
            ]
          },
          "metadata": {},
          "output_type": "display_data"
        },
        {
          "data": {
            "text/html": [
              " View run <strong style=\"color:#cdcd00\">unique-sweep-22</strong> at: <a href='https://wandb.ai/vezenbu-korea-advanced-institute-of-science-and-technology/node-classification/runs/57syqhac' target=\"_blank\">https://wandb.ai/vezenbu-korea-advanced-institute-of-science-and-technology/node-classification/runs/57syqhac</a><br/> View project at: <a href='https://wandb.ai/vezenbu-korea-advanced-institute-of-science-and-technology/node-classification' target=\"_blank\">https://wandb.ai/vezenbu-korea-advanced-institute-of-science-and-technology/node-classification</a><br/>Synced 5 W&B file(s), 0 media file(s), 4 artifact file(s) and 2 other file(s)"
            ],
            "text/plain": [
              "<IPython.core.display.HTML object>"
            ]
          },
          "metadata": {},
          "output_type": "display_data"
        },
        {
          "data": {
            "text/html": [
              "Find logs at: <code>./wandb/run-20241031_073810-57syqhac/logs</code>"
            ],
            "text/plain": [
              "<IPython.core.display.HTML object>"
            ]
          },
          "metadata": {},
          "output_type": "display_data"
        },
        {
          "name": "stderr",
          "output_type": "stream",
          "text": [
            "\u001b[34m\u001b[1mwandb\u001b[0m: Agent Starting Run: a6ap247y with config:\n",
            "\u001b[34m\u001b[1mwandb\u001b[0m: \thidden_channels: 8\n",
            "\u001b[34m\u001b[1mwandb\u001b[0m: \tlr: 0.0009218554814218594\n",
            "\u001b[34m\u001b[1mwandb\u001b[0m: \tweight_decay: 0.00048612396890308746\n"
          ]
        },
        {
          "data": {
            "text/html": [
              "Tracking run with wandb version 0.18.5"
            ],
            "text/plain": [
              "<IPython.core.display.HTML object>"
            ]
          },
          "metadata": {},
          "output_type": "display_data"
        },
        {
          "data": {
            "text/html": [
              "Run data is saved locally in <code>/root/raw_torch_for_scatter/pyg_examples/wandb/run-20241031_073826-a6ap247y</code>"
            ],
            "text/plain": [
              "<IPython.core.display.HTML object>"
            ]
          },
          "metadata": {},
          "output_type": "display_data"
        },
        {
          "data": {
            "text/html": [
              "Syncing run <strong><a href='https://wandb.ai/vezenbu-korea-advanced-institute-of-science-and-technology/node-classification/runs/a6ap247y' target=\"_blank\">honest-sweep-23</a></strong> to <a href='https://wandb.ai/vezenbu-korea-advanced-institute-of-science-and-technology/node-classification' target=\"_blank\">Weights & Biases</a> (<a href='https://wandb.me/run' target=\"_blank\">docs</a>)<br/>Sweep page: <a href='https://wandb.ai/vezenbu-korea-advanced-institute-of-science-and-technology/node-classification/sweeps/vk9i6qwp' target=\"_blank\">https://wandb.ai/vezenbu-korea-advanced-institute-of-science-and-technology/node-classification/sweeps/vk9i6qwp</a>"
            ],
            "text/plain": [
              "<IPython.core.display.HTML object>"
            ]
          },
          "metadata": {},
          "output_type": "display_data"
        },
        {
          "data": {
            "text/html": [
              " View project at <a href='https://wandb.ai/vezenbu-korea-advanced-institute-of-science-and-technology/node-classification' target=\"_blank\">https://wandb.ai/vezenbu-korea-advanced-institute-of-science-and-technology/node-classification</a>"
            ],
            "text/plain": [
              "<IPython.core.display.HTML object>"
            ]
          },
          "metadata": {},
          "output_type": "display_data"
        },
        {
          "data": {
            "text/html": [
              " View sweep at <a href='https://wandb.ai/vezenbu-korea-advanced-institute-of-science-and-technology/node-classification/sweeps/vk9i6qwp' target=\"_blank\">https://wandb.ai/vezenbu-korea-advanced-institute-of-science-and-technology/node-classification/sweeps/vk9i6qwp</a>"
            ],
            "text/plain": [
              "<IPython.core.display.HTML object>"
            ]
          },
          "metadata": {},
          "output_type": "display_data"
        },
        {
          "data": {
            "text/html": [
              " View run at <a href='https://wandb.ai/vezenbu-korea-advanced-institute-of-science-and-technology/node-classification/runs/a6ap247y' target=\"_blank\">https://wandb.ai/vezenbu-korea-advanced-institute-of-science-and-technology/node-classification/runs/a6ap247y</a>"
            ],
            "text/plain": [
              "<IPython.core.display.HTML object>"
            ]
          },
          "metadata": {},
          "output_type": "display_data"
        },
        {
          "name": "stderr",
          "output_type": "stream",
          "text": [
            "  0%|          | 0/100 [00:00<?, ?it/s]/usr/local/lib/python3.10/dist-packages/torch/jit/_check.py:178: UserWarning: The TorchScript type system doesn't support instance-level annotations on empty non-base types in `__init__`. Instead, either 1) use a type annotation in the class body, or 2) wrap the type in `torch.jit.Attribute`.\n",
            "  warnings.warn(\n",
            "/usr/local/lib/python3.10/dist-packages/torch/jit/_check.py:178: UserWarning: The TorchScript type system doesn't support instance-level annotations on empty non-base types in `__init__`. Instead, either 1) use a type annotation in the class body, or 2) wrap the type in `torch.jit.Attribute`.\n",
            "  warnings.warn(\n",
            "/usr/local/lib/python3.10/dist-packages/torch/jit/_check.py:178: UserWarning: The TorchScript type system doesn't support instance-level annotations on empty non-base types in `__init__`. Instead, either 1) use a type annotation in the class body, or 2) wrap the type in `torch.jit.Attribute`.\n",
            "  warnings.warn(\n",
            "/usr/local/lib/python3.10/dist-packages/torch/jit/_check.py:178: UserWarning: The TorchScript type system doesn't support instance-level annotations on empty non-base types in `__init__`. Instead, either 1) use a type annotation in the class body, or 2) wrap the type in `torch.jit.Attribute`.\n",
            "  warnings.warn(\n",
            "100%|██████████| 100/100 [00:02<00:00, 41.47it/s]\n",
            "/usr/local/lib/python3.10/dist-packages/torch/jit/_check.py:178: UserWarning: The TorchScript type system doesn't support instance-level annotations on empty non-base types in `__init__`. Instead, either 1) use a type annotation in the class body, or 2) wrap the type in `torch.jit.Attribute`.\n",
            "  warnings.warn(\n",
            "/usr/local/lib/python3.10/dist-packages/torch/jit/_check.py:178: UserWarning: The TorchScript type system doesn't support instance-level annotations on empty non-base types in `__init__`. Instead, either 1) use a type annotation in the class body, or 2) wrap the type in `torch.jit.Attribute`.\n",
            "  warnings.warn(\n",
            "/usr/local/lib/python3.10/dist-packages/torch/jit/_check.py:178: UserWarning: The TorchScript type system doesn't support instance-level annotations on empty non-base types in `__init__`. Instead, either 1) use a type annotation in the class body, or 2) wrap the type in `torch.jit.Attribute`.\n",
            "  warnings.warn(\n"
          ]
        },
        {
          "data": {
            "application/vnd.jupyter.widget-view+json": {
              "model_id": "a0da3cca7dce4894811cbb1607339cf6",
              "version_major": 2,
              "version_minor": 0
            },
            "text/plain": [
              "VBox(children=(Label(value='1.729 MB of 1.729 MB uploaded\\r'), FloatProgress(value=1.0, max=1.0)))"
            ]
          },
          "metadata": {},
          "output_type": "display_data"
        },
        {
          "data": {
            "text/html": [
              "<style>\n",
              "    table.wandb td:nth-child(1) { padding: 0 10px; text-align: left ; width: auto;} td:nth-child(2) {text-align: left ; width: 100%}\n",
              "    .wandb-row { display: flex; flex-direction: row; flex-wrap: wrap; justify-content: flex-start; width: 100% }\n",
              "    .wandb-col { display: flex; flex-direction: column; flex-basis: 100%; flex: 1; padding: 10px; }\n",
              "    </style>\n",
              "<div class=\"wandb-row\"><div class=\"wandb-col\"><h3>Run history:</h3><br/><table class=\"wandb\"><tr><td>gcn/accuracy</td><td>▁</td></tr><tr><td>gcn/loss</td><td>█████▇▇▇▇▇▇▇▆▆▆▆▆▆▆▆▅▅▅▅▅▄▄▄▃▃▃▂▃▂▂▂▂▁▁▁</td></tr></table><br/></div><div class=\"wandb-col\"><h3>Run summary:</h3><br/><table class=\"wandb\"><tr><td>gcn/accuracy</td><td>0.656</td></tr><tr><td>gcn/loss</td><td>1.87219</td></tr></table><br/></div></div>"
            ],
            "text/plain": [
              "<IPython.core.display.HTML object>"
            ]
          },
          "metadata": {},
          "output_type": "display_data"
        },
        {
          "data": {
            "text/html": [
              " View run <strong style=\"color:#cdcd00\">honest-sweep-23</strong> at: <a href='https://wandb.ai/vezenbu-korea-advanced-institute-of-science-and-technology/node-classification/runs/a6ap247y' target=\"_blank\">https://wandb.ai/vezenbu-korea-advanced-institute-of-science-and-technology/node-classification/runs/a6ap247y</a><br/> View project at: <a href='https://wandb.ai/vezenbu-korea-advanced-institute-of-science-and-technology/node-classification' target=\"_blank\">https://wandb.ai/vezenbu-korea-advanced-institute-of-science-and-technology/node-classification</a><br/>Synced 5 W&B file(s), 0 media file(s), 4 artifact file(s) and 2 other file(s)"
            ],
            "text/plain": [
              "<IPython.core.display.HTML object>"
            ]
          },
          "metadata": {},
          "output_type": "display_data"
        },
        {
          "data": {
            "text/html": [
              "Find logs at: <code>./wandb/run-20241031_073826-a6ap247y/logs</code>"
            ],
            "text/plain": [
              "<IPython.core.display.HTML object>"
            ]
          },
          "metadata": {},
          "output_type": "display_data"
        },
        {
          "name": "stderr",
          "output_type": "stream",
          "text": [
            "\u001b[34m\u001b[1mwandb\u001b[0m: Agent Starting Run: qophdysu with config:\n",
            "\u001b[34m\u001b[1mwandb\u001b[0m: \thidden_channels: 8\n",
            "\u001b[34m\u001b[1mwandb\u001b[0m: \tlr: 0.0009920258290934355\n",
            "\u001b[34m\u001b[1mwandb\u001b[0m: \tweight_decay: 0.0005035170288208973\n"
          ]
        },
        {
          "data": {
            "text/html": [
              "Tracking run with wandb version 0.18.5"
            ],
            "text/plain": [
              "<IPython.core.display.HTML object>"
            ]
          },
          "metadata": {},
          "output_type": "display_data"
        },
        {
          "data": {
            "text/html": [
              "Run data is saved locally in <code>/root/raw_torch_for_scatter/pyg_examples/wandb/run-20241031_073842-qophdysu</code>"
            ],
            "text/plain": [
              "<IPython.core.display.HTML object>"
            ]
          },
          "metadata": {},
          "output_type": "display_data"
        },
        {
          "data": {
            "text/html": [
              "Syncing run <strong><a href='https://wandb.ai/vezenbu-korea-advanced-institute-of-science-and-technology/node-classification/runs/qophdysu' target=\"_blank\">fanciful-sweep-24</a></strong> to <a href='https://wandb.ai/vezenbu-korea-advanced-institute-of-science-and-technology/node-classification' target=\"_blank\">Weights & Biases</a> (<a href='https://wandb.me/run' target=\"_blank\">docs</a>)<br/>Sweep page: <a href='https://wandb.ai/vezenbu-korea-advanced-institute-of-science-and-technology/node-classification/sweeps/vk9i6qwp' target=\"_blank\">https://wandb.ai/vezenbu-korea-advanced-institute-of-science-and-technology/node-classification/sweeps/vk9i6qwp</a>"
            ],
            "text/plain": [
              "<IPython.core.display.HTML object>"
            ]
          },
          "metadata": {},
          "output_type": "display_data"
        },
        {
          "data": {
            "text/html": [
              " View project at <a href='https://wandb.ai/vezenbu-korea-advanced-institute-of-science-and-technology/node-classification' target=\"_blank\">https://wandb.ai/vezenbu-korea-advanced-institute-of-science-and-technology/node-classification</a>"
            ],
            "text/plain": [
              "<IPython.core.display.HTML object>"
            ]
          },
          "metadata": {},
          "output_type": "display_data"
        },
        {
          "data": {
            "text/html": [
              " View sweep at <a href='https://wandb.ai/vezenbu-korea-advanced-institute-of-science-and-technology/node-classification/sweeps/vk9i6qwp' target=\"_blank\">https://wandb.ai/vezenbu-korea-advanced-institute-of-science-and-technology/node-classification/sweeps/vk9i6qwp</a>"
            ],
            "text/plain": [
              "<IPython.core.display.HTML object>"
            ]
          },
          "metadata": {},
          "output_type": "display_data"
        },
        {
          "data": {
            "text/html": [
              " View run at <a href='https://wandb.ai/vezenbu-korea-advanced-institute-of-science-and-technology/node-classification/runs/qophdysu' target=\"_blank\">https://wandb.ai/vezenbu-korea-advanced-institute-of-science-and-technology/node-classification/runs/qophdysu</a>"
            ],
            "text/plain": [
              "<IPython.core.display.HTML object>"
            ]
          },
          "metadata": {},
          "output_type": "display_data"
        },
        {
          "name": "stderr",
          "output_type": "stream",
          "text": [
            "  0%|          | 0/100 [00:00<?, ?it/s]/usr/local/lib/python3.10/dist-packages/torch/jit/_check.py:178: UserWarning: The TorchScript type system doesn't support instance-level annotations on empty non-base types in `__init__`. Instead, either 1) use a type annotation in the class body, or 2) wrap the type in `torch.jit.Attribute`.\n",
            "  warnings.warn(\n",
            "/usr/local/lib/python3.10/dist-packages/torch/jit/_check.py:178: UserWarning: The TorchScript type system doesn't support instance-level annotations on empty non-base types in `__init__`. Instead, either 1) use a type annotation in the class body, or 2) wrap the type in `torch.jit.Attribute`.\n",
            "  warnings.warn(\n",
            "/usr/local/lib/python3.10/dist-packages/torch/jit/_check.py:178: UserWarning: The TorchScript type system doesn't support instance-level annotations on empty non-base types in `__init__`. Instead, either 1) use a type annotation in the class body, or 2) wrap the type in `torch.jit.Attribute`.\n",
            "  warnings.warn(\n",
            "/usr/local/lib/python3.10/dist-packages/torch/jit/_check.py:178: UserWarning: The TorchScript type system doesn't support instance-level annotations on empty non-base types in `__init__`. Instead, either 1) use a type annotation in the class body, or 2) wrap the type in `torch.jit.Attribute`.\n",
            "  warnings.warn(\n",
            "100%|██████████| 100/100 [00:02<00:00, 41.37it/s]\n",
            "/usr/local/lib/python3.10/dist-packages/torch/jit/_check.py:178: UserWarning: The TorchScript type system doesn't support instance-level annotations on empty non-base types in `__init__`. Instead, either 1) use a type annotation in the class body, or 2) wrap the type in `torch.jit.Attribute`.\n",
            "  warnings.warn(\n",
            "/usr/local/lib/python3.10/dist-packages/torch/jit/_check.py:178: UserWarning: The TorchScript type system doesn't support instance-level annotations on empty non-base types in `__init__`. Instead, either 1) use a type annotation in the class body, or 2) wrap the type in `torch.jit.Attribute`.\n",
            "  warnings.warn(\n",
            "/usr/local/lib/python3.10/dist-packages/torch/jit/_check.py:178: UserWarning: The TorchScript type system doesn't support instance-level annotations on empty non-base types in `__init__`. Instead, either 1) use a type annotation in the class body, or 2) wrap the type in `torch.jit.Attribute`.\n",
            "  warnings.warn(\n"
          ]
        },
        {
          "data": {
            "application/vnd.jupyter.widget-view+json": {
              "model_id": "25ccade7350a4f388635f387f8173104",
              "version_major": 2,
              "version_minor": 0
            },
            "text/plain": [
              "VBox(children=(Label(value='1.729 MB of 1.729 MB uploaded\\r'), FloatProgress(value=1.0, max=1.0)))"
            ]
          },
          "metadata": {},
          "output_type": "display_data"
        },
        {
          "data": {
            "text/html": [
              "<style>\n",
              "    table.wandb td:nth-child(1) { padding: 0 10px; text-align: left ; width: auto;} td:nth-child(2) {text-align: left ; width: 100%}\n",
              "    .wandb-row { display: flex; flex-direction: row; flex-wrap: wrap; justify-content: flex-start; width: 100% }\n",
              "    .wandb-col { display: flex; flex-direction: column; flex-basis: 100%; flex: 1; padding: 10px; }\n",
              "    </style>\n",
              "<div class=\"wandb-row\"><div class=\"wandb-col\"><h3>Run history:</h3><br/><table class=\"wandb\"><tr><td>gcn/accuracy</td><td>▁</td></tr><tr><td>gcn/loss</td><td>██████▇▇▇▇▇▇▇▇▇▇▆▆▆▆▆▆▅▅▅▅▅▅▄▅▄▃▃▃▃▃▃▂▂▁</td></tr></table><br/></div><div class=\"wandb-col\"><h3>Run summary:</h3><br/><table class=\"wandb\"><tr><td>gcn/accuracy</td><td>0.663</td></tr><tr><td>gcn/loss</td><td>1.86735</td></tr></table><br/></div></div>"
            ],
            "text/plain": [
              "<IPython.core.display.HTML object>"
            ]
          },
          "metadata": {},
          "output_type": "display_data"
        },
        {
          "data": {
            "text/html": [
              " View run <strong style=\"color:#cdcd00\">fanciful-sweep-24</strong> at: <a href='https://wandb.ai/vezenbu-korea-advanced-institute-of-science-and-technology/node-classification/runs/qophdysu' target=\"_blank\">https://wandb.ai/vezenbu-korea-advanced-institute-of-science-and-technology/node-classification/runs/qophdysu</a><br/> View project at: <a href='https://wandb.ai/vezenbu-korea-advanced-institute-of-science-and-technology/node-classification' target=\"_blank\">https://wandb.ai/vezenbu-korea-advanced-institute-of-science-and-technology/node-classification</a><br/>Synced 5 W&B file(s), 0 media file(s), 4 artifact file(s) and 2 other file(s)"
            ],
            "text/plain": [
              "<IPython.core.display.HTML object>"
            ]
          },
          "metadata": {},
          "output_type": "display_data"
        },
        {
          "data": {
            "text/html": [
              "Find logs at: <code>./wandb/run-20241031_073842-qophdysu/logs</code>"
            ],
            "text/plain": [
              "<IPython.core.display.HTML object>"
            ]
          },
          "metadata": {},
          "output_type": "display_data"
        },
        {
          "name": "stderr",
          "output_type": "stream",
          "text": [
            "\u001b[34m\u001b[1mwandb\u001b[0m: Sweep Agent: Waiting for job.\n",
            "\u001b[34m\u001b[1mwandb\u001b[0m: Job received.\n",
            "\u001b[34m\u001b[1mwandb\u001b[0m: Agent Starting Run: 6vorbv53 with config:\n",
            "\u001b[34m\u001b[1mwandb\u001b[0m: \thidden_channels: 8\n",
            "\u001b[34m\u001b[1mwandb\u001b[0m: \tlr: 0.0009700043836057178\n",
            "\u001b[34m\u001b[1mwandb\u001b[0m: \tweight_decay: 0.0005062310504766666\n"
          ]
        },
        {
          "data": {
            "text/html": [
              "Tracking run with wandb version 0.18.5"
            ],
            "text/plain": [
              "<IPython.core.display.HTML object>"
            ]
          },
          "metadata": {},
          "output_type": "display_data"
        },
        {
          "data": {
            "text/html": [
              "Run data is saved locally in <code>/root/raw_torch_for_scatter/pyg_examples/wandb/run-20241031_073903-6vorbv53</code>"
            ],
            "text/plain": [
              "<IPython.core.display.HTML object>"
            ]
          },
          "metadata": {},
          "output_type": "display_data"
        },
        {
          "data": {
            "text/html": [
              "Syncing run <strong><a href='https://wandb.ai/vezenbu-korea-advanced-institute-of-science-and-technology/node-classification/runs/6vorbv53' target=\"_blank\">classic-sweep-25</a></strong> to <a href='https://wandb.ai/vezenbu-korea-advanced-institute-of-science-and-technology/node-classification' target=\"_blank\">Weights & Biases</a> (<a href='https://wandb.me/run' target=\"_blank\">docs</a>)<br/>Sweep page: <a href='https://wandb.ai/vezenbu-korea-advanced-institute-of-science-and-technology/node-classification/sweeps/vk9i6qwp' target=\"_blank\">https://wandb.ai/vezenbu-korea-advanced-institute-of-science-and-technology/node-classification/sweeps/vk9i6qwp</a>"
            ],
            "text/plain": [
              "<IPython.core.display.HTML object>"
            ]
          },
          "metadata": {},
          "output_type": "display_data"
        },
        {
          "data": {
            "text/html": [
              " View project at <a href='https://wandb.ai/vezenbu-korea-advanced-institute-of-science-and-technology/node-classification' target=\"_blank\">https://wandb.ai/vezenbu-korea-advanced-institute-of-science-and-technology/node-classification</a>"
            ],
            "text/plain": [
              "<IPython.core.display.HTML object>"
            ]
          },
          "metadata": {},
          "output_type": "display_data"
        },
        {
          "data": {
            "text/html": [
              " View sweep at <a href='https://wandb.ai/vezenbu-korea-advanced-institute-of-science-and-technology/node-classification/sweeps/vk9i6qwp' target=\"_blank\">https://wandb.ai/vezenbu-korea-advanced-institute-of-science-and-technology/node-classification/sweeps/vk9i6qwp</a>"
            ],
            "text/plain": [
              "<IPython.core.display.HTML object>"
            ]
          },
          "metadata": {},
          "output_type": "display_data"
        },
        {
          "data": {
            "text/html": [
              " View run at <a href='https://wandb.ai/vezenbu-korea-advanced-institute-of-science-and-technology/node-classification/runs/6vorbv53' target=\"_blank\">https://wandb.ai/vezenbu-korea-advanced-institute-of-science-and-technology/node-classification/runs/6vorbv53</a>"
            ],
            "text/plain": [
              "<IPython.core.display.HTML object>"
            ]
          },
          "metadata": {},
          "output_type": "display_data"
        },
        {
          "name": "stderr",
          "output_type": "stream",
          "text": [
            "  0%|          | 0/100 [00:00<?, ?it/s]/usr/local/lib/python3.10/dist-packages/torch/jit/_check.py:178: UserWarning: The TorchScript type system doesn't support instance-level annotations on empty non-base types in `__init__`. Instead, either 1) use a type annotation in the class body, or 2) wrap the type in `torch.jit.Attribute`.\n",
            "  warnings.warn(\n",
            "/usr/local/lib/python3.10/dist-packages/torch/jit/_check.py:178: UserWarning: The TorchScript type system doesn't support instance-level annotations on empty non-base types in `__init__`. Instead, either 1) use a type annotation in the class body, or 2) wrap the type in `torch.jit.Attribute`.\n",
            "  warnings.warn(\n",
            "/usr/local/lib/python3.10/dist-packages/torch/jit/_check.py:178: UserWarning: The TorchScript type system doesn't support instance-level annotations on empty non-base types in `__init__`. Instead, either 1) use a type annotation in the class body, or 2) wrap the type in `torch.jit.Attribute`.\n",
            "  warnings.warn(\n",
            "/usr/local/lib/python3.10/dist-packages/torch/jit/_check.py:178: UserWarning: The TorchScript type system doesn't support instance-level annotations on empty non-base types in `__init__`. Instead, either 1) use a type annotation in the class body, or 2) wrap the type in `torch.jit.Attribute`.\n",
            "  warnings.warn(\n",
            "100%|██████████| 100/100 [00:02<00:00, 34.84it/s]\n",
            "/usr/local/lib/python3.10/dist-packages/torch/jit/_check.py:178: UserWarning: The TorchScript type system doesn't support instance-level annotations on empty non-base types in `__init__`. Instead, either 1) use a type annotation in the class body, or 2) wrap the type in `torch.jit.Attribute`.\n",
            "  warnings.warn(\n",
            "/usr/local/lib/python3.10/dist-packages/torch/jit/_check.py:178: UserWarning: The TorchScript type system doesn't support instance-level annotations on empty non-base types in `__init__`. Instead, either 1) use a type annotation in the class body, or 2) wrap the type in `torch.jit.Attribute`.\n",
            "  warnings.warn(\n",
            "/usr/local/lib/python3.10/dist-packages/torch/jit/_check.py:178: UserWarning: The TorchScript type system doesn't support instance-level annotations on empty non-base types in `__init__`. Instead, either 1) use a type annotation in the class body, or 2) wrap the type in `torch.jit.Attribute`.\n",
            "  warnings.warn(\n"
          ]
        },
        {
          "data": {
            "application/vnd.jupyter.widget-view+json": {
              "model_id": "d46c26a8f1224c0996c135fdd9a5aae2",
              "version_major": 2,
              "version_minor": 0
            },
            "text/plain": [
              "VBox(children=(Label(value='1.729 MB of 1.729 MB uploaded\\r'), FloatProgress(value=1.0, max=1.0)))"
            ]
          },
          "metadata": {},
          "output_type": "display_data"
        },
        {
          "data": {
            "text/html": [
              "<style>\n",
              "    table.wandb td:nth-child(1) { padding: 0 10px; text-align: left ; width: auto;} td:nth-child(2) {text-align: left ; width: 100%}\n",
              "    .wandb-row { display: flex; flex-direction: row; flex-wrap: wrap; justify-content: flex-start; width: 100% }\n",
              "    .wandb-col { display: flex; flex-direction: column; flex-basis: 100%; flex: 1; padding: 10px; }\n",
              "    </style>\n",
              "<div class=\"wandb-row\"><div class=\"wandb-col\"><h3>Run history:</h3><br/><table class=\"wandb\"><tr><td>gcn/accuracy</td><td>▁</td></tr><tr><td>gcn/loss</td><td>██████▇▇▇▇▇▇▇▆▆▆▆▆▆▅▅▅▅▄▅▄▄▄▄▄▄▃▃▃▃▃▂▂▁▁</td></tr></table><br/></div><div class=\"wandb-col\"><h3>Run summary:</h3><br/><table class=\"wandb\"><tr><td>gcn/accuracy</td><td>0.661</td></tr><tr><td>gcn/loss</td><td>1.86948</td></tr></table><br/></div></div>"
            ],
            "text/plain": [
              "<IPython.core.display.HTML object>"
            ]
          },
          "metadata": {},
          "output_type": "display_data"
        },
        {
          "data": {
            "text/html": [
              " View run <strong style=\"color:#cdcd00\">classic-sweep-25</strong> at: <a href='https://wandb.ai/vezenbu-korea-advanced-institute-of-science-and-technology/node-classification/runs/6vorbv53' target=\"_blank\">https://wandb.ai/vezenbu-korea-advanced-institute-of-science-and-technology/node-classification/runs/6vorbv53</a><br/> View project at: <a href='https://wandb.ai/vezenbu-korea-advanced-institute-of-science-and-technology/node-classification' target=\"_blank\">https://wandb.ai/vezenbu-korea-advanced-institute-of-science-and-technology/node-classification</a><br/>Synced 5 W&B file(s), 0 media file(s), 4 artifact file(s) and 2 other file(s)"
            ],
            "text/plain": [
              "<IPython.core.display.HTML object>"
            ]
          },
          "metadata": {},
          "output_type": "display_data"
        },
        {
          "data": {
            "text/html": [
              "Find logs at: <code>./wandb/run-20241031_073903-6vorbv53/logs</code>"
            ],
            "text/plain": [
              "<IPython.core.display.HTML object>"
            ]
          },
          "metadata": {},
          "output_type": "display_data"
        },
        {
          "name": "stderr",
          "output_type": "stream",
          "text": [
            "\u001b[34m\u001b[1mwandb\u001b[0m: Sweep Agent: Waiting for job.\n",
            "\u001b[34m\u001b[1mwandb\u001b[0m: Job received.\n",
            "\u001b[34m\u001b[1mwandb\u001b[0m: Agent Starting Run: uvtnoro2 with config:\n",
            "\u001b[34m\u001b[1mwandb\u001b[0m: \thidden_channels: 8\n",
            "\u001b[34m\u001b[1mwandb\u001b[0m: \tlr: 0.0009699658711649972\n",
            "\u001b[34m\u001b[1mwandb\u001b[0m: \tweight_decay: 0.0005033007850771125\n"
          ]
        },
        {
          "data": {
            "text/html": [
              "Tracking run with wandb version 0.18.5"
            ],
            "text/plain": [
              "<IPython.core.display.HTML object>"
            ]
          },
          "metadata": {},
          "output_type": "display_data"
        },
        {
          "data": {
            "text/html": [
              "Run data is saved locally in <code>/root/raw_torch_for_scatter/pyg_examples/wandb/run-20241031_073925-uvtnoro2</code>"
            ],
            "text/plain": [
              "<IPython.core.display.HTML object>"
            ]
          },
          "metadata": {},
          "output_type": "display_data"
        },
        {
          "data": {
            "text/html": [
              "Syncing run <strong><a href='https://wandb.ai/vezenbu-korea-advanced-institute-of-science-and-technology/node-classification/runs/uvtnoro2' target=\"_blank\">woven-sweep-26</a></strong> to <a href='https://wandb.ai/vezenbu-korea-advanced-institute-of-science-and-technology/node-classification' target=\"_blank\">Weights & Biases</a> (<a href='https://wandb.me/run' target=\"_blank\">docs</a>)<br/>Sweep page: <a href='https://wandb.ai/vezenbu-korea-advanced-institute-of-science-and-technology/node-classification/sweeps/vk9i6qwp' target=\"_blank\">https://wandb.ai/vezenbu-korea-advanced-institute-of-science-and-technology/node-classification/sweeps/vk9i6qwp</a>"
            ],
            "text/plain": [
              "<IPython.core.display.HTML object>"
            ]
          },
          "metadata": {},
          "output_type": "display_data"
        },
        {
          "data": {
            "text/html": [
              " View project at <a href='https://wandb.ai/vezenbu-korea-advanced-institute-of-science-and-technology/node-classification' target=\"_blank\">https://wandb.ai/vezenbu-korea-advanced-institute-of-science-and-technology/node-classification</a>"
            ],
            "text/plain": [
              "<IPython.core.display.HTML object>"
            ]
          },
          "metadata": {},
          "output_type": "display_data"
        },
        {
          "data": {
            "text/html": [
              " View sweep at <a href='https://wandb.ai/vezenbu-korea-advanced-institute-of-science-and-technology/node-classification/sweeps/vk9i6qwp' target=\"_blank\">https://wandb.ai/vezenbu-korea-advanced-institute-of-science-and-technology/node-classification/sweeps/vk9i6qwp</a>"
            ],
            "text/plain": [
              "<IPython.core.display.HTML object>"
            ]
          },
          "metadata": {},
          "output_type": "display_data"
        },
        {
          "data": {
            "text/html": [
              " View run at <a href='https://wandb.ai/vezenbu-korea-advanced-institute-of-science-and-technology/node-classification/runs/uvtnoro2' target=\"_blank\">https://wandb.ai/vezenbu-korea-advanced-institute-of-science-and-technology/node-classification/runs/uvtnoro2</a>"
            ],
            "text/plain": [
              "<IPython.core.display.HTML object>"
            ]
          },
          "metadata": {},
          "output_type": "display_data"
        },
        {
          "name": "stderr",
          "output_type": "stream",
          "text": [
            "  0%|          | 0/100 [00:00<?, ?it/s]/usr/local/lib/python3.10/dist-packages/torch/jit/_check.py:178: UserWarning: The TorchScript type system doesn't support instance-level annotations on empty non-base types in `__init__`. Instead, either 1) use a type annotation in the class body, or 2) wrap the type in `torch.jit.Attribute`.\n",
            "  warnings.warn(\n",
            "/usr/local/lib/python3.10/dist-packages/torch/jit/_check.py:178: UserWarning: The TorchScript type system doesn't support instance-level annotations on empty non-base types in `__init__`. Instead, either 1) use a type annotation in the class body, or 2) wrap the type in `torch.jit.Attribute`.\n",
            "  warnings.warn(\n",
            "/usr/local/lib/python3.10/dist-packages/torch/jit/_check.py:178: UserWarning: The TorchScript type system doesn't support instance-level annotations on empty non-base types in `__init__`. Instead, either 1) use a type annotation in the class body, or 2) wrap the type in `torch.jit.Attribute`.\n",
            "  warnings.warn(\n",
            "/usr/local/lib/python3.10/dist-packages/torch/jit/_check.py:178: UserWarning: The TorchScript type system doesn't support instance-level annotations on empty non-base types in `__init__`. Instead, either 1) use a type annotation in the class body, or 2) wrap the type in `torch.jit.Attribute`.\n",
            "  warnings.warn(\n",
            "100%|██████████| 100/100 [00:02<00:00, 41.75it/s]\n",
            "/usr/local/lib/python3.10/dist-packages/torch/jit/_check.py:178: UserWarning: The TorchScript type system doesn't support instance-level annotations on empty non-base types in `__init__`. Instead, either 1) use a type annotation in the class body, or 2) wrap the type in `torch.jit.Attribute`.\n",
            "  warnings.warn(\n",
            "/usr/local/lib/python3.10/dist-packages/torch/jit/_check.py:178: UserWarning: The TorchScript type system doesn't support instance-level annotations on empty non-base types in `__init__`. Instead, either 1) use a type annotation in the class body, or 2) wrap the type in `torch.jit.Attribute`.\n",
            "  warnings.warn(\n",
            "/usr/local/lib/python3.10/dist-packages/torch/jit/_check.py:178: UserWarning: The TorchScript type system doesn't support instance-level annotations on empty non-base types in `__init__`. Instead, either 1) use a type annotation in the class body, or 2) wrap the type in `torch.jit.Attribute`.\n",
            "  warnings.warn(\n"
          ]
        },
        {
          "data": {
            "application/vnd.jupyter.widget-view+json": {
              "model_id": "9e25794ed4f7466fa259fb26e96bec94",
              "version_major": 2,
              "version_minor": 0
            },
            "text/plain": [
              "VBox(children=(Label(value='1.729 MB of 1.729 MB uploaded\\r'), FloatProgress(value=1.0, max=1.0)))"
            ]
          },
          "metadata": {},
          "output_type": "display_data"
        },
        {
          "data": {
            "text/html": [
              "<style>\n",
              "    table.wandb td:nth-child(1) { padding: 0 10px; text-align: left ; width: auto;} td:nth-child(2) {text-align: left ; width: 100%}\n",
              "    .wandb-row { display: flex; flex-direction: row; flex-wrap: wrap; justify-content: flex-start; width: 100% }\n",
              "    .wandb-col { display: flex; flex-direction: column; flex-basis: 100%; flex: 1; padding: 10px; }\n",
              "    </style>\n",
              "<div class=\"wandb-row\"><div class=\"wandb-col\"><h3>Run history:</h3><br/><table class=\"wandb\"><tr><td>gcn/accuracy</td><td>▁</td></tr><tr><td>gcn/loss</td><td>██████▇▇▇▇▇▆▆▆▆▆▆▆▆▆▅▅▅▅▅▄▅▄▄▄▃▃▃▃▂▂▂▂▂▁</td></tr></table><br/></div><div class=\"wandb-col\"><h3>Run summary:</h3><br/><table class=\"wandb\"><tr><td>gcn/accuracy</td><td>0.659</td></tr><tr><td>gcn/loss</td><td>1.86942</td></tr></table><br/></div></div>"
            ],
            "text/plain": [
              "<IPython.core.display.HTML object>"
            ]
          },
          "metadata": {},
          "output_type": "display_data"
        },
        {
          "data": {
            "text/html": [
              " View run <strong style=\"color:#cdcd00\">woven-sweep-26</strong> at: <a href='https://wandb.ai/vezenbu-korea-advanced-institute-of-science-and-technology/node-classification/runs/uvtnoro2' target=\"_blank\">https://wandb.ai/vezenbu-korea-advanced-institute-of-science-and-technology/node-classification/runs/uvtnoro2</a><br/> View project at: <a href='https://wandb.ai/vezenbu-korea-advanced-institute-of-science-and-technology/node-classification' target=\"_blank\">https://wandb.ai/vezenbu-korea-advanced-institute-of-science-and-technology/node-classification</a><br/>Synced 5 W&B file(s), 0 media file(s), 4 artifact file(s) and 2 other file(s)"
            ],
            "text/plain": [
              "<IPython.core.display.HTML object>"
            ]
          },
          "metadata": {},
          "output_type": "display_data"
        },
        {
          "data": {
            "text/html": [
              "Find logs at: <code>./wandb/run-20241031_073925-uvtnoro2/logs</code>"
            ],
            "text/plain": [
              "<IPython.core.display.HTML object>"
            ]
          },
          "metadata": {},
          "output_type": "display_data"
        },
        {
          "name": "stderr",
          "output_type": "stream",
          "text": [
            "\u001b[34m\u001b[1mwandb\u001b[0m: Sweep Agent: Waiting for job.\n",
            "\u001b[34m\u001b[1mwandb\u001b[0m: Job received.\n",
            "\u001b[34m\u001b[1mwandb\u001b[0m: Agent Starting Run: zsbvymiq with config:\n",
            "\u001b[34m\u001b[1mwandb\u001b[0m: \thidden_channels: 8\n",
            "\u001b[34m\u001b[1mwandb\u001b[0m: \tlr: 0.0009817499813344717\n",
            "\u001b[34m\u001b[1mwandb\u001b[0m: \tweight_decay: 0.0005006658152907703\n"
          ]
        },
        {
          "data": {
            "text/html": [
              "Tracking run with wandb version 0.18.5"
            ],
            "text/plain": [
              "<IPython.core.display.HTML object>"
            ]
          },
          "metadata": {},
          "output_type": "display_data"
        },
        {
          "data": {
            "text/html": [
              "Run data is saved locally in <code>/root/raw_torch_for_scatter/pyg_examples/wandb/run-20241031_073947-zsbvymiq</code>"
            ],
            "text/plain": [
              "<IPython.core.display.HTML object>"
            ]
          },
          "metadata": {},
          "output_type": "display_data"
        },
        {
          "data": {
            "text/html": [
              "Syncing run <strong><a href='https://wandb.ai/vezenbu-korea-advanced-institute-of-science-and-technology/node-classification/runs/zsbvymiq' target=\"_blank\">generous-sweep-27</a></strong> to <a href='https://wandb.ai/vezenbu-korea-advanced-institute-of-science-and-technology/node-classification' target=\"_blank\">Weights & Biases</a> (<a href='https://wandb.me/run' target=\"_blank\">docs</a>)<br/>Sweep page: <a href='https://wandb.ai/vezenbu-korea-advanced-institute-of-science-and-technology/node-classification/sweeps/vk9i6qwp' target=\"_blank\">https://wandb.ai/vezenbu-korea-advanced-institute-of-science-and-technology/node-classification/sweeps/vk9i6qwp</a>"
            ],
            "text/plain": [
              "<IPython.core.display.HTML object>"
            ]
          },
          "metadata": {},
          "output_type": "display_data"
        },
        {
          "data": {
            "text/html": [
              " View project at <a href='https://wandb.ai/vezenbu-korea-advanced-institute-of-science-and-technology/node-classification' target=\"_blank\">https://wandb.ai/vezenbu-korea-advanced-institute-of-science-and-technology/node-classification</a>"
            ],
            "text/plain": [
              "<IPython.core.display.HTML object>"
            ]
          },
          "metadata": {},
          "output_type": "display_data"
        },
        {
          "data": {
            "text/html": [
              " View sweep at <a href='https://wandb.ai/vezenbu-korea-advanced-institute-of-science-and-technology/node-classification/sweeps/vk9i6qwp' target=\"_blank\">https://wandb.ai/vezenbu-korea-advanced-institute-of-science-and-technology/node-classification/sweeps/vk9i6qwp</a>"
            ],
            "text/plain": [
              "<IPython.core.display.HTML object>"
            ]
          },
          "metadata": {},
          "output_type": "display_data"
        },
        {
          "data": {
            "text/html": [
              " View run at <a href='https://wandb.ai/vezenbu-korea-advanced-institute-of-science-and-technology/node-classification/runs/zsbvymiq' target=\"_blank\">https://wandb.ai/vezenbu-korea-advanced-institute-of-science-and-technology/node-classification/runs/zsbvymiq</a>"
            ],
            "text/plain": [
              "<IPython.core.display.HTML object>"
            ]
          },
          "metadata": {},
          "output_type": "display_data"
        },
        {
          "name": "stderr",
          "output_type": "stream",
          "text": [
            "  0%|          | 0/100 [00:00<?, ?it/s]/usr/local/lib/python3.10/dist-packages/torch/jit/_check.py:178: UserWarning: The TorchScript type system doesn't support instance-level annotations on empty non-base types in `__init__`. Instead, either 1) use a type annotation in the class body, or 2) wrap the type in `torch.jit.Attribute`.\n",
            "  warnings.warn(\n",
            "/usr/local/lib/python3.10/dist-packages/torch/jit/_check.py:178: UserWarning: The TorchScript type system doesn't support instance-level annotations on empty non-base types in `__init__`. Instead, either 1) use a type annotation in the class body, or 2) wrap the type in `torch.jit.Attribute`.\n",
            "  warnings.warn(\n",
            "/usr/local/lib/python3.10/dist-packages/torch/jit/_check.py:178: UserWarning: The TorchScript type system doesn't support instance-level annotations on empty non-base types in `__init__`. Instead, either 1) use a type annotation in the class body, or 2) wrap the type in `torch.jit.Attribute`.\n",
            "  warnings.warn(\n",
            "/usr/local/lib/python3.10/dist-packages/torch/jit/_check.py:178: UserWarning: The TorchScript type system doesn't support instance-level annotations on empty non-base types in `__init__`. Instead, either 1) use a type annotation in the class body, or 2) wrap the type in `torch.jit.Attribute`.\n",
            "  warnings.warn(\n",
            "100%|██████████| 100/100 [00:02<00:00, 40.08it/s]\n",
            "/usr/local/lib/python3.10/dist-packages/torch/jit/_check.py:178: UserWarning: The TorchScript type system doesn't support instance-level annotations on empty non-base types in `__init__`. Instead, either 1) use a type annotation in the class body, or 2) wrap the type in `torch.jit.Attribute`.\n",
            "  warnings.warn(\n",
            "/usr/local/lib/python3.10/dist-packages/torch/jit/_check.py:178: UserWarning: The TorchScript type system doesn't support instance-level annotations on empty non-base types in `__init__`. Instead, either 1) use a type annotation in the class body, or 2) wrap the type in `torch.jit.Attribute`.\n",
            "  warnings.warn(\n",
            "/usr/local/lib/python3.10/dist-packages/torch/jit/_check.py:178: UserWarning: The TorchScript type system doesn't support instance-level annotations on empty non-base types in `__init__`. Instead, either 1) use a type annotation in the class body, or 2) wrap the type in `torch.jit.Attribute`.\n",
            "  warnings.warn(\n"
          ]
        },
        {
          "data": {
            "application/vnd.jupyter.widget-view+json": {
              "model_id": "95ff70675a93443692cc90319ece0a1b",
              "version_major": 2,
              "version_minor": 0
            },
            "text/plain": [
              "VBox(children=(Label(value='1.729 MB of 1.729 MB uploaded\\r'), FloatProgress(value=1.0, max=1.0)))"
            ]
          },
          "metadata": {},
          "output_type": "display_data"
        },
        {
          "data": {
            "text/html": [
              "<style>\n",
              "    table.wandb td:nth-child(1) { padding: 0 10px; text-align: left ; width: auto;} td:nth-child(2) {text-align: left ; width: 100%}\n",
              "    .wandb-row { display: flex; flex-direction: row; flex-wrap: wrap; justify-content: flex-start; width: 100% }\n",
              "    .wandb-col { display: flex; flex-direction: column; flex-basis: 100%; flex: 1; padding: 10px; }\n",
              "    </style>\n",
              "<div class=\"wandb-row\"><div class=\"wandb-col\"><h3>Run history:</h3><br/><table class=\"wandb\"><tr><td>gcn/accuracy</td><td>▁</td></tr><tr><td>gcn/loss</td><td>██████▇▇▇▇▇▇▇▆▆▆▆▆▅▅▅▅▅▅▅▄▄▄▄▄▄▃▃▃▃▃▁▁▂▁</td></tr></table><br/></div><div class=\"wandb-col\"><h3>Run summary:</h3><br/><table class=\"wandb\"><tr><td>gcn/accuracy</td><td>0.664</td></tr><tr><td>gcn/loss</td><td>1.86819</td></tr></table><br/></div></div>"
            ],
            "text/plain": [
              "<IPython.core.display.HTML object>"
            ]
          },
          "metadata": {},
          "output_type": "display_data"
        },
        {
          "data": {
            "text/html": [
              " View run <strong style=\"color:#cdcd00\">generous-sweep-27</strong> at: <a href='https://wandb.ai/vezenbu-korea-advanced-institute-of-science-and-technology/node-classification/runs/zsbvymiq' target=\"_blank\">https://wandb.ai/vezenbu-korea-advanced-institute-of-science-and-technology/node-classification/runs/zsbvymiq</a><br/> View project at: <a href='https://wandb.ai/vezenbu-korea-advanced-institute-of-science-and-technology/node-classification' target=\"_blank\">https://wandb.ai/vezenbu-korea-advanced-institute-of-science-and-technology/node-classification</a><br/>Synced 5 W&B file(s), 0 media file(s), 4 artifact file(s) and 2 other file(s)"
            ],
            "text/plain": [
              "<IPython.core.display.HTML object>"
            ]
          },
          "metadata": {},
          "output_type": "display_data"
        },
        {
          "data": {
            "text/html": [
              "Find logs at: <code>./wandb/run-20241031_073947-zsbvymiq/logs</code>"
            ],
            "text/plain": [
              "<IPython.core.display.HTML object>"
            ]
          },
          "metadata": {},
          "output_type": "display_data"
        },
        {
          "name": "stderr",
          "output_type": "stream",
          "text": [
            "\u001b[34m\u001b[1mwandb\u001b[0m: Agent Starting Run: cxvtbhk2 with config:\n",
            "\u001b[34m\u001b[1mwandb\u001b[0m: \thidden_channels: 8\n",
            "\u001b[34m\u001b[1mwandb\u001b[0m: \tlr: 0.0009907828900161894\n",
            "\u001b[34m\u001b[1mwandb\u001b[0m: \tweight_decay: 0.0005009716324289032\n"
          ]
        },
        {
          "data": {
            "text/html": [
              "Tracking run with wandb version 0.18.5"
            ],
            "text/plain": [
              "<IPython.core.display.HTML object>"
            ]
          },
          "metadata": {},
          "output_type": "display_data"
        },
        {
          "data": {
            "text/html": [
              "Run data is saved locally in <code>/root/raw_torch_for_scatter/pyg_examples/wandb/run-20241031_074003-cxvtbhk2</code>"
            ],
            "text/plain": [
              "<IPython.core.display.HTML object>"
            ]
          },
          "metadata": {},
          "output_type": "display_data"
        },
        {
          "data": {
            "text/html": [
              "Syncing run <strong><a href='https://wandb.ai/vezenbu-korea-advanced-institute-of-science-and-technology/node-classification/runs/cxvtbhk2' target=\"_blank\">northern-sweep-28</a></strong> to <a href='https://wandb.ai/vezenbu-korea-advanced-institute-of-science-and-technology/node-classification' target=\"_blank\">Weights & Biases</a> (<a href='https://wandb.me/run' target=\"_blank\">docs</a>)<br/>Sweep page: <a href='https://wandb.ai/vezenbu-korea-advanced-institute-of-science-and-technology/node-classification/sweeps/vk9i6qwp' target=\"_blank\">https://wandb.ai/vezenbu-korea-advanced-institute-of-science-and-technology/node-classification/sweeps/vk9i6qwp</a>"
            ],
            "text/plain": [
              "<IPython.core.display.HTML object>"
            ]
          },
          "metadata": {},
          "output_type": "display_data"
        },
        {
          "data": {
            "text/html": [
              " View project at <a href='https://wandb.ai/vezenbu-korea-advanced-institute-of-science-and-technology/node-classification' target=\"_blank\">https://wandb.ai/vezenbu-korea-advanced-institute-of-science-and-technology/node-classification</a>"
            ],
            "text/plain": [
              "<IPython.core.display.HTML object>"
            ]
          },
          "metadata": {},
          "output_type": "display_data"
        },
        {
          "data": {
            "text/html": [
              " View sweep at <a href='https://wandb.ai/vezenbu-korea-advanced-institute-of-science-and-technology/node-classification/sweeps/vk9i6qwp' target=\"_blank\">https://wandb.ai/vezenbu-korea-advanced-institute-of-science-and-technology/node-classification/sweeps/vk9i6qwp</a>"
            ],
            "text/plain": [
              "<IPython.core.display.HTML object>"
            ]
          },
          "metadata": {},
          "output_type": "display_data"
        },
        {
          "data": {
            "text/html": [
              " View run at <a href='https://wandb.ai/vezenbu-korea-advanced-institute-of-science-and-technology/node-classification/runs/cxvtbhk2' target=\"_blank\">https://wandb.ai/vezenbu-korea-advanced-institute-of-science-and-technology/node-classification/runs/cxvtbhk2</a>"
            ],
            "text/plain": [
              "<IPython.core.display.HTML object>"
            ]
          },
          "metadata": {},
          "output_type": "display_data"
        },
        {
          "name": "stderr",
          "output_type": "stream",
          "text": [
            "  0%|          | 0/100 [00:00<?, ?it/s]/usr/local/lib/python3.10/dist-packages/torch/jit/_check.py:178: UserWarning: The TorchScript type system doesn't support instance-level annotations on empty non-base types in `__init__`. Instead, either 1) use a type annotation in the class body, or 2) wrap the type in `torch.jit.Attribute`.\n",
            "  warnings.warn(\n",
            "/usr/local/lib/python3.10/dist-packages/torch/jit/_check.py:178: UserWarning: The TorchScript type system doesn't support instance-level annotations on empty non-base types in `__init__`. Instead, either 1) use a type annotation in the class body, or 2) wrap the type in `torch.jit.Attribute`.\n",
            "  warnings.warn(\n",
            "/usr/local/lib/python3.10/dist-packages/torch/jit/_check.py:178: UserWarning: The TorchScript type system doesn't support instance-level annotations on empty non-base types in `__init__`. Instead, either 1) use a type annotation in the class body, or 2) wrap the type in `torch.jit.Attribute`.\n",
            "  warnings.warn(\n",
            "/usr/local/lib/python3.10/dist-packages/torch/jit/_check.py:178: UserWarning: The TorchScript type system doesn't support instance-level annotations on empty non-base types in `__init__`. Instead, either 1) use a type annotation in the class body, or 2) wrap the type in `torch.jit.Attribute`.\n",
            "  warnings.warn(\n",
            "100%|██████████| 100/100 [00:02<00:00, 41.72it/s]\n",
            "/usr/local/lib/python3.10/dist-packages/torch/jit/_check.py:178: UserWarning: The TorchScript type system doesn't support instance-level annotations on empty non-base types in `__init__`. Instead, either 1) use a type annotation in the class body, or 2) wrap the type in `torch.jit.Attribute`.\n",
            "  warnings.warn(\n",
            "/usr/local/lib/python3.10/dist-packages/torch/jit/_check.py:178: UserWarning: The TorchScript type system doesn't support instance-level annotations on empty non-base types in `__init__`. Instead, either 1) use a type annotation in the class body, or 2) wrap the type in `torch.jit.Attribute`.\n",
            "  warnings.warn(\n",
            "/usr/local/lib/python3.10/dist-packages/torch/jit/_check.py:178: UserWarning: The TorchScript type system doesn't support instance-level annotations on empty non-base types in `__init__`. Instead, either 1) use a type annotation in the class body, or 2) wrap the type in `torch.jit.Attribute`.\n",
            "  warnings.warn(\n"
          ]
        },
        {
          "data": {
            "application/vnd.jupyter.widget-view+json": {
              "model_id": "b8c0e39ad17d4a3293bddb4725346696",
              "version_major": 2,
              "version_minor": 0
            },
            "text/plain": [
              "VBox(children=(Label(value='1.729 MB of 1.729 MB uploaded\\r'), FloatProgress(value=1.0, max=1.0)))"
            ]
          },
          "metadata": {},
          "output_type": "display_data"
        },
        {
          "data": {
            "text/html": [
              "<style>\n",
              "    table.wandb td:nth-child(1) { padding: 0 10px; text-align: left ; width: auto;} td:nth-child(2) {text-align: left ; width: 100%}\n",
              "    .wandb-row { display: flex; flex-direction: row; flex-wrap: wrap; justify-content: flex-start; width: 100% }\n",
              "    .wandb-col { display: flex; flex-direction: column; flex-basis: 100%; flex: 1; padding: 10px; }\n",
              "    </style>\n",
              "<div class=\"wandb-row\"><div class=\"wandb-col\"><h3>Run history:</h3><br/><table class=\"wandb\"><tr><td>gcn/accuracy</td><td>▁</td></tr><tr><td>gcn/loss</td><td>█████████▇▇▇▇▇▇▆▆▆▆▆▆▆▅▅▅▅▅▄▅▄▄▄▃▃▃▃▂▂▂▁</td></tr></table><br/></div><div class=\"wandb-col\"><h3>Run summary:</h3><br/><table class=\"wandb\"><tr><td>gcn/accuracy</td><td>0.665</td></tr><tr><td>gcn/loss</td><td>1.86739</td></tr></table><br/></div></div>"
            ],
            "text/plain": [
              "<IPython.core.display.HTML object>"
            ]
          },
          "metadata": {},
          "output_type": "display_data"
        },
        {
          "data": {
            "text/html": [
              " View run <strong style=\"color:#cdcd00\">northern-sweep-28</strong> at: <a href='https://wandb.ai/vezenbu-korea-advanced-institute-of-science-and-technology/node-classification/runs/cxvtbhk2' target=\"_blank\">https://wandb.ai/vezenbu-korea-advanced-institute-of-science-and-technology/node-classification/runs/cxvtbhk2</a><br/> View project at: <a href='https://wandb.ai/vezenbu-korea-advanced-institute-of-science-and-technology/node-classification' target=\"_blank\">https://wandb.ai/vezenbu-korea-advanced-institute-of-science-and-technology/node-classification</a><br/>Synced 5 W&B file(s), 0 media file(s), 4 artifact file(s) and 2 other file(s)"
            ],
            "text/plain": [
              "<IPython.core.display.HTML object>"
            ]
          },
          "metadata": {},
          "output_type": "display_data"
        },
        {
          "data": {
            "text/html": [
              "Find logs at: <code>./wandb/run-20241031_074003-cxvtbhk2/logs</code>"
            ],
            "text/plain": [
              "<IPython.core.display.HTML object>"
            ]
          },
          "metadata": {},
          "output_type": "display_data"
        },
        {
          "name": "stderr",
          "output_type": "stream",
          "text": [
            "\u001b[34m\u001b[1mwandb\u001b[0m: Agent Starting Run: syi83rij with config:\n",
            "\u001b[34m\u001b[1mwandb\u001b[0m: \thidden_channels: 8\n",
            "\u001b[34m\u001b[1mwandb\u001b[0m: \tlr: 0.0009821630314559668\n",
            "\u001b[34m\u001b[1mwandb\u001b[0m: \tweight_decay: 0.0004981959567830847\n"
          ]
        },
        {
          "data": {
            "text/html": [
              "Tracking run with wandb version 0.18.5"
            ],
            "text/plain": [
              "<IPython.core.display.HTML object>"
            ]
          },
          "metadata": {},
          "output_type": "display_data"
        },
        {
          "data": {
            "text/html": [
              "Run data is saved locally in <code>/root/raw_torch_for_scatter/pyg_examples/wandb/run-20241031_074019-syi83rij</code>"
            ],
            "text/plain": [
              "<IPython.core.display.HTML object>"
            ]
          },
          "metadata": {},
          "output_type": "display_data"
        },
        {
          "data": {
            "text/html": [
              "Syncing run <strong><a href='https://wandb.ai/vezenbu-korea-advanced-institute-of-science-and-technology/node-classification/runs/syi83rij' target=\"_blank\">valiant-sweep-29</a></strong> to <a href='https://wandb.ai/vezenbu-korea-advanced-institute-of-science-and-technology/node-classification' target=\"_blank\">Weights & Biases</a> (<a href='https://wandb.me/run' target=\"_blank\">docs</a>)<br/>Sweep page: <a href='https://wandb.ai/vezenbu-korea-advanced-institute-of-science-and-technology/node-classification/sweeps/vk9i6qwp' target=\"_blank\">https://wandb.ai/vezenbu-korea-advanced-institute-of-science-and-technology/node-classification/sweeps/vk9i6qwp</a>"
            ],
            "text/plain": [
              "<IPython.core.display.HTML object>"
            ]
          },
          "metadata": {},
          "output_type": "display_data"
        },
        {
          "data": {
            "text/html": [
              " View project at <a href='https://wandb.ai/vezenbu-korea-advanced-institute-of-science-and-technology/node-classification' target=\"_blank\">https://wandb.ai/vezenbu-korea-advanced-institute-of-science-and-technology/node-classification</a>"
            ],
            "text/plain": [
              "<IPython.core.display.HTML object>"
            ]
          },
          "metadata": {},
          "output_type": "display_data"
        },
        {
          "data": {
            "text/html": [
              " View sweep at <a href='https://wandb.ai/vezenbu-korea-advanced-institute-of-science-and-technology/node-classification/sweeps/vk9i6qwp' target=\"_blank\">https://wandb.ai/vezenbu-korea-advanced-institute-of-science-and-technology/node-classification/sweeps/vk9i6qwp</a>"
            ],
            "text/plain": [
              "<IPython.core.display.HTML object>"
            ]
          },
          "metadata": {},
          "output_type": "display_data"
        },
        {
          "data": {
            "text/html": [
              " View run at <a href='https://wandb.ai/vezenbu-korea-advanced-institute-of-science-and-technology/node-classification/runs/syi83rij' target=\"_blank\">https://wandb.ai/vezenbu-korea-advanced-institute-of-science-and-technology/node-classification/runs/syi83rij</a>"
            ],
            "text/plain": [
              "<IPython.core.display.HTML object>"
            ]
          },
          "metadata": {},
          "output_type": "display_data"
        },
        {
          "name": "stderr",
          "output_type": "stream",
          "text": [
            "  0%|          | 0/100 [00:00<?, ?it/s]/usr/local/lib/python3.10/dist-packages/torch/jit/_check.py:178: UserWarning: The TorchScript type system doesn't support instance-level annotations on empty non-base types in `__init__`. Instead, either 1) use a type annotation in the class body, or 2) wrap the type in `torch.jit.Attribute`.\n",
            "  warnings.warn(\n",
            "/usr/local/lib/python3.10/dist-packages/torch/jit/_check.py:178: UserWarning: The TorchScript type system doesn't support instance-level annotations on empty non-base types in `__init__`. Instead, either 1) use a type annotation in the class body, or 2) wrap the type in `torch.jit.Attribute`.\n",
            "  warnings.warn(\n",
            "/usr/local/lib/python3.10/dist-packages/torch/jit/_check.py:178: UserWarning: The TorchScript type system doesn't support instance-level annotations on empty non-base types in `__init__`. Instead, either 1) use a type annotation in the class body, or 2) wrap the type in `torch.jit.Attribute`.\n",
            "  warnings.warn(\n",
            "/usr/local/lib/python3.10/dist-packages/torch/jit/_check.py:178: UserWarning: The TorchScript type system doesn't support instance-level annotations on empty non-base types in `__init__`. Instead, either 1) use a type annotation in the class body, or 2) wrap the type in `torch.jit.Attribute`.\n",
            "  warnings.warn(\n",
            "100%|██████████| 100/100 [00:02<00:00, 42.17it/s]\n",
            "/usr/local/lib/python3.10/dist-packages/torch/jit/_check.py:178: UserWarning: The TorchScript type system doesn't support instance-level annotations on empty non-base types in `__init__`. Instead, either 1) use a type annotation in the class body, or 2) wrap the type in `torch.jit.Attribute`.\n",
            "  warnings.warn(\n",
            "/usr/local/lib/python3.10/dist-packages/torch/jit/_check.py:178: UserWarning: The TorchScript type system doesn't support instance-level annotations on empty non-base types in `__init__`. Instead, either 1) use a type annotation in the class body, or 2) wrap the type in `torch.jit.Attribute`.\n",
            "  warnings.warn(\n",
            "/usr/local/lib/python3.10/dist-packages/torch/jit/_check.py:178: UserWarning: The TorchScript type system doesn't support instance-level annotations on empty non-base types in `__init__`. Instead, either 1) use a type annotation in the class body, or 2) wrap the type in `torch.jit.Attribute`.\n",
            "  warnings.warn(\n"
          ]
        },
        {
          "data": {
            "application/vnd.jupyter.widget-view+json": {
              "model_id": "14a44da23540480cb6d5cf7bdb7cd161",
              "version_major": 2,
              "version_minor": 0
            },
            "text/plain": [
              "VBox(children=(Label(value='1.729 MB of 1.729 MB uploaded\\r'), FloatProgress(value=1.0, max=1.0)))"
            ]
          },
          "metadata": {},
          "output_type": "display_data"
        },
        {
          "data": {
            "text/html": [
              "<style>\n",
              "    table.wandb td:nth-child(1) { padding: 0 10px; text-align: left ; width: auto;} td:nth-child(2) {text-align: left ; width: 100%}\n",
              "    .wandb-row { display: flex; flex-direction: row; flex-wrap: wrap; justify-content: flex-start; width: 100% }\n",
              "    .wandb-col { display: flex; flex-direction: column; flex-basis: 100%; flex: 1; padding: 10px; }\n",
              "    </style>\n",
              "<div class=\"wandb-row\"><div class=\"wandb-col\"><h3>Run history:</h3><br/><table class=\"wandb\"><tr><td>gcn/accuracy</td><td>▁</td></tr><tr><td>gcn/loss</td><td>██████▇▇▇▇▇▇▇▇▇▇▆▆▆▆▆▆▆▅▅▅▅▅▅▄▄▃▃▃▃▂▂▂▂▁</td></tr></table><br/></div><div class=\"wandb-col\"><h3>Run summary:</h3><br/><table class=\"wandb\"><tr><td>gcn/accuracy</td><td>0.655</td></tr><tr><td>gcn/loss</td><td>1.86804</td></tr></table><br/></div></div>"
            ],
            "text/plain": [
              "<IPython.core.display.HTML object>"
            ]
          },
          "metadata": {},
          "output_type": "display_data"
        },
        {
          "data": {
            "text/html": [
              " View run <strong style=\"color:#cdcd00\">valiant-sweep-29</strong> at: <a href='https://wandb.ai/vezenbu-korea-advanced-institute-of-science-and-technology/node-classification/runs/syi83rij' target=\"_blank\">https://wandb.ai/vezenbu-korea-advanced-institute-of-science-and-technology/node-classification/runs/syi83rij</a><br/> View project at: <a href='https://wandb.ai/vezenbu-korea-advanced-institute-of-science-and-technology/node-classification' target=\"_blank\">https://wandb.ai/vezenbu-korea-advanced-institute-of-science-and-technology/node-classification</a><br/>Synced 5 W&B file(s), 0 media file(s), 4 artifact file(s) and 2 other file(s)"
            ],
            "text/plain": [
              "<IPython.core.display.HTML object>"
            ]
          },
          "metadata": {},
          "output_type": "display_data"
        },
        {
          "data": {
            "text/html": [
              "Find logs at: <code>./wandb/run-20241031_074019-syi83rij/logs</code>"
            ],
            "text/plain": [
              "<IPython.core.display.HTML object>"
            ]
          },
          "metadata": {},
          "output_type": "display_data"
        },
        {
          "name": "stderr",
          "output_type": "stream",
          "text": [
            "\u001b[34m\u001b[1mwandb\u001b[0m: Agent Starting Run: 434xgi95 with config:\n",
            "\u001b[34m\u001b[1mwandb\u001b[0m: \thidden_channels: 8\n",
            "\u001b[34m\u001b[1mwandb\u001b[0m: \tlr: 0.0009939329959471846\n",
            "\u001b[34m\u001b[1mwandb\u001b[0m: \tweight_decay: 0.0005046715927321539\n"
          ]
        },
        {
          "data": {
            "text/html": [
              "Tracking run with wandb version 0.18.5"
            ],
            "text/plain": [
              "<IPython.core.display.HTML object>"
            ]
          },
          "metadata": {},
          "output_type": "display_data"
        },
        {
          "data": {
            "text/html": [
              "Run data is saved locally in <code>/root/raw_torch_for_scatter/pyg_examples/wandb/run-20241031_074035-434xgi95</code>"
            ],
            "text/plain": [
              "<IPython.core.display.HTML object>"
            ]
          },
          "metadata": {},
          "output_type": "display_data"
        },
        {
          "data": {
            "text/html": [
              "Syncing run <strong><a href='https://wandb.ai/vezenbu-korea-advanced-institute-of-science-and-technology/node-classification/runs/434xgi95' target=\"_blank\">balmy-sweep-30</a></strong> to <a href='https://wandb.ai/vezenbu-korea-advanced-institute-of-science-and-technology/node-classification' target=\"_blank\">Weights & Biases</a> (<a href='https://wandb.me/run' target=\"_blank\">docs</a>)<br/>Sweep page: <a href='https://wandb.ai/vezenbu-korea-advanced-institute-of-science-and-technology/node-classification/sweeps/vk9i6qwp' target=\"_blank\">https://wandb.ai/vezenbu-korea-advanced-institute-of-science-and-technology/node-classification/sweeps/vk9i6qwp</a>"
            ],
            "text/plain": [
              "<IPython.core.display.HTML object>"
            ]
          },
          "metadata": {},
          "output_type": "display_data"
        },
        {
          "data": {
            "text/html": [
              " View project at <a href='https://wandb.ai/vezenbu-korea-advanced-institute-of-science-and-technology/node-classification' target=\"_blank\">https://wandb.ai/vezenbu-korea-advanced-institute-of-science-and-technology/node-classification</a>"
            ],
            "text/plain": [
              "<IPython.core.display.HTML object>"
            ]
          },
          "metadata": {},
          "output_type": "display_data"
        },
        {
          "data": {
            "text/html": [
              " View sweep at <a href='https://wandb.ai/vezenbu-korea-advanced-institute-of-science-and-technology/node-classification/sweeps/vk9i6qwp' target=\"_blank\">https://wandb.ai/vezenbu-korea-advanced-institute-of-science-and-technology/node-classification/sweeps/vk9i6qwp</a>"
            ],
            "text/plain": [
              "<IPython.core.display.HTML object>"
            ]
          },
          "metadata": {},
          "output_type": "display_data"
        },
        {
          "data": {
            "text/html": [
              " View run at <a href='https://wandb.ai/vezenbu-korea-advanced-institute-of-science-and-technology/node-classification/runs/434xgi95' target=\"_blank\">https://wandb.ai/vezenbu-korea-advanced-institute-of-science-and-technology/node-classification/runs/434xgi95</a>"
            ],
            "text/plain": [
              "<IPython.core.display.HTML object>"
            ]
          },
          "metadata": {},
          "output_type": "display_data"
        },
        {
          "name": "stderr",
          "output_type": "stream",
          "text": [
            "  0%|          | 0/100 [00:00<?, ?it/s]/usr/local/lib/python3.10/dist-packages/torch/jit/_check.py:178: UserWarning: The TorchScript type system doesn't support instance-level annotations on empty non-base types in `__init__`. Instead, either 1) use a type annotation in the class body, or 2) wrap the type in `torch.jit.Attribute`.\n",
            "  warnings.warn(\n",
            "/usr/local/lib/python3.10/dist-packages/torch/jit/_check.py:178: UserWarning: The TorchScript type system doesn't support instance-level annotations on empty non-base types in `__init__`. Instead, either 1) use a type annotation in the class body, or 2) wrap the type in `torch.jit.Attribute`.\n",
            "  warnings.warn(\n",
            "/usr/local/lib/python3.10/dist-packages/torch/jit/_check.py:178: UserWarning: The TorchScript type system doesn't support instance-level annotations on empty non-base types in `__init__`. Instead, either 1) use a type annotation in the class body, or 2) wrap the type in `torch.jit.Attribute`.\n",
            "  warnings.warn(\n",
            "/usr/local/lib/python3.10/dist-packages/torch/jit/_check.py:178: UserWarning: The TorchScript type system doesn't support instance-level annotations on empty non-base types in `__init__`. Instead, either 1) use a type annotation in the class body, or 2) wrap the type in `torch.jit.Attribute`.\n",
            "  warnings.warn(\n",
            "100%|██████████| 100/100 [00:02<00:00, 35.22it/s]\n",
            "/usr/local/lib/python3.10/dist-packages/torch/jit/_check.py:178: UserWarning: The TorchScript type system doesn't support instance-level annotations on empty non-base types in `__init__`. Instead, either 1) use a type annotation in the class body, or 2) wrap the type in `torch.jit.Attribute`.\n",
            "  warnings.warn(\n",
            "/usr/local/lib/python3.10/dist-packages/torch/jit/_check.py:178: UserWarning: The TorchScript type system doesn't support instance-level annotations on empty non-base types in `__init__`. Instead, either 1) use a type annotation in the class body, or 2) wrap the type in `torch.jit.Attribute`.\n",
            "  warnings.warn(\n",
            "/usr/local/lib/python3.10/dist-packages/torch/jit/_check.py:178: UserWarning: The TorchScript type system doesn't support instance-level annotations on empty non-base types in `__init__`. Instead, either 1) use a type annotation in the class body, or 2) wrap the type in `torch.jit.Attribute`.\n",
            "  warnings.warn(\n"
          ]
        },
        {
          "data": {
            "application/vnd.jupyter.widget-view+json": {
              "model_id": "3f1854373f194943a2c8e512e7a4d85d",
              "version_major": 2,
              "version_minor": 0
            },
            "text/plain": [
              "VBox(children=(Label(value='1.729 MB of 1.729 MB uploaded\\r'), FloatProgress(value=1.0, max=1.0)))"
            ]
          },
          "metadata": {},
          "output_type": "display_data"
        },
        {
          "data": {
            "text/html": [
              "<style>\n",
              "    table.wandb td:nth-child(1) { padding: 0 10px; text-align: left ; width: auto;} td:nth-child(2) {text-align: left ; width: 100%}\n",
              "    .wandb-row { display: flex; flex-direction: row; flex-wrap: wrap; justify-content: flex-start; width: 100% }\n",
              "    .wandb-col { display: flex; flex-direction: column; flex-basis: 100%; flex: 1; padding: 10px; }\n",
              "    </style>\n",
              "<div class=\"wandb-row\"><div class=\"wandb-col\"><h3>Run history:</h3><br/><table class=\"wandb\"><tr><td>gcn/accuracy</td><td>▁</td></tr><tr><td>gcn/loss</td><td>█████▇▇▇▇▇▇▇▇▇▇▆▆▆▆▆▆▆▅▅▅▅▄▄▄▄▃▃▃▃▃▂▂▂▁▁</td></tr></table><br/></div><div class=\"wandb-col\"><h3>Run summary:</h3><br/><table class=\"wandb\"><tr><td>gcn/accuracy</td><td>0.662</td></tr><tr><td>gcn/loss</td><td>1.86717</td></tr></table><br/></div></div>"
            ],
            "text/plain": [
              "<IPython.core.display.HTML object>"
            ]
          },
          "metadata": {},
          "output_type": "display_data"
        },
        {
          "data": {
            "text/html": [
              " View run <strong style=\"color:#cdcd00\">balmy-sweep-30</strong> at: <a href='https://wandb.ai/vezenbu-korea-advanced-institute-of-science-and-technology/node-classification/runs/434xgi95' target=\"_blank\">https://wandb.ai/vezenbu-korea-advanced-institute-of-science-and-technology/node-classification/runs/434xgi95</a><br/> View project at: <a href='https://wandb.ai/vezenbu-korea-advanced-institute-of-science-and-technology/node-classification' target=\"_blank\">https://wandb.ai/vezenbu-korea-advanced-institute-of-science-and-technology/node-classification</a><br/>Synced 5 W&B file(s), 0 media file(s), 4 artifact file(s) and 2 other file(s)"
            ],
            "text/plain": [
              "<IPython.core.display.HTML object>"
            ]
          },
          "metadata": {},
          "output_type": "display_data"
        },
        {
          "data": {
            "text/html": [
              "Find logs at: <code>./wandb/run-20241031_074035-434xgi95/logs</code>"
            ],
            "text/plain": [
              "<IPython.core.display.HTML object>"
            ]
          },
          "metadata": {},
          "output_type": "display_data"
        },
        {
          "name": "stderr",
          "output_type": "stream",
          "text": [
            "\u001b[34m\u001b[1mwandb\u001b[0m: Agent Starting Run: ij69viri with config:\n",
            "\u001b[34m\u001b[1mwandb\u001b[0m: \thidden_channels: 8\n",
            "\u001b[34m\u001b[1mwandb\u001b[0m: \tlr: 0.0009661996576203924\n",
            "\u001b[34m\u001b[1mwandb\u001b[0m: \tweight_decay: 0.0005021978184184144\n"
          ]
        },
        {
          "data": {
            "text/html": [
              "Tracking run with wandb version 0.18.5"
            ],
            "text/plain": [
              "<IPython.core.display.HTML object>"
            ]
          },
          "metadata": {},
          "output_type": "display_data"
        },
        {
          "data": {
            "text/html": [
              "Run data is saved locally in <code>/root/raw_torch_for_scatter/pyg_examples/wandb/run-20241031_074051-ij69viri</code>"
            ],
            "text/plain": [
              "<IPython.core.display.HTML object>"
            ]
          },
          "metadata": {},
          "output_type": "display_data"
        },
        {
          "data": {
            "text/html": [
              "Syncing run <strong><a href='https://wandb.ai/vezenbu-korea-advanced-institute-of-science-and-technology/node-classification/runs/ij69viri' target=\"_blank\">quiet-sweep-31</a></strong> to <a href='https://wandb.ai/vezenbu-korea-advanced-institute-of-science-and-technology/node-classification' target=\"_blank\">Weights & Biases</a> (<a href='https://wandb.me/run' target=\"_blank\">docs</a>)<br/>Sweep page: <a href='https://wandb.ai/vezenbu-korea-advanced-institute-of-science-and-technology/node-classification/sweeps/vk9i6qwp' target=\"_blank\">https://wandb.ai/vezenbu-korea-advanced-institute-of-science-and-technology/node-classification/sweeps/vk9i6qwp</a>"
            ],
            "text/plain": [
              "<IPython.core.display.HTML object>"
            ]
          },
          "metadata": {},
          "output_type": "display_data"
        },
        {
          "data": {
            "text/html": [
              " View project at <a href='https://wandb.ai/vezenbu-korea-advanced-institute-of-science-and-technology/node-classification' target=\"_blank\">https://wandb.ai/vezenbu-korea-advanced-institute-of-science-and-technology/node-classification</a>"
            ],
            "text/plain": [
              "<IPython.core.display.HTML object>"
            ]
          },
          "metadata": {},
          "output_type": "display_data"
        },
        {
          "data": {
            "text/html": [
              " View sweep at <a href='https://wandb.ai/vezenbu-korea-advanced-institute-of-science-and-technology/node-classification/sweeps/vk9i6qwp' target=\"_blank\">https://wandb.ai/vezenbu-korea-advanced-institute-of-science-and-technology/node-classification/sweeps/vk9i6qwp</a>"
            ],
            "text/plain": [
              "<IPython.core.display.HTML object>"
            ]
          },
          "metadata": {},
          "output_type": "display_data"
        },
        {
          "data": {
            "text/html": [
              " View run at <a href='https://wandb.ai/vezenbu-korea-advanced-institute-of-science-and-technology/node-classification/runs/ij69viri' target=\"_blank\">https://wandb.ai/vezenbu-korea-advanced-institute-of-science-and-technology/node-classification/runs/ij69viri</a>"
            ],
            "text/plain": [
              "<IPython.core.display.HTML object>"
            ]
          },
          "metadata": {},
          "output_type": "display_data"
        },
        {
          "name": "stderr",
          "output_type": "stream",
          "text": [
            "  0%|          | 0/100 [00:00<?, ?it/s]/usr/local/lib/python3.10/dist-packages/torch/jit/_check.py:178: UserWarning: The TorchScript type system doesn't support instance-level annotations on empty non-base types in `__init__`. Instead, either 1) use a type annotation in the class body, or 2) wrap the type in `torch.jit.Attribute`.\n",
            "  warnings.warn(\n",
            "/usr/local/lib/python3.10/dist-packages/torch/jit/_check.py:178: UserWarning: The TorchScript type system doesn't support instance-level annotations on empty non-base types in `__init__`. Instead, either 1) use a type annotation in the class body, or 2) wrap the type in `torch.jit.Attribute`.\n",
            "  warnings.warn(\n",
            "/usr/local/lib/python3.10/dist-packages/torch/jit/_check.py:178: UserWarning: The TorchScript type system doesn't support instance-level annotations on empty non-base types in `__init__`. Instead, either 1) use a type annotation in the class body, or 2) wrap the type in `torch.jit.Attribute`.\n",
            "  warnings.warn(\n",
            "/usr/local/lib/python3.10/dist-packages/torch/jit/_check.py:178: UserWarning: The TorchScript type system doesn't support instance-level annotations on empty non-base types in `__init__`. Instead, either 1) use a type annotation in the class body, or 2) wrap the type in `torch.jit.Attribute`.\n",
            "  warnings.warn(\n",
            "100%|██████████| 100/100 [00:02<00:00, 41.31it/s]\n",
            "/usr/local/lib/python3.10/dist-packages/torch/jit/_check.py:178: UserWarning: The TorchScript type system doesn't support instance-level annotations on empty non-base types in `__init__`. Instead, either 1) use a type annotation in the class body, or 2) wrap the type in `torch.jit.Attribute`.\n",
            "  warnings.warn(\n",
            "/usr/local/lib/python3.10/dist-packages/torch/jit/_check.py:178: UserWarning: The TorchScript type system doesn't support instance-level annotations on empty non-base types in `__init__`. Instead, either 1) use a type annotation in the class body, or 2) wrap the type in `torch.jit.Attribute`.\n",
            "  warnings.warn(\n",
            "/usr/local/lib/python3.10/dist-packages/torch/jit/_check.py:178: UserWarning: The TorchScript type system doesn't support instance-level annotations on empty non-base types in `__init__`. Instead, either 1) use a type annotation in the class body, or 2) wrap the type in `torch.jit.Attribute`.\n",
            "  warnings.warn(\n"
          ]
        },
        {
          "data": {
            "application/vnd.jupyter.widget-view+json": {
              "model_id": "6f56ac9dc95243b88485c99b484957f3",
              "version_major": 2,
              "version_minor": 0
            },
            "text/plain": [
              "VBox(children=(Label(value='1.729 MB of 1.729 MB uploaded\\r'), FloatProgress(value=1.0, max=1.0)))"
            ]
          },
          "metadata": {},
          "output_type": "display_data"
        },
        {
          "data": {
            "text/html": [
              "<style>\n",
              "    table.wandb td:nth-child(1) { padding: 0 10px; text-align: left ; width: auto;} td:nth-child(2) {text-align: left ; width: 100%}\n",
              "    .wandb-row { display: flex; flex-direction: row; flex-wrap: wrap; justify-content: flex-start; width: 100% }\n",
              "    .wandb-col { display: flex; flex-direction: column; flex-basis: 100%; flex: 1; padding: 10px; }\n",
              "    </style>\n",
              "<div class=\"wandb-row\"><div class=\"wandb-col\"><h3>Run history:</h3><br/><table class=\"wandb\"><tr><td>gcn/accuracy</td><td>▁</td></tr><tr><td>gcn/loss</td><td>█████▇▇▇▇▇▇▇▆▆▆▆▅▅▅▅▄▄▅▄▄▃▄▃▃▃▃▂▃▂▂▁▂▁▁▁</td></tr></table><br/></div><div class=\"wandb-col\"><h3>Run summary:</h3><br/><table class=\"wandb\"><tr><td>gcn/accuracy</td><td>0.662</td></tr><tr><td>gcn/loss</td><td>1.86979</td></tr></table><br/></div></div>"
            ],
            "text/plain": [
              "<IPython.core.display.HTML object>"
            ]
          },
          "metadata": {},
          "output_type": "display_data"
        },
        {
          "data": {
            "text/html": [
              " View run <strong style=\"color:#cdcd00\">quiet-sweep-31</strong> at: <a href='https://wandb.ai/vezenbu-korea-advanced-institute-of-science-and-technology/node-classification/runs/ij69viri' target=\"_blank\">https://wandb.ai/vezenbu-korea-advanced-institute-of-science-and-technology/node-classification/runs/ij69viri</a><br/> View project at: <a href='https://wandb.ai/vezenbu-korea-advanced-institute-of-science-and-technology/node-classification' target=\"_blank\">https://wandb.ai/vezenbu-korea-advanced-institute-of-science-and-technology/node-classification</a><br/>Synced 5 W&B file(s), 0 media file(s), 4 artifact file(s) and 2 other file(s)"
            ],
            "text/plain": [
              "<IPython.core.display.HTML object>"
            ]
          },
          "metadata": {},
          "output_type": "display_data"
        },
        {
          "data": {
            "text/html": [
              "Find logs at: <code>./wandb/run-20241031_074051-ij69viri/logs</code>"
            ],
            "text/plain": [
              "<IPython.core.display.HTML object>"
            ]
          },
          "metadata": {},
          "output_type": "display_data"
        },
        {
          "name": "stderr",
          "output_type": "stream",
          "text": [
            "\u001b[34m\u001b[1mwandb\u001b[0m: Agent Starting Run: kxtgkf2z with config:\n",
            "\u001b[34m\u001b[1mwandb\u001b[0m: \thidden_channels: 8\n",
            "\u001b[34m\u001b[1mwandb\u001b[0m: \tlr: 0.0009310463742069872\n",
            "\u001b[34m\u001b[1mwandb\u001b[0m: \tweight_decay: 0.0005049514776224575\n"
          ]
        },
        {
          "data": {
            "text/html": [
              "Tracking run with wandb version 0.18.5"
            ],
            "text/plain": [
              "<IPython.core.display.HTML object>"
            ]
          },
          "metadata": {},
          "output_type": "display_data"
        },
        {
          "data": {
            "text/html": [
              "Run data is saved locally in <code>/root/raw_torch_for_scatter/pyg_examples/wandb/run-20241031_074107-kxtgkf2z</code>"
            ],
            "text/plain": [
              "<IPython.core.display.HTML object>"
            ]
          },
          "metadata": {},
          "output_type": "display_data"
        },
        {
          "data": {
            "text/html": [
              "Syncing run <strong><a href='https://wandb.ai/vezenbu-korea-advanced-institute-of-science-and-technology/node-classification/runs/kxtgkf2z' target=\"_blank\">twilight-sweep-32</a></strong> to <a href='https://wandb.ai/vezenbu-korea-advanced-institute-of-science-and-technology/node-classification' target=\"_blank\">Weights & Biases</a> (<a href='https://wandb.me/run' target=\"_blank\">docs</a>)<br/>Sweep page: <a href='https://wandb.ai/vezenbu-korea-advanced-institute-of-science-and-technology/node-classification/sweeps/vk9i6qwp' target=\"_blank\">https://wandb.ai/vezenbu-korea-advanced-institute-of-science-and-technology/node-classification/sweeps/vk9i6qwp</a>"
            ],
            "text/plain": [
              "<IPython.core.display.HTML object>"
            ]
          },
          "metadata": {},
          "output_type": "display_data"
        },
        {
          "data": {
            "text/html": [
              " View project at <a href='https://wandb.ai/vezenbu-korea-advanced-institute-of-science-and-technology/node-classification' target=\"_blank\">https://wandb.ai/vezenbu-korea-advanced-institute-of-science-and-technology/node-classification</a>"
            ],
            "text/plain": [
              "<IPython.core.display.HTML object>"
            ]
          },
          "metadata": {},
          "output_type": "display_data"
        },
        {
          "data": {
            "text/html": [
              " View sweep at <a href='https://wandb.ai/vezenbu-korea-advanced-institute-of-science-and-technology/node-classification/sweeps/vk9i6qwp' target=\"_blank\">https://wandb.ai/vezenbu-korea-advanced-institute-of-science-and-technology/node-classification/sweeps/vk9i6qwp</a>"
            ],
            "text/plain": [
              "<IPython.core.display.HTML object>"
            ]
          },
          "metadata": {},
          "output_type": "display_data"
        },
        {
          "data": {
            "text/html": [
              " View run at <a href='https://wandb.ai/vezenbu-korea-advanced-institute-of-science-and-technology/node-classification/runs/kxtgkf2z' target=\"_blank\">https://wandb.ai/vezenbu-korea-advanced-institute-of-science-and-technology/node-classification/runs/kxtgkf2z</a>"
            ],
            "text/plain": [
              "<IPython.core.display.HTML object>"
            ]
          },
          "metadata": {},
          "output_type": "display_data"
        },
        {
          "name": "stderr",
          "output_type": "stream",
          "text": [
            "  0%|          | 0/100 [00:00<?, ?it/s]/usr/local/lib/python3.10/dist-packages/torch/jit/_check.py:178: UserWarning: The TorchScript type system doesn't support instance-level annotations on empty non-base types in `__init__`. Instead, either 1) use a type annotation in the class body, or 2) wrap the type in `torch.jit.Attribute`.\n",
            "  warnings.warn(\n",
            "/usr/local/lib/python3.10/dist-packages/torch/jit/_check.py:178: UserWarning: The TorchScript type system doesn't support instance-level annotations on empty non-base types in `__init__`. Instead, either 1) use a type annotation in the class body, or 2) wrap the type in `torch.jit.Attribute`.\n",
            "  warnings.warn(\n",
            "/usr/local/lib/python3.10/dist-packages/torch/jit/_check.py:178: UserWarning: The TorchScript type system doesn't support instance-level annotations on empty non-base types in `__init__`. Instead, either 1) use a type annotation in the class body, or 2) wrap the type in `torch.jit.Attribute`.\n",
            "  warnings.warn(\n",
            "/usr/local/lib/python3.10/dist-packages/torch/jit/_check.py:178: UserWarning: The TorchScript type system doesn't support instance-level annotations on empty non-base types in `__init__`. Instead, either 1) use a type annotation in the class body, or 2) wrap the type in `torch.jit.Attribute`.\n",
            "  warnings.warn(\n",
            "100%|██████████| 100/100 [00:02<00:00, 41.58it/s]\n",
            "/usr/local/lib/python3.10/dist-packages/torch/jit/_check.py:178: UserWarning: The TorchScript type system doesn't support instance-level annotations on empty non-base types in `__init__`. Instead, either 1) use a type annotation in the class body, or 2) wrap the type in `torch.jit.Attribute`.\n",
            "  warnings.warn(\n",
            "/usr/local/lib/python3.10/dist-packages/torch/jit/_check.py:178: UserWarning: The TorchScript type system doesn't support instance-level annotations on empty non-base types in `__init__`. Instead, either 1) use a type annotation in the class body, or 2) wrap the type in `torch.jit.Attribute`.\n",
            "  warnings.warn(\n",
            "/usr/local/lib/python3.10/dist-packages/torch/jit/_check.py:178: UserWarning: The TorchScript type system doesn't support instance-level annotations on empty non-base types in `__init__`. Instead, either 1) use a type annotation in the class body, or 2) wrap the type in `torch.jit.Attribute`.\n",
            "  warnings.warn(\n"
          ]
        },
        {
          "data": {
            "application/vnd.jupyter.widget-view+json": {
              "model_id": "d58b179831ba428b849ef3da76a0b2ee",
              "version_major": 2,
              "version_minor": 0
            },
            "text/plain": [
              "VBox(children=(Label(value='1.730 MB of 1.730 MB uploaded\\r'), FloatProgress(value=1.0, max=1.0)))"
            ]
          },
          "metadata": {},
          "output_type": "display_data"
        },
        {
          "data": {
            "text/html": [
              "<style>\n",
              "    table.wandb td:nth-child(1) { padding: 0 10px; text-align: left ; width: auto;} td:nth-child(2) {text-align: left ; width: 100%}\n",
              "    .wandb-row { display: flex; flex-direction: row; flex-wrap: wrap; justify-content: flex-start; width: 100% }\n",
              "    .wandb-col { display: flex; flex-direction: column; flex-basis: 100%; flex: 1; padding: 10px; }\n",
              "    </style>\n",
              "<div class=\"wandb-row\"><div class=\"wandb-col\"><h3>Run history:</h3><br/><table class=\"wandb\"><tr><td>gcn/accuracy</td><td>▁</td></tr><tr><td>gcn/loss</td><td>███████████▇▇▇▇▇▇▇▇▇▆▆▆▅▅▅▅▅▅▅▄▄▃▃▃▃▂▃▂▁</td></tr></table><br/></div><div class=\"wandb-col\"><h3>Run summary:</h3><br/><table class=\"wandb\"><tr><td>gcn/accuracy</td><td>0.661</td></tr><tr><td>gcn/loss</td><td>1.87321</td></tr></table><br/></div></div>"
            ],
            "text/plain": [
              "<IPython.core.display.HTML object>"
            ]
          },
          "metadata": {},
          "output_type": "display_data"
        },
        {
          "data": {
            "text/html": [
              " View run <strong style=\"color:#cdcd00\">twilight-sweep-32</strong> at: <a href='https://wandb.ai/vezenbu-korea-advanced-institute-of-science-and-technology/node-classification/runs/kxtgkf2z' target=\"_blank\">https://wandb.ai/vezenbu-korea-advanced-institute-of-science-and-technology/node-classification/runs/kxtgkf2z</a><br/> View project at: <a href='https://wandb.ai/vezenbu-korea-advanced-institute-of-science-and-technology/node-classification' target=\"_blank\">https://wandb.ai/vezenbu-korea-advanced-institute-of-science-and-technology/node-classification</a><br/>Synced 5 W&B file(s), 0 media file(s), 4 artifact file(s) and 2 other file(s)"
            ],
            "text/plain": [
              "<IPython.core.display.HTML object>"
            ]
          },
          "metadata": {},
          "output_type": "display_data"
        },
        {
          "data": {
            "text/html": [
              "Find logs at: <code>./wandb/run-20241031_074107-kxtgkf2z/logs</code>"
            ],
            "text/plain": [
              "<IPython.core.display.HTML object>"
            ]
          },
          "metadata": {},
          "output_type": "display_data"
        },
        {
          "name": "stderr",
          "output_type": "stream",
          "text": [
            "\u001b[34m\u001b[1mwandb\u001b[0m: Agent Starting Run: 5uyj64x8 with config:\n",
            "\u001b[34m\u001b[1mwandb\u001b[0m: \thidden_channels: 8\n",
            "\u001b[34m\u001b[1mwandb\u001b[0m: \tlr: 0.0009030062974201982\n",
            "\u001b[34m\u001b[1mwandb\u001b[0m: \tweight_decay: 0.0005027964645357968\n"
          ]
        },
        {
          "data": {
            "text/html": [
              "Tracking run with wandb version 0.18.5"
            ],
            "text/plain": [
              "<IPython.core.display.HTML object>"
            ]
          },
          "metadata": {},
          "output_type": "display_data"
        },
        {
          "data": {
            "text/html": [
              "Run data is saved locally in <code>/root/raw_torch_for_scatter/pyg_examples/wandb/run-20241031_074123-5uyj64x8</code>"
            ],
            "text/plain": [
              "<IPython.core.display.HTML object>"
            ]
          },
          "metadata": {},
          "output_type": "display_data"
        },
        {
          "data": {
            "text/html": [
              "Syncing run <strong><a href='https://wandb.ai/vezenbu-korea-advanced-institute-of-science-and-technology/node-classification/runs/5uyj64x8' target=\"_blank\">swept-sweep-33</a></strong> to <a href='https://wandb.ai/vezenbu-korea-advanced-institute-of-science-and-technology/node-classification' target=\"_blank\">Weights & Biases</a> (<a href='https://wandb.me/run' target=\"_blank\">docs</a>)<br/>Sweep page: <a href='https://wandb.ai/vezenbu-korea-advanced-institute-of-science-and-technology/node-classification/sweeps/vk9i6qwp' target=\"_blank\">https://wandb.ai/vezenbu-korea-advanced-institute-of-science-and-technology/node-classification/sweeps/vk9i6qwp</a>"
            ],
            "text/plain": [
              "<IPython.core.display.HTML object>"
            ]
          },
          "metadata": {},
          "output_type": "display_data"
        },
        {
          "data": {
            "text/html": [
              " View project at <a href='https://wandb.ai/vezenbu-korea-advanced-institute-of-science-and-technology/node-classification' target=\"_blank\">https://wandb.ai/vezenbu-korea-advanced-institute-of-science-and-technology/node-classification</a>"
            ],
            "text/plain": [
              "<IPython.core.display.HTML object>"
            ]
          },
          "metadata": {},
          "output_type": "display_data"
        },
        {
          "data": {
            "text/html": [
              " View sweep at <a href='https://wandb.ai/vezenbu-korea-advanced-institute-of-science-and-technology/node-classification/sweeps/vk9i6qwp' target=\"_blank\">https://wandb.ai/vezenbu-korea-advanced-institute-of-science-and-technology/node-classification/sweeps/vk9i6qwp</a>"
            ],
            "text/plain": [
              "<IPython.core.display.HTML object>"
            ]
          },
          "metadata": {},
          "output_type": "display_data"
        },
        {
          "data": {
            "text/html": [
              " View run at <a href='https://wandb.ai/vezenbu-korea-advanced-institute-of-science-and-technology/node-classification/runs/5uyj64x8' target=\"_blank\">https://wandb.ai/vezenbu-korea-advanced-institute-of-science-and-technology/node-classification/runs/5uyj64x8</a>"
            ],
            "text/plain": [
              "<IPython.core.display.HTML object>"
            ]
          },
          "metadata": {},
          "output_type": "display_data"
        },
        {
          "name": "stderr",
          "output_type": "stream",
          "text": [
            "  0%|          | 0/100 [00:00<?, ?it/s]/usr/local/lib/python3.10/dist-packages/torch/jit/_check.py:178: UserWarning: The TorchScript type system doesn't support instance-level annotations on empty non-base types in `__init__`. Instead, either 1) use a type annotation in the class body, or 2) wrap the type in `torch.jit.Attribute`.\n",
            "  warnings.warn(\n",
            "/usr/local/lib/python3.10/dist-packages/torch/jit/_check.py:178: UserWarning: The TorchScript type system doesn't support instance-level annotations on empty non-base types in `__init__`. Instead, either 1) use a type annotation in the class body, or 2) wrap the type in `torch.jit.Attribute`.\n",
            "  warnings.warn(\n",
            "/usr/local/lib/python3.10/dist-packages/torch/jit/_check.py:178: UserWarning: The TorchScript type system doesn't support instance-level annotations on empty non-base types in `__init__`. Instead, either 1) use a type annotation in the class body, or 2) wrap the type in `torch.jit.Attribute`.\n",
            "  warnings.warn(\n",
            "/usr/local/lib/python3.10/dist-packages/torch/jit/_check.py:178: UserWarning: The TorchScript type system doesn't support instance-level annotations on empty non-base types in `__init__`. Instead, either 1) use a type annotation in the class body, or 2) wrap the type in `torch.jit.Attribute`.\n",
            "  warnings.warn(\n",
            "100%|██████████| 100/100 [00:02<00:00, 41.71it/s]\n",
            "/usr/local/lib/python3.10/dist-packages/torch/jit/_check.py:178: UserWarning: The TorchScript type system doesn't support instance-level annotations on empty non-base types in `__init__`. Instead, either 1) use a type annotation in the class body, or 2) wrap the type in `torch.jit.Attribute`.\n",
            "  warnings.warn(\n",
            "/usr/local/lib/python3.10/dist-packages/torch/jit/_check.py:178: UserWarning: The TorchScript type system doesn't support instance-level annotations on empty non-base types in `__init__`. Instead, either 1) use a type annotation in the class body, or 2) wrap the type in `torch.jit.Attribute`.\n",
            "  warnings.warn(\n",
            "/usr/local/lib/python3.10/dist-packages/torch/jit/_check.py:178: UserWarning: The TorchScript type system doesn't support instance-level annotations on empty non-base types in `__init__`. Instead, either 1) use a type annotation in the class body, or 2) wrap the type in `torch.jit.Attribute`.\n",
            "  warnings.warn(\n"
          ]
        },
        {
          "data": {
            "application/vnd.jupyter.widget-view+json": {
              "model_id": "82be20a3a5dc4bef9660e1eb464d53cb",
              "version_major": 2,
              "version_minor": 0
            },
            "text/plain": [
              "VBox(children=(Label(value='1.729 MB of 1.729 MB uploaded\\r'), FloatProgress(value=1.0, max=1.0)))"
            ]
          },
          "metadata": {},
          "output_type": "display_data"
        },
        {
          "data": {
            "text/html": [
              "<style>\n",
              "    table.wandb td:nth-child(1) { padding: 0 10px; text-align: left ; width: auto;} td:nth-child(2) {text-align: left ; width: 100%}\n",
              "    .wandb-row { display: flex; flex-direction: row; flex-wrap: wrap; justify-content: flex-start; width: 100% }\n",
              "    .wandb-col { display: flex; flex-direction: column; flex-basis: 100%; flex: 1; padding: 10px; }\n",
              "    </style>\n",
              "<div class=\"wandb-row\"><div class=\"wandb-col\"><h3>Run history:</h3><br/><table class=\"wandb\"><tr><td>gcn/accuracy</td><td>▁</td></tr><tr><td>gcn/loss</td><td>████████▇▇▇▇▇▇▇▆▆▆▆▆▆▆▆▅▅▅▅▅▄▄▄▄▃▃▃▂▂▂▁▁</td></tr></table><br/></div><div class=\"wandb-col\"><h3>Run summary:</h3><br/><table class=\"wandb\"><tr><td>gcn/accuracy</td><td>0.657</td></tr><tr><td>gcn/loss</td><td>1.87442</td></tr></table><br/></div></div>"
            ],
            "text/plain": [
              "<IPython.core.display.HTML object>"
            ]
          },
          "metadata": {},
          "output_type": "display_data"
        },
        {
          "data": {
            "text/html": [
              " View run <strong style=\"color:#cdcd00\">swept-sweep-33</strong> at: <a href='https://wandb.ai/vezenbu-korea-advanced-institute-of-science-and-technology/node-classification/runs/5uyj64x8' target=\"_blank\">https://wandb.ai/vezenbu-korea-advanced-institute-of-science-and-technology/node-classification/runs/5uyj64x8</a><br/> View project at: <a href='https://wandb.ai/vezenbu-korea-advanced-institute-of-science-and-technology/node-classification' target=\"_blank\">https://wandb.ai/vezenbu-korea-advanced-institute-of-science-and-technology/node-classification</a><br/>Synced 5 W&B file(s), 0 media file(s), 4 artifact file(s) and 2 other file(s)"
            ],
            "text/plain": [
              "<IPython.core.display.HTML object>"
            ]
          },
          "metadata": {},
          "output_type": "display_data"
        },
        {
          "data": {
            "text/html": [
              "Find logs at: <code>./wandb/run-20241031_074123-5uyj64x8/logs</code>"
            ],
            "text/plain": [
              "<IPython.core.display.HTML object>"
            ]
          },
          "metadata": {},
          "output_type": "display_data"
        },
        {
          "name": "stderr",
          "output_type": "stream",
          "text": [
            "\u001b[34m\u001b[1mwandb\u001b[0m: Agent Starting Run: zfrqvaoq with config:\n",
            "\u001b[34m\u001b[1mwandb\u001b[0m: \thidden_channels: 8\n",
            "\u001b[34m\u001b[1mwandb\u001b[0m: \tlr: 0.0009045666939469112\n",
            "\u001b[34m\u001b[1mwandb\u001b[0m: \tweight_decay: 0.0005020966972634634\n"
          ]
        },
        {
          "data": {
            "text/html": [
              "Tracking run with wandb version 0.18.5"
            ],
            "text/plain": [
              "<IPython.core.display.HTML object>"
            ]
          },
          "metadata": {},
          "output_type": "display_data"
        },
        {
          "data": {
            "text/html": [
              "Run data is saved locally in <code>/root/raw_torch_for_scatter/pyg_examples/wandb/run-20241031_074139-zfrqvaoq</code>"
            ],
            "text/plain": [
              "<IPython.core.display.HTML object>"
            ]
          },
          "metadata": {},
          "output_type": "display_data"
        },
        {
          "data": {
            "text/html": [
              "Syncing run <strong><a href='https://wandb.ai/vezenbu-korea-advanced-institute-of-science-and-technology/node-classification/runs/zfrqvaoq' target=\"_blank\">twilight-sweep-34</a></strong> to <a href='https://wandb.ai/vezenbu-korea-advanced-institute-of-science-and-technology/node-classification' target=\"_blank\">Weights & Biases</a> (<a href='https://wandb.me/run' target=\"_blank\">docs</a>)<br/>Sweep page: <a href='https://wandb.ai/vezenbu-korea-advanced-institute-of-science-and-technology/node-classification/sweeps/vk9i6qwp' target=\"_blank\">https://wandb.ai/vezenbu-korea-advanced-institute-of-science-and-technology/node-classification/sweeps/vk9i6qwp</a>"
            ],
            "text/plain": [
              "<IPython.core.display.HTML object>"
            ]
          },
          "metadata": {},
          "output_type": "display_data"
        },
        {
          "data": {
            "text/html": [
              " View project at <a href='https://wandb.ai/vezenbu-korea-advanced-institute-of-science-and-technology/node-classification' target=\"_blank\">https://wandb.ai/vezenbu-korea-advanced-institute-of-science-and-technology/node-classification</a>"
            ],
            "text/plain": [
              "<IPython.core.display.HTML object>"
            ]
          },
          "metadata": {},
          "output_type": "display_data"
        },
        {
          "data": {
            "text/html": [
              " View sweep at <a href='https://wandb.ai/vezenbu-korea-advanced-institute-of-science-and-technology/node-classification/sweeps/vk9i6qwp' target=\"_blank\">https://wandb.ai/vezenbu-korea-advanced-institute-of-science-and-technology/node-classification/sweeps/vk9i6qwp</a>"
            ],
            "text/plain": [
              "<IPython.core.display.HTML object>"
            ]
          },
          "metadata": {},
          "output_type": "display_data"
        },
        {
          "data": {
            "text/html": [
              " View run at <a href='https://wandb.ai/vezenbu-korea-advanced-institute-of-science-and-technology/node-classification/runs/zfrqvaoq' target=\"_blank\">https://wandb.ai/vezenbu-korea-advanced-institute-of-science-and-technology/node-classification/runs/zfrqvaoq</a>"
            ],
            "text/plain": [
              "<IPython.core.display.HTML object>"
            ]
          },
          "metadata": {},
          "output_type": "display_data"
        },
        {
          "name": "stderr",
          "output_type": "stream",
          "text": [
            "  0%|          | 0/100 [00:00<?, ?it/s]/usr/local/lib/python3.10/dist-packages/torch/jit/_check.py:178: UserWarning: The TorchScript type system doesn't support instance-level annotations on empty non-base types in `__init__`. Instead, either 1) use a type annotation in the class body, or 2) wrap the type in `torch.jit.Attribute`.\n",
            "  warnings.warn(\n",
            "/usr/local/lib/python3.10/dist-packages/torch/jit/_check.py:178: UserWarning: The TorchScript type system doesn't support instance-level annotations on empty non-base types in `__init__`. Instead, either 1) use a type annotation in the class body, or 2) wrap the type in `torch.jit.Attribute`.\n",
            "  warnings.warn(\n",
            "/usr/local/lib/python3.10/dist-packages/torch/jit/_check.py:178: UserWarning: The TorchScript type system doesn't support instance-level annotations on empty non-base types in `__init__`. Instead, either 1) use a type annotation in the class body, or 2) wrap the type in `torch.jit.Attribute`.\n",
            "  warnings.warn(\n",
            "/usr/local/lib/python3.10/dist-packages/torch/jit/_check.py:178: UserWarning: The TorchScript type system doesn't support instance-level annotations on empty non-base types in `__init__`. Instead, either 1) use a type annotation in the class body, or 2) wrap the type in `torch.jit.Attribute`.\n",
            "  warnings.warn(\n",
            "100%|██████████| 100/100 [00:02<00:00, 41.62it/s]\n",
            "/usr/local/lib/python3.10/dist-packages/torch/jit/_check.py:178: UserWarning: The TorchScript type system doesn't support instance-level annotations on empty non-base types in `__init__`. Instead, either 1) use a type annotation in the class body, or 2) wrap the type in `torch.jit.Attribute`.\n",
            "  warnings.warn(\n",
            "/usr/local/lib/python3.10/dist-packages/torch/jit/_check.py:178: UserWarning: The TorchScript type system doesn't support instance-level annotations on empty non-base types in `__init__`. Instead, either 1) use a type annotation in the class body, or 2) wrap the type in `torch.jit.Attribute`.\n",
            "  warnings.warn(\n",
            "/usr/local/lib/python3.10/dist-packages/torch/jit/_check.py:178: UserWarning: The TorchScript type system doesn't support instance-level annotations on empty non-base types in `__init__`. Instead, either 1) use a type annotation in the class body, or 2) wrap the type in `torch.jit.Attribute`.\n",
            "  warnings.warn(\n"
          ]
        },
        {
          "data": {
            "application/vnd.jupyter.widget-view+json": {
              "model_id": "27929eb83e0946d59bdab31013b45396",
              "version_major": 2,
              "version_minor": 0
            },
            "text/plain": [
              "VBox(children=(Label(value='1.729 MB of 1.729 MB uploaded\\r'), FloatProgress(value=1.0, max=1.0)))"
            ]
          },
          "metadata": {},
          "output_type": "display_data"
        },
        {
          "data": {
            "text/html": [
              "<style>\n",
              "    table.wandb td:nth-child(1) { padding: 0 10px; text-align: left ; width: auto;} td:nth-child(2) {text-align: left ; width: 100%}\n",
              "    .wandb-row { display: flex; flex-direction: row; flex-wrap: wrap; justify-content: flex-start; width: 100% }\n",
              "    .wandb-col { display: flex; flex-direction: column; flex-basis: 100%; flex: 1; padding: 10px; }\n",
              "    </style>\n",
              "<div class=\"wandb-row\"><div class=\"wandb-col\"><h3>Run history:</h3><br/><table class=\"wandb\"><tr><td>gcn/accuracy</td><td>▁</td></tr><tr><td>gcn/loss</td><td>█████▇▇▇▇▇▇▇▇▇▇▆▆▆▆▆▆▅▅▅▅▄▄▄▄▃▄▃▃▃▃▂▂▃▂▁</td></tr></table><br/></div><div class=\"wandb-col\"><h3>Run summary:</h3><br/><table class=\"wandb\"><tr><td>gcn/accuracy</td><td>0.658</td></tr><tr><td>gcn/loss</td><td>1.87424</td></tr></table><br/></div></div>"
            ],
            "text/plain": [
              "<IPython.core.display.HTML object>"
            ]
          },
          "metadata": {},
          "output_type": "display_data"
        },
        {
          "data": {
            "text/html": [
              " View run <strong style=\"color:#cdcd00\">twilight-sweep-34</strong> at: <a href='https://wandb.ai/vezenbu-korea-advanced-institute-of-science-and-technology/node-classification/runs/zfrqvaoq' target=\"_blank\">https://wandb.ai/vezenbu-korea-advanced-institute-of-science-and-technology/node-classification/runs/zfrqvaoq</a><br/> View project at: <a href='https://wandb.ai/vezenbu-korea-advanced-institute-of-science-and-technology/node-classification' target=\"_blank\">https://wandb.ai/vezenbu-korea-advanced-institute-of-science-and-technology/node-classification</a><br/>Synced 5 W&B file(s), 0 media file(s), 4 artifact file(s) and 2 other file(s)"
            ],
            "text/plain": [
              "<IPython.core.display.HTML object>"
            ]
          },
          "metadata": {},
          "output_type": "display_data"
        },
        {
          "data": {
            "text/html": [
              "Find logs at: <code>./wandb/run-20241031_074139-zfrqvaoq/logs</code>"
            ],
            "text/plain": [
              "<IPython.core.display.HTML object>"
            ]
          },
          "metadata": {},
          "output_type": "display_data"
        },
        {
          "name": "stderr",
          "output_type": "stream",
          "text": [
            "\u001b[34m\u001b[1mwandb\u001b[0m: Agent Starting Run: q0qpu2li with config:\n",
            "\u001b[34m\u001b[1mwandb\u001b[0m: \thidden_channels: 8\n",
            "\u001b[34m\u001b[1mwandb\u001b[0m: \tlr: 0.000921329084607385\n",
            "\u001b[34m\u001b[1mwandb\u001b[0m: \tweight_decay: 0.0004980193584265266\n"
          ]
        },
        {
          "data": {
            "text/html": [
              "Tracking run with wandb version 0.18.5"
            ],
            "text/plain": [
              "<IPython.core.display.HTML object>"
            ]
          },
          "metadata": {},
          "output_type": "display_data"
        },
        {
          "data": {
            "text/html": [
              "Run data is saved locally in <code>/root/raw_torch_for_scatter/pyg_examples/wandb/run-20241031_074156-q0qpu2li</code>"
            ],
            "text/plain": [
              "<IPython.core.display.HTML object>"
            ]
          },
          "metadata": {},
          "output_type": "display_data"
        },
        {
          "data": {
            "text/html": [
              "Syncing run <strong><a href='https://wandb.ai/vezenbu-korea-advanced-institute-of-science-and-technology/node-classification/runs/q0qpu2li' target=\"_blank\">distinctive-sweep-35</a></strong> to <a href='https://wandb.ai/vezenbu-korea-advanced-institute-of-science-and-technology/node-classification' target=\"_blank\">Weights & Biases</a> (<a href='https://wandb.me/run' target=\"_blank\">docs</a>)<br/>Sweep page: <a href='https://wandb.ai/vezenbu-korea-advanced-institute-of-science-and-technology/node-classification/sweeps/vk9i6qwp' target=\"_blank\">https://wandb.ai/vezenbu-korea-advanced-institute-of-science-and-technology/node-classification/sweeps/vk9i6qwp</a>"
            ],
            "text/plain": [
              "<IPython.core.display.HTML object>"
            ]
          },
          "metadata": {},
          "output_type": "display_data"
        },
        {
          "data": {
            "text/html": [
              " View project at <a href='https://wandb.ai/vezenbu-korea-advanced-institute-of-science-and-technology/node-classification' target=\"_blank\">https://wandb.ai/vezenbu-korea-advanced-institute-of-science-and-technology/node-classification</a>"
            ],
            "text/plain": [
              "<IPython.core.display.HTML object>"
            ]
          },
          "metadata": {},
          "output_type": "display_data"
        },
        {
          "data": {
            "text/html": [
              " View sweep at <a href='https://wandb.ai/vezenbu-korea-advanced-institute-of-science-and-technology/node-classification/sweeps/vk9i6qwp' target=\"_blank\">https://wandb.ai/vezenbu-korea-advanced-institute-of-science-and-technology/node-classification/sweeps/vk9i6qwp</a>"
            ],
            "text/plain": [
              "<IPython.core.display.HTML object>"
            ]
          },
          "metadata": {},
          "output_type": "display_data"
        },
        {
          "data": {
            "text/html": [
              " View run at <a href='https://wandb.ai/vezenbu-korea-advanced-institute-of-science-and-technology/node-classification/runs/q0qpu2li' target=\"_blank\">https://wandb.ai/vezenbu-korea-advanced-institute-of-science-and-technology/node-classification/runs/q0qpu2li</a>"
            ],
            "text/plain": [
              "<IPython.core.display.HTML object>"
            ]
          },
          "metadata": {},
          "output_type": "display_data"
        },
        {
          "name": "stderr",
          "output_type": "stream",
          "text": [
            "  0%|          | 0/100 [00:00<?, ?it/s]/usr/local/lib/python3.10/dist-packages/torch/jit/_check.py:178: UserWarning: The TorchScript type system doesn't support instance-level annotations on empty non-base types in `__init__`. Instead, either 1) use a type annotation in the class body, or 2) wrap the type in `torch.jit.Attribute`.\n",
            "  warnings.warn(\n",
            "/usr/local/lib/python3.10/dist-packages/torch/jit/_check.py:178: UserWarning: The TorchScript type system doesn't support instance-level annotations on empty non-base types in `__init__`. Instead, either 1) use a type annotation in the class body, or 2) wrap the type in `torch.jit.Attribute`.\n",
            "  warnings.warn(\n",
            "/usr/local/lib/python3.10/dist-packages/torch/jit/_check.py:178: UserWarning: The TorchScript type system doesn't support instance-level annotations on empty non-base types in `__init__`. Instead, either 1) use a type annotation in the class body, or 2) wrap the type in `torch.jit.Attribute`.\n",
            "  warnings.warn(\n",
            "/usr/local/lib/python3.10/dist-packages/torch/jit/_check.py:178: UserWarning: The TorchScript type system doesn't support instance-level annotations on empty non-base types in `__init__`. Instead, either 1) use a type annotation in the class body, or 2) wrap the type in `torch.jit.Attribute`.\n",
            "  warnings.warn(\n",
            "100%|██████████| 100/100 [00:02<00:00, 41.58it/s]\n",
            "/usr/local/lib/python3.10/dist-packages/torch/jit/_check.py:178: UserWarning: The TorchScript type system doesn't support instance-level annotations on empty non-base types in `__init__`. Instead, either 1) use a type annotation in the class body, or 2) wrap the type in `torch.jit.Attribute`.\n",
            "  warnings.warn(\n",
            "/usr/local/lib/python3.10/dist-packages/torch/jit/_check.py:178: UserWarning: The TorchScript type system doesn't support instance-level annotations on empty non-base types in `__init__`. Instead, either 1) use a type annotation in the class body, or 2) wrap the type in `torch.jit.Attribute`.\n",
            "  warnings.warn(\n",
            "/usr/local/lib/python3.10/dist-packages/torch/jit/_check.py:178: UserWarning: The TorchScript type system doesn't support instance-level annotations on empty non-base types in `__init__`. Instead, either 1) use a type annotation in the class body, or 2) wrap the type in `torch.jit.Attribute`.\n",
            "  warnings.warn(\n"
          ]
        },
        {
          "data": {
            "application/vnd.jupyter.widget-view+json": {
              "model_id": "b519d658253a4aad913ac07e662baf28",
              "version_major": 2,
              "version_minor": 0
            },
            "text/plain": [
              "VBox(children=(Label(value='1.729 MB of 1.729 MB uploaded\\r'), FloatProgress(value=1.0, max=1.0)))"
            ]
          },
          "metadata": {},
          "output_type": "display_data"
        },
        {
          "data": {
            "text/html": [
              "<style>\n",
              "    table.wandb td:nth-child(1) { padding: 0 10px; text-align: left ; width: auto;} td:nth-child(2) {text-align: left ; width: 100%}\n",
              "    .wandb-row { display: flex; flex-direction: row; flex-wrap: wrap; justify-content: flex-start; width: 100% }\n",
              "    .wandb-col { display: flex; flex-direction: column; flex-basis: 100%; flex: 1; padding: 10px; }\n",
              "    </style>\n",
              "<div class=\"wandb-row\"><div class=\"wandb-col\"><h3>Run history:</h3><br/><table class=\"wandb\"><tr><td>gcn/accuracy</td><td>▁</td></tr><tr><td>gcn/loss</td><td>██████▇▇▇▇▇▇▇▇▇▆▆▆▆▆▅▅▅▅▅▅▄▄▄▄▄▄▄▃▃▂▃▂▂▁</td></tr></table><br/></div><div class=\"wandb-col\"><h3>Run summary:</h3><br/><table class=\"wandb\"><tr><td>gcn/accuracy</td><td>0.656</td></tr><tr><td>gcn/loss</td><td>1.87252</td></tr></table><br/></div></div>"
            ],
            "text/plain": [
              "<IPython.core.display.HTML object>"
            ]
          },
          "metadata": {},
          "output_type": "display_data"
        },
        {
          "data": {
            "text/html": [
              " View run <strong style=\"color:#cdcd00\">distinctive-sweep-35</strong> at: <a href='https://wandb.ai/vezenbu-korea-advanced-institute-of-science-and-technology/node-classification/runs/q0qpu2li' target=\"_blank\">https://wandb.ai/vezenbu-korea-advanced-institute-of-science-and-technology/node-classification/runs/q0qpu2li</a><br/> View project at: <a href='https://wandb.ai/vezenbu-korea-advanced-institute-of-science-and-technology/node-classification' target=\"_blank\">https://wandb.ai/vezenbu-korea-advanced-institute-of-science-and-technology/node-classification</a><br/>Synced 5 W&B file(s), 0 media file(s), 4 artifact file(s) and 2 other file(s)"
            ],
            "text/plain": [
              "<IPython.core.display.HTML object>"
            ]
          },
          "metadata": {},
          "output_type": "display_data"
        },
        {
          "data": {
            "text/html": [
              "Find logs at: <code>./wandb/run-20241031_074156-q0qpu2li/logs</code>"
            ],
            "text/plain": [
              "<IPython.core.display.HTML object>"
            ]
          },
          "metadata": {},
          "output_type": "display_data"
        },
        {
          "name": "stderr",
          "output_type": "stream",
          "text": [
            "\u001b[34m\u001b[1mwandb\u001b[0m: Sweep Agent: Waiting for job.\n",
            "\u001b[34m\u001b[1mwandb\u001b[0m: Job received.\n",
            "\u001b[34m\u001b[1mwandb\u001b[0m: Agent Starting Run: e2iv9q5i with config:\n",
            "\u001b[34m\u001b[1mwandb\u001b[0m: \thidden_channels: 8\n",
            "\u001b[34m\u001b[1mwandb\u001b[0m: \tlr: 0.000906360949136468\n",
            "\u001b[34m\u001b[1mwandb\u001b[0m: \tweight_decay: 0.0004992861202162655\n"
          ]
        },
        {
          "data": {
            "text/html": [
              "Tracking run with wandb version 0.18.5"
            ],
            "text/plain": [
              "<IPython.core.display.HTML object>"
            ]
          },
          "metadata": {},
          "output_type": "display_data"
        },
        {
          "data": {
            "text/html": [
              "Run data is saved locally in <code>/root/raw_torch_for_scatter/pyg_examples/wandb/run-20241031_074217-e2iv9q5i</code>"
            ],
            "text/plain": [
              "<IPython.core.display.HTML object>"
            ]
          },
          "metadata": {},
          "output_type": "display_data"
        },
        {
          "data": {
            "text/html": [
              "Syncing run <strong><a href='https://wandb.ai/vezenbu-korea-advanced-institute-of-science-and-technology/node-classification/runs/e2iv9q5i' target=\"_blank\">stilted-sweep-36</a></strong> to <a href='https://wandb.ai/vezenbu-korea-advanced-institute-of-science-and-technology/node-classification' target=\"_blank\">Weights & Biases</a> (<a href='https://wandb.me/run' target=\"_blank\">docs</a>)<br/>Sweep page: <a href='https://wandb.ai/vezenbu-korea-advanced-institute-of-science-and-technology/node-classification/sweeps/vk9i6qwp' target=\"_blank\">https://wandb.ai/vezenbu-korea-advanced-institute-of-science-and-technology/node-classification/sweeps/vk9i6qwp</a>"
            ],
            "text/plain": [
              "<IPython.core.display.HTML object>"
            ]
          },
          "metadata": {},
          "output_type": "display_data"
        },
        {
          "data": {
            "text/html": [
              " View project at <a href='https://wandb.ai/vezenbu-korea-advanced-institute-of-science-and-technology/node-classification' target=\"_blank\">https://wandb.ai/vezenbu-korea-advanced-institute-of-science-and-technology/node-classification</a>"
            ],
            "text/plain": [
              "<IPython.core.display.HTML object>"
            ]
          },
          "metadata": {},
          "output_type": "display_data"
        },
        {
          "data": {
            "text/html": [
              " View sweep at <a href='https://wandb.ai/vezenbu-korea-advanced-institute-of-science-and-technology/node-classification/sweeps/vk9i6qwp' target=\"_blank\">https://wandb.ai/vezenbu-korea-advanced-institute-of-science-and-technology/node-classification/sweeps/vk9i6qwp</a>"
            ],
            "text/plain": [
              "<IPython.core.display.HTML object>"
            ]
          },
          "metadata": {},
          "output_type": "display_data"
        },
        {
          "data": {
            "text/html": [
              " View run at <a href='https://wandb.ai/vezenbu-korea-advanced-institute-of-science-and-technology/node-classification/runs/e2iv9q5i' target=\"_blank\">https://wandb.ai/vezenbu-korea-advanced-institute-of-science-and-technology/node-classification/runs/e2iv9q5i</a>"
            ],
            "text/plain": [
              "<IPython.core.display.HTML object>"
            ]
          },
          "metadata": {},
          "output_type": "display_data"
        },
        {
          "name": "stderr",
          "output_type": "stream",
          "text": [
            "  0%|          | 0/100 [00:00<?, ?it/s]/usr/local/lib/python3.10/dist-packages/torch/jit/_check.py:178: UserWarning: The TorchScript type system doesn't support instance-level annotations on empty non-base types in `__init__`. Instead, either 1) use a type annotation in the class body, or 2) wrap the type in `torch.jit.Attribute`.\n",
            "  warnings.warn(\n",
            "/usr/local/lib/python3.10/dist-packages/torch/jit/_check.py:178: UserWarning: The TorchScript type system doesn't support instance-level annotations on empty non-base types in `__init__`. Instead, either 1) use a type annotation in the class body, or 2) wrap the type in `torch.jit.Attribute`.\n",
            "  warnings.warn(\n",
            "/usr/local/lib/python3.10/dist-packages/torch/jit/_check.py:178: UserWarning: The TorchScript type system doesn't support instance-level annotations on empty non-base types in `__init__`. Instead, either 1) use a type annotation in the class body, or 2) wrap the type in `torch.jit.Attribute`.\n",
            "  warnings.warn(\n",
            "/usr/local/lib/python3.10/dist-packages/torch/jit/_check.py:178: UserWarning: The TorchScript type system doesn't support instance-level annotations on empty non-base types in `__init__`. Instead, either 1) use a type annotation in the class body, or 2) wrap the type in `torch.jit.Attribute`.\n",
            "  warnings.warn(\n",
            "100%|██████████| 100/100 [00:02<00:00, 41.88it/s]\n",
            "/usr/local/lib/python3.10/dist-packages/torch/jit/_check.py:178: UserWarning: The TorchScript type system doesn't support instance-level annotations on empty non-base types in `__init__`. Instead, either 1) use a type annotation in the class body, or 2) wrap the type in `torch.jit.Attribute`.\n",
            "  warnings.warn(\n",
            "/usr/local/lib/python3.10/dist-packages/torch/jit/_check.py:178: UserWarning: The TorchScript type system doesn't support instance-level annotations on empty non-base types in `__init__`. Instead, either 1) use a type annotation in the class body, or 2) wrap the type in `torch.jit.Attribute`.\n",
            "  warnings.warn(\n",
            "/usr/local/lib/python3.10/dist-packages/torch/jit/_check.py:178: UserWarning: The TorchScript type system doesn't support instance-level annotations on empty non-base types in `__init__`. Instead, either 1) use a type annotation in the class body, or 2) wrap the type in `torch.jit.Attribute`.\n",
            "  warnings.warn(\n"
          ]
        },
        {
          "data": {
            "application/vnd.jupyter.widget-view+json": {
              "model_id": "c555e1db75534535a548032f7bf325ce",
              "version_major": 2,
              "version_minor": 0
            },
            "text/plain": [
              "VBox(children=(Label(value='1.729 MB of 1.729 MB uploaded\\r'), FloatProgress(value=1.0, max=1.0)))"
            ]
          },
          "metadata": {},
          "output_type": "display_data"
        },
        {
          "data": {
            "text/html": [
              "<style>\n",
              "    table.wandb td:nth-child(1) { padding: 0 10px; text-align: left ; width: auto;} td:nth-child(2) {text-align: left ; width: 100%}\n",
              "    .wandb-row { display: flex; flex-direction: row; flex-wrap: wrap; justify-content: flex-start; width: 100% }\n",
              "    .wandb-col { display: flex; flex-direction: column; flex-basis: 100%; flex: 1; padding: 10px; }\n",
              "    </style>\n",
              "<div class=\"wandb-row\"><div class=\"wandb-col\"><h3>Run history:</h3><br/><table class=\"wandb\"><tr><td>gcn/accuracy</td><td>▁</td></tr><tr><td>gcn/loss</td><td>██████▇▇▇▇▇▇▆▆▆▆▆▆▅▅▄▄▄▄▄▄▄▄▄▃▃▃▃▃▃▂▂▂▂▁</td></tr></table><br/></div><div class=\"wandb-col\"><h3>Run summary:</h3><br/><table class=\"wandb\"><tr><td>gcn/accuracy</td><td>0.659</td></tr><tr><td>gcn/loss</td><td>1.874</td></tr></table><br/></div></div>"
            ],
            "text/plain": [
              "<IPython.core.display.HTML object>"
            ]
          },
          "metadata": {},
          "output_type": "display_data"
        },
        {
          "data": {
            "text/html": [
              " View run <strong style=\"color:#cdcd00\">stilted-sweep-36</strong> at: <a href='https://wandb.ai/vezenbu-korea-advanced-institute-of-science-and-technology/node-classification/runs/e2iv9q5i' target=\"_blank\">https://wandb.ai/vezenbu-korea-advanced-institute-of-science-and-technology/node-classification/runs/e2iv9q5i</a><br/> View project at: <a href='https://wandb.ai/vezenbu-korea-advanced-institute-of-science-and-technology/node-classification' target=\"_blank\">https://wandb.ai/vezenbu-korea-advanced-institute-of-science-and-technology/node-classification</a><br/>Synced 5 W&B file(s), 0 media file(s), 4 artifact file(s) and 2 other file(s)"
            ],
            "text/plain": [
              "<IPython.core.display.HTML object>"
            ]
          },
          "metadata": {},
          "output_type": "display_data"
        },
        {
          "data": {
            "text/html": [
              "Find logs at: <code>./wandb/run-20241031_074217-e2iv9q5i/logs</code>"
            ],
            "text/plain": [
              "<IPython.core.display.HTML object>"
            ]
          },
          "metadata": {},
          "output_type": "display_data"
        },
        {
          "name": "stderr",
          "output_type": "stream",
          "text": [
            "\u001b[34m\u001b[1mwandb\u001b[0m: Agent Starting Run: epp7u1sp with config:\n",
            "\u001b[34m\u001b[1mwandb\u001b[0m: \thidden_channels: 8\n",
            "\u001b[34m\u001b[1mwandb\u001b[0m: \tlr: 0.0009600513386507736\n",
            "\u001b[34m\u001b[1mwandb\u001b[0m: \tweight_decay: 0.0005009077280039587\n"
          ]
        },
        {
          "data": {
            "text/html": [
              "Tracking run with wandb version 0.18.5"
            ],
            "text/plain": [
              "<IPython.core.display.HTML object>"
            ]
          },
          "metadata": {},
          "output_type": "display_data"
        },
        {
          "data": {
            "text/html": [
              "Run data is saved locally in <code>/root/raw_torch_for_scatter/pyg_examples/wandb/run-20241031_074235-epp7u1sp</code>"
            ],
            "text/plain": [
              "<IPython.core.display.HTML object>"
            ]
          },
          "metadata": {},
          "output_type": "display_data"
        },
        {
          "data": {
            "text/html": [
              "Syncing run <strong><a href='https://wandb.ai/vezenbu-korea-advanced-institute-of-science-and-technology/node-classification/runs/epp7u1sp' target=\"_blank\">pretty-sweep-37</a></strong> to <a href='https://wandb.ai/vezenbu-korea-advanced-institute-of-science-and-technology/node-classification' target=\"_blank\">Weights & Biases</a> (<a href='https://wandb.me/run' target=\"_blank\">docs</a>)<br/>Sweep page: <a href='https://wandb.ai/vezenbu-korea-advanced-institute-of-science-and-technology/node-classification/sweeps/vk9i6qwp' target=\"_blank\">https://wandb.ai/vezenbu-korea-advanced-institute-of-science-and-technology/node-classification/sweeps/vk9i6qwp</a>"
            ],
            "text/plain": [
              "<IPython.core.display.HTML object>"
            ]
          },
          "metadata": {},
          "output_type": "display_data"
        },
        {
          "data": {
            "text/html": [
              " View project at <a href='https://wandb.ai/vezenbu-korea-advanced-institute-of-science-and-technology/node-classification' target=\"_blank\">https://wandb.ai/vezenbu-korea-advanced-institute-of-science-and-technology/node-classification</a>"
            ],
            "text/plain": [
              "<IPython.core.display.HTML object>"
            ]
          },
          "metadata": {},
          "output_type": "display_data"
        },
        {
          "data": {
            "text/html": [
              " View sweep at <a href='https://wandb.ai/vezenbu-korea-advanced-institute-of-science-and-technology/node-classification/sweeps/vk9i6qwp' target=\"_blank\">https://wandb.ai/vezenbu-korea-advanced-institute-of-science-and-technology/node-classification/sweeps/vk9i6qwp</a>"
            ],
            "text/plain": [
              "<IPython.core.display.HTML object>"
            ]
          },
          "metadata": {},
          "output_type": "display_data"
        },
        {
          "data": {
            "text/html": [
              " View run at <a href='https://wandb.ai/vezenbu-korea-advanced-institute-of-science-and-technology/node-classification/runs/epp7u1sp' target=\"_blank\">https://wandb.ai/vezenbu-korea-advanced-institute-of-science-and-technology/node-classification/runs/epp7u1sp</a>"
            ],
            "text/plain": [
              "<IPython.core.display.HTML object>"
            ]
          },
          "metadata": {},
          "output_type": "display_data"
        },
        {
          "name": "stderr",
          "output_type": "stream",
          "text": [
            "  0%|          | 0/100 [00:00<?, ?it/s]/usr/local/lib/python3.10/dist-packages/torch/jit/_check.py:178: UserWarning: The TorchScript type system doesn't support instance-level annotations on empty non-base types in `__init__`. Instead, either 1) use a type annotation in the class body, or 2) wrap the type in `torch.jit.Attribute`.\n",
            "  warnings.warn(\n",
            "/usr/local/lib/python3.10/dist-packages/torch/jit/_check.py:178: UserWarning: The TorchScript type system doesn't support instance-level annotations on empty non-base types in `__init__`. Instead, either 1) use a type annotation in the class body, or 2) wrap the type in `torch.jit.Attribute`.\n",
            "  warnings.warn(\n",
            "/usr/local/lib/python3.10/dist-packages/torch/jit/_check.py:178: UserWarning: The TorchScript type system doesn't support instance-level annotations on empty non-base types in `__init__`. Instead, either 1) use a type annotation in the class body, or 2) wrap the type in `torch.jit.Attribute`.\n",
            "  warnings.warn(\n",
            "/usr/local/lib/python3.10/dist-packages/torch/jit/_check.py:178: UserWarning: The TorchScript type system doesn't support instance-level annotations on empty non-base types in `__init__`. Instead, either 1) use a type annotation in the class body, or 2) wrap the type in `torch.jit.Attribute`.\n",
            "  warnings.warn(\n",
            "100%|██████████| 100/100 [00:02<00:00, 41.99it/s]\n",
            "/usr/local/lib/python3.10/dist-packages/torch/jit/_check.py:178: UserWarning: The TorchScript type system doesn't support instance-level annotations on empty non-base types in `__init__`. Instead, either 1) use a type annotation in the class body, or 2) wrap the type in `torch.jit.Attribute`.\n",
            "  warnings.warn(\n",
            "/usr/local/lib/python3.10/dist-packages/torch/jit/_check.py:178: UserWarning: The TorchScript type system doesn't support instance-level annotations on empty non-base types in `__init__`. Instead, either 1) use a type annotation in the class body, or 2) wrap the type in `torch.jit.Attribute`.\n",
            "  warnings.warn(\n",
            "/usr/local/lib/python3.10/dist-packages/torch/jit/_check.py:178: UserWarning: The TorchScript type system doesn't support instance-level annotations on empty non-base types in `__init__`. Instead, either 1) use a type annotation in the class body, or 2) wrap the type in `torch.jit.Attribute`.\n",
            "  warnings.warn(\n"
          ]
        },
        {
          "data": {
            "application/vnd.jupyter.widget-view+json": {
              "model_id": "7cb7ff0bf9a24a1392b176f297d564d3",
              "version_major": 2,
              "version_minor": 0
            },
            "text/plain": [
              "VBox(children=(Label(value='1.729 MB of 1.729 MB uploaded\\r'), FloatProgress(value=1.0, max=1.0)))"
            ]
          },
          "metadata": {},
          "output_type": "display_data"
        },
        {
          "data": {
            "text/html": [
              "<style>\n",
              "    table.wandb td:nth-child(1) { padding: 0 10px; text-align: left ; width: auto;} td:nth-child(2) {text-align: left ; width: 100%}\n",
              "    .wandb-row { display: flex; flex-direction: row; flex-wrap: wrap; justify-content: flex-start; width: 100% }\n",
              "    .wandb-col { display: flex; flex-direction: column; flex-basis: 100%; flex: 1; padding: 10px; }\n",
              "    </style>\n",
              "<div class=\"wandb-row\"><div class=\"wandb-col\"><h3>Run history:</h3><br/><table class=\"wandb\"><tr><td>gcn/accuracy</td><td>▁</td></tr><tr><td>gcn/loss</td><td>███████▇▇▇▇▇▇▇▇▆▆▆▆▆▆▆▅▄▄▃▃▃▃▃▃▃▃▂▂▂▂▁▂▁</td></tr></table><br/></div><div class=\"wandb-col\"><h3>Run summary:</h3><br/><table class=\"wandb\"><tr><td>gcn/accuracy</td><td>0.659</td></tr><tr><td>gcn/loss</td><td>1.87025</td></tr></table><br/></div></div>"
            ],
            "text/plain": [
              "<IPython.core.display.HTML object>"
            ]
          },
          "metadata": {},
          "output_type": "display_data"
        },
        {
          "data": {
            "text/html": [
              " View run <strong style=\"color:#cdcd00\">pretty-sweep-37</strong> at: <a href='https://wandb.ai/vezenbu-korea-advanced-institute-of-science-and-technology/node-classification/runs/epp7u1sp' target=\"_blank\">https://wandb.ai/vezenbu-korea-advanced-institute-of-science-and-technology/node-classification/runs/epp7u1sp</a><br/> View project at: <a href='https://wandb.ai/vezenbu-korea-advanced-institute-of-science-and-technology/node-classification' target=\"_blank\">https://wandb.ai/vezenbu-korea-advanced-institute-of-science-and-technology/node-classification</a><br/>Synced 5 W&B file(s), 0 media file(s), 4 artifact file(s) and 2 other file(s)"
            ],
            "text/plain": [
              "<IPython.core.display.HTML object>"
            ]
          },
          "metadata": {},
          "output_type": "display_data"
        },
        {
          "data": {
            "text/html": [
              "Find logs at: <code>./wandb/run-20241031_074235-epp7u1sp/logs</code>"
            ],
            "text/plain": [
              "<IPython.core.display.HTML object>"
            ]
          },
          "metadata": {},
          "output_type": "display_data"
        },
        {
          "name": "stderr",
          "output_type": "stream",
          "text": [
            "\u001b[34m\u001b[1mwandb\u001b[0m: Sweep Agent: Waiting for job.\n",
            "\u001b[34m\u001b[1mwandb\u001b[0m: Job received.\n",
            "\u001b[34m\u001b[1mwandb\u001b[0m: Agent Starting Run: kx245s9e with config:\n",
            "\u001b[34m\u001b[1mwandb\u001b[0m: \thidden_channels: 8\n",
            "\u001b[34m\u001b[1mwandb\u001b[0m: \tlr: 0.000989559667564327\n",
            "\u001b[34m\u001b[1mwandb\u001b[0m: \tweight_decay: 0.0005044601758595728\n"
          ]
        },
        {
          "data": {
            "text/html": [
              "Tracking run with wandb version 0.18.5"
            ],
            "text/plain": [
              "<IPython.core.display.HTML object>"
            ]
          },
          "metadata": {},
          "output_type": "display_data"
        },
        {
          "data": {
            "text/html": [
              "Run data is saved locally in <code>/root/raw_torch_for_scatter/pyg_examples/wandb/run-20241031_074257-kx245s9e</code>"
            ],
            "text/plain": [
              "<IPython.core.display.HTML object>"
            ]
          },
          "metadata": {},
          "output_type": "display_data"
        },
        {
          "data": {
            "text/html": [
              "Syncing run <strong><a href='https://wandb.ai/vezenbu-korea-advanced-institute-of-science-and-technology/node-classification/runs/kx245s9e' target=\"_blank\">copper-sweep-38</a></strong> to <a href='https://wandb.ai/vezenbu-korea-advanced-institute-of-science-and-technology/node-classification' target=\"_blank\">Weights & Biases</a> (<a href='https://wandb.me/run' target=\"_blank\">docs</a>)<br/>Sweep page: <a href='https://wandb.ai/vezenbu-korea-advanced-institute-of-science-and-technology/node-classification/sweeps/vk9i6qwp' target=\"_blank\">https://wandb.ai/vezenbu-korea-advanced-institute-of-science-and-technology/node-classification/sweeps/vk9i6qwp</a>"
            ],
            "text/plain": [
              "<IPython.core.display.HTML object>"
            ]
          },
          "metadata": {},
          "output_type": "display_data"
        },
        {
          "data": {
            "text/html": [
              " View project at <a href='https://wandb.ai/vezenbu-korea-advanced-institute-of-science-and-technology/node-classification' target=\"_blank\">https://wandb.ai/vezenbu-korea-advanced-institute-of-science-and-technology/node-classification</a>"
            ],
            "text/plain": [
              "<IPython.core.display.HTML object>"
            ]
          },
          "metadata": {},
          "output_type": "display_data"
        },
        {
          "data": {
            "text/html": [
              " View sweep at <a href='https://wandb.ai/vezenbu-korea-advanced-institute-of-science-and-technology/node-classification/sweeps/vk9i6qwp' target=\"_blank\">https://wandb.ai/vezenbu-korea-advanced-institute-of-science-and-technology/node-classification/sweeps/vk9i6qwp</a>"
            ],
            "text/plain": [
              "<IPython.core.display.HTML object>"
            ]
          },
          "metadata": {},
          "output_type": "display_data"
        },
        {
          "data": {
            "text/html": [
              " View run at <a href='https://wandb.ai/vezenbu-korea-advanced-institute-of-science-and-technology/node-classification/runs/kx245s9e' target=\"_blank\">https://wandb.ai/vezenbu-korea-advanced-institute-of-science-and-technology/node-classification/runs/kx245s9e</a>"
            ],
            "text/plain": [
              "<IPython.core.display.HTML object>"
            ]
          },
          "metadata": {},
          "output_type": "display_data"
        },
        {
          "name": "stderr",
          "output_type": "stream",
          "text": [
            "  0%|          | 0/100 [00:00<?, ?it/s]/usr/local/lib/python3.10/dist-packages/torch/jit/_check.py:178: UserWarning: The TorchScript type system doesn't support instance-level annotations on empty non-base types in `__init__`. Instead, either 1) use a type annotation in the class body, or 2) wrap the type in `torch.jit.Attribute`.\n",
            "  warnings.warn(\n",
            "/usr/local/lib/python3.10/dist-packages/torch/jit/_check.py:178: UserWarning: The TorchScript type system doesn't support instance-level annotations on empty non-base types in `__init__`. Instead, either 1) use a type annotation in the class body, or 2) wrap the type in `torch.jit.Attribute`.\n",
            "  warnings.warn(\n",
            "/usr/local/lib/python3.10/dist-packages/torch/jit/_check.py:178: UserWarning: The TorchScript type system doesn't support instance-level annotations on empty non-base types in `__init__`. Instead, either 1) use a type annotation in the class body, or 2) wrap the type in `torch.jit.Attribute`.\n",
            "  warnings.warn(\n",
            "/usr/local/lib/python3.10/dist-packages/torch/jit/_check.py:178: UserWarning: The TorchScript type system doesn't support instance-level annotations on empty non-base types in `__init__`. Instead, either 1) use a type annotation in the class body, or 2) wrap the type in `torch.jit.Attribute`.\n",
            "  warnings.warn(\n",
            "100%|██████████| 100/100 [00:02<00:00, 41.64it/s]\n",
            "/usr/local/lib/python3.10/dist-packages/torch/jit/_check.py:178: UserWarning: The TorchScript type system doesn't support instance-level annotations on empty non-base types in `__init__`. Instead, either 1) use a type annotation in the class body, or 2) wrap the type in `torch.jit.Attribute`.\n",
            "  warnings.warn(\n",
            "/usr/local/lib/python3.10/dist-packages/torch/jit/_check.py:178: UserWarning: The TorchScript type system doesn't support instance-level annotations on empty non-base types in `__init__`. Instead, either 1) use a type annotation in the class body, or 2) wrap the type in `torch.jit.Attribute`.\n",
            "  warnings.warn(\n",
            "/usr/local/lib/python3.10/dist-packages/torch/jit/_check.py:178: UserWarning: The TorchScript type system doesn't support instance-level annotations on empty non-base types in `__init__`. Instead, either 1) use a type annotation in the class body, or 2) wrap the type in `torch.jit.Attribute`.\n",
            "  warnings.warn(\n"
          ]
        },
        {
          "data": {
            "application/vnd.jupyter.widget-view+json": {
              "model_id": "c99ad016b89b46f4b80ad71c6084e951",
              "version_major": 2,
              "version_minor": 0
            },
            "text/plain": [
              "VBox(children=(Label(value='1.729 MB of 1.729 MB uploaded\\r'), FloatProgress(value=1.0, max=1.0)))"
            ]
          },
          "metadata": {},
          "output_type": "display_data"
        },
        {
          "data": {
            "text/html": [
              "<style>\n",
              "    table.wandb td:nth-child(1) { padding: 0 10px; text-align: left ; width: auto;} td:nth-child(2) {text-align: left ; width: 100%}\n",
              "    .wandb-row { display: flex; flex-direction: row; flex-wrap: wrap; justify-content: flex-start; width: 100% }\n",
              "    .wandb-col { display: flex; flex-direction: column; flex-basis: 100%; flex: 1; padding: 10px; }\n",
              "    </style>\n",
              "<div class=\"wandb-row\"><div class=\"wandb-col\"><h3>Run history:</h3><br/><table class=\"wandb\"><tr><td>gcn/accuracy</td><td>▁</td></tr><tr><td>gcn/loss</td><td>█████████▇▇▇▇▇▇▆▆▆▅▅▅▅▄▅▄▄▄▃▃▄▃▃▃▃▃▂▂▂▂▁</td></tr></table><br/></div><div class=\"wandb-col\"><h3>Run summary:</h3><br/><table class=\"wandb\"><tr><td>gcn/accuracy</td><td>0.664</td></tr><tr><td>gcn/loss</td><td>1.86758</td></tr></table><br/></div></div>"
            ],
            "text/plain": [
              "<IPython.core.display.HTML object>"
            ]
          },
          "metadata": {},
          "output_type": "display_data"
        },
        {
          "data": {
            "text/html": [
              " View run <strong style=\"color:#cdcd00\">copper-sweep-38</strong> at: <a href='https://wandb.ai/vezenbu-korea-advanced-institute-of-science-and-technology/node-classification/runs/kx245s9e' target=\"_blank\">https://wandb.ai/vezenbu-korea-advanced-institute-of-science-and-technology/node-classification/runs/kx245s9e</a><br/> View project at: <a href='https://wandb.ai/vezenbu-korea-advanced-institute-of-science-and-technology/node-classification' target=\"_blank\">https://wandb.ai/vezenbu-korea-advanced-institute-of-science-and-technology/node-classification</a><br/>Synced 5 W&B file(s), 0 media file(s), 4 artifact file(s) and 2 other file(s)"
            ],
            "text/plain": [
              "<IPython.core.display.HTML object>"
            ]
          },
          "metadata": {},
          "output_type": "display_data"
        },
        {
          "data": {
            "text/html": [
              "Find logs at: <code>./wandb/run-20241031_074257-kx245s9e/logs</code>"
            ],
            "text/plain": [
              "<IPython.core.display.HTML object>"
            ]
          },
          "metadata": {},
          "output_type": "display_data"
        },
        {
          "name": "stderr",
          "output_type": "stream",
          "text": [
            "\u001b[34m\u001b[1mwandb\u001b[0m: Sweep Agent: Waiting for job.\n",
            "\u001b[34m\u001b[1mwandb\u001b[0m: Job received.\n",
            "\u001b[34m\u001b[1mwandb\u001b[0m: Agent Starting Run: vo5utrcg with config:\n",
            "\u001b[34m\u001b[1mwandb\u001b[0m: \thidden_channels: 8\n",
            "\u001b[34m\u001b[1mwandb\u001b[0m: \tlr: 0.000813031166328003\n",
            "\u001b[34m\u001b[1mwandb\u001b[0m: \tweight_decay: 0.0004928297048438272\n"
          ]
        },
        {
          "data": {
            "text/html": [
              "Tracking run with wandb version 0.18.5"
            ],
            "text/plain": [
              "<IPython.core.display.HTML object>"
            ]
          },
          "metadata": {},
          "output_type": "display_data"
        },
        {
          "data": {
            "text/html": [
              "Run data is saved locally in <code>/root/raw_torch_for_scatter/pyg_examples/wandb/run-20241031_074318-vo5utrcg</code>"
            ],
            "text/plain": [
              "<IPython.core.display.HTML object>"
            ]
          },
          "metadata": {},
          "output_type": "display_data"
        },
        {
          "data": {
            "text/html": [
              "Syncing run <strong><a href='https://wandb.ai/vezenbu-korea-advanced-institute-of-science-and-technology/node-classification/runs/vo5utrcg' target=\"_blank\">deep-sweep-39</a></strong> to <a href='https://wandb.ai/vezenbu-korea-advanced-institute-of-science-and-technology/node-classification' target=\"_blank\">Weights & Biases</a> (<a href='https://wandb.me/run' target=\"_blank\">docs</a>)<br/>Sweep page: <a href='https://wandb.ai/vezenbu-korea-advanced-institute-of-science-and-technology/node-classification/sweeps/vk9i6qwp' target=\"_blank\">https://wandb.ai/vezenbu-korea-advanced-institute-of-science-and-technology/node-classification/sweeps/vk9i6qwp</a>"
            ],
            "text/plain": [
              "<IPython.core.display.HTML object>"
            ]
          },
          "metadata": {},
          "output_type": "display_data"
        },
        {
          "data": {
            "text/html": [
              " View project at <a href='https://wandb.ai/vezenbu-korea-advanced-institute-of-science-and-technology/node-classification' target=\"_blank\">https://wandb.ai/vezenbu-korea-advanced-institute-of-science-and-technology/node-classification</a>"
            ],
            "text/plain": [
              "<IPython.core.display.HTML object>"
            ]
          },
          "metadata": {},
          "output_type": "display_data"
        },
        {
          "data": {
            "text/html": [
              " View sweep at <a href='https://wandb.ai/vezenbu-korea-advanced-institute-of-science-and-technology/node-classification/sweeps/vk9i6qwp' target=\"_blank\">https://wandb.ai/vezenbu-korea-advanced-institute-of-science-and-technology/node-classification/sweeps/vk9i6qwp</a>"
            ],
            "text/plain": [
              "<IPython.core.display.HTML object>"
            ]
          },
          "metadata": {},
          "output_type": "display_data"
        },
        {
          "data": {
            "text/html": [
              " View run at <a href='https://wandb.ai/vezenbu-korea-advanced-institute-of-science-and-technology/node-classification/runs/vo5utrcg' target=\"_blank\">https://wandb.ai/vezenbu-korea-advanced-institute-of-science-and-technology/node-classification/runs/vo5utrcg</a>"
            ],
            "text/plain": [
              "<IPython.core.display.HTML object>"
            ]
          },
          "metadata": {},
          "output_type": "display_data"
        },
        {
          "name": "stderr",
          "output_type": "stream",
          "text": [
            "  0%|          | 0/100 [00:00<?, ?it/s]/usr/local/lib/python3.10/dist-packages/torch/jit/_check.py:178: UserWarning: The TorchScript type system doesn't support instance-level annotations on empty non-base types in `__init__`. Instead, either 1) use a type annotation in the class body, or 2) wrap the type in `torch.jit.Attribute`.\n",
            "  warnings.warn(\n",
            "/usr/local/lib/python3.10/dist-packages/torch/jit/_check.py:178: UserWarning: The TorchScript type system doesn't support instance-level annotations on empty non-base types in `__init__`. Instead, either 1) use a type annotation in the class body, or 2) wrap the type in `torch.jit.Attribute`.\n",
            "  warnings.warn(\n",
            "/usr/local/lib/python3.10/dist-packages/torch/jit/_check.py:178: UserWarning: The TorchScript type system doesn't support instance-level annotations on empty non-base types in `__init__`. Instead, either 1) use a type annotation in the class body, or 2) wrap the type in `torch.jit.Attribute`.\n",
            "  warnings.warn(\n",
            "/usr/local/lib/python3.10/dist-packages/torch/jit/_check.py:178: UserWarning: The TorchScript type system doesn't support instance-level annotations on empty non-base types in `__init__`. Instead, either 1) use a type annotation in the class body, or 2) wrap the type in `torch.jit.Attribute`.\n",
            "  warnings.warn(\n",
            "100%|██████████| 100/100 [00:02<00:00, 41.57it/s]\n",
            "/usr/local/lib/python3.10/dist-packages/torch/jit/_check.py:178: UserWarning: The TorchScript type system doesn't support instance-level annotations on empty non-base types in `__init__`. Instead, either 1) use a type annotation in the class body, or 2) wrap the type in `torch.jit.Attribute`.\n",
            "  warnings.warn(\n",
            "/usr/local/lib/python3.10/dist-packages/torch/jit/_check.py:178: UserWarning: The TorchScript type system doesn't support instance-level annotations on empty non-base types in `__init__`. Instead, either 1) use a type annotation in the class body, or 2) wrap the type in `torch.jit.Attribute`.\n",
            "  warnings.warn(\n",
            "/usr/local/lib/python3.10/dist-packages/torch/jit/_check.py:178: UserWarning: The TorchScript type system doesn't support instance-level annotations on empty non-base types in `__init__`. Instead, either 1) use a type annotation in the class body, or 2) wrap the type in `torch.jit.Attribute`.\n",
            "  warnings.warn(\n"
          ]
        },
        {
          "data": {
            "application/vnd.jupyter.widget-view+json": {
              "model_id": "2636e4dad6e34fb9912e02ebbca08919",
              "version_major": 2,
              "version_minor": 0
            },
            "text/plain": [
              "VBox(children=(Label(value='1.732 MB of 1.732 MB uploaded\\r'), FloatProgress(value=1.0, max=1.0)))"
            ]
          },
          "metadata": {},
          "output_type": "display_data"
        },
        {
          "data": {
            "text/html": [
              "<style>\n",
              "    table.wandb td:nth-child(1) { padding: 0 10px; text-align: left ; width: auto;} td:nth-child(2) {text-align: left ; width: 100%}\n",
              "    .wandb-row { display: flex; flex-direction: row; flex-wrap: wrap; justify-content: flex-start; width: 100% }\n",
              "    .wandb-col { display: flex; flex-direction: column; flex-basis: 100%; flex: 1; padding: 10px; }\n",
              "    </style>\n",
              "<div class=\"wandb-row\"><div class=\"wandb-col\"><h3>Run history:</h3><br/><table class=\"wandb\"><tr><td>gcn/accuracy</td><td>▁</td></tr><tr><td>gcn/loss</td><td>█████▇▇▇▇▇▇▇▇▇▇▆▆▆▆▆▅▄▄▅▄▄▄▄▄▃▃▃▃▃▃▂▁▂▁▁</td></tr></table><br/></div><div class=\"wandb-col\"><h3>Run summary:</h3><br/><table class=\"wandb\"><tr><td>gcn/accuracy</td><td>0.657</td></tr><tr><td>gcn/loss</td><td>1.88314</td></tr></table><br/></div></div>"
            ],
            "text/plain": [
              "<IPython.core.display.HTML object>"
            ]
          },
          "metadata": {},
          "output_type": "display_data"
        },
        {
          "data": {
            "text/html": [
              " View run <strong style=\"color:#cdcd00\">deep-sweep-39</strong> at: <a href='https://wandb.ai/vezenbu-korea-advanced-institute-of-science-and-technology/node-classification/runs/vo5utrcg' target=\"_blank\">https://wandb.ai/vezenbu-korea-advanced-institute-of-science-and-technology/node-classification/runs/vo5utrcg</a><br/> View project at: <a href='https://wandb.ai/vezenbu-korea-advanced-institute-of-science-and-technology/node-classification' target=\"_blank\">https://wandb.ai/vezenbu-korea-advanced-institute-of-science-and-technology/node-classification</a><br/>Synced 5 W&B file(s), 0 media file(s), 4 artifact file(s) and 2 other file(s)"
            ],
            "text/plain": [
              "<IPython.core.display.HTML object>"
            ]
          },
          "metadata": {},
          "output_type": "display_data"
        },
        {
          "data": {
            "text/html": [
              "Find logs at: <code>./wandb/run-20241031_074318-vo5utrcg/logs</code>"
            ],
            "text/plain": [
              "<IPython.core.display.HTML object>"
            ]
          },
          "metadata": {},
          "output_type": "display_data"
        },
        {
          "name": "stderr",
          "output_type": "stream",
          "text": [
            "\u001b[34m\u001b[1mwandb\u001b[0m: Sweep Agent: Waiting for job.\n",
            "\u001b[34m\u001b[1mwandb\u001b[0m: Job received.\n",
            "\u001b[34m\u001b[1mwandb\u001b[0m: Agent Starting Run: r0vc2hxd with config:\n",
            "\u001b[34m\u001b[1mwandb\u001b[0m: \thidden_channels: 8\n",
            "\u001b[34m\u001b[1mwandb\u001b[0m: \tlr: 0.000922872058418078\n",
            "\u001b[34m\u001b[1mwandb\u001b[0m: \tweight_decay: 0.0005008877003889341\n"
          ]
        },
        {
          "data": {
            "text/html": [
              "Tracking run with wandb version 0.18.5"
            ],
            "text/plain": [
              "<IPython.core.display.HTML object>"
            ]
          },
          "metadata": {},
          "output_type": "display_data"
        },
        {
          "data": {
            "text/html": [
              "Run data is saved locally in <code>/root/raw_torch_for_scatter/pyg_examples/wandb/run-20241031_074341-r0vc2hxd</code>"
            ],
            "text/plain": [
              "<IPython.core.display.HTML object>"
            ]
          },
          "metadata": {},
          "output_type": "display_data"
        },
        {
          "data": {
            "text/html": [
              "Syncing run <strong><a href='https://wandb.ai/vezenbu-korea-advanced-institute-of-science-and-technology/node-classification/runs/r0vc2hxd' target=\"_blank\">generous-sweep-40</a></strong> to <a href='https://wandb.ai/vezenbu-korea-advanced-institute-of-science-and-technology/node-classification' target=\"_blank\">Weights & Biases</a> (<a href='https://wandb.me/run' target=\"_blank\">docs</a>)<br/>Sweep page: <a href='https://wandb.ai/vezenbu-korea-advanced-institute-of-science-and-technology/node-classification/sweeps/vk9i6qwp' target=\"_blank\">https://wandb.ai/vezenbu-korea-advanced-institute-of-science-and-technology/node-classification/sweeps/vk9i6qwp</a>"
            ],
            "text/plain": [
              "<IPython.core.display.HTML object>"
            ]
          },
          "metadata": {},
          "output_type": "display_data"
        },
        {
          "data": {
            "text/html": [
              " View project at <a href='https://wandb.ai/vezenbu-korea-advanced-institute-of-science-and-technology/node-classification' target=\"_blank\">https://wandb.ai/vezenbu-korea-advanced-institute-of-science-and-technology/node-classification</a>"
            ],
            "text/plain": [
              "<IPython.core.display.HTML object>"
            ]
          },
          "metadata": {},
          "output_type": "display_data"
        },
        {
          "data": {
            "text/html": [
              " View sweep at <a href='https://wandb.ai/vezenbu-korea-advanced-institute-of-science-and-technology/node-classification/sweeps/vk9i6qwp' target=\"_blank\">https://wandb.ai/vezenbu-korea-advanced-institute-of-science-and-technology/node-classification/sweeps/vk9i6qwp</a>"
            ],
            "text/plain": [
              "<IPython.core.display.HTML object>"
            ]
          },
          "metadata": {},
          "output_type": "display_data"
        },
        {
          "data": {
            "text/html": [
              " View run at <a href='https://wandb.ai/vezenbu-korea-advanced-institute-of-science-and-technology/node-classification/runs/r0vc2hxd' target=\"_blank\">https://wandb.ai/vezenbu-korea-advanced-institute-of-science-and-technology/node-classification/runs/r0vc2hxd</a>"
            ],
            "text/plain": [
              "<IPython.core.display.HTML object>"
            ]
          },
          "metadata": {},
          "output_type": "display_data"
        },
        {
          "name": "stderr",
          "output_type": "stream",
          "text": [
            "  0%|          | 0/100 [00:00<?, ?it/s]/usr/local/lib/python3.10/dist-packages/torch/jit/_check.py:178: UserWarning: The TorchScript type system doesn't support instance-level annotations on empty non-base types in `__init__`. Instead, either 1) use a type annotation in the class body, or 2) wrap the type in `torch.jit.Attribute`.\n",
            "  warnings.warn(\n",
            "/usr/local/lib/python3.10/dist-packages/torch/jit/_check.py:178: UserWarning: The TorchScript type system doesn't support instance-level annotations on empty non-base types in `__init__`. Instead, either 1) use a type annotation in the class body, or 2) wrap the type in `torch.jit.Attribute`.\n",
            "  warnings.warn(\n",
            "/usr/local/lib/python3.10/dist-packages/torch/jit/_check.py:178: UserWarning: The TorchScript type system doesn't support instance-level annotations on empty non-base types in `__init__`. Instead, either 1) use a type annotation in the class body, or 2) wrap the type in `torch.jit.Attribute`.\n",
            "  warnings.warn(\n",
            "/usr/local/lib/python3.10/dist-packages/torch/jit/_check.py:178: UserWarning: The TorchScript type system doesn't support instance-level annotations on empty non-base types in `__init__`. Instead, either 1) use a type annotation in the class body, or 2) wrap the type in `torch.jit.Attribute`.\n",
            "  warnings.warn(\n",
            "100%|██████████| 100/100 [00:02<00:00, 42.02it/s]\n",
            "/usr/local/lib/python3.10/dist-packages/torch/jit/_check.py:178: UserWarning: The TorchScript type system doesn't support instance-level annotations on empty non-base types in `__init__`. Instead, either 1) use a type annotation in the class body, or 2) wrap the type in `torch.jit.Attribute`.\n",
            "  warnings.warn(\n",
            "/usr/local/lib/python3.10/dist-packages/torch/jit/_check.py:178: UserWarning: The TorchScript type system doesn't support instance-level annotations on empty non-base types in `__init__`. Instead, either 1) use a type annotation in the class body, or 2) wrap the type in `torch.jit.Attribute`.\n",
            "  warnings.warn(\n",
            "/usr/local/lib/python3.10/dist-packages/torch/jit/_check.py:178: UserWarning: The TorchScript type system doesn't support instance-level annotations on empty non-base types in `__init__`. Instead, either 1) use a type annotation in the class body, or 2) wrap the type in `torch.jit.Attribute`.\n",
            "  warnings.warn(\n"
          ]
        },
        {
          "data": {
            "application/vnd.jupyter.widget-view+json": {
              "model_id": "026ae65cb72249a1a5c11a49d99f3be4",
              "version_major": 2,
              "version_minor": 0
            },
            "text/plain": [
              "VBox(children=(Label(value='1.730 MB of 1.730 MB uploaded\\r'), FloatProgress(value=1.0, max=1.0)))"
            ]
          },
          "metadata": {},
          "output_type": "display_data"
        },
        {
          "data": {
            "text/html": [
              "<style>\n",
              "    table.wandb td:nth-child(1) { padding: 0 10px; text-align: left ; width: auto;} td:nth-child(2) {text-align: left ; width: 100%}\n",
              "    .wandb-row { display: flex; flex-direction: row; flex-wrap: wrap; justify-content: flex-start; width: 100% }\n",
              "    .wandb-col { display: flex; flex-direction: column; flex-basis: 100%; flex: 1; padding: 10px; }\n",
              "    </style>\n",
              "<div class=\"wandb-row\"><div class=\"wandb-col\"><h3>Run history:</h3><br/><table class=\"wandb\"><tr><td>gcn/accuracy</td><td>▁</td></tr><tr><td>gcn/loss</td><td>██████████▇▇▇▇▇▇▇▆▆▆▅▅▅▄▄▄▄▄▃▄▃▃▃▃▃▃▂▂▂▁</td></tr></table><br/></div><div class=\"wandb-col\"><h3>Run summary:</h3><br/><table class=\"wandb\"><tr><td>gcn/accuracy</td><td>0.66</td></tr><tr><td>gcn/loss</td><td>1.87292</td></tr></table><br/></div></div>"
            ],
            "text/plain": [
              "<IPython.core.display.HTML object>"
            ]
          },
          "metadata": {},
          "output_type": "display_data"
        },
        {
          "data": {
            "text/html": [
              " View run <strong style=\"color:#cdcd00\">generous-sweep-40</strong> at: <a href='https://wandb.ai/vezenbu-korea-advanced-institute-of-science-and-technology/node-classification/runs/r0vc2hxd' target=\"_blank\">https://wandb.ai/vezenbu-korea-advanced-institute-of-science-and-technology/node-classification/runs/r0vc2hxd</a><br/> View project at: <a href='https://wandb.ai/vezenbu-korea-advanced-institute-of-science-and-technology/node-classification' target=\"_blank\">https://wandb.ai/vezenbu-korea-advanced-institute-of-science-and-technology/node-classification</a><br/>Synced 5 W&B file(s), 0 media file(s), 4 artifact file(s) and 2 other file(s)"
            ],
            "text/plain": [
              "<IPython.core.display.HTML object>"
            ]
          },
          "metadata": {},
          "output_type": "display_data"
        },
        {
          "data": {
            "text/html": [
              "Find logs at: <code>./wandb/run-20241031_074341-r0vc2hxd/logs</code>"
            ],
            "text/plain": [
              "<IPython.core.display.HTML object>"
            ]
          },
          "metadata": {},
          "output_type": "display_data"
        },
        {
          "name": "stderr",
          "output_type": "stream",
          "text": [
            "\u001b[34m\u001b[1mwandb\u001b[0m: Sweep Agent: Waiting for job.\n",
            "\u001b[34m\u001b[1mwandb\u001b[0m: Job received.\n",
            "\u001b[34m\u001b[1mwandb\u001b[0m: Agent Starting Run: oaj0tebu with config:\n",
            "\u001b[34m\u001b[1mwandb\u001b[0m: \thidden_channels: 8\n",
            "\u001b[34m\u001b[1mwandb\u001b[0m: \tlr: 0.0008568412801928242\n",
            "\u001b[34m\u001b[1mwandb\u001b[0m: \tweight_decay: 0.0004948877224400529\n"
          ]
        },
        {
          "data": {
            "text/html": [
              "Tracking run with wandb version 0.18.5"
            ],
            "text/plain": [
              "<IPython.core.display.HTML object>"
            ]
          },
          "metadata": {},
          "output_type": "display_data"
        },
        {
          "data": {
            "text/html": [
              "Run data is saved locally in <code>/root/raw_torch_for_scatter/pyg_examples/wandb/run-20241031_074402-oaj0tebu</code>"
            ],
            "text/plain": [
              "<IPython.core.display.HTML object>"
            ]
          },
          "metadata": {},
          "output_type": "display_data"
        },
        {
          "data": {
            "text/html": [
              "Syncing run <strong><a href='https://wandb.ai/vezenbu-korea-advanced-institute-of-science-and-technology/node-classification/runs/oaj0tebu' target=\"_blank\">wandering-sweep-41</a></strong> to <a href='https://wandb.ai/vezenbu-korea-advanced-institute-of-science-and-technology/node-classification' target=\"_blank\">Weights & Biases</a> (<a href='https://wandb.me/run' target=\"_blank\">docs</a>)<br/>Sweep page: <a href='https://wandb.ai/vezenbu-korea-advanced-institute-of-science-and-technology/node-classification/sweeps/vk9i6qwp' target=\"_blank\">https://wandb.ai/vezenbu-korea-advanced-institute-of-science-and-technology/node-classification/sweeps/vk9i6qwp</a>"
            ],
            "text/plain": [
              "<IPython.core.display.HTML object>"
            ]
          },
          "metadata": {},
          "output_type": "display_data"
        },
        {
          "data": {
            "text/html": [
              " View project at <a href='https://wandb.ai/vezenbu-korea-advanced-institute-of-science-and-technology/node-classification' target=\"_blank\">https://wandb.ai/vezenbu-korea-advanced-institute-of-science-and-technology/node-classification</a>"
            ],
            "text/plain": [
              "<IPython.core.display.HTML object>"
            ]
          },
          "metadata": {},
          "output_type": "display_data"
        },
        {
          "data": {
            "text/html": [
              " View sweep at <a href='https://wandb.ai/vezenbu-korea-advanced-institute-of-science-and-technology/node-classification/sweeps/vk9i6qwp' target=\"_blank\">https://wandb.ai/vezenbu-korea-advanced-institute-of-science-and-technology/node-classification/sweeps/vk9i6qwp</a>"
            ],
            "text/plain": [
              "<IPython.core.display.HTML object>"
            ]
          },
          "metadata": {},
          "output_type": "display_data"
        },
        {
          "data": {
            "text/html": [
              " View run at <a href='https://wandb.ai/vezenbu-korea-advanced-institute-of-science-and-technology/node-classification/runs/oaj0tebu' target=\"_blank\">https://wandb.ai/vezenbu-korea-advanced-institute-of-science-and-technology/node-classification/runs/oaj0tebu</a>"
            ],
            "text/plain": [
              "<IPython.core.display.HTML object>"
            ]
          },
          "metadata": {},
          "output_type": "display_data"
        },
        {
          "name": "stderr",
          "output_type": "stream",
          "text": [
            "  0%|          | 0/100 [00:00<?, ?it/s]/usr/local/lib/python3.10/dist-packages/torch/jit/_check.py:178: UserWarning: The TorchScript type system doesn't support instance-level annotations on empty non-base types in `__init__`. Instead, either 1) use a type annotation in the class body, or 2) wrap the type in `torch.jit.Attribute`.\n",
            "  warnings.warn(\n",
            "/usr/local/lib/python3.10/dist-packages/torch/jit/_check.py:178: UserWarning: The TorchScript type system doesn't support instance-level annotations on empty non-base types in `__init__`. Instead, either 1) use a type annotation in the class body, or 2) wrap the type in `torch.jit.Attribute`.\n",
            "  warnings.warn(\n",
            "/usr/local/lib/python3.10/dist-packages/torch/jit/_check.py:178: UserWarning: The TorchScript type system doesn't support instance-level annotations on empty non-base types in `__init__`. Instead, either 1) use a type annotation in the class body, or 2) wrap the type in `torch.jit.Attribute`.\n",
            "  warnings.warn(\n",
            "/usr/local/lib/python3.10/dist-packages/torch/jit/_check.py:178: UserWarning: The TorchScript type system doesn't support instance-level annotations on empty non-base types in `__init__`. Instead, either 1) use a type annotation in the class body, or 2) wrap the type in `torch.jit.Attribute`.\n",
            "  warnings.warn(\n",
            "100%|██████████| 100/100 [00:02<00:00, 41.79it/s]\n",
            "/usr/local/lib/python3.10/dist-packages/torch/jit/_check.py:178: UserWarning: The TorchScript type system doesn't support instance-level annotations on empty non-base types in `__init__`. Instead, either 1) use a type annotation in the class body, or 2) wrap the type in `torch.jit.Attribute`.\n",
            "  warnings.warn(\n",
            "/usr/local/lib/python3.10/dist-packages/torch/jit/_check.py:178: UserWarning: The TorchScript type system doesn't support instance-level annotations on empty non-base types in `__init__`. Instead, either 1) use a type annotation in the class body, or 2) wrap the type in `torch.jit.Attribute`.\n",
            "  warnings.warn(\n",
            "/usr/local/lib/python3.10/dist-packages/torch/jit/_check.py:178: UserWarning: The TorchScript type system doesn't support instance-level annotations on empty non-base types in `__init__`. Instead, either 1) use a type annotation in the class body, or 2) wrap the type in `torch.jit.Attribute`.\n",
            "  warnings.warn(\n"
          ]
        },
        {
          "data": {
            "application/vnd.jupyter.widget-view+json": {
              "model_id": "363be81c02e74bc78ff0e25eac5ca31d",
              "version_major": 2,
              "version_minor": 0
            },
            "text/plain": [
              "VBox(children=(Label(value='1.730 MB of 1.730 MB uploaded\\r'), FloatProgress(value=1.0, max=1.0)))"
            ]
          },
          "metadata": {},
          "output_type": "display_data"
        },
        {
          "data": {
            "text/html": [
              "<style>\n",
              "    table.wandb td:nth-child(1) { padding: 0 10px; text-align: left ; width: auto;} td:nth-child(2) {text-align: left ; width: 100%}\n",
              "    .wandb-row { display: flex; flex-direction: row; flex-wrap: wrap; justify-content: flex-start; width: 100% }\n",
              "    .wandb-col { display: flex; flex-direction: column; flex-basis: 100%; flex: 1; padding: 10px; }\n",
              "    </style>\n",
              "<div class=\"wandb-row\"><div class=\"wandb-col\"><h3>Run history:</h3><br/><table class=\"wandb\"><tr><td>gcn/accuracy</td><td>▁</td></tr><tr><td>gcn/loss</td><td>█████▇▇▇▇▇▇▇▇▇▆▆▆▆▆▆▅▅▅▅▄▄▄▄▄▃▄▃▃▃▃▃▂▂▁▁</td></tr></table><br/></div><div class=\"wandb-col\"><h3>Run summary:</h3><br/><table class=\"wandb\"><tr><td>gcn/accuracy</td><td>0.661</td></tr><tr><td>gcn/loss</td><td>1.87913</td></tr></table><br/></div></div>"
            ],
            "text/plain": [
              "<IPython.core.display.HTML object>"
            ]
          },
          "metadata": {},
          "output_type": "display_data"
        },
        {
          "data": {
            "text/html": [
              " View run <strong style=\"color:#cdcd00\">wandering-sweep-41</strong> at: <a href='https://wandb.ai/vezenbu-korea-advanced-institute-of-science-and-technology/node-classification/runs/oaj0tebu' target=\"_blank\">https://wandb.ai/vezenbu-korea-advanced-institute-of-science-and-technology/node-classification/runs/oaj0tebu</a><br/> View project at: <a href='https://wandb.ai/vezenbu-korea-advanced-institute-of-science-and-technology/node-classification' target=\"_blank\">https://wandb.ai/vezenbu-korea-advanced-institute-of-science-and-technology/node-classification</a><br/>Synced 5 W&B file(s), 0 media file(s), 4 artifact file(s) and 2 other file(s)"
            ],
            "text/plain": [
              "<IPython.core.display.HTML object>"
            ]
          },
          "metadata": {},
          "output_type": "display_data"
        },
        {
          "data": {
            "text/html": [
              "Find logs at: <code>./wandb/run-20241031_074402-oaj0tebu/logs</code>"
            ],
            "text/plain": [
              "<IPython.core.display.HTML object>"
            ]
          },
          "metadata": {},
          "output_type": "display_data"
        },
        {
          "name": "stderr",
          "output_type": "stream",
          "text": [
            "\u001b[34m\u001b[1mwandb\u001b[0m: Sweep Agent: Waiting for job.\n",
            "\u001b[34m\u001b[1mwandb\u001b[0m: Job received.\n",
            "\u001b[34m\u001b[1mwandb\u001b[0m: Agent Starting Run: hdlv4t7f with config:\n",
            "\u001b[34m\u001b[1mwandb\u001b[0m: \thidden_channels: 8\n",
            "\u001b[34m\u001b[1mwandb\u001b[0m: \tlr: 0.0009376600734864926\n",
            "\u001b[34m\u001b[1mwandb\u001b[0m: \tweight_decay: 0.0005014839766546293\n"
          ]
        },
        {
          "data": {
            "text/html": [
              "Tracking run with wandb version 0.18.5"
            ],
            "text/plain": [
              "<IPython.core.display.HTML object>"
            ]
          },
          "metadata": {},
          "output_type": "display_data"
        },
        {
          "data": {
            "text/html": [
              "Run data is saved locally in <code>/root/raw_torch_for_scatter/pyg_examples/wandb/run-20241031_074423-hdlv4t7f</code>"
            ],
            "text/plain": [
              "<IPython.core.display.HTML object>"
            ]
          },
          "metadata": {},
          "output_type": "display_data"
        },
        {
          "data": {
            "text/html": [
              "Syncing run <strong><a href='https://wandb.ai/vezenbu-korea-advanced-institute-of-science-and-technology/node-classification/runs/hdlv4t7f' target=\"_blank\">expert-sweep-42</a></strong> to <a href='https://wandb.ai/vezenbu-korea-advanced-institute-of-science-and-technology/node-classification' target=\"_blank\">Weights & Biases</a> (<a href='https://wandb.me/run' target=\"_blank\">docs</a>)<br/>Sweep page: <a href='https://wandb.ai/vezenbu-korea-advanced-institute-of-science-and-technology/node-classification/sweeps/vk9i6qwp' target=\"_blank\">https://wandb.ai/vezenbu-korea-advanced-institute-of-science-and-technology/node-classification/sweeps/vk9i6qwp</a>"
            ],
            "text/plain": [
              "<IPython.core.display.HTML object>"
            ]
          },
          "metadata": {},
          "output_type": "display_data"
        },
        {
          "data": {
            "text/html": [
              " View project at <a href='https://wandb.ai/vezenbu-korea-advanced-institute-of-science-and-technology/node-classification' target=\"_blank\">https://wandb.ai/vezenbu-korea-advanced-institute-of-science-and-technology/node-classification</a>"
            ],
            "text/plain": [
              "<IPython.core.display.HTML object>"
            ]
          },
          "metadata": {},
          "output_type": "display_data"
        },
        {
          "data": {
            "text/html": [
              " View sweep at <a href='https://wandb.ai/vezenbu-korea-advanced-institute-of-science-and-technology/node-classification/sweeps/vk9i6qwp' target=\"_blank\">https://wandb.ai/vezenbu-korea-advanced-institute-of-science-and-technology/node-classification/sweeps/vk9i6qwp</a>"
            ],
            "text/plain": [
              "<IPython.core.display.HTML object>"
            ]
          },
          "metadata": {},
          "output_type": "display_data"
        },
        {
          "data": {
            "text/html": [
              " View run at <a href='https://wandb.ai/vezenbu-korea-advanced-institute-of-science-and-technology/node-classification/runs/hdlv4t7f' target=\"_blank\">https://wandb.ai/vezenbu-korea-advanced-institute-of-science-and-technology/node-classification/runs/hdlv4t7f</a>"
            ],
            "text/plain": [
              "<IPython.core.display.HTML object>"
            ]
          },
          "metadata": {},
          "output_type": "display_data"
        },
        {
          "name": "stderr",
          "output_type": "stream",
          "text": [
            "  0%|          | 0/100 [00:00<?, ?it/s]/usr/local/lib/python3.10/dist-packages/torch/jit/_check.py:178: UserWarning: The TorchScript type system doesn't support instance-level annotations on empty non-base types in `__init__`. Instead, either 1) use a type annotation in the class body, or 2) wrap the type in `torch.jit.Attribute`.\n",
            "  warnings.warn(\n",
            "/usr/local/lib/python3.10/dist-packages/torch/jit/_check.py:178: UserWarning: The TorchScript type system doesn't support instance-level annotations on empty non-base types in `__init__`. Instead, either 1) use a type annotation in the class body, or 2) wrap the type in `torch.jit.Attribute`.\n",
            "  warnings.warn(\n",
            "/usr/local/lib/python3.10/dist-packages/torch/jit/_check.py:178: UserWarning: The TorchScript type system doesn't support instance-level annotations on empty non-base types in `__init__`. Instead, either 1) use a type annotation in the class body, or 2) wrap the type in `torch.jit.Attribute`.\n",
            "  warnings.warn(\n",
            "/usr/local/lib/python3.10/dist-packages/torch/jit/_check.py:178: UserWarning: The TorchScript type system doesn't support instance-level annotations on empty non-base types in `__init__`. Instead, either 1) use a type annotation in the class body, or 2) wrap the type in `torch.jit.Attribute`.\n",
            "  warnings.warn(\n",
            "100%|██████████| 100/100 [00:02<00:00, 41.93it/s]\n",
            "/usr/local/lib/python3.10/dist-packages/torch/jit/_check.py:178: UserWarning: The TorchScript type system doesn't support instance-level annotations on empty non-base types in `__init__`. Instead, either 1) use a type annotation in the class body, or 2) wrap the type in `torch.jit.Attribute`.\n",
            "  warnings.warn(\n",
            "/usr/local/lib/python3.10/dist-packages/torch/jit/_check.py:178: UserWarning: The TorchScript type system doesn't support instance-level annotations on empty non-base types in `__init__`. Instead, either 1) use a type annotation in the class body, or 2) wrap the type in `torch.jit.Attribute`.\n",
            "  warnings.warn(\n",
            "/usr/local/lib/python3.10/dist-packages/torch/jit/_check.py:178: UserWarning: The TorchScript type system doesn't support instance-level annotations on empty non-base types in `__init__`. Instead, either 1) use a type annotation in the class body, or 2) wrap the type in `torch.jit.Attribute`.\n",
            "  warnings.warn(\n"
          ]
        },
        {
          "data": {
            "application/vnd.jupyter.widget-view+json": {
              "model_id": "17cfeb0ff0cc4e8aa08f0c59ee84c932",
              "version_major": 2,
              "version_minor": 0
            },
            "text/plain": [
              "VBox(children=(Label(value='1.730 MB of 1.730 MB uploaded\\r'), FloatProgress(value=1.0, max=1.0)))"
            ]
          },
          "metadata": {},
          "output_type": "display_data"
        },
        {
          "data": {
            "text/html": [
              "<style>\n",
              "    table.wandb td:nth-child(1) { padding: 0 10px; text-align: left ; width: auto;} td:nth-child(2) {text-align: left ; width: 100%}\n",
              "    .wandb-row { display: flex; flex-direction: row; flex-wrap: wrap; justify-content: flex-start; width: 100% }\n",
              "    .wandb-col { display: flex; flex-direction: column; flex-basis: 100%; flex: 1; padding: 10px; }\n",
              "    </style>\n",
              "<div class=\"wandb-row\"><div class=\"wandb-col\"><h3>Run history:</h3><br/><table class=\"wandb\"><tr><td>gcn/accuracy</td><td>▁</td></tr><tr><td>gcn/loss</td><td>██████▇▇▇▇▇▇▇▇▆▆▆▅▆▅▅▅▄▄▅▄▄▄▃▃▃▃▃▃▂▃▂▂▂▁</td></tr></table><br/></div><div class=\"wandb-col\"><h3>Run summary:</h3><br/><table class=\"wandb\"><tr><td>gcn/accuracy</td><td>0.661</td></tr><tr><td>gcn/loss</td><td>1.87232</td></tr></table><br/></div></div>"
            ],
            "text/plain": [
              "<IPython.core.display.HTML object>"
            ]
          },
          "metadata": {},
          "output_type": "display_data"
        },
        {
          "data": {
            "text/html": [
              " View run <strong style=\"color:#cdcd00\">expert-sweep-42</strong> at: <a href='https://wandb.ai/vezenbu-korea-advanced-institute-of-science-and-technology/node-classification/runs/hdlv4t7f' target=\"_blank\">https://wandb.ai/vezenbu-korea-advanced-institute-of-science-and-technology/node-classification/runs/hdlv4t7f</a><br/> View project at: <a href='https://wandb.ai/vezenbu-korea-advanced-institute-of-science-and-technology/node-classification' target=\"_blank\">https://wandb.ai/vezenbu-korea-advanced-institute-of-science-and-technology/node-classification</a><br/>Synced 5 W&B file(s), 0 media file(s), 4 artifact file(s) and 2 other file(s)"
            ],
            "text/plain": [
              "<IPython.core.display.HTML object>"
            ]
          },
          "metadata": {},
          "output_type": "display_data"
        },
        {
          "data": {
            "text/html": [
              "Find logs at: <code>./wandb/run-20241031_074423-hdlv4t7f/logs</code>"
            ],
            "text/plain": [
              "<IPython.core.display.HTML object>"
            ]
          },
          "metadata": {},
          "output_type": "display_data"
        },
        {
          "name": "stderr",
          "output_type": "stream",
          "text": [
            "\u001b[34m\u001b[1mwandb\u001b[0m: Sweep Agent: Waiting for job.\n",
            "\u001b[34m\u001b[1mwandb\u001b[0m: Job received.\n",
            "\u001b[34m\u001b[1mwandb\u001b[0m: Agent Starting Run: h7iyvn8s with config:\n",
            "\u001b[34m\u001b[1mwandb\u001b[0m: \thidden_channels: 8\n",
            "\u001b[34m\u001b[1mwandb\u001b[0m: \tlr: 0.0009826812220022191\n",
            "\u001b[34m\u001b[1mwandb\u001b[0m: \tweight_decay: 0.0005012926266414074\n"
          ]
        },
        {
          "data": {
            "text/html": [
              "Tracking run with wandb version 0.18.5"
            ],
            "text/plain": [
              "<IPython.core.display.HTML object>"
            ]
          },
          "metadata": {},
          "output_type": "display_data"
        },
        {
          "data": {
            "text/html": [
              "Run data is saved locally in <code>/root/raw_torch_for_scatter/pyg_examples/wandb/run-20241031_074445-h7iyvn8s</code>"
            ],
            "text/plain": [
              "<IPython.core.display.HTML object>"
            ]
          },
          "metadata": {},
          "output_type": "display_data"
        },
        {
          "data": {
            "text/html": [
              "Syncing run <strong><a href='https://wandb.ai/vezenbu-korea-advanced-institute-of-science-and-technology/node-classification/runs/h7iyvn8s' target=\"_blank\">lemon-sweep-43</a></strong> to <a href='https://wandb.ai/vezenbu-korea-advanced-institute-of-science-and-technology/node-classification' target=\"_blank\">Weights & Biases</a> (<a href='https://wandb.me/run' target=\"_blank\">docs</a>)<br/>Sweep page: <a href='https://wandb.ai/vezenbu-korea-advanced-institute-of-science-and-technology/node-classification/sweeps/vk9i6qwp' target=\"_blank\">https://wandb.ai/vezenbu-korea-advanced-institute-of-science-and-technology/node-classification/sweeps/vk9i6qwp</a>"
            ],
            "text/plain": [
              "<IPython.core.display.HTML object>"
            ]
          },
          "metadata": {},
          "output_type": "display_data"
        },
        {
          "data": {
            "text/html": [
              " View project at <a href='https://wandb.ai/vezenbu-korea-advanced-institute-of-science-and-technology/node-classification' target=\"_blank\">https://wandb.ai/vezenbu-korea-advanced-institute-of-science-and-technology/node-classification</a>"
            ],
            "text/plain": [
              "<IPython.core.display.HTML object>"
            ]
          },
          "metadata": {},
          "output_type": "display_data"
        },
        {
          "data": {
            "text/html": [
              " View sweep at <a href='https://wandb.ai/vezenbu-korea-advanced-institute-of-science-and-technology/node-classification/sweeps/vk9i6qwp' target=\"_blank\">https://wandb.ai/vezenbu-korea-advanced-institute-of-science-and-technology/node-classification/sweeps/vk9i6qwp</a>"
            ],
            "text/plain": [
              "<IPython.core.display.HTML object>"
            ]
          },
          "metadata": {},
          "output_type": "display_data"
        },
        {
          "data": {
            "text/html": [
              " View run at <a href='https://wandb.ai/vezenbu-korea-advanced-institute-of-science-and-technology/node-classification/runs/h7iyvn8s' target=\"_blank\">https://wandb.ai/vezenbu-korea-advanced-institute-of-science-and-technology/node-classification/runs/h7iyvn8s</a>"
            ],
            "text/plain": [
              "<IPython.core.display.HTML object>"
            ]
          },
          "metadata": {},
          "output_type": "display_data"
        },
        {
          "name": "stderr",
          "output_type": "stream",
          "text": [
            "  0%|          | 0/100 [00:00<?, ?it/s]/usr/local/lib/python3.10/dist-packages/torch/jit/_check.py:178: UserWarning: The TorchScript type system doesn't support instance-level annotations on empty non-base types in `__init__`. Instead, either 1) use a type annotation in the class body, or 2) wrap the type in `torch.jit.Attribute`.\n",
            "  warnings.warn(\n",
            "/usr/local/lib/python3.10/dist-packages/torch/jit/_check.py:178: UserWarning: The TorchScript type system doesn't support instance-level annotations on empty non-base types in `__init__`. Instead, either 1) use a type annotation in the class body, or 2) wrap the type in `torch.jit.Attribute`.\n",
            "  warnings.warn(\n",
            "/usr/local/lib/python3.10/dist-packages/torch/jit/_check.py:178: UserWarning: The TorchScript type system doesn't support instance-level annotations on empty non-base types in `__init__`. Instead, either 1) use a type annotation in the class body, or 2) wrap the type in `torch.jit.Attribute`.\n",
            "  warnings.warn(\n",
            "/usr/local/lib/python3.10/dist-packages/torch/jit/_check.py:178: UserWarning: The TorchScript type system doesn't support instance-level annotations on empty non-base types in `__init__`. Instead, either 1) use a type annotation in the class body, or 2) wrap the type in `torch.jit.Attribute`.\n",
            "  warnings.warn(\n",
            "100%|██████████| 100/100 [00:02<00:00, 41.41it/s]\n",
            "/usr/local/lib/python3.10/dist-packages/torch/jit/_check.py:178: UserWarning: The TorchScript type system doesn't support instance-level annotations on empty non-base types in `__init__`. Instead, either 1) use a type annotation in the class body, or 2) wrap the type in `torch.jit.Attribute`.\n",
            "  warnings.warn(\n",
            "/usr/local/lib/python3.10/dist-packages/torch/jit/_check.py:178: UserWarning: The TorchScript type system doesn't support instance-level annotations on empty non-base types in `__init__`. Instead, either 1) use a type annotation in the class body, or 2) wrap the type in `torch.jit.Attribute`.\n",
            "  warnings.warn(\n",
            "/usr/local/lib/python3.10/dist-packages/torch/jit/_check.py:178: UserWarning: The TorchScript type system doesn't support instance-level annotations on empty non-base types in `__init__`. Instead, either 1) use a type annotation in the class body, or 2) wrap the type in `torch.jit.Attribute`.\n",
            "  warnings.warn(\n"
          ]
        },
        {
          "data": {
            "application/vnd.jupyter.widget-view+json": {
              "model_id": "8f2a252b4d3048f7be048cafb9acccd8",
              "version_major": 2,
              "version_minor": 0
            },
            "text/plain": [
              "VBox(children=(Label(value='1.729 MB of 1.729 MB uploaded\\r'), FloatProgress(value=1.0, max=1.0)))"
            ]
          },
          "metadata": {},
          "output_type": "display_data"
        },
        {
          "data": {
            "text/html": [
              "<style>\n",
              "    table.wandb td:nth-child(1) { padding: 0 10px; text-align: left ; width: auto;} td:nth-child(2) {text-align: left ; width: 100%}\n",
              "    .wandb-row { display: flex; flex-direction: row; flex-wrap: wrap; justify-content: flex-start; width: 100% }\n",
              "    .wandb-col { display: flex; flex-direction: column; flex-basis: 100%; flex: 1; padding: 10px; }\n",
              "    </style>\n",
              "<div class=\"wandb-row\"><div class=\"wandb-col\"><h3>Run history:</h3><br/><table class=\"wandb\"><tr><td>gcn/accuracy</td><td>▁</td></tr><tr><td>gcn/loss</td><td>█████▇▇▇▇▇▇▇▆▆▆▆▆▆▅▅▅▅▅▄▄▄▄▄▄▃▃▃▃▃▂▂▁▂▂▁</td></tr></table><br/></div><div class=\"wandb-col\"><h3>Run summary:</h3><br/><table class=\"wandb\"><tr><td>gcn/accuracy</td><td>0.664</td></tr><tr><td>gcn/loss</td><td>1.86811</td></tr></table><br/></div></div>"
            ],
            "text/plain": [
              "<IPython.core.display.HTML object>"
            ]
          },
          "metadata": {},
          "output_type": "display_data"
        },
        {
          "data": {
            "text/html": [
              " View run <strong style=\"color:#cdcd00\">lemon-sweep-43</strong> at: <a href='https://wandb.ai/vezenbu-korea-advanced-institute-of-science-and-technology/node-classification/runs/h7iyvn8s' target=\"_blank\">https://wandb.ai/vezenbu-korea-advanced-institute-of-science-and-technology/node-classification/runs/h7iyvn8s</a><br/> View project at: <a href='https://wandb.ai/vezenbu-korea-advanced-institute-of-science-and-technology/node-classification' target=\"_blank\">https://wandb.ai/vezenbu-korea-advanced-institute-of-science-and-technology/node-classification</a><br/>Synced 5 W&B file(s), 0 media file(s), 4 artifact file(s) and 2 other file(s)"
            ],
            "text/plain": [
              "<IPython.core.display.HTML object>"
            ]
          },
          "metadata": {},
          "output_type": "display_data"
        },
        {
          "data": {
            "text/html": [
              "Find logs at: <code>./wandb/run-20241031_074445-h7iyvn8s/logs</code>"
            ],
            "text/plain": [
              "<IPython.core.display.HTML object>"
            ]
          },
          "metadata": {},
          "output_type": "display_data"
        },
        {
          "name": "stderr",
          "output_type": "stream",
          "text": [
            "\u001b[34m\u001b[1mwandb\u001b[0m: Sweep Agent: Waiting for job.\n",
            "\u001b[34m\u001b[1mwandb\u001b[0m: Job received.\n",
            "\u001b[34m\u001b[1mwandb\u001b[0m: Agent Starting Run: d29asx49 with config:\n",
            "\u001b[34m\u001b[1mwandb\u001b[0m: \thidden_channels: 8\n",
            "\u001b[34m\u001b[1mwandb\u001b[0m: \tlr: 0.0009984055350541826\n",
            "\u001b[34m\u001b[1mwandb\u001b[0m: \tweight_decay: 0.0005016090483851728\n"
          ]
        },
        {
          "data": {
            "text/html": [
              "Tracking run with wandb version 0.18.5"
            ],
            "text/plain": [
              "<IPython.core.display.HTML object>"
            ]
          },
          "metadata": {},
          "output_type": "display_data"
        },
        {
          "data": {
            "text/html": [
              "Run data is saved locally in <code>/root/raw_torch_for_scatter/pyg_examples/wandb/run-20241031_074506-d29asx49</code>"
            ],
            "text/plain": [
              "<IPython.core.display.HTML object>"
            ]
          },
          "metadata": {},
          "output_type": "display_data"
        },
        {
          "data": {
            "text/html": [
              "Syncing run <strong><a href='https://wandb.ai/vezenbu-korea-advanced-institute-of-science-and-technology/node-classification/runs/d29asx49' target=\"_blank\">northern-sweep-44</a></strong> to <a href='https://wandb.ai/vezenbu-korea-advanced-institute-of-science-and-technology/node-classification' target=\"_blank\">Weights & Biases</a> (<a href='https://wandb.me/run' target=\"_blank\">docs</a>)<br/>Sweep page: <a href='https://wandb.ai/vezenbu-korea-advanced-institute-of-science-and-technology/node-classification/sweeps/vk9i6qwp' target=\"_blank\">https://wandb.ai/vezenbu-korea-advanced-institute-of-science-and-technology/node-classification/sweeps/vk9i6qwp</a>"
            ],
            "text/plain": [
              "<IPython.core.display.HTML object>"
            ]
          },
          "metadata": {},
          "output_type": "display_data"
        },
        {
          "data": {
            "text/html": [
              " View project at <a href='https://wandb.ai/vezenbu-korea-advanced-institute-of-science-and-technology/node-classification' target=\"_blank\">https://wandb.ai/vezenbu-korea-advanced-institute-of-science-and-technology/node-classification</a>"
            ],
            "text/plain": [
              "<IPython.core.display.HTML object>"
            ]
          },
          "metadata": {},
          "output_type": "display_data"
        },
        {
          "data": {
            "text/html": [
              " View sweep at <a href='https://wandb.ai/vezenbu-korea-advanced-institute-of-science-and-technology/node-classification/sweeps/vk9i6qwp' target=\"_blank\">https://wandb.ai/vezenbu-korea-advanced-institute-of-science-and-technology/node-classification/sweeps/vk9i6qwp</a>"
            ],
            "text/plain": [
              "<IPython.core.display.HTML object>"
            ]
          },
          "metadata": {},
          "output_type": "display_data"
        },
        {
          "data": {
            "text/html": [
              " View run at <a href='https://wandb.ai/vezenbu-korea-advanced-institute-of-science-and-technology/node-classification/runs/d29asx49' target=\"_blank\">https://wandb.ai/vezenbu-korea-advanced-institute-of-science-and-technology/node-classification/runs/d29asx49</a>"
            ],
            "text/plain": [
              "<IPython.core.display.HTML object>"
            ]
          },
          "metadata": {},
          "output_type": "display_data"
        },
        {
          "name": "stderr",
          "output_type": "stream",
          "text": [
            "  0%|          | 0/100 [00:00<?, ?it/s]/usr/local/lib/python3.10/dist-packages/torch/jit/_check.py:178: UserWarning: The TorchScript type system doesn't support instance-level annotations on empty non-base types in `__init__`. Instead, either 1) use a type annotation in the class body, or 2) wrap the type in `torch.jit.Attribute`.\n",
            "  warnings.warn(\n",
            "/usr/local/lib/python3.10/dist-packages/torch/jit/_check.py:178: UserWarning: The TorchScript type system doesn't support instance-level annotations on empty non-base types in `__init__`. Instead, either 1) use a type annotation in the class body, or 2) wrap the type in `torch.jit.Attribute`.\n",
            "  warnings.warn(\n",
            "/usr/local/lib/python3.10/dist-packages/torch/jit/_check.py:178: UserWarning: The TorchScript type system doesn't support instance-level annotations on empty non-base types in `__init__`. Instead, either 1) use a type annotation in the class body, or 2) wrap the type in `torch.jit.Attribute`.\n",
            "  warnings.warn(\n",
            "/usr/local/lib/python3.10/dist-packages/torch/jit/_check.py:178: UserWarning: The TorchScript type system doesn't support instance-level annotations on empty non-base types in `__init__`. Instead, either 1) use a type annotation in the class body, or 2) wrap the type in `torch.jit.Attribute`.\n",
            "  warnings.warn(\n",
            "100%|██████████| 100/100 [00:02<00:00, 41.78it/s]\n",
            "/usr/local/lib/python3.10/dist-packages/torch/jit/_check.py:178: UserWarning: The TorchScript type system doesn't support instance-level annotations on empty non-base types in `__init__`. Instead, either 1) use a type annotation in the class body, or 2) wrap the type in `torch.jit.Attribute`.\n",
            "  warnings.warn(\n",
            "/usr/local/lib/python3.10/dist-packages/torch/jit/_check.py:178: UserWarning: The TorchScript type system doesn't support instance-level annotations on empty non-base types in `__init__`. Instead, either 1) use a type annotation in the class body, or 2) wrap the type in `torch.jit.Attribute`.\n",
            "  warnings.warn(\n",
            "/usr/local/lib/python3.10/dist-packages/torch/jit/_check.py:178: UserWarning: The TorchScript type system doesn't support instance-level annotations on empty non-base types in `__init__`. Instead, either 1) use a type annotation in the class body, or 2) wrap the type in `torch.jit.Attribute`.\n",
            "  warnings.warn(\n"
          ]
        },
        {
          "data": {
            "application/vnd.jupyter.widget-view+json": {
              "model_id": "fa4bd6b6169d4ff59054b9e8b9be1559",
              "version_major": 2,
              "version_minor": 0
            },
            "text/plain": [
              "VBox(children=(Label(value='1.729 MB of 1.729 MB uploaded\\r'), FloatProgress(value=1.0, max=1.0)))"
            ]
          },
          "metadata": {},
          "output_type": "display_data"
        },
        {
          "data": {
            "text/html": [
              "<style>\n",
              "    table.wandb td:nth-child(1) { padding: 0 10px; text-align: left ; width: auto;} td:nth-child(2) {text-align: left ; width: 100%}\n",
              "    .wandb-row { display: flex; flex-direction: row; flex-wrap: wrap; justify-content: flex-start; width: 100% }\n",
              "    .wandb-col { display: flex; flex-direction: column; flex-basis: 100%; flex: 1; padding: 10px; }\n",
              "    </style>\n",
              "<div class=\"wandb-row\"><div class=\"wandb-col\"><h3>Run history:</h3><br/><table class=\"wandb\"><tr><td>gcn/accuracy</td><td>▁</td></tr><tr><td>gcn/loss</td><td>█████▇█▇▇▇▇▇▇▇▆▆▆▆▆▆▆▅▅▅▅▅▄▄▄▄▃▃▃▃▃▂▂▂▂▁</td></tr></table><br/></div><div class=\"wandb-col\"><h3>Run summary:</h3><br/><table class=\"wandb\"><tr><td>gcn/accuracy</td><td>0.663</td></tr><tr><td>gcn/loss</td><td>1.86656</td></tr></table><br/></div></div>"
            ],
            "text/plain": [
              "<IPython.core.display.HTML object>"
            ]
          },
          "metadata": {},
          "output_type": "display_data"
        },
        {
          "data": {
            "text/html": [
              " View run <strong style=\"color:#cdcd00\">northern-sweep-44</strong> at: <a href='https://wandb.ai/vezenbu-korea-advanced-institute-of-science-and-technology/node-classification/runs/d29asx49' target=\"_blank\">https://wandb.ai/vezenbu-korea-advanced-institute-of-science-and-technology/node-classification/runs/d29asx49</a><br/> View project at: <a href='https://wandb.ai/vezenbu-korea-advanced-institute-of-science-and-technology/node-classification' target=\"_blank\">https://wandb.ai/vezenbu-korea-advanced-institute-of-science-and-technology/node-classification</a><br/>Synced 5 W&B file(s), 0 media file(s), 4 artifact file(s) and 2 other file(s)"
            ],
            "text/plain": [
              "<IPython.core.display.HTML object>"
            ]
          },
          "metadata": {},
          "output_type": "display_data"
        },
        {
          "data": {
            "text/html": [
              "Find logs at: <code>./wandb/run-20241031_074506-d29asx49/logs</code>"
            ],
            "text/plain": [
              "<IPython.core.display.HTML object>"
            ]
          },
          "metadata": {},
          "output_type": "display_data"
        },
        {
          "name": "stderr",
          "output_type": "stream",
          "text": [
            "\u001b[34m\u001b[1mwandb\u001b[0m: Agent Starting Run: 53ee3wyo with config:\n",
            "\u001b[34m\u001b[1mwandb\u001b[0m: \thidden_channels: 8\n",
            "\u001b[34m\u001b[1mwandb\u001b[0m: \tlr: 0.00096117135718417\n",
            "\u001b[34m\u001b[1mwandb\u001b[0m: \tweight_decay: 0.0004984629483442572\n"
          ]
        },
        {
          "data": {
            "text/html": [
              "Tracking run with wandb version 0.18.5"
            ],
            "text/plain": [
              "<IPython.core.display.HTML object>"
            ]
          },
          "metadata": {},
          "output_type": "display_data"
        },
        {
          "data": {
            "text/html": [
              "Run data is saved locally in <code>/root/raw_torch_for_scatter/pyg_examples/wandb/run-20241031_074518-53ee3wyo</code>"
            ],
            "text/plain": [
              "<IPython.core.display.HTML object>"
            ]
          },
          "metadata": {},
          "output_type": "display_data"
        },
        {
          "data": {
            "text/html": [
              "Syncing run <strong><a href='https://wandb.ai/vezenbu-korea-advanced-institute-of-science-and-technology/node-classification/runs/53ee3wyo' target=\"_blank\">laced-sweep-45</a></strong> to <a href='https://wandb.ai/vezenbu-korea-advanced-institute-of-science-and-technology/node-classification' target=\"_blank\">Weights & Biases</a> (<a href='https://wandb.me/run' target=\"_blank\">docs</a>)<br/>Sweep page: <a href='https://wandb.ai/vezenbu-korea-advanced-institute-of-science-and-technology/node-classification/sweeps/vk9i6qwp' target=\"_blank\">https://wandb.ai/vezenbu-korea-advanced-institute-of-science-and-technology/node-classification/sweeps/vk9i6qwp</a>"
            ],
            "text/plain": [
              "<IPython.core.display.HTML object>"
            ]
          },
          "metadata": {},
          "output_type": "display_data"
        },
        {
          "data": {
            "text/html": [
              " View project at <a href='https://wandb.ai/vezenbu-korea-advanced-institute-of-science-and-technology/node-classification' target=\"_blank\">https://wandb.ai/vezenbu-korea-advanced-institute-of-science-and-technology/node-classification</a>"
            ],
            "text/plain": [
              "<IPython.core.display.HTML object>"
            ]
          },
          "metadata": {},
          "output_type": "display_data"
        },
        {
          "data": {
            "text/html": [
              " View sweep at <a href='https://wandb.ai/vezenbu-korea-advanced-institute-of-science-and-technology/node-classification/sweeps/vk9i6qwp' target=\"_blank\">https://wandb.ai/vezenbu-korea-advanced-institute-of-science-and-technology/node-classification/sweeps/vk9i6qwp</a>"
            ],
            "text/plain": [
              "<IPython.core.display.HTML object>"
            ]
          },
          "metadata": {},
          "output_type": "display_data"
        },
        {
          "data": {
            "text/html": [
              " View run at <a href='https://wandb.ai/vezenbu-korea-advanced-institute-of-science-and-technology/node-classification/runs/53ee3wyo' target=\"_blank\">https://wandb.ai/vezenbu-korea-advanced-institute-of-science-and-technology/node-classification/runs/53ee3wyo</a>"
            ],
            "text/plain": [
              "<IPython.core.display.HTML object>"
            ]
          },
          "metadata": {},
          "output_type": "display_data"
        },
        {
          "name": "stderr",
          "output_type": "stream",
          "text": [
            "  0%|          | 0/100 [00:00<?, ?it/s]/usr/local/lib/python3.10/dist-packages/torch/jit/_check.py:178: UserWarning: The TorchScript type system doesn't support instance-level annotations on empty non-base types in `__init__`. Instead, either 1) use a type annotation in the class body, or 2) wrap the type in `torch.jit.Attribute`.\n",
            "  warnings.warn(\n",
            "/usr/local/lib/python3.10/dist-packages/torch/jit/_check.py:178: UserWarning: The TorchScript type system doesn't support instance-level annotations on empty non-base types in `__init__`. Instead, either 1) use a type annotation in the class body, or 2) wrap the type in `torch.jit.Attribute`.\n",
            "  warnings.warn(\n",
            "/usr/local/lib/python3.10/dist-packages/torch/jit/_check.py:178: UserWarning: The TorchScript type system doesn't support instance-level annotations on empty non-base types in `__init__`. Instead, either 1) use a type annotation in the class body, or 2) wrap the type in `torch.jit.Attribute`.\n",
            "  warnings.warn(\n",
            "/usr/local/lib/python3.10/dist-packages/torch/jit/_check.py:178: UserWarning: The TorchScript type system doesn't support instance-level annotations on empty non-base types in `__init__`. Instead, either 1) use a type annotation in the class body, or 2) wrap the type in `torch.jit.Attribute`.\n",
            "  warnings.warn(\n",
            "100%|██████████| 100/100 [00:02<00:00, 41.50it/s]\n",
            "/usr/local/lib/python3.10/dist-packages/torch/jit/_check.py:178: UserWarning: The TorchScript type system doesn't support instance-level annotations on empty non-base types in `__init__`. Instead, either 1) use a type annotation in the class body, or 2) wrap the type in `torch.jit.Attribute`.\n",
            "  warnings.warn(\n",
            "/usr/local/lib/python3.10/dist-packages/torch/jit/_check.py:178: UserWarning: The TorchScript type system doesn't support instance-level annotations on empty non-base types in `__init__`. Instead, either 1) use a type annotation in the class body, or 2) wrap the type in `torch.jit.Attribute`.\n",
            "  warnings.warn(\n",
            "/usr/local/lib/python3.10/dist-packages/torch/jit/_check.py:178: UserWarning: The TorchScript type system doesn't support instance-level annotations on empty non-base types in `__init__`. Instead, either 1) use a type annotation in the class body, or 2) wrap the type in `torch.jit.Attribute`.\n",
            "  warnings.warn(\n"
          ]
        },
        {
          "data": {
            "application/vnd.jupyter.widget-view+json": {
              "model_id": "5fca4568e8ec416fac2481920aa7121b",
              "version_major": 2,
              "version_minor": 0
            },
            "text/plain": [
              "VBox(children=(Label(value='1.729 MB of 1.729 MB uploaded\\r'), FloatProgress(value=1.0, max=1.0)))"
            ]
          },
          "metadata": {},
          "output_type": "display_data"
        },
        {
          "data": {
            "text/html": [
              "<style>\n",
              "    table.wandb td:nth-child(1) { padding: 0 10px; text-align: left ; width: auto;} td:nth-child(2) {text-align: left ; width: 100%}\n",
              "    .wandb-row { display: flex; flex-direction: row; flex-wrap: wrap; justify-content: flex-start; width: 100% }\n",
              "    .wandb-col { display: flex; flex-direction: column; flex-basis: 100%; flex: 1; padding: 10px; }\n",
              "    </style>\n",
              "<div class=\"wandb-row\"><div class=\"wandb-col\"><h3>Run history:</h3><br/><table class=\"wandb\"><tr><td>gcn/accuracy</td><td>▁</td></tr><tr><td>gcn/loss</td><td>████████▇▇▇▇▇▇▇▆▆▆▅▅▅▅▄▄▅▄▃▃▃▃▃▃▃▃▂▂▁▂▂▁</td></tr></table><br/></div><div class=\"wandb-col\"><h3>Run summary:</h3><br/><table class=\"wandb\"><tr><td>gcn/accuracy</td><td>0.662</td></tr><tr><td>gcn/loss</td><td>1.87021</td></tr></table><br/></div></div>"
            ],
            "text/plain": [
              "<IPython.core.display.HTML object>"
            ]
          },
          "metadata": {},
          "output_type": "display_data"
        },
        {
          "data": {
            "text/html": [
              " View run <strong style=\"color:#cdcd00\">laced-sweep-45</strong> at: <a href='https://wandb.ai/vezenbu-korea-advanced-institute-of-science-and-technology/node-classification/runs/53ee3wyo' target=\"_blank\">https://wandb.ai/vezenbu-korea-advanced-institute-of-science-and-technology/node-classification/runs/53ee3wyo</a><br/> View project at: <a href='https://wandb.ai/vezenbu-korea-advanced-institute-of-science-and-technology/node-classification' target=\"_blank\">https://wandb.ai/vezenbu-korea-advanced-institute-of-science-and-technology/node-classification</a><br/>Synced 5 W&B file(s), 0 media file(s), 4 artifact file(s) and 2 other file(s)"
            ],
            "text/plain": [
              "<IPython.core.display.HTML object>"
            ]
          },
          "metadata": {},
          "output_type": "display_data"
        },
        {
          "data": {
            "text/html": [
              "Find logs at: <code>./wandb/run-20241031_074518-53ee3wyo/logs</code>"
            ],
            "text/plain": [
              "<IPython.core.display.HTML object>"
            ]
          },
          "metadata": {},
          "output_type": "display_data"
        },
        {
          "name": "stderr",
          "output_type": "stream",
          "text": [
            "\u001b[34m\u001b[1mwandb\u001b[0m: Agent Starting Run: ynrhjx90 with config:\n",
            "\u001b[34m\u001b[1mwandb\u001b[0m: \thidden_channels: 8\n",
            "\u001b[34m\u001b[1mwandb\u001b[0m: \tlr: 0.0009742715630383836\n",
            "\u001b[34m\u001b[1mwandb\u001b[0m: \tweight_decay: 0.0005002497159618091\n"
          ]
        },
        {
          "data": {
            "text/html": [
              "Tracking run with wandb version 0.18.5"
            ],
            "text/plain": [
              "<IPython.core.display.HTML object>"
            ]
          },
          "metadata": {},
          "output_type": "display_data"
        },
        {
          "data": {
            "text/html": [
              "Run data is saved locally in <code>/root/raw_torch_for_scatter/pyg_examples/wandb/run-20241031_074534-ynrhjx90</code>"
            ],
            "text/plain": [
              "<IPython.core.display.HTML object>"
            ]
          },
          "metadata": {},
          "output_type": "display_data"
        },
        {
          "data": {
            "text/html": [
              "Syncing run <strong><a href='https://wandb.ai/vezenbu-korea-advanced-institute-of-science-and-technology/node-classification/runs/ynrhjx90' target=\"_blank\">revived-sweep-46</a></strong> to <a href='https://wandb.ai/vezenbu-korea-advanced-institute-of-science-and-technology/node-classification' target=\"_blank\">Weights & Biases</a> (<a href='https://wandb.me/run' target=\"_blank\">docs</a>)<br/>Sweep page: <a href='https://wandb.ai/vezenbu-korea-advanced-institute-of-science-and-technology/node-classification/sweeps/vk9i6qwp' target=\"_blank\">https://wandb.ai/vezenbu-korea-advanced-institute-of-science-and-technology/node-classification/sweeps/vk9i6qwp</a>"
            ],
            "text/plain": [
              "<IPython.core.display.HTML object>"
            ]
          },
          "metadata": {},
          "output_type": "display_data"
        },
        {
          "data": {
            "text/html": [
              " View project at <a href='https://wandb.ai/vezenbu-korea-advanced-institute-of-science-and-technology/node-classification' target=\"_blank\">https://wandb.ai/vezenbu-korea-advanced-institute-of-science-and-technology/node-classification</a>"
            ],
            "text/plain": [
              "<IPython.core.display.HTML object>"
            ]
          },
          "metadata": {},
          "output_type": "display_data"
        },
        {
          "data": {
            "text/html": [
              " View sweep at <a href='https://wandb.ai/vezenbu-korea-advanced-institute-of-science-and-technology/node-classification/sweeps/vk9i6qwp' target=\"_blank\">https://wandb.ai/vezenbu-korea-advanced-institute-of-science-and-technology/node-classification/sweeps/vk9i6qwp</a>"
            ],
            "text/plain": [
              "<IPython.core.display.HTML object>"
            ]
          },
          "metadata": {},
          "output_type": "display_data"
        },
        {
          "data": {
            "text/html": [
              " View run at <a href='https://wandb.ai/vezenbu-korea-advanced-institute-of-science-and-technology/node-classification/runs/ynrhjx90' target=\"_blank\">https://wandb.ai/vezenbu-korea-advanced-institute-of-science-and-technology/node-classification/runs/ynrhjx90</a>"
            ],
            "text/plain": [
              "<IPython.core.display.HTML object>"
            ]
          },
          "metadata": {},
          "output_type": "display_data"
        },
        {
          "name": "stderr",
          "output_type": "stream",
          "text": [
            "  0%|          | 0/100 [00:00<?, ?it/s]/usr/local/lib/python3.10/dist-packages/torch/jit/_check.py:178: UserWarning: The TorchScript type system doesn't support instance-level annotations on empty non-base types in `__init__`. Instead, either 1) use a type annotation in the class body, or 2) wrap the type in `torch.jit.Attribute`.\n",
            "  warnings.warn(\n",
            "/usr/local/lib/python3.10/dist-packages/torch/jit/_check.py:178: UserWarning: The TorchScript type system doesn't support instance-level annotations on empty non-base types in `__init__`. Instead, either 1) use a type annotation in the class body, or 2) wrap the type in `torch.jit.Attribute`.\n",
            "  warnings.warn(\n",
            "/usr/local/lib/python3.10/dist-packages/torch/jit/_check.py:178: UserWarning: The TorchScript type system doesn't support instance-level annotations on empty non-base types in `__init__`. Instead, either 1) use a type annotation in the class body, or 2) wrap the type in `torch.jit.Attribute`.\n",
            "  warnings.warn(\n",
            "/usr/local/lib/python3.10/dist-packages/torch/jit/_check.py:178: UserWarning: The TorchScript type system doesn't support instance-level annotations on empty non-base types in `__init__`. Instead, either 1) use a type annotation in the class body, or 2) wrap the type in `torch.jit.Attribute`.\n",
            "  warnings.warn(\n",
            "100%|██████████| 100/100 [00:02<00:00, 41.40it/s]\n",
            "/usr/local/lib/python3.10/dist-packages/torch/jit/_check.py:178: UserWarning: The TorchScript type system doesn't support instance-level annotations on empty non-base types in `__init__`. Instead, either 1) use a type annotation in the class body, or 2) wrap the type in `torch.jit.Attribute`.\n",
            "  warnings.warn(\n",
            "/usr/local/lib/python3.10/dist-packages/torch/jit/_check.py:178: UserWarning: The TorchScript type system doesn't support instance-level annotations on empty non-base types in `__init__`. Instead, either 1) use a type annotation in the class body, or 2) wrap the type in `torch.jit.Attribute`.\n",
            "  warnings.warn(\n",
            "/usr/local/lib/python3.10/dist-packages/torch/jit/_check.py:178: UserWarning: The TorchScript type system doesn't support instance-level annotations on empty non-base types in `__init__`. Instead, either 1) use a type annotation in the class body, or 2) wrap the type in `torch.jit.Attribute`.\n",
            "  warnings.warn(\n"
          ]
        },
        {
          "data": {
            "application/vnd.jupyter.widget-view+json": {
              "model_id": "8c8a958689b34127b44e680d03c68c93",
              "version_major": 2,
              "version_minor": 0
            },
            "text/plain": [
              "VBox(children=(Label(value='1.729 MB of 1.729 MB uploaded\\r'), FloatProgress(value=1.0, max=1.0)))"
            ]
          },
          "metadata": {},
          "output_type": "display_data"
        },
        {
          "data": {
            "text/html": [
              "<style>\n",
              "    table.wandb td:nth-child(1) { padding: 0 10px; text-align: left ; width: auto;} td:nth-child(2) {text-align: left ; width: 100%}\n",
              "    .wandb-row { display: flex; flex-direction: row; flex-wrap: wrap; justify-content: flex-start; width: 100% }\n",
              "    .wandb-col { display: flex; flex-direction: column; flex-basis: 100%; flex: 1; padding: 10px; }\n",
              "    </style>\n",
              "<div class=\"wandb-row\"><div class=\"wandb-col\"><h3>Run history:</h3><br/><table class=\"wandb\"><tr><td>gcn/accuracy</td><td>▁</td></tr><tr><td>gcn/loss</td><td>███████▇▇▇▇▇▇▇▇▆▆▆▆▆▆▅▅▅▅▅▅▅▅▄▄▃▃▃▂▂▂▂▂▁</td></tr></table><br/></div><div class=\"wandb-col\"><h3>Run summary:</h3><br/><table class=\"wandb\"><tr><td>gcn/accuracy</td><td>0.663</td></tr><tr><td>gcn/loss</td><td>1.86891</td></tr></table><br/></div></div>"
            ],
            "text/plain": [
              "<IPython.core.display.HTML object>"
            ]
          },
          "metadata": {},
          "output_type": "display_data"
        },
        {
          "data": {
            "text/html": [
              " View run <strong style=\"color:#cdcd00\">revived-sweep-46</strong> at: <a href='https://wandb.ai/vezenbu-korea-advanced-institute-of-science-and-technology/node-classification/runs/ynrhjx90' target=\"_blank\">https://wandb.ai/vezenbu-korea-advanced-institute-of-science-and-technology/node-classification/runs/ynrhjx90</a><br/> View project at: <a href='https://wandb.ai/vezenbu-korea-advanced-institute-of-science-and-technology/node-classification' target=\"_blank\">https://wandb.ai/vezenbu-korea-advanced-institute-of-science-and-technology/node-classification</a><br/>Synced 5 W&B file(s), 0 media file(s), 4 artifact file(s) and 2 other file(s)"
            ],
            "text/plain": [
              "<IPython.core.display.HTML object>"
            ]
          },
          "metadata": {},
          "output_type": "display_data"
        },
        {
          "data": {
            "text/html": [
              "Find logs at: <code>./wandb/run-20241031_074534-ynrhjx90/logs</code>"
            ],
            "text/plain": [
              "<IPython.core.display.HTML object>"
            ]
          },
          "metadata": {},
          "output_type": "display_data"
        },
        {
          "name": "stderr",
          "output_type": "stream",
          "text": [
            "\u001b[34m\u001b[1mwandb\u001b[0m: Agent Starting Run: uqlzi55k with config:\n",
            "\u001b[34m\u001b[1mwandb\u001b[0m: \thidden_channels: 8\n",
            "\u001b[34m\u001b[1mwandb\u001b[0m: \tlr: 0.0009071235393376856\n",
            "\u001b[34m\u001b[1mwandb\u001b[0m: \tweight_decay: 0.0004998278110314672\n"
          ]
        },
        {
          "data": {
            "text/html": [
              "Tracking run with wandb version 0.18.5"
            ],
            "text/plain": [
              "<IPython.core.display.HTML object>"
            ]
          },
          "metadata": {},
          "output_type": "display_data"
        },
        {
          "data": {
            "text/html": [
              "Run data is saved locally in <code>/root/raw_torch_for_scatter/pyg_examples/wandb/run-20241031_074551-uqlzi55k</code>"
            ],
            "text/plain": [
              "<IPython.core.display.HTML object>"
            ]
          },
          "metadata": {},
          "output_type": "display_data"
        },
        {
          "data": {
            "text/html": [
              "Syncing run <strong><a href='https://wandb.ai/vezenbu-korea-advanced-institute-of-science-and-technology/node-classification/runs/uqlzi55k' target=\"_blank\">eternal-sweep-47</a></strong> to <a href='https://wandb.ai/vezenbu-korea-advanced-institute-of-science-and-technology/node-classification' target=\"_blank\">Weights & Biases</a> (<a href='https://wandb.me/run' target=\"_blank\">docs</a>)<br/>Sweep page: <a href='https://wandb.ai/vezenbu-korea-advanced-institute-of-science-and-technology/node-classification/sweeps/vk9i6qwp' target=\"_blank\">https://wandb.ai/vezenbu-korea-advanced-institute-of-science-and-technology/node-classification/sweeps/vk9i6qwp</a>"
            ],
            "text/plain": [
              "<IPython.core.display.HTML object>"
            ]
          },
          "metadata": {},
          "output_type": "display_data"
        },
        {
          "data": {
            "text/html": [
              " View project at <a href='https://wandb.ai/vezenbu-korea-advanced-institute-of-science-and-technology/node-classification' target=\"_blank\">https://wandb.ai/vezenbu-korea-advanced-institute-of-science-and-technology/node-classification</a>"
            ],
            "text/plain": [
              "<IPython.core.display.HTML object>"
            ]
          },
          "metadata": {},
          "output_type": "display_data"
        },
        {
          "data": {
            "text/html": [
              " View sweep at <a href='https://wandb.ai/vezenbu-korea-advanced-institute-of-science-and-technology/node-classification/sweeps/vk9i6qwp' target=\"_blank\">https://wandb.ai/vezenbu-korea-advanced-institute-of-science-and-technology/node-classification/sweeps/vk9i6qwp</a>"
            ],
            "text/plain": [
              "<IPython.core.display.HTML object>"
            ]
          },
          "metadata": {},
          "output_type": "display_data"
        },
        {
          "data": {
            "text/html": [
              " View run at <a href='https://wandb.ai/vezenbu-korea-advanced-institute-of-science-and-technology/node-classification/runs/uqlzi55k' target=\"_blank\">https://wandb.ai/vezenbu-korea-advanced-institute-of-science-and-technology/node-classification/runs/uqlzi55k</a>"
            ],
            "text/plain": [
              "<IPython.core.display.HTML object>"
            ]
          },
          "metadata": {},
          "output_type": "display_data"
        },
        {
          "name": "stderr",
          "output_type": "stream",
          "text": [
            "  0%|          | 0/100 [00:00<?, ?it/s]/usr/local/lib/python3.10/dist-packages/torch/jit/_check.py:178: UserWarning: The TorchScript type system doesn't support instance-level annotations on empty non-base types in `__init__`. Instead, either 1) use a type annotation in the class body, or 2) wrap the type in `torch.jit.Attribute`.\n",
            "  warnings.warn(\n",
            "/usr/local/lib/python3.10/dist-packages/torch/jit/_check.py:178: UserWarning: The TorchScript type system doesn't support instance-level annotations on empty non-base types in `__init__`. Instead, either 1) use a type annotation in the class body, or 2) wrap the type in `torch.jit.Attribute`.\n",
            "  warnings.warn(\n",
            "/usr/local/lib/python3.10/dist-packages/torch/jit/_check.py:178: UserWarning: The TorchScript type system doesn't support instance-level annotations on empty non-base types in `__init__`. Instead, either 1) use a type annotation in the class body, or 2) wrap the type in `torch.jit.Attribute`.\n",
            "  warnings.warn(\n",
            "/usr/local/lib/python3.10/dist-packages/torch/jit/_check.py:178: UserWarning: The TorchScript type system doesn't support instance-level annotations on empty non-base types in `__init__`. Instead, either 1) use a type annotation in the class body, or 2) wrap the type in `torch.jit.Attribute`.\n",
            "  warnings.warn(\n",
            "100%|██████████| 100/100 [00:02<00:00, 41.94it/s]\n",
            "/usr/local/lib/python3.10/dist-packages/torch/jit/_check.py:178: UserWarning: The TorchScript type system doesn't support instance-level annotations on empty non-base types in `__init__`. Instead, either 1) use a type annotation in the class body, or 2) wrap the type in `torch.jit.Attribute`.\n",
            "  warnings.warn(\n",
            "/usr/local/lib/python3.10/dist-packages/torch/jit/_check.py:178: UserWarning: The TorchScript type system doesn't support instance-level annotations on empty non-base types in `__init__`. Instead, either 1) use a type annotation in the class body, or 2) wrap the type in `torch.jit.Attribute`.\n",
            "  warnings.warn(\n",
            "/usr/local/lib/python3.10/dist-packages/torch/jit/_check.py:178: UserWarning: The TorchScript type system doesn't support instance-level annotations on empty non-base types in `__init__`. Instead, either 1) use a type annotation in the class body, or 2) wrap the type in `torch.jit.Attribute`.\n",
            "  warnings.warn(\n"
          ]
        },
        {
          "data": {
            "application/vnd.jupyter.widget-view+json": {
              "model_id": "2e41943f0a4049aeabd0761948f89291",
              "version_major": 2,
              "version_minor": 0
            },
            "text/plain": [
              "VBox(children=(Label(value='1.729 MB of 1.729 MB uploaded\\r'), FloatProgress(value=1.0, max=1.0)))"
            ]
          },
          "metadata": {},
          "output_type": "display_data"
        },
        {
          "data": {
            "text/html": [
              "<style>\n",
              "    table.wandb td:nth-child(1) { padding: 0 10px; text-align: left ; width: auto;} td:nth-child(2) {text-align: left ; width: 100%}\n",
              "    .wandb-row { display: flex; flex-direction: row; flex-wrap: wrap; justify-content: flex-start; width: 100% }\n",
              "    .wandb-col { display: flex; flex-direction: column; flex-basis: 100%; flex: 1; padding: 10px; }\n",
              "    </style>\n",
              "<div class=\"wandb-row\"><div class=\"wandb-col\"><h3>Run history:</h3><br/><table class=\"wandb\"><tr><td>gcn/accuracy</td><td>▁</td></tr><tr><td>gcn/loss</td><td>███████▇▇▇▇▇▇▆▆▆▆▆▅▅▅▅▅▅▅▅▄▄▄▃▃▃▂▃▂▃▂▂▂▁</td></tr></table><br/></div><div class=\"wandb-col\"><h3>Run summary:</h3><br/><table class=\"wandb\"><tr><td>gcn/accuracy</td><td>0.659</td></tr><tr><td>gcn/loss</td><td>1.87394</td></tr></table><br/></div></div>"
            ],
            "text/plain": [
              "<IPython.core.display.HTML object>"
            ]
          },
          "metadata": {},
          "output_type": "display_data"
        },
        {
          "data": {
            "text/html": [
              " View run <strong style=\"color:#cdcd00\">eternal-sweep-47</strong> at: <a href='https://wandb.ai/vezenbu-korea-advanced-institute-of-science-and-technology/node-classification/runs/uqlzi55k' target=\"_blank\">https://wandb.ai/vezenbu-korea-advanced-institute-of-science-and-technology/node-classification/runs/uqlzi55k</a><br/> View project at: <a href='https://wandb.ai/vezenbu-korea-advanced-institute-of-science-and-technology/node-classification' target=\"_blank\">https://wandb.ai/vezenbu-korea-advanced-institute-of-science-and-technology/node-classification</a><br/>Synced 5 W&B file(s), 0 media file(s), 4 artifact file(s) and 2 other file(s)"
            ],
            "text/plain": [
              "<IPython.core.display.HTML object>"
            ]
          },
          "metadata": {},
          "output_type": "display_data"
        },
        {
          "data": {
            "text/html": [
              "Find logs at: <code>./wandb/run-20241031_074551-uqlzi55k/logs</code>"
            ],
            "text/plain": [
              "<IPython.core.display.HTML object>"
            ]
          },
          "metadata": {},
          "output_type": "display_data"
        },
        {
          "name": "stderr",
          "output_type": "stream",
          "text": [
            "\u001b[34m\u001b[1mwandb\u001b[0m: Sweep Agent: Waiting for job.\n",
            "\u001b[34m\u001b[1mwandb\u001b[0m: Job received.\n",
            "\u001b[34m\u001b[1mwandb\u001b[0m: Agent Starting Run: zx0bipav with config:\n",
            "\u001b[34m\u001b[1mwandb\u001b[0m: \thidden_channels: 8\n",
            "\u001b[34m\u001b[1mwandb\u001b[0m: \tlr: 0.0009063546412052296\n",
            "\u001b[34m\u001b[1mwandb\u001b[0m: \tweight_decay: 0.0005025417624206626\n"
          ]
        },
        {
          "data": {
            "application/vnd.jupyter.widget-view+json": {
              "model_id": "44e3ae4b41ec462ba46324a8973b11ae",
              "version_major": 2,
              "version_minor": 0
            },
            "text/plain": [
              "VBox(children=(Label(value='Waiting for wandb.init()...\\r'), FloatProgress(value=0.011112079689175719, max=1.0…"
            ]
          },
          "metadata": {},
          "output_type": "display_data"
        },
        {
          "data": {
            "text/html": [
              "Tracking run with wandb version 0.18.5"
            ],
            "text/plain": [
              "<IPython.core.display.HTML object>"
            ]
          },
          "metadata": {},
          "output_type": "display_data"
        },
        {
          "data": {
            "text/html": [
              "Run data is saved locally in <code>/root/raw_torch_for_scatter/pyg_examples/wandb/run-20241031_074612-zx0bipav</code>"
            ],
            "text/plain": [
              "<IPython.core.display.HTML object>"
            ]
          },
          "metadata": {},
          "output_type": "display_data"
        },
        {
          "data": {
            "text/html": [
              "Syncing run <strong><a href='https://wandb.ai/vezenbu-korea-advanced-institute-of-science-and-technology/node-classification/runs/zx0bipav' target=\"_blank\">fresh-sweep-48</a></strong> to <a href='https://wandb.ai/vezenbu-korea-advanced-institute-of-science-and-technology/node-classification' target=\"_blank\">Weights & Biases</a> (<a href='https://wandb.me/run' target=\"_blank\">docs</a>)<br/>Sweep page: <a href='https://wandb.ai/vezenbu-korea-advanced-institute-of-science-and-technology/node-classification/sweeps/vk9i6qwp' target=\"_blank\">https://wandb.ai/vezenbu-korea-advanced-institute-of-science-and-technology/node-classification/sweeps/vk9i6qwp</a>"
            ],
            "text/plain": [
              "<IPython.core.display.HTML object>"
            ]
          },
          "metadata": {},
          "output_type": "display_data"
        },
        {
          "data": {
            "text/html": [
              " View project at <a href='https://wandb.ai/vezenbu-korea-advanced-institute-of-science-and-technology/node-classification' target=\"_blank\">https://wandb.ai/vezenbu-korea-advanced-institute-of-science-and-technology/node-classification</a>"
            ],
            "text/plain": [
              "<IPython.core.display.HTML object>"
            ]
          },
          "metadata": {},
          "output_type": "display_data"
        },
        {
          "data": {
            "text/html": [
              " View sweep at <a href='https://wandb.ai/vezenbu-korea-advanced-institute-of-science-and-technology/node-classification/sweeps/vk9i6qwp' target=\"_blank\">https://wandb.ai/vezenbu-korea-advanced-institute-of-science-and-technology/node-classification/sweeps/vk9i6qwp</a>"
            ],
            "text/plain": [
              "<IPython.core.display.HTML object>"
            ]
          },
          "metadata": {},
          "output_type": "display_data"
        },
        {
          "data": {
            "text/html": [
              " View run at <a href='https://wandb.ai/vezenbu-korea-advanced-institute-of-science-and-technology/node-classification/runs/zx0bipav' target=\"_blank\">https://wandb.ai/vezenbu-korea-advanced-institute-of-science-and-technology/node-classification/runs/zx0bipav</a>"
            ],
            "text/plain": [
              "<IPython.core.display.HTML object>"
            ]
          },
          "metadata": {},
          "output_type": "display_data"
        },
        {
          "name": "stderr",
          "output_type": "stream",
          "text": [
            "  0%|          | 0/100 [00:00<?, ?it/s]/usr/local/lib/python3.10/dist-packages/torch/jit/_check.py:178: UserWarning: The TorchScript type system doesn't support instance-level annotations on empty non-base types in `__init__`. Instead, either 1) use a type annotation in the class body, or 2) wrap the type in `torch.jit.Attribute`.\n",
            "  warnings.warn(\n",
            "/usr/local/lib/python3.10/dist-packages/torch/jit/_check.py:178: UserWarning: The TorchScript type system doesn't support instance-level annotations on empty non-base types in `__init__`. Instead, either 1) use a type annotation in the class body, or 2) wrap the type in `torch.jit.Attribute`.\n",
            "  warnings.warn(\n",
            "/usr/local/lib/python3.10/dist-packages/torch/jit/_check.py:178: UserWarning: The TorchScript type system doesn't support instance-level annotations on empty non-base types in `__init__`. Instead, either 1) use a type annotation in the class body, or 2) wrap the type in `torch.jit.Attribute`.\n",
            "  warnings.warn(\n",
            "/usr/local/lib/python3.10/dist-packages/torch/jit/_check.py:178: UserWarning: The TorchScript type system doesn't support instance-level annotations on empty non-base types in `__init__`. Instead, either 1) use a type annotation in the class body, or 2) wrap the type in `torch.jit.Attribute`.\n",
            "  warnings.warn(\n",
            "100%|██████████| 100/100 [00:02<00:00, 41.58it/s]\n",
            "/usr/local/lib/python3.10/dist-packages/torch/jit/_check.py:178: UserWarning: The TorchScript type system doesn't support instance-level annotations on empty non-base types in `__init__`. Instead, either 1) use a type annotation in the class body, or 2) wrap the type in `torch.jit.Attribute`.\n",
            "  warnings.warn(\n",
            "/usr/local/lib/python3.10/dist-packages/torch/jit/_check.py:178: UserWarning: The TorchScript type system doesn't support instance-level annotations on empty non-base types in `__init__`. Instead, either 1) use a type annotation in the class body, or 2) wrap the type in `torch.jit.Attribute`.\n",
            "  warnings.warn(\n",
            "/usr/local/lib/python3.10/dist-packages/torch/jit/_check.py:178: UserWarning: The TorchScript type system doesn't support instance-level annotations on empty non-base types in `__init__`. Instead, either 1) use a type annotation in the class body, or 2) wrap the type in `torch.jit.Attribute`.\n",
            "  warnings.warn(\n"
          ]
        },
        {
          "data": {
            "application/vnd.jupyter.widget-view+json": {
              "model_id": "67dbd4385d9f48cbaa5d353a514c3720",
              "version_major": 2,
              "version_minor": 0
            },
            "text/plain": [
              "VBox(children=(Label(value='1.729 MB of 1.729 MB uploaded\\r'), FloatProgress(value=1.0, max=1.0)))"
            ]
          },
          "metadata": {},
          "output_type": "display_data"
        },
        {
          "data": {
            "text/html": [
              "<style>\n",
              "    table.wandb td:nth-child(1) { padding: 0 10px; text-align: left ; width: auto;} td:nth-child(2) {text-align: left ; width: 100%}\n",
              "    .wandb-row { display: flex; flex-direction: row; flex-wrap: wrap; justify-content: flex-start; width: 100% }\n",
              "    .wandb-col { display: flex; flex-direction: column; flex-basis: 100%; flex: 1; padding: 10px; }\n",
              "    </style>\n",
              "<div class=\"wandb-row\"><div class=\"wandb-col\"><h3>Run history:</h3><br/><table class=\"wandb\"><tr><td>gcn/accuracy</td><td>▁</td></tr><tr><td>gcn/loss</td><td>███████▇█▇▇▇▇▇▇▇▆▆▆▆▆▅▅▅▅▅▅▄▄▄▃▃▃▃▃▃▂▂▁▁</td></tr></table><br/></div><div class=\"wandb-col\"><h3>Run summary:</h3><br/><table class=\"wandb\"><tr><td>gcn/accuracy</td><td>0.655</td></tr><tr><td>gcn/loss</td><td>1.87409</td></tr></table><br/></div></div>"
            ],
            "text/plain": [
              "<IPython.core.display.HTML object>"
            ]
          },
          "metadata": {},
          "output_type": "display_data"
        },
        {
          "data": {
            "text/html": [
              " View run <strong style=\"color:#cdcd00\">fresh-sweep-48</strong> at: <a href='https://wandb.ai/vezenbu-korea-advanced-institute-of-science-and-technology/node-classification/runs/zx0bipav' target=\"_blank\">https://wandb.ai/vezenbu-korea-advanced-institute-of-science-and-technology/node-classification/runs/zx0bipav</a><br/> View project at: <a href='https://wandb.ai/vezenbu-korea-advanced-institute-of-science-and-technology/node-classification' target=\"_blank\">https://wandb.ai/vezenbu-korea-advanced-institute-of-science-and-technology/node-classification</a><br/>Synced 5 W&B file(s), 0 media file(s), 4 artifact file(s) and 2 other file(s)"
            ],
            "text/plain": [
              "<IPython.core.display.HTML object>"
            ]
          },
          "metadata": {},
          "output_type": "display_data"
        },
        {
          "data": {
            "text/html": [
              "Find logs at: <code>./wandb/run-20241031_074612-zx0bipav/logs</code>"
            ],
            "text/plain": [
              "<IPython.core.display.HTML object>"
            ]
          },
          "metadata": {},
          "output_type": "display_data"
        },
        {
          "name": "stderr",
          "output_type": "stream",
          "text": [
            "\u001b[34m\u001b[1mwandb\u001b[0m: Agent Starting Run: s8v8a8yu with config:\n",
            "\u001b[34m\u001b[1mwandb\u001b[0m: \thidden_channels: 8\n",
            "\u001b[34m\u001b[1mwandb\u001b[0m: \tlr: 0.0008817743111109163\n",
            "\u001b[34m\u001b[1mwandb\u001b[0m: \tweight_decay: 0.0005030471096769179\n"
          ]
        },
        {
          "data": {
            "text/html": [
              "Tracking run with wandb version 0.18.5"
            ],
            "text/plain": [
              "<IPython.core.display.HTML object>"
            ]
          },
          "metadata": {},
          "output_type": "display_data"
        },
        {
          "data": {
            "text/html": [
              "Run data is saved locally in <code>/root/raw_torch_for_scatter/pyg_examples/wandb/run-20241031_074629-s8v8a8yu</code>"
            ],
            "text/plain": [
              "<IPython.core.display.HTML object>"
            ]
          },
          "metadata": {},
          "output_type": "display_data"
        },
        {
          "data": {
            "text/html": [
              "Syncing run <strong><a href='https://wandb.ai/vezenbu-korea-advanced-institute-of-science-and-technology/node-classification/runs/s8v8a8yu' target=\"_blank\">wandering-sweep-49</a></strong> to <a href='https://wandb.ai/vezenbu-korea-advanced-institute-of-science-and-technology/node-classification' target=\"_blank\">Weights & Biases</a> (<a href='https://wandb.me/run' target=\"_blank\">docs</a>)<br/>Sweep page: <a href='https://wandb.ai/vezenbu-korea-advanced-institute-of-science-and-technology/node-classification/sweeps/vk9i6qwp' target=\"_blank\">https://wandb.ai/vezenbu-korea-advanced-institute-of-science-and-technology/node-classification/sweeps/vk9i6qwp</a>"
            ],
            "text/plain": [
              "<IPython.core.display.HTML object>"
            ]
          },
          "metadata": {},
          "output_type": "display_data"
        },
        {
          "data": {
            "text/html": [
              " View project at <a href='https://wandb.ai/vezenbu-korea-advanced-institute-of-science-and-technology/node-classification' target=\"_blank\">https://wandb.ai/vezenbu-korea-advanced-institute-of-science-and-technology/node-classification</a>"
            ],
            "text/plain": [
              "<IPython.core.display.HTML object>"
            ]
          },
          "metadata": {},
          "output_type": "display_data"
        },
        {
          "data": {
            "text/html": [
              " View sweep at <a href='https://wandb.ai/vezenbu-korea-advanced-institute-of-science-and-technology/node-classification/sweeps/vk9i6qwp' target=\"_blank\">https://wandb.ai/vezenbu-korea-advanced-institute-of-science-and-technology/node-classification/sweeps/vk9i6qwp</a>"
            ],
            "text/plain": [
              "<IPython.core.display.HTML object>"
            ]
          },
          "metadata": {},
          "output_type": "display_data"
        },
        {
          "data": {
            "text/html": [
              " View run at <a href='https://wandb.ai/vezenbu-korea-advanced-institute-of-science-and-technology/node-classification/runs/s8v8a8yu' target=\"_blank\">https://wandb.ai/vezenbu-korea-advanced-institute-of-science-and-technology/node-classification/runs/s8v8a8yu</a>"
            ],
            "text/plain": [
              "<IPython.core.display.HTML object>"
            ]
          },
          "metadata": {},
          "output_type": "display_data"
        },
        {
          "name": "stderr",
          "output_type": "stream",
          "text": [
            "  0%|          | 0/100 [00:00<?, ?it/s]/usr/local/lib/python3.10/dist-packages/torch/jit/_check.py:178: UserWarning: The TorchScript type system doesn't support instance-level annotations on empty non-base types in `__init__`. Instead, either 1) use a type annotation in the class body, or 2) wrap the type in `torch.jit.Attribute`.\n",
            "  warnings.warn(\n",
            "/usr/local/lib/python3.10/dist-packages/torch/jit/_check.py:178: UserWarning: The TorchScript type system doesn't support instance-level annotations on empty non-base types in `__init__`. Instead, either 1) use a type annotation in the class body, or 2) wrap the type in `torch.jit.Attribute`.\n",
            "  warnings.warn(\n",
            "/usr/local/lib/python3.10/dist-packages/torch/jit/_check.py:178: UserWarning: The TorchScript type system doesn't support instance-level annotations on empty non-base types in `__init__`. Instead, either 1) use a type annotation in the class body, or 2) wrap the type in `torch.jit.Attribute`.\n",
            "  warnings.warn(\n",
            "/usr/local/lib/python3.10/dist-packages/torch/jit/_check.py:178: UserWarning: The TorchScript type system doesn't support instance-level annotations on empty non-base types in `__init__`. Instead, either 1) use a type annotation in the class body, or 2) wrap the type in `torch.jit.Attribute`.\n",
            "  warnings.warn(\n",
            "100%|██████████| 100/100 [00:02<00:00, 40.92it/s]\n",
            "/usr/local/lib/python3.10/dist-packages/torch/jit/_check.py:178: UserWarning: The TorchScript type system doesn't support instance-level annotations on empty non-base types in `__init__`. Instead, either 1) use a type annotation in the class body, or 2) wrap the type in `torch.jit.Attribute`.\n",
            "  warnings.warn(\n",
            "/usr/local/lib/python3.10/dist-packages/torch/jit/_check.py:178: UserWarning: The TorchScript type system doesn't support instance-level annotations on empty non-base types in `__init__`. Instead, either 1) use a type annotation in the class body, or 2) wrap the type in `torch.jit.Attribute`.\n",
            "  warnings.warn(\n",
            "/usr/local/lib/python3.10/dist-packages/torch/jit/_check.py:178: UserWarning: The TorchScript type system doesn't support instance-level annotations on empty non-base types in `__init__`. Instead, either 1) use a type annotation in the class body, or 2) wrap the type in `torch.jit.Attribute`.\n",
            "  warnings.warn(\n"
          ]
        },
        {
          "data": {
            "application/vnd.jupyter.widget-view+json": {
              "model_id": "cbb0fab9db474927976df232acdd3e13",
              "version_major": 2,
              "version_minor": 0
            },
            "text/plain": [
              "VBox(children=(Label(value='1.730 MB of 1.730 MB uploaded\\r'), FloatProgress(value=1.0, max=1.0)))"
            ]
          },
          "metadata": {},
          "output_type": "display_data"
        },
        {
          "data": {
            "text/html": [
              "<style>\n",
              "    table.wandb td:nth-child(1) { padding: 0 10px; text-align: left ; width: auto;} td:nth-child(2) {text-align: left ; width: 100%}\n",
              "    .wandb-row { display: flex; flex-direction: row; flex-wrap: wrap; justify-content: flex-start; width: 100% }\n",
              "    .wandb-col { display: flex; flex-direction: column; flex-basis: 100%; flex: 1; padding: 10px; }\n",
              "    </style>\n",
              "<div class=\"wandb-row\"><div class=\"wandb-col\"><h3>Run history:</h3><br/><table class=\"wandb\"><tr><td>gcn/accuracy</td><td>▁</td></tr><tr><td>gcn/loss</td><td>█████████▇▇▇▇▇▇▇▇▆▆▆▆▆▅▅▅▅▅▅▄▄▄▄▃▃▃▃▂▂▃▁</td></tr></table><br/></div><div class=\"wandb-col\"><h3>Run summary:</h3><br/><table class=\"wandb\"><tr><td>gcn/accuracy</td><td>0.661</td></tr><tr><td>gcn/loss</td><td>1.87653</td></tr></table><br/></div></div>"
            ],
            "text/plain": [
              "<IPython.core.display.HTML object>"
            ]
          },
          "metadata": {},
          "output_type": "display_data"
        },
        {
          "data": {
            "text/html": [
              " View run <strong style=\"color:#cdcd00\">wandering-sweep-49</strong> at: <a href='https://wandb.ai/vezenbu-korea-advanced-institute-of-science-and-technology/node-classification/runs/s8v8a8yu' target=\"_blank\">https://wandb.ai/vezenbu-korea-advanced-institute-of-science-and-technology/node-classification/runs/s8v8a8yu</a><br/> View project at: <a href='https://wandb.ai/vezenbu-korea-advanced-institute-of-science-and-technology/node-classification' target=\"_blank\">https://wandb.ai/vezenbu-korea-advanced-institute-of-science-and-technology/node-classification</a><br/>Synced 5 W&B file(s), 0 media file(s), 4 artifact file(s) and 2 other file(s)"
            ],
            "text/plain": [
              "<IPython.core.display.HTML object>"
            ]
          },
          "metadata": {},
          "output_type": "display_data"
        },
        {
          "data": {
            "text/html": [
              "Find logs at: <code>./wandb/run-20241031_074629-s8v8a8yu/logs</code>"
            ],
            "text/plain": [
              "<IPython.core.display.HTML object>"
            ]
          },
          "metadata": {},
          "output_type": "display_data"
        },
        {
          "name": "stderr",
          "output_type": "stream",
          "text": [
            "\u001b[34m\u001b[1mwandb\u001b[0m: Sweep Agent: Waiting for job.\n",
            "\u001b[34m\u001b[1mwandb\u001b[0m: Job received.\n",
            "\u001b[34m\u001b[1mwandb\u001b[0m: Agent Starting Run: dax41q9p with config:\n",
            "\u001b[34m\u001b[1mwandb\u001b[0m: \thidden_channels: 8\n",
            "\u001b[34m\u001b[1mwandb\u001b[0m: \tlr: 0.0009400327483066228\n",
            "\u001b[34m\u001b[1mwandb\u001b[0m: \tweight_decay: 0.0005034581616408639\n"
          ]
        },
        {
          "data": {
            "text/html": [
              "Tracking run with wandb version 0.18.5"
            ],
            "text/plain": [
              "<IPython.core.display.HTML object>"
            ]
          },
          "metadata": {},
          "output_type": "display_data"
        },
        {
          "data": {
            "text/html": [
              "Run data is saved locally in <code>/root/raw_torch_for_scatter/pyg_examples/wandb/run-20241031_074651-dax41q9p</code>"
            ],
            "text/plain": [
              "<IPython.core.display.HTML object>"
            ]
          },
          "metadata": {},
          "output_type": "display_data"
        },
        {
          "data": {
            "text/html": [
              "Syncing run <strong><a href='https://wandb.ai/vezenbu-korea-advanced-institute-of-science-and-technology/node-classification/runs/dax41q9p' target=\"_blank\">easy-sweep-50</a></strong> to <a href='https://wandb.ai/vezenbu-korea-advanced-institute-of-science-and-technology/node-classification' target=\"_blank\">Weights & Biases</a> (<a href='https://wandb.me/run' target=\"_blank\">docs</a>)<br/>Sweep page: <a href='https://wandb.ai/vezenbu-korea-advanced-institute-of-science-and-technology/node-classification/sweeps/vk9i6qwp' target=\"_blank\">https://wandb.ai/vezenbu-korea-advanced-institute-of-science-and-technology/node-classification/sweeps/vk9i6qwp</a>"
            ],
            "text/plain": [
              "<IPython.core.display.HTML object>"
            ]
          },
          "metadata": {},
          "output_type": "display_data"
        },
        {
          "data": {
            "text/html": [
              " View project at <a href='https://wandb.ai/vezenbu-korea-advanced-institute-of-science-and-technology/node-classification' target=\"_blank\">https://wandb.ai/vezenbu-korea-advanced-institute-of-science-and-technology/node-classification</a>"
            ],
            "text/plain": [
              "<IPython.core.display.HTML object>"
            ]
          },
          "metadata": {},
          "output_type": "display_data"
        },
        {
          "data": {
            "text/html": [
              " View sweep at <a href='https://wandb.ai/vezenbu-korea-advanced-institute-of-science-and-technology/node-classification/sweeps/vk9i6qwp' target=\"_blank\">https://wandb.ai/vezenbu-korea-advanced-institute-of-science-and-technology/node-classification/sweeps/vk9i6qwp</a>"
            ],
            "text/plain": [
              "<IPython.core.display.HTML object>"
            ]
          },
          "metadata": {},
          "output_type": "display_data"
        },
        {
          "data": {
            "text/html": [
              " View run at <a href='https://wandb.ai/vezenbu-korea-advanced-institute-of-science-and-technology/node-classification/runs/dax41q9p' target=\"_blank\">https://wandb.ai/vezenbu-korea-advanced-institute-of-science-and-technology/node-classification/runs/dax41q9p</a>"
            ],
            "text/plain": [
              "<IPython.core.display.HTML object>"
            ]
          },
          "metadata": {},
          "output_type": "display_data"
        },
        {
          "name": "stderr",
          "output_type": "stream",
          "text": [
            "  0%|          | 0/100 [00:00<?, ?it/s]/usr/local/lib/python3.10/dist-packages/torch/jit/_check.py:178: UserWarning: The TorchScript type system doesn't support instance-level annotations on empty non-base types in `__init__`. Instead, either 1) use a type annotation in the class body, or 2) wrap the type in `torch.jit.Attribute`.\n",
            "  warnings.warn(\n",
            "/usr/local/lib/python3.10/dist-packages/torch/jit/_check.py:178: UserWarning: The TorchScript type system doesn't support instance-level annotations on empty non-base types in `__init__`. Instead, either 1) use a type annotation in the class body, or 2) wrap the type in `torch.jit.Attribute`.\n",
            "  warnings.warn(\n",
            "/usr/local/lib/python3.10/dist-packages/torch/jit/_check.py:178: UserWarning: The TorchScript type system doesn't support instance-level annotations on empty non-base types in `__init__`. Instead, either 1) use a type annotation in the class body, or 2) wrap the type in `torch.jit.Attribute`.\n",
            "  warnings.warn(\n",
            "/usr/local/lib/python3.10/dist-packages/torch/jit/_check.py:178: UserWarning: The TorchScript type system doesn't support instance-level annotations on empty non-base types in `__init__`. Instead, either 1) use a type annotation in the class body, or 2) wrap the type in `torch.jit.Attribute`.\n",
            "  warnings.warn(\n",
            "100%|██████████| 100/100 [00:02<00:00, 41.53it/s]\n",
            "/usr/local/lib/python3.10/dist-packages/torch/jit/_check.py:178: UserWarning: The TorchScript type system doesn't support instance-level annotations on empty non-base types in `__init__`. Instead, either 1) use a type annotation in the class body, or 2) wrap the type in `torch.jit.Attribute`.\n",
            "  warnings.warn(\n",
            "/usr/local/lib/python3.10/dist-packages/torch/jit/_check.py:178: UserWarning: The TorchScript type system doesn't support instance-level annotations on empty non-base types in `__init__`. Instead, either 1) use a type annotation in the class body, or 2) wrap the type in `torch.jit.Attribute`.\n",
            "  warnings.warn(\n",
            "/usr/local/lib/python3.10/dist-packages/torch/jit/_check.py:178: UserWarning: The TorchScript type system doesn't support instance-level annotations on empty non-base types in `__init__`. Instead, either 1) use a type annotation in the class body, or 2) wrap the type in `torch.jit.Attribute`.\n",
            "  warnings.warn(\n"
          ]
        },
        {
          "data": {
            "application/vnd.jupyter.widget-view+json": {
              "model_id": "517d053c370c447b9c62f14c019f185a",
              "version_major": 2,
              "version_minor": 0
            },
            "text/plain": [
              "VBox(children=(Label(value='1.729 MB of 1.729 MB uploaded\\r'), FloatProgress(value=1.0, max=1.0)))"
            ]
          },
          "metadata": {},
          "output_type": "display_data"
        },
        {
          "data": {
            "text/html": [
              "<style>\n",
              "    table.wandb td:nth-child(1) { padding: 0 10px; text-align: left ; width: auto;} td:nth-child(2) {text-align: left ; width: 100%}\n",
              "    .wandb-row { display: flex; flex-direction: row; flex-wrap: wrap; justify-content: flex-start; width: 100% }\n",
              "    .wandb-col { display: flex; flex-direction: column; flex-basis: 100%; flex: 1; padding: 10px; }\n",
              "    </style>\n",
              "<div class=\"wandb-row\"><div class=\"wandb-col\"><h3>Run history:</h3><br/><table class=\"wandb\"><tr><td>gcn/accuracy</td><td>▁</td></tr><tr><td>gcn/loss</td><td>███████▇▇▇▇▇▇▇▇▇▆▆▆▆▆▆▆▆▆▅▅▅▄▄▄▄▃▄▃▃▃▂▂▁</td></tr></table><br/></div><div class=\"wandb-col\"><h3>Run summary:</h3><br/><table class=\"wandb\"><tr><td>gcn/accuracy</td><td>0.661</td></tr><tr><td>gcn/loss</td><td>1.87213</td></tr></table><br/></div></div>"
            ],
            "text/plain": [
              "<IPython.core.display.HTML object>"
            ]
          },
          "metadata": {},
          "output_type": "display_data"
        },
        {
          "data": {
            "text/html": [
              " View run <strong style=\"color:#cdcd00\">easy-sweep-50</strong> at: <a href='https://wandb.ai/vezenbu-korea-advanced-institute-of-science-and-technology/node-classification/runs/dax41q9p' target=\"_blank\">https://wandb.ai/vezenbu-korea-advanced-institute-of-science-and-technology/node-classification/runs/dax41q9p</a><br/> View project at: <a href='https://wandb.ai/vezenbu-korea-advanced-institute-of-science-and-technology/node-classification' target=\"_blank\">https://wandb.ai/vezenbu-korea-advanced-institute-of-science-and-technology/node-classification</a><br/>Synced 5 W&B file(s), 0 media file(s), 4 artifact file(s) and 2 other file(s)"
            ],
            "text/plain": [
              "<IPython.core.display.HTML object>"
            ]
          },
          "metadata": {},
          "output_type": "display_data"
        },
        {
          "data": {
            "text/html": [
              "Find logs at: <code>./wandb/run-20241031_074651-dax41q9p/logs</code>"
            ],
            "text/plain": [
              "<IPython.core.display.HTML object>"
            ]
          },
          "metadata": {},
          "output_type": "display_data"
        }
      ],
      "source": [
        "# Run the Sweeps agent\n",
        "wandb.agent(sweep_id, project=\"node-classification\", function=agent_fn, count=50)"
      ]
    },
    {
      "cell_type": "markdown",
      "metadata": {
        "id": "_qf_70euesmM"
      },
      "source": [
        "## Conclusion\n",
        "\n",
        "In this chapter, you have seen how to apply GNNs to real-world problems, and, in particular, how they can effectively be used for boosting a model's performance.\n",
        "In the next section, we will look into how GNNs can be used for the task of graph classification.\n",
        "\n",
        "[Next: Graph Classification with Graph Neural Networks](https://colab.research.google.com/drive/1I8a0DfQ3fI7Njc62__mVXUlcAleUclnb)"
      ]
    },
    {
      "cell_type": "markdown",
      "metadata": {
        "id": "AieGO-n6esmM"
      },
      "source": [
        "## (Optional) Exercises\n",
        "\n",
        "1. To achieve better model performance and to avoid overfitting, it is usually a good idea to select the best model based on an additional validation set.\n",
        "The `Cora` dataset provides a validation node set as `data.val_mask`, but we haven't used it yet.\n",
        "Can you modify the code to select and test the model with the highest validation performance?\n",
        "This should bring test performance to **82% accuracy**.\n",
        "\n",
        "2. How does `GCN` behave when increasing the hidden feature dimensionality or the number of layers?\n",
        "Does increasing the number of layers help at all?\n",
        "\n",
        "3. You can try to use different GNN layers to see how model performance changes. What happens if you swap out all `GCNConv` instances with [`GATConv`](https://pytorch-geometric.readthedocs.io/en/latest/modules/nn.html#torch_geometric.nn.conv.GATConv) layers that make use of attention? Try to write a 2-layer `GAT` model that makes use of 8 attention heads in the first layer and 1 attention head in the second layer, uses a `dropout` ratio of `0.6` inside and outside each `GATConv` call, and uses a `hidden_channels` dimensions of `8` per head."
      ]
    },
    {
      "cell_type": "code",
      "execution_count": null,
      "metadata": {
        "id": "mLNdOANVesmP"
      },
      "outputs": [],
      "source": [
        "from torch_geometric.nn import GATConv\n",
        "\n",
        "\n",
        "class GAT(torch.nn.Module):\n",
        "    def __init__(self, hidden_channels, heads):\n",
        "        super().__init__()\n",
        "        torch.manual_seed(1234567)\n",
        "        self.conv1 = GATConv(...)  # TODO\n",
        "        self.conv2 = GATConv(...)  # TODO\n",
        "\n",
        "    def forward(self, x, edge_index):\n",
        "        x = F.dropout(x, p=0.6, training=self.training)\n",
        "        x = self.conv1(x, edge_index)\n",
        "        x = F.elu(x)\n",
        "        x = F.dropout(x, p=0.6, training=self.training)\n",
        "        x = self.conv2(x, edge_index)\n",
        "        return x\n",
        "\n",
        "model = GAT(hidden_channels=8, heads=8)\n",
        "print(model)\n",
        "\n",
        "optimizer = torch.optim.Adam(model.parameters(), lr=0.005, weight_decay=5e-4)\n",
        "criterion = torch.nn.CrossEntropyLoss()\n",
        "\n",
        "def train():\n",
        "      model.train()\n",
        "      optimizer.zero_grad()  # Clear gradients.\n",
        "      out = model(data.x, data.edge_index)  # Perform a single forward pass.\n",
        "      loss = criterion(out[data.train_mask], data.y[data.train_mask])  # Compute the loss solely based on the training nodes.\n",
        "      loss.backward()  # Derive gradients.\n",
        "      optimizer.step()  # Update parameters based on gradients.\n",
        "      return loss\n",
        "\n",
        "def test(mask):\n",
        "      model.eval()\n",
        "      out = model(data.x, data.edge_index)\n",
        "      pred = out.argmax(dim=1)  # Use the class with highest probability.\n",
        "      correct = pred[mask] == data.y[mask]  # Check against ground-truth labels.\n",
        "      acc = int(correct.sum()) / int(mask.sum())  # Derive ratio of correct predictions.\n",
        "      return acc\n",
        "\n",
        "\n",
        "for epoch in range(1, 201):\n",
        "    loss = train()\n",
        "    val_acc = test(data.val_mask)\n",
        "    test_acc = test(data.test_mask)\n",
        "    print(f'Epoch: {epoch:03d}, Loss: {loss:.4f}, Val: {val_acc:.4f}, Test: {test_acc:.4f}')"
      ]
    }
  ],
  "metadata": {
    "accelerator": "GPU",
    "colab": {
      "provenance": [],
      "toc_visible": true
    },
    "kernelspec": {
      "display_name": "Python 3",
      "name": "python3"
    },
    "language_info": {
      "codemirror_mode": {
        "name": "ipython",
        "version": 3
      },
      "file_extension": ".py",
      "mimetype": "text/x-python",
      "name": "python",
      "nbconvert_exporter": "python",
      "pygments_lexer": "ipython3",
      "version": "3.10.12"
    }
  },
  "nbformat": 4,
  "nbformat_minor": 0
}
