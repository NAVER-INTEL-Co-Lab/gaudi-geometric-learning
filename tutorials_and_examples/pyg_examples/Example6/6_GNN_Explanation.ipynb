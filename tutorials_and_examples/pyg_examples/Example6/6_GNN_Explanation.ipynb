{
  "cells": [
    {
      "cell_type": "code",
      "execution_count": 1,
      "metadata": {
        "colab": {
          "base_uri": "https://localhost:8080/"
        },
        "id": "F1op-CbyLuN4",
        "outputId": "ad391923-6515-4737-dec5-abb4b76778ea"
      },
      "outputs": [
        {
          "name": "stdout",
          "output_type": "stream",
          "text": [
            "PT_HPU_LAZY_MODE: 0\n"
          ]
        },
        {
          "name": "stderr",
          "output_type": "stream",
          "text": [
            "Calling add_step_closure function does not have any effect. It's lazy mode only functionality. (warning logged once)\n",
            "Calling mark_step function does not have any effect. It's lazy mode only functionality. (warning logged once)\n",
            "Calling iter_mark_step function does not have any effect. It's lazy mode only functionality. (warning logged once)\n"
          ]
        },
        {
          "name": "stdout",
          "output_type": "stream",
          "text": [
            "2.4.0a0+git74cd574\n"
          ]
        },
        {
          "name": "stderr",
          "output_type": "stream",
          "text": [
            "/usr/lib/python3.10/inspect.py:288: FutureWarning: `torch.distributed.reduce_op` is deprecated, please use `torch.distributed.ReduceOp` instead\n",
            "  return isinstance(object, types.FunctionType)\n"
          ]
        }
      ],
      "source": [
        "import os\n",
        "\n",
        "# Use the eager mode\n",
        "os.environ['PT_HPU_LAZY_MODE'] = '0'\n",
        "\n",
        "# Verify the environment variable is set\n",
        "print(f\"PT_HPU_LAZY_MODE: {os.environ['PT_HPU_LAZY_MODE']}\")\n",
        "\n",
        "import torch\n",
        "os.environ['TORCH'] = torch.__version__\n",
        "print(torch.__version__)\n",
        "\n",
        "import habana_frameworks.torch.core as htcore\n",
        "\n",
        "# use rich traceback\n",
        "\n",
        "from rich import traceback\n",
        "traceback.install()\n",
        "\n",
        "device = torch.device(\"hpu\")\n"
      ]
    },
    {
      "cell_type": "code",
      "execution_count": 2,
      "metadata": {},
      "outputs": [],
      "source": [
        "# Helper function for visualization.\n",
        "%matplotlib inline\n",
        "import matplotlib.pyplot as plt"
      ]
    },
    {
      "cell_type": "markdown",
      "metadata": {
        "id": "nMTL0kk0seBw"
      },
      "source": [
        "# Explaining GNN Model Predictions using Captum\n",
        "\n",
        "In this tutorial we demonstrate how to apply feature attribution methods to graphs. Specifically, we try to find the most important edges for each instance prediction.  \n",
        "\n",
        "We use the Mutagenicity dataset from [TUDatasets](https://chrsmrrs.github.io/datasets/). This dataset consists of 4337 molecule graphs where the task is to predict the molecule mutagenicity."
      ]
    },
    {
      "cell_type": "markdown",
      "metadata": {
        "id": "mJtgD2A1uJAa"
      },
      "source": [
        "## Loading the dataset\n",
        "\n",
        "We load the dataset and use 10% of the data as the test split."
      ]
    },
    {
      "cell_type": "code",
      "execution_count": 3,
      "metadata": {
        "colab": {
          "base_uri": "https://localhost:8080/"
        },
        "id": "SE2iREv4q2dL",
        "outputId": "25b13669-9aa3-44d1-cd9a-62d357b466ee"
      },
      "outputs": [
        {
          "name": "stderr",
          "output_type": "stream",
          "text": [
            "Downloading https://www.chrsmrrs.com/graphkerneldatasets/Mutagenicity.zip\n",
            "Processing...\n",
            "Done!\n"
          ]
        }
      ],
      "source": [
        "from torch_geometric.loader import DataLoader\n",
        "from torch_geometric.datasets import TUDataset\n",
        "\n",
        "path = '.'\n",
        "dataset = TUDataset(path, name='Mutagenicity').shuffle()\n",
        "test_dataset = dataset[:len(dataset) // 10]\n",
        "train_dataset = dataset[len(dataset) // 10:]\n",
        "test_loader = DataLoader(test_dataset, batch_size=128)\n",
        "train_loader = DataLoader(train_dataset, batch_size=128)"
      ]
    },
    {
      "cell_type": "markdown",
      "metadata": {
        "id": "g35SSQ3oukNM"
      },
      "source": [
        "## Visualizing the data\n",
        "\n",
        "We define some utility functions for visualizing the molecules and draw a random molecule."
      ]
    },
    {
      "cell_type": "code",
      "execution_count": 4,
      "metadata": {
        "id": "9Hh3YNASuYxm"
      },
      "outputs": [],
      "source": [
        "import networkx as nx\n",
        "import numpy as np\n",
        "\n",
        "from torch_geometric.utils import to_networkx\n",
        "\n",
        "\n",
        "def draw_molecule(g, edge_mask=None, draw_edge_labels=False):\n",
        "    g = g.copy().to_undirected()\n",
        "    node_labels = {}\n",
        "    for u, data in g.nodes(data=True):\n",
        "        node_labels[u] = data['name']\n",
        "    pos = nx.planar_layout(g)\n",
        "    pos = nx.spring_layout(g, pos=pos)\n",
        "    if edge_mask is None:\n",
        "        edge_color = 'black'\n",
        "        widths = None\n",
        "    else:\n",
        "        edge_color = [edge_mask[(u, v)] for u, v in g.edges()]\n",
        "        widths = [x * 10 for x in edge_color]\n",
        "    nx.draw(g, pos=pos, labels=node_labels, width=widths,\n",
        "            edge_color=edge_color, edge_cmap=plt.cm.Blues,\n",
        "            node_color='azure')\n",
        "\n",
        "    if draw_edge_labels and edge_mask is not None:\n",
        "        edge_labels = {k: ('%.2f' % v) for k, v in edge_mask.items()}\n",
        "        nx.draw_networkx_edge_labels(g, pos, edge_labels=edge_labels,\n",
        "                                    font_color='red')\n",
        "    plt.show()\n",
        "\n",
        "\n",
        "def to_molecule(data):\n",
        "    ATOM_MAP = ['C', 'O', 'Cl', 'H', 'N', 'F',\n",
        "                'Br', 'S', 'P', 'I', 'Na', 'K', 'Li', 'Ca']\n",
        "    g = to_networkx(data, node_attrs=['x'])\n",
        "    for u, data in g.nodes(data=True):\n",
        "        data['name'] = ATOM_MAP[data['x'].index(1.0)]\n",
        "        del data['x']\n",
        "    return g\n"
      ]
    },
    {
      "cell_type": "markdown",
      "metadata": {
        "id": "cJ3JuTH1vV1V"
      },
      "source": [
        "## Sample visualization\n",
        "\n",
        "We sample a single molecule from train_dataset and visualize it"
      ]
    },
    {
      "cell_type": "code",
      "execution_count": 7,
      "metadata": {
        "colab": {
          "base_uri": "https://localhost:8080/",
          "height": 391
        },
        "id": "4Z2uE7zVuhXU",
        "outputId": "14795a19-032e-4836-b07d-b5fe6b594e7f"
      },
      "outputs": [
        {
          "data": {
            "image/png": "[encoded data removed]",
            "text/plain": [
              "<Figure size 1000x500 with 1 Axes>"
            ]
          },
          "metadata": {},
          "output_type": "display_data"
        }
      ],
      "source": [
        "import random\n",
        "\n",
        "data = random.choice([t for t in train_dataset])\n",
        "mol = to_molecule(data)\n",
        "plt.figure(figsize=(10, 5))\n",
        "draw_molecule(mol)"
      ]
    },
    {
      "cell_type": "markdown",
      "metadata": {
        "id": "6kZo9g1hwCGG"
      },
      "source": [
        "## Training the model\n",
        "\n",
        "In the next section, we train a GNN model with 5 convolution layers. We use GraphConv which supports `edge_weight` as a parameter. Many convolution layers in Pytorch Geometric supoort this argument."
      ]
    },
    {
      "cell_type": "markdown",
      "metadata": {
        "id": "GBVIOfMCCHAb"
      },
      "source": [
        "### Define the model"
      ]
    },
    {
      "cell_type": "code",
      "execution_count": 8,
      "metadata": {
        "id": "iI1qpFUhrA2p"
      },
      "outputs": [],
      "source": [
        "import torch\n",
        "from torch.nn import Linear\n",
        "import torch.nn.functional as F\n",
        "\n",
        "from torch_geometric.nn import GraphConv, global_add_pool\n",
        "\n",
        "class Net(torch.nn.Module):\n",
        "    def __init__(self, dim):\n",
        "        super(Net, self).__init__()\n",
        "\n",
        "        num_features = dataset.num_features\n",
        "        self.dim = dim\n",
        "\n",
        "        self.conv1 = GraphConv(num_features, dim)\n",
        "        self.conv2 = GraphConv(dim, dim)\n",
        "        self.conv3 = GraphConv(dim, dim)\n",
        "        self.conv4 = GraphConv(dim, dim)\n",
        "        self.conv5 = GraphConv(dim, dim)\n",
        "\n",
        "        self.lin1 = Linear(dim, dim)\n",
        "        self.lin2 = Linear(dim, dataset.num_classes)\n",
        "\n",
        "    def forward(self, x, edge_index, batch, edge_weight=None):\n",
        "        x = self.conv1(x, edge_index, edge_weight).relu()\n",
        "        x = self.conv2(x, edge_index, edge_weight).relu()\n",
        "        x = self.conv3(x, edge_index, edge_weight).relu()\n",
        "        x = self.conv4(x, edge_index, edge_weight).relu()\n",
        "        x = self.conv5(x, edge_index, edge_weight).relu()\n",
        "        x = global_add_pool(x, batch)\n",
        "        x = self.lin1(x).relu()\n",
        "        x = F.dropout(x, p=0.5, training=self.training)\n",
        "        x = self.lin2(x)\n",
        "        return F.log_softmax(x, dim=-1)\n"
      ]
    },
    {
      "cell_type": "markdown",
      "metadata": {
        "id": "L3WOZ40OCKO5"
      },
      "source": [
        "### Define train and test functions"
      ]
    },
    {
      "cell_type": "markdown",
      "metadata": {
        "id": "rsv9CQ6hCNMI"
      },
      "source": [
        "### Train the model for 100 epochs\n",
        "\n",
        "The accuracy should be around 80% in the end"
      ]
    },
    {
      "cell_type": "code",
      "execution_count": 9,
      "metadata": {
        "colab": {
          "base_uri": "https://localhost:8080/"
        },
        "id": "4imSoTlMrQdN",
        "outputId": "410f11c4-8fac-4086-80a1-46bd4c0a8709"
      },
      "outputs": [
        {
          "name": "stderr",
          "output_type": "stream",
          "text": [
            "============================= HABANA PT BRIDGE CONFIGURATION =========================== \n",
            " PT_HPU_LAZY_MODE = 0\n",
            " PT_RECIPE_CACHE_PATH = \n",
            " PT_CACHE_FOLDER_DELETE = 0\n",
            " PT_HPU_RECIPE_CACHE_CONFIG = \n",
            " PT_HPU_MAX_COMPOUND_OP_SIZE = 9223372036854775807\n",
            " PT_HPU_LAZY_ACC_PAR_MODE = 1\n",
            " PT_HPU_ENABLE_REFINE_DYNAMIC_SHAPES = 0\n",
            " PT_HPU_EAGER_PIPELINE_ENABLE = 1\n",
            " PT_HPU_EAGER_COLLECTIVE_PIPELINE_ENABLE = 1\n",
            "---------------------------: System Configuration :---------------------------\n",
            "Num CPU Cores : 160\n",
            "CPU RAM       : 2113407800 KB\n",
            "------------------------------------------------------------------------------\n"
          ]
        },
        {
          "data": {
            "application/vnd.jupyter.widget-view+json": {
              "model_id": "4b7bd35db36042f7b350dc65508fcde6",
              "version_major": 2,
              "version_minor": 0
            },
            "text/plain": [
              "  0%|          | 0/100 [00:00<?, ?it/s]"
            ]
          },
          "metadata": {},
          "output_type": "display_data"
        },
        {
          "name": "stderr",
          "output_type": "stream",
          "text": [
            "W1031 07:04:37.742000 139858120090752 torch/_dynamo/variables/tensor.py:754] [0/0] Graph break from `Tensor.item()`, consider setting:\n",
            "W1031 07:04:37.742000 139858120090752 torch/_dynamo/variables/tensor.py:754] [0/0]     torch._dynamo.config.capture_scalar_outputs = True\n",
            "W1031 07:04:37.742000 139858120090752 torch/_dynamo/variables/tensor.py:754] [0/0] or:\n",
            "W1031 07:04:37.742000 139858120090752 torch/_dynamo/variables/tensor.py:754] [0/0]     env TORCHDYNAMO_CAPTURE_SCALAR_OUTPUTS=1\n",
            "W1031 07:04:37.742000 139858120090752 torch/_dynamo/variables/tensor.py:754] [0/0] to include these operations in the captured graph.\n",
            "W1031 07:04:37.742000 139858120090752 torch/_dynamo/variables/tensor.py:754] [0/0] \n",
            "/usr/local/lib/python3.10/dist-packages/torch/jit/_check.py:178: UserWarning: The TorchScript type system doesn't support instance-level annotations on empty non-base types in `__init__`. Instead, either 1) use a type annotation in the class body, or 2) wrap the type in `torch.jit.Attribute`.\n",
            "  warnings.warn(\n",
            "/usr/local/lib/python3.10/dist-packages/torch/jit/_check.py:178: UserWarning: The TorchScript type system doesn't support instance-level annotations on empty non-base types in `__init__`. Instead, either 1) use a type annotation in the class body, or 2) wrap the type in `torch.jit.Attribute`.\n",
            "  warnings.warn(\n",
            "/usr/local/lib/python3.10/dist-packages/torch/jit/_check.py:178: UserWarning: The TorchScript type system doesn't support instance-level annotations on empty non-base types in `__init__`. Instead, either 1) use a type annotation in the class body, or 2) wrap the type in `torch.jit.Attribute`.\n",
            "  warnings.warn(\n",
            "/usr/local/lib/python3.10/dist-packages/torch/jit/_check.py:178: UserWarning: The TorchScript type system doesn't support instance-level annotations on empty non-base types in `__init__`. Instead, either 1) use a type annotation in the class body, or 2) wrap the type in `torch.jit.Attribute`.\n",
            "  warnings.warn(\n",
            "/usr/local/lib/python3.10/dist-packages/torch/jit/_check.py:178: UserWarning: The TorchScript type system doesn't support instance-level annotations on empty non-base types in `__init__`. Instead, either 1) use a type annotation in the class body, or 2) wrap the type in `torch.jit.Attribute`.\n",
            "  warnings.warn(\n",
            "/usr/local/lib/python3.10/dist-packages/torch/jit/_check.py:178: UserWarning: The TorchScript type system doesn't support instance-level annotations on empty non-base types in `__init__`. Instead, either 1) use a type annotation in the class body, or 2) wrap the type in `torch.jit.Attribute`.\n",
            "  warnings.warn(\n",
            "/usr/local/lib/python3.10/dist-packages/torch/jit/_check.py:178: UserWarning: The TorchScript type system doesn't support instance-level annotations on empty non-base types in `__init__`. Instead, either 1) use a type annotation in the class body, or 2) wrap the type in `torch.jit.Attribute`.\n",
            "  warnings.warn(\n",
            "/usr/local/lib/python3.10/dist-packages/torch/jit/_check.py:178: UserWarning: The TorchScript type system doesn't support instance-level annotations on empty non-base types in `__init__`. Instead, either 1) use a type annotation in the class body, or 2) wrap the type in `torch.jit.Attribute`.\n",
            "  warnings.warn(\n",
            "/usr/local/lib/python3.10/dist-packages/torch/jit/_check.py:178: UserWarning: The TorchScript type system doesn't support instance-level annotations on empty non-base types in `__init__`. Instead, either 1) use a type annotation in the class body, or 2) wrap the type in `torch.jit.Attribute`.\n",
            "  warnings.warn(\n",
            "/usr/local/lib/python3.10/dist-packages/torch/jit/_check.py:178: UserWarning: The TorchScript type system doesn't support instance-level annotations on empty non-base types in `__init__`. Instead, either 1) use a type annotation in the class body, or 2) wrap the type in `torch.jit.Attribute`.\n",
            "  warnings.warn(\n",
            "/usr/local/lib/python3.10/dist-packages/torch/jit/_check.py:178: UserWarning: The TorchScript type system doesn't support instance-level annotations on empty non-base types in `__init__`. Instead, either 1) use a type annotation in the class body, or 2) wrap the type in `torch.jit.Attribute`.\n",
            "  warnings.warn(\n",
            "/usr/local/lib/python3.10/dist-packages/torch/jit/_check.py:178: UserWarning: The TorchScript type system doesn't support instance-level annotations on empty non-base types in `__init__`. Instead, either 1) use a type annotation in the class body, or 2) wrap the type in `torch.jit.Attribute`.\n",
            "  warnings.warn(\n"
          ]
        },
        {
          "name": "stdout",
          "output_type": "stream",
          "text": [
            "Epoch: 001, Loss: 0.7021, Train Acc: 0.6557, Test Acc: 0.6952\n",
            "Epoch: 002, Loss: 0.6298, Train Acc: 0.6803, Test Acc: 0.7229\n",
            "Epoch: 003, Loss: 0.6138, Train Acc: 0.6816, Test Acc: 0.6998\n",
            "Epoch: 004, Loss: 0.6030, Train Acc: 0.6980, Test Acc: 0.7021\n",
            "Epoch: 005, Loss: 0.5734, Train Acc: 0.6980, Test Acc: 0.7182\n",
            "Epoch: 006, Loss: 0.5683, Train Acc: 0.7262, Test Acc: 0.7552\n",
            "Epoch: 007, Loss: 0.5597, Train Acc: 0.7390, Test Acc: 0.7667\n",
            "Epoch: 008, Loss: 0.5521, Train Acc: 0.7431, Test Acc: 0.7575\n",
            "Epoch: 009, Loss: 0.5359, Train Acc: 0.7503, Test Acc: 0.7783\n",
            "Epoch: 010, Loss: 0.5287, Train Acc: 0.7546, Test Acc: 0.7806\n",
            "Epoch: 011, Loss: 0.5214, Train Acc: 0.7641, Test Acc: 0.7898\n",
            "Epoch: 012, Loss: 0.5137, Train Acc: 0.7713, Test Acc: 0.7898\n",
            "Epoch: 013, Loss: 0.5120, Train Acc: 0.7718, Test Acc: 0.7921\n",
            "Epoch: 014, Loss: 0.4972, Train Acc: 0.7807, Test Acc: 0.7921\n",
            "Epoch: 015, Loss: 0.4888, Train Acc: 0.7818, Test Acc: 0.8014\n",
            "Epoch: 016, Loss: 0.4922, Train Acc: 0.7761, Test Acc: 0.7968\n",
            "Epoch: 017, Loss: 0.4858, Train Acc: 0.7905, Test Acc: 0.7898\n",
            "Epoch: 018, Loss: 0.4779, Train Acc: 0.7902, Test Acc: 0.8014\n",
            "Epoch: 019, Loss: 0.4647, Train Acc: 0.7969, Test Acc: 0.8106\n",
            "Epoch: 020, Loss: 0.4577, Train Acc: 0.8017, Test Acc: 0.8106\n",
            "Epoch: 021, Loss: 0.4498, Train Acc: 0.7856, Test Acc: 0.7945\n",
            "Epoch: 022, Loss: 0.4531, Train Acc: 0.8017, Test Acc: 0.8199\n",
            "Epoch: 023, Loss: 0.4570, Train Acc: 0.8064, Test Acc: 0.8152\n",
            "Epoch: 024, Loss: 0.4397, Train Acc: 0.8128, Test Acc: 0.8222\n",
            "Epoch: 025, Loss: 0.4307, Train Acc: 0.8171, Test Acc: 0.8337\n",
            "Epoch: 026, Loss: 0.4292, Train Acc: 0.8207, Test Acc: 0.8199\n",
            "Epoch: 027, Loss: 0.4174, Train Acc: 0.8220, Test Acc: 0.8222\n",
            "Epoch: 028, Loss: 0.4272, Train Acc: 0.8207, Test Acc: 0.8337\n",
            "Epoch: 029, Loss: 0.4362, Train Acc: 0.8156, Test Acc: 0.8083\n",
            "Epoch: 030, Loss: 0.4037, Train Acc: 0.8256, Test Acc: 0.8430\n",
            "Epoch: 031, Loss: 0.4029, Train Acc: 0.8302, Test Acc: 0.8337\n",
            "Epoch: 032, Loss: 0.4053, Train Acc: 0.8422, Test Acc: 0.8314\n",
            "Epoch: 033, Loss: 0.4054, Train Acc: 0.8435, Test Acc: 0.8291\n",
            "Epoch: 034, Loss: 0.3872, Train Acc: 0.8348, Test Acc: 0.8268\n",
            "Epoch: 035, Loss: 0.3955, Train Acc: 0.8478, Test Acc: 0.8152\n",
            "Epoch: 036, Loss: 0.3844, Train Acc: 0.8450, Test Acc: 0.8291\n",
            "Epoch: 037, Loss: 0.3813, Train Acc: 0.8458, Test Acc: 0.8268\n",
            "Epoch: 038, Loss: 0.3754, Train Acc: 0.8450, Test Acc: 0.8291\n",
            "Epoch: 039, Loss: 0.3836, Train Acc: 0.8438, Test Acc: 0.8291\n",
            "Epoch: 040, Loss: 0.3777, Train Acc: 0.8453, Test Acc: 0.8291\n",
            "Epoch: 041, Loss: 0.3794, Train Acc: 0.8622, Test Acc: 0.8268\n",
            "Epoch: 042, Loss: 0.3697, Train Acc: 0.8624, Test Acc: 0.8199\n",
            "Epoch: 043, Loss: 0.3530, Train Acc: 0.8642, Test Acc: 0.8291\n",
            "Epoch: 044, Loss: 0.3521, Train Acc: 0.8522, Test Acc: 0.8291\n",
            "Epoch: 045, Loss: 0.3510, Train Acc: 0.8665, Test Acc: 0.8176\n",
            "Epoch: 046, Loss: 0.3545, Train Acc: 0.8658, Test Acc: 0.8199\n",
            "Epoch: 047, Loss: 0.3441, Train Acc: 0.8655, Test Acc: 0.8314\n",
            "Epoch: 048, Loss: 0.3455, Train Acc: 0.8607, Test Acc: 0.8291\n",
            "Epoch: 049, Loss: 0.3425, Train Acc: 0.8699, Test Acc: 0.8314\n",
            "Epoch: 050, Loss: 0.3363, Train Acc: 0.8645, Test Acc: 0.8337\n",
            "Epoch: 051, Loss: 0.3291, Train Acc: 0.8727, Test Acc: 0.8106\n",
            "Epoch: 052, Loss: 0.3156, Train Acc: 0.8760, Test Acc: 0.8106\n",
            "Epoch: 053, Loss: 0.3154, Train Acc: 0.8788, Test Acc: 0.8129\n",
            "Epoch: 054, Loss: 0.3170, Train Acc: 0.8665, Test Acc: 0.8060\n",
            "Epoch: 055, Loss: 0.3110, Train Acc: 0.8765, Test Acc: 0.8083\n",
            "Epoch: 056, Loss: 0.3106, Train Acc: 0.8709, Test Acc: 0.8083\n",
            "Epoch: 057, Loss: 0.3068, Train Acc: 0.8760, Test Acc: 0.8152\n",
            "Epoch: 058, Loss: 0.3128, Train Acc: 0.8788, Test Acc: 0.8129\n",
            "Epoch: 059, Loss: 0.3173, Train Acc: 0.8768, Test Acc: 0.8199\n",
            "Epoch: 060, Loss: 0.3032, Train Acc: 0.8819, Test Acc: 0.8152\n",
            "Epoch: 061, Loss: 0.3036, Train Acc: 0.8791, Test Acc: 0.8129\n",
            "Epoch: 062, Loss: 0.3056, Train Acc: 0.8840, Test Acc: 0.8176\n",
            "Epoch: 063, Loss: 0.3051, Train Acc: 0.8806, Test Acc: 0.8199\n",
            "Epoch: 064, Loss: 0.3007, Train Acc: 0.8824, Test Acc: 0.8083\n",
            "Epoch: 065, Loss: 0.3046, Train Acc: 0.8847, Test Acc: 0.8106\n",
            "Epoch: 066, Loss: 0.3056, Train Acc: 0.8876, Test Acc: 0.8199\n",
            "Epoch: 067, Loss: 0.3118, Train Acc: 0.8863, Test Acc: 0.8152\n",
            "Epoch: 068, Loss: 0.3110, Train Acc: 0.8788, Test Acc: 0.8268\n",
            "Epoch: 069, Loss: 0.3081, Train Acc: 0.8742, Test Acc: 0.8268\n",
            "Epoch: 070, Loss: 0.3042, Train Acc: 0.8829, Test Acc: 0.8152\n",
            "Epoch: 071, Loss: 0.2952, Train Acc: 0.8801, Test Acc: 0.8199\n",
            "Epoch: 072, Loss: 0.2977, Train Acc: 0.8863, Test Acc: 0.8314\n",
            "Epoch: 073, Loss: 0.2921, Train Acc: 0.8863, Test Acc: 0.8176\n",
            "Epoch: 074, Loss: 0.2936, Train Acc: 0.8878, Test Acc: 0.8083\n",
            "Epoch: 075, Loss: 0.2948, Train Acc: 0.8794, Test Acc: 0.8222\n",
            "Epoch: 076, Loss: 0.2975, Train Acc: 0.8822, Test Acc: 0.8129\n",
            "Epoch: 077, Loss: 0.2910, Train Acc: 0.8781, Test Acc: 0.8176\n",
            "Epoch: 078, Loss: 0.2891, Train Acc: 0.8763, Test Acc: 0.8176\n",
            "Epoch: 079, Loss: 0.2918, Train Acc: 0.8847, Test Acc: 0.8268\n",
            "Epoch: 080, Loss: 0.2952, Train Acc: 0.8706, Test Acc: 0.8176\n",
            "Epoch: 081, Loss: 0.2932, Train Acc: 0.8765, Test Acc: 0.8106\n",
            "Epoch: 082, Loss: 0.2823, Train Acc: 0.8845, Test Acc: 0.8106\n",
            "Epoch: 083, Loss: 0.2763, Train Acc: 0.8899, Test Acc: 0.8199\n",
            "Epoch: 084, Loss: 0.2709, Train Acc: 0.8932, Test Acc: 0.8129\n",
            "Epoch: 085, Loss: 0.2759, Train Acc: 0.8932, Test Acc: 0.8129\n",
            "Epoch: 086, Loss: 0.2658, Train Acc: 0.9004, Test Acc: 0.8106\n",
            "Epoch: 087, Loss: 0.2606, Train Acc: 0.8983, Test Acc: 0.8176\n",
            "Epoch: 088, Loss: 0.2558, Train Acc: 0.8993, Test Acc: 0.8222\n",
            "Epoch: 089, Loss: 0.2620, Train Acc: 0.8988, Test Acc: 0.8083\n",
            "Epoch: 090, Loss: 0.2671, Train Acc: 0.8934, Test Acc: 0.8014\n",
            "Epoch: 091, Loss: 0.2646, Train Acc: 0.8888, Test Acc: 0.8106\n",
            "Epoch: 092, Loss: 0.2592, Train Acc: 0.8986, Test Acc: 0.8176\n",
            "Epoch: 093, Loss: 0.2561, Train Acc: 0.9027, Test Acc: 0.8129\n",
            "Epoch: 094, Loss: 0.2575, Train Acc: 0.9050, Test Acc: 0.8129\n",
            "Epoch: 095, Loss: 0.2563, Train Acc: 0.8942, Test Acc: 0.8037\n",
            "Epoch: 096, Loss: 0.2536, Train Acc: 0.8986, Test Acc: 0.8176\n",
            "Epoch: 097, Loss: 0.2646, Train Acc: 0.9057, Test Acc: 0.8152\n",
            "Epoch: 098, Loss: 0.2533, Train Acc: 0.9045, Test Acc: 0.8199\n",
            "Epoch: 099, Loss: 0.2534, Train Acc: 0.8970, Test Acc: 0.8268\n",
            "Epoch: 100, Loss: 0.2630, Train Acc: 0.9047, Test Acc: 0.8152\n"
          ]
        }
      ],
      "source": [
        "from tqdm.auto import trange\n",
        "\n",
        "model = Net(dim=32).to(device)\n",
        "optimizer = torch.optim.Adam(model.parameters(), lr=0.001)\n",
        "\n",
        "def train(epoch):\n",
        "    model.train()\n",
        "\n",
        "    if epoch == 51:\n",
        "        for param_group in optimizer.param_groups:\n",
        "            param_group['lr'] = 0.5 * param_group['lr']\n",
        "\n",
        "    loss_all = 0\n",
        "    for data in train_loader:\n",
        "        data = data.to(device)\n",
        "        optimizer.zero_grad()\n",
        "        output = model(data.x, data.edge_index, data.batch)\n",
        "        loss = F.nll_loss(output, data.y)\n",
        "        loss.backward()\n",
        "        loss_all += loss.item() * data.num_graphs\n",
        "        optimizer.step()\n",
        "    return loss_all / len(train_dataset)\n",
        "\n",
        "\n",
        "def test(loader):\n",
        "    model.eval()\n",
        "\n",
        "    correct = 0\n",
        "    for data in loader:\n",
        "        data = data.to(device)\n",
        "        output = model(data.x, data.edge_index, data.batch)\n",
        "        pred = output.max(dim=1)[1]\n",
        "        correct += pred.eq(data.y).sum().item()\n",
        "    return correct / len(loader.dataset)\n",
        "\n",
        "model.train()\n",
        "model = torch.compile(model, backend=\"hpu_backend\")\n",
        "for epoch in trange(1, 101):\n",
        "    loss = train(epoch)\n",
        "    train_acc = test(train_loader)\n",
        "    test_acc = test(test_loader)\n",
        "    print(f'Epoch: {epoch:03d}, Loss: {loss:.4f}, '\n",
        "          f'Train Acc: {train_acc:.4f}, Test Acc: {test_acc:.4f}')\n"
      ]
    },
    {
      "cell_type": "markdown",
      "metadata": {
        "id": "PzX9xwFxCTff"
      },
      "source": [
        "## Explaining the predictions\n",
        "\n",
        "Now we look at two popular attribution methods. First, we calculate the gradient of the output with respect to the edge weights $w_{e_i}$. Edge weights are initially one for all edges.\n",
        "For the saliency method, we use the absolute value of the gradient as the attribution value for each edge:\n",
        "\n",
        "$$\n",
        "Attribution_{e_i} = |\\frac{\\partial F(x)}{\\partial w_{e_i}}|\n",
        "$$\n",
        "\n",
        "Where $x$ is the input and $F(x)$ is the output of the GNN model on input $x$.\n",
        "\n",
        "For Integrated Gradients method, we interpolate between the current input and a baseline input where the weight of all edges is zero and accumulate the gradient values for each edge:\n",
        "\n",
        "$$\n",
        "Attribution_{e_i} = \\int_{\\alpha =0}^1 \\frac{\\partial F(x_{\\alpha)}}{\\partial w_{e_i}} d\\alpha\n",
        "$$\n",
        "\n",
        "Where $x_{\\alpha}$ is the same as the original input graph but the weight of all edges is set to $\\alpha$. Integrated Gradients complete formulation is more complicated but since our initial edge weights are equal to one and the baseline is zero, it can be simplified to the formulation above. You can read more about this method [here](https://arxiv.org/abs/1703.01365). Of course, this can not be calculated directly and is approximated by a discrete sum.\n",
        "\n",
        "We use the [captum](https://captum.ai/) library for calculating the attribution values. We define the `model_forward` function which calculates the `batch` argument assuming that we are only explaining a single graph at a time.\n",
        "\n"
      ]
    },
    {
      "cell_type": "code",
      "execution_count": 17,
      "metadata": {
        "id": "Wz6B1NgorzAX"
      },
      "outputs": [],
      "source": [
        "from captum.attr import Saliency, IntegratedGradients\n",
        "\n",
        "def model_forward(edge_mask, data):\n",
        "    batch = torch.zeros(data.x.shape[0], dtype=int).to(device)\n",
        "    out = model(data.x, data.edge_index, batch, edge_mask)\n",
        "    return out\n",
        "\n",
        "\n",
        "def explain(method, data, target=0):\n",
        "    input_mask = torch.ones(data.edge_index.shape[1]).requires_grad_(True).to(device)\n",
        "    data = data.to(device)\n",
        "    if method == 'ig':\n",
        "        ig = IntegratedGradients(model_forward)        \n",
        "        mask = ig.attribute(input_mask, target=target,\n",
        "                            additional_forward_args=(data,),\n",
        "                            internal_batch_size=data.edge_index.shape[1])\n",
        "    elif method == 'saliency':\n",
        "        saliency = Saliency(model_forward)\n",
        "        mask = saliency.attribute(input_mask, target=target,\n",
        "                                  additional_forward_args=(data,))\n",
        "    else:\n",
        "        raise Exception('Unknown explanation method')\n",
        "\n",
        "    edge_mask = np.abs(mask.cpu().detach().numpy())\n",
        "    if edge_mask.max() > 0:  # avoid division by zero\n",
        "        edge_mask = edge_mask / edge_mask.max()\n",
        "    return edge_mask"
      ]
    },
    {
      "cell_type": "markdown",
      "metadata": {
        "id": "0FPGLRtSFacR"
      },
      "source": [
        "Finally we take a random sample from the test dataset and run the explanation methods. For a simpler visualization, we make the graph undirected and merge the explanations of each edge in both directions.\n",
        "\n",
        "It is known that NO2 substructure makes the molecules mutagenic in many cases and you can verify this by the model explanations.\n",
        "\n",
        "Mutagenic molecules have label 0 in this dataset and we only sample from those molecules but you can change the code and see the explanations for the other class as well.\n",
        "\n",
        "In this visualization, edge colors and thickness represent the importance. You can also see the numeric value by passing `draw_edge_labels` to `draw_molecule` function.\n",
        "\n",
        "As you can see Integrated Gradients tend to create more accurate explanations."
      ]
    },
    {
      "cell_type": "code",
      "execution_count": 18,
      "metadata": {
        "colab": {
          "base_uri": "https://localhost:8080/",
          "height": 621
        },
        "id": "Z1mJVbKorh5y",
        "outputId": "771555b4-e2b0-4701-984c-88537723f10c"
      },
      "outputs": [
        {
          "name": "stderr",
          "output_type": "stream",
          "text": [
            "/usr/local/lib/python3.10/dist-packages/torch/jit/_check.py:178: UserWarning: The TorchScript type system doesn't support instance-level annotations on empty non-base types in `__init__`. Instead, either 1) use a type annotation in the class body, or 2) wrap the type in `torch.jit.Attribute`.\n",
            "  warnings.warn(\n",
            "/usr/local/lib/python3.10/dist-packages/torch/jit/_check.py:178: UserWarning: The TorchScript type system doesn't support instance-level annotations on empty non-base types in `__init__`. Instead, either 1) use a type annotation in the class body, or 2) wrap the type in `torch.jit.Attribute`.\n",
            "  warnings.warn(\n",
            "/usr/local/lib/python3.10/dist-packages/torch/jit/_check.py:178: UserWarning: The TorchScript type system doesn't support instance-level annotations on empty non-base types in `__init__`. Instead, either 1) use a type annotation in the class body, or 2) wrap the type in `torch.jit.Attribute`.\n",
            "  warnings.warn(\n",
            "/usr/local/lib/python3.10/dist-packages/torch/jit/_check.py:178: UserWarning: The TorchScript type system doesn't support instance-level annotations on empty non-base types in `__init__`. Instead, either 1) use a type annotation in the class body, or 2) wrap the type in `torch.jit.Attribute`.\n",
            "  warnings.warn(\n"
          ]
        },
        {
          "data": {
            "image/png": "[encoded data removed]",
            "text/plain": [
              "<Figure size 1000x500 with 1 Axes>"
            ]
          },
          "metadata": {},
          "output_type": "display_data"
        },
        {
          "data": {
            "image/png": "[encoded data removed]",
            "text/plain": [
              "<Figure size 1000x500 with 1 Axes>"
            ]
          },
          "metadata": {},
          "output_type": "display_data"
        }
      ],
      "source": [
        "import random\n",
        "from collections import defaultdict\n",
        "\n",
        "def aggregate_edge_directions(edge_mask, data):\n",
        "    edge_mask_dict = defaultdict(float)\n",
        "    for val, u, v in list(zip(edge_mask, *data.edge_index)):\n",
        "        u, v = u.item(), v.item()\n",
        "        if u > v:\n",
        "            u, v = v, u\n",
        "        edge_mask_dict[(u, v)] += val\n",
        "    return edge_mask_dict\n",
        "\n",
        "\n",
        "data = random.choice([t for t in test_dataset if not t.y.item()])\n",
        "mol = to_molecule(data)\n",
        "\n",
        "for title, method in [('Integrated Gradients', 'ig'), ('Saliency', 'saliency')]:\n",
        "    edge_mask = explain(method, data, target=0)\n",
        "    edge_mask_dict = aggregate_edge_directions(edge_mask, data)\n",
        "    plt.figure(figsize=(10, 5))\n",
        "    plt.title(title)\n",
        "    draw_molecule(mol, edge_mask_dict)"
      ]
    }
  ],
  "metadata": {
    "colab": {
      "provenance": []
    },
    "kernelspec": {
      "display_name": "Python 3",
      "name": "python3"
    },
    "language_info": {
      "codemirror_mode": {
        "name": "ipython",
        "version": 3
      },
      "file_extension": ".py",
      "mimetype": "text/x-python",
      "name": "python",
      "nbconvert_exporter": "python",
      "pygments_lexer": "ipython3",
      "version": "3.10.12"
    }
  },
  "nbformat": 4,
  "nbformat_minor": 0
}
