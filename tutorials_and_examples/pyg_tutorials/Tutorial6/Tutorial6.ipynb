{
 "cells": [
  {
   "cell_type": "code",
   "execution_count": 1,
   "metadata": {},
   "outputs": [
    {
     "name": "stdout",
     "output_type": "stream",
     "text": [
      "2.4.0a0+git74cd574\n"
     ]
    }
   ],
   "source": [
    "import os\n",
    "import torch\n",
    "os.environ['TORCH'] = torch.__version__\n",
    "print(torch.__version__)"
   ]
  },
  {
   "cell_type": "code",
   "execution_count": 2,
   "metadata": {},
   "outputs": [
    {
     "name": "stdout",
     "output_type": "stream",
     "text": [
      "PT_HPU_LAZY_MODE: 0\n"
     ]
    },
    {
     "name": "stderr",
     "output_type": "stream",
     "text": [
      "Calling add_step_closure function does not have any effect. It's lazy mode only functionality. (warning logged once)\n",
      "Calling mark_step function does not have any effect. It's lazy mode only functionality. (warning logged once)\n",
      "Calling iter_mark_step function does not have any effect. It's lazy mode only functionality. (warning logged once)\n",
      "/usr/lib/python3.10/inspect.py:288: FutureWarning: `torch.distributed.reduce_op` is deprecated, please use `torch.distributed.ReduceOp` instead\n",
      "  return isinstance(object, types.FunctionType)\n"
     ]
    }
   ],
   "source": [
    "import os\n",
    "\n",
    "# Use the eager mode\n",
    "os.environ['PT_HPU_LAZY_MODE'] = '0'\n",
    "\n",
    "# Verify the environment variable is set\n",
    "print(f\"PT_HPU_LAZY_MODE: {os.environ['PT_HPU_LAZY_MODE']}\")\n",
    "\n",
    "import habana_frameworks.torch.core as htcore\n"
   ]
  },
  {
   "cell_type": "code",
   "execution_count": 3,
   "metadata": {},
   "outputs": [],
   "source": [
    "import torch\n",
    "from torch_geometric.datasets import Planetoid\n",
    "import torch_geometric.transforms as T\n",
    "from torch_geometric.nn import GCNConv\n",
    "from torch_geometric.utils import train_test_split_edges"
   ]
  },
  {
   "cell_type": "markdown",
   "metadata": {},
   "source": [
    "# Tutorial 6  \n",
    "Graph AutoEncoders GAE &  \n",
    "Variational Graph Autoencoders VGAE    \n",
    "\n",
    "[paper](https://arxiv.org/pdf/1611.07308.pdf)  \n",
    "[code](https://github.com/rusty1s/pytorch_geometric/blob/master/examples/autoencoder.py)"
   ]
  },
  {
   "cell_type": "markdown",
   "metadata": {},
   "source": [
    "## Graph AutoEncoder GAE"
   ]
  },
  {
   "cell_type": "markdown",
   "metadata": {},
   "source": [
    "### Load the data"
   ]
  },
  {
   "cell_type": "code",
   "execution_count": 4,
   "metadata": {},
   "outputs": [
    {
     "name": "stderr",
     "output_type": "stream",
     "text": [
      "Downloading https://github.com/kimiyoung/planetoid/raw/master/data/ind.citeseer.x\n",
      "Downloading https://github.com/kimiyoung/planetoid/raw/master/data/ind.citeseer.tx\n",
      "Downloading https://github.com/kimiyoung/planetoid/raw/master/data/ind.citeseer.allx\n",
      "Downloading https://github.com/kimiyoung/planetoid/raw/master/data/ind.citeseer.y\n",
      "Downloading https://github.com/kimiyoung/planetoid/raw/master/data/ind.citeseer.ty\n",
      "Downloading https://github.com/kimiyoung/planetoid/raw/master/data/ind.citeseer.ally\n",
      "Downloading https://github.com/kimiyoung/planetoid/raw/master/data/ind.citeseer.graph\n",
      "Downloading https://github.com/kimiyoung/planetoid/raw/master/data/ind.citeseer.test.index\n",
      "Processing...\n",
      "Done!\n",
      "/usr/local/lib/python3.10/dist-packages/torch_geometric/data/in_memory_dataset.py:300: UserWarning: It is not recommended to directly access the internal storage format `data` of an 'InMemoryDataset'. If you are absolutely certain what you are doing, access the internal storage via `InMemoryDataset._data` instead to suppress this warning. Alternatively, you can access stacked individual attributes of every graph via `dataset.{attr_name}`.\n",
      "  warnings.warn(msg)\n"
     ]
    },
    {
     "data": {
      "text/plain": [
       "Data(x=[3327, 3703], edge_index=[2, 9104], y=[3327], train_mask=[3327], val_mask=[3327], test_mask=[3327])"
      ]
     },
     "execution_count": 4,
     "metadata": {},
     "output_type": "execute_result"
    }
   ],
   "source": [
    "dataset = Planetoid(\"data\", \"CiteSeer\", transform=T.NormalizeFeatures())\n",
    "dataset.data"
   ]
  },
  {
   "cell_type": "code",
   "execution_count": 5,
   "metadata": {},
   "outputs": [
    {
     "data": {
      "text/plain": [
       "Data(x=[3327, 3703], edge_index=[2, 9104], y=[3327])"
      ]
     },
     "execution_count": 5,
     "metadata": {},
     "output_type": "execute_result"
    }
   ],
   "source": [
    "data = dataset[0]\n",
    "data.train_mask = data.val_mask = data.test_mask = None\n",
    "data"
   ]
  },
  {
   "cell_type": "code",
   "execution_count": 6,
   "metadata": {},
   "outputs": [
    {
     "name": "stderr",
     "output_type": "stream",
     "text": [
      "/usr/local/lib/python3.10/dist-packages/torch_geometric/deprecation.py:26: UserWarning: 'train_test_split_edges' is deprecated, use 'transforms.RandomLinkSplit' instead\n",
      "  warnings.warn(out)\n"
     ]
    }
   ],
   "source": [
    "data = train_test_split_edges(data)"
   ]
  },
  {
   "cell_type": "code",
   "execution_count": 7,
   "metadata": {},
   "outputs": [
    {
     "data": {
      "text/plain": [
       "Data(x=[3327, 3703], y=[3327], val_pos_edge_index=[2, 227], test_pos_edge_index=[2, 455], train_pos_edge_index=[2, 7740], train_neg_adj_mask=[3327, 3327], val_neg_edge_index=[2, 227], test_neg_edge_index=[2, 455])"
      ]
     },
     "execution_count": 7,
     "metadata": {},
     "output_type": "execute_result"
    }
   ],
   "source": [
    "data"
   ]
  },
  {
   "cell_type": "code",
   "execution_count": null,
   "metadata": {},
   "outputs": [],
   "source": []
  },
  {
   "cell_type": "markdown",
   "metadata": {},
   "source": [
    "### Define the Encoder"
   ]
  },
  {
   "cell_type": "code",
   "execution_count": 8,
   "metadata": {},
   "outputs": [],
   "source": [
    "class GCNEncoder(torch.nn.Module):\n",
    "    def __init__(self, in_channels, out_channels):\n",
    "        super(GCNEncoder, self).__init__()\n",
    "        self.conv1 = GCNConv(in_channels, 2 * out_channels, cached=True) # cached only for transductive learning\n",
    "        self.conv2 = GCNConv(2 * out_channels, out_channels, cached=True) # cached only for transductive learning\n",
    "\n",
    "    def forward(self, x, edge_index):\n",
    "        x = self.conv1(x, edge_index).relu()\n",
    "        return self.conv2(x, edge_index)\n",
    "    "
   ]
  },
  {
   "cell_type": "markdown",
   "metadata": {},
   "source": [
    "### Define the Autoencoder"
   ]
  },
  {
   "cell_type": "code",
   "execution_count": 9,
   "metadata": {},
   "outputs": [],
   "source": [
    "from torch_geometric.nn import GAE"
   ]
  },
  {
   "cell_type": "code",
   "execution_count": 10,
   "metadata": {},
   "outputs": [
    {
     "name": "stderr",
     "output_type": "stream",
     "text": [
      "============================= HABANA PT BRIDGE CONFIGURATION =========================== \n",
      " PT_HPU_LAZY_MODE = 0\n",
      " PT_RECIPE_CACHE_PATH = \n",
      " PT_CACHE_FOLDER_DELETE = 0\n",
      " PT_HPU_RECIPE_CACHE_CONFIG = \n",
      " PT_HPU_MAX_COMPOUND_OP_SIZE = 9223372036854775807\n",
      " PT_HPU_LAZY_ACC_PAR_MODE = 1\n",
      " PT_HPU_ENABLE_REFINE_DYNAMIC_SHAPES = 0\n",
      " PT_HPU_EAGER_PIPELINE_ENABLE = 1\n",
      " PT_HPU_EAGER_COLLECTIVE_PIPELINE_ENABLE = 1\n",
      "---------------------------: System Configuration :---------------------------\n",
      "Num CPU Cores : 160\n",
      "CPU RAM       : 2113407800 KB\n",
      "------------------------------------------------------------------------------\n"
     ]
    }
   ],
   "source": [
    "# parameters\n",
    "out_channels = 2\n",
    "num_features = dataset.num_features\n",
    "epochs = 100\n",
    "\n",
    "# model\n",
    "model = GAE(GCNEncoder(num_features, out_channels))\n",
    "\n",
    "# move to GPU (if available)\n",
    "# device = torch.device('cuda' if torch.cuda.is_available() else 'cpu')\n",
    "device = torch.device(\"hpu\")\n",
    "model = model.to(device)\n",
    "x = data.x.to(device)\n",
    "train_pos_edge_index = data.train_pos_edge_index.to(device)\n",
    "\n",
    "# inizialize the optimizer\n",
    "optimizer = torch.optim.Adam(model.parameters(), lr=0.01)"
   ]
  },
  {
   "cell_type": "code",
   "execution_count": 12,
   "metadata": {},
   "outputs": [],
   "source": [
    "def train():\n",
    "    model.train()\n",
    "    optimizer.zero_grad()\n",
    "    z = model.encode(x, train_pos_edge_index)\n",
    "    loss = model.recon_loss(z, train_pos_edge_index)\n",
    "    #if args.variational:\n",
    "    #   loss = loss + (1 / data.num_nodes) * model.kl_loss()\n",
    "    loss.backward()\n",
    "    optimizer.step()\n",
    "    return float(loss)\n",
    "\n",
    "\n",
    "def test(pos_edge_index, neg_edge_index):\n",
    "    model.eval()\n",
    "    with torch.no_grad():\n",
    "        z = model.encode(x, train_pos_edge_index)\n",
    "    return model.test(z, pos_edge_index, neg_edge_index)\n",
    "\n"
   ]
  },
  {
   "cell_type": "code",
   "execution_count": 13,
   "metadata": {
    "scrolled": true
   },
   "outputs": [
    {
     "name": "stdout",
     "output_type": "stream",
     "text": [
      "Epoch: 001, AUC: 0.6150, AP: 0.6365\n",
      "Epoch: 002, AUC: 0.6266, AP: 0.6473\n",
      "Epoch: 003, AUC: 0.6295, AP: 0.6512\n",
      "Epoch: 004, AUC: 0.6271, AP: 0.6491\n",
      "Epoch: 005, AUC: 0.6279, AP: 0.6498\n",
      "Epoch: 006, AUC: 0.6285, AP: 0.6506\n",
      "Epoch: 007, AUC: 0.6292, AP: 0.6512\n",
      "Epoch: 008, AUC: 0.6294, AP: 0.6517\n",
      "Epoch: 009, AUC: 0.6299, AP: 0.6524\n",
      "Epoch: 010, AUC: 0.6306, AP: 0.6535\n",
      "Epoch: 011, AUC: 0.6317, AP: 0.6554\n",
      "Epoch: 012, AUC: 0.6338, AP: 0.6586\n",
      "Epoch: 013, AUC: 0.6357, AP: 0.6621\n",
      "Epoch: 014, AUC: 0.6377, AP: 0.6663\n",
      "Epoch: 015, AUC: 0.6398, AP: 0.6708\n",
      "Epoch: 016, AUC: 0.6419, AP: 0.6758\n",
      "Epoch: 017, AUC: 0.6437, AP: 0.6814\n",
      "Epoch: 018, AUC: 0.6453, AP: 0.6870\n",
      "Epoch: 019, AUC: 0.6466, AP: 0.6920\n",
      "Epoch: 020, AUC: 0.6470, AP: 0.6963\n",
      "Epoch: 021, AUC: 0.6484, AP: 0.7008\n",
      "Epoch: 022, AUC: 0.6485, AP: 0.7043\n",
      "Epoch: 023, AUC: 0.6492, AP: 0.7079\n",
      "Epoch: 024, AUC: 0.6500, AP: 0.7109\n",
      "Epoch: 025, AUC: 0.6504, AP: 0.7133\n",
      "Epoch: 026, AUC: 0.6508, AP: 0.7154\n",
      "Epoch: 027, AUC: 0.6508, AP: 0.7164\n",
      "Epoch: 028, AUC: 0.6511, AP: 0.7176\n",
      "Epoch: 029, AUC: 0.6512, AP: 0.7185\n",
      "Epoch: 030, AUC: 0.6514, AP: 0.7195\n",
      "Epoch: 031, AUC: 0.6517, AP: 0.7206\n",
      "Epoch: 032, AUC: 0.6518, AP: 0.7217\n",
      "Epoch: 033, AUC: 0.6520, AP: 0.7228\n",
      "Epoch: 034, AUC: 0.6522, AP: 0.7242\n",
      "Epoch: 035, AUC: 0.6524, AP: 0.7255\n",
      "Epoch: 036, AUC: 0.6528, AP: 0.7273\n",
      "Epoch: 037, AUC: 0.6529, AP: 0.7285\n",
      "Epoch: 038, AUC: 0.6530, AP: 0.7295\n",
      "Epoch: 039, AUC: 0.6532, AP: 0.7310\n",
      "Epoch: 040, AUC: 0.6532, AP: 0.7321\n",
      "Epoch: 041, AUC: 0.6533, AP: 0.7330\n",
      "Epoch: 042, AUC: 0.6535, AP: 0.7336\n",
      "Epoch: 043, AUC: 0.6538, AP: 0.7344\n",
      "Epoch: 044, AUC: 0.6542, AP: 0.7350\n",
      "Epoch: 045, AUC: 0.6547, AP: 0.7357\n",
      "Epoch: 046, AUC: 0.6550, AP: 0.7363\n",
      "Epoch: 047, AUC: 0.6553, AP: 0.7366\n",
      "Epoch: 048, AUC: 0.6559, AP: 0.7374\n",
      "Epoch: 049, AUC: 0.6564, AP: 0.7377\n",
      "Epoch: 050, AUC: 0.6567, AP: 0.7379\n",
      "Epoch: 051, AUC: 0.6570, AP: 0.7384\n",
      "Epoch: 052, AUC: 0.6572, AP: 0.7388\n",
      "Epoch: 053, AUC: 0.6575, AP: 0.7392\n",
      "Epoch: 054, AUC: 0.6577, AP: 0.7395\n",
      "Epoch: 055, AUC: 0.6577, AP: 0.7397\n",
      "Epoch: 056, AUC: 0.6575, AP: 0.7400\n",
      "Epoch: 057, AUC: 0.6570, AP: 0.7401\n",
      "Epoch: 058, AUC: 0.6570, AP: 0.7405\n",
      "Epoch: 059, AUC: 0.6570, AP: 0.7408\n",
      "Epoch: 060, AUC: 0.6571, AP: 0.7410\n",
      "Epoch: 061, AUC: 0.6573, AP: 0.7413\n",
      "Epoch: 062, AUC: 0.6574, AP: 0.7415\n",
      "Epoch: 063, AUC: 0.6580, AP: 0.7419\n",
      "Epoch: 064, AUC: 0.6582, AP: 0.7421\n",
      "Epoch: 065, AUC: 0.6588, AP: 0.7425\n",
      "Epoch: 066, AUC: 0.6589, AP: 0.7427\n",
      "Epoch: 067, AUC: 0.6593, AP: 0.7431\n",
      "Epoch: 068, AUC: 0.6599, AP: 0.7436\n",
      "Epoch: 069, AUC: 0.6606, AP: 0.7440\n",
      "Epoch: 070, AUC: 0.6613, AP: 0.7445\n",
      "Epoch: 071, AUC: 0.6631, AP: 0.7456\n",
      "Epoch: 072, AUC: 0.6711, AP: 0.7482\n",
      "Epoch: 073, AUC: 0.6972, AP: 0.7564\n",
      "Epoch: 074, AUC: 0.7002, AP: 0.7579\n",
      "Epoch: 075, AUC: 0.7033, AP: 0.7593\n",
      "Epoch: 076, AUC: 0.7094, AP: 0.7618\n",
      "Epoch: 077, AUC: 0.7152, AP: 0.7641\n",
      "Epoch: 078, AUC: 0.7175, AP: 0.7653\n",
      "Epoch: 079, AUC: 0.7190, AP: 0.7659\n",
      "Epoch: 080, AUC: 0.7209, AP: 0.7668\n",
      "Epoch: 081, AUC: 0.7241, AP: 0.7684\n",
      "Epoch: 082, AUC: 0.7287, AP: 0.7706\n",
      "Epoch: 083, AUC: 0.7337, AP: 0.7731\n",
      "Epoch: 084, AUC: 0.7392, AP: 0.7759\n",
      "Epoch: 085, AUC: 0.7457, AP: 0.7789\n",
      "Epoch: 086, AUC: 0.7506, AP: 0.7815\n",
      "Epoch: 087, AUC: 0.7520, AP: 0.7821\n",
      "Epoch: 088, AUC: 0.7532, AP: 0.7824\n",
      "Epoch: 089, AUC: 0.7548, AP: 0.7830\n",
      "Epoch: 090, AUC: 0.7566, AP: 0.7836\n",
      "Epoch: 091, AUC: 0.7584, AP: 0.7845\n",
      "Epoch: 092, AUC: 0.7602, AP: 0.7856\n",
      "Epoch: 093, AUC: 0.7620, AP: 0.7865\n",
      "Epoch: 094, AUC: 0.7630, AP: 0.7871\n",
      "Epoch: 095, AUC: 0.7650, AP: 0.7882\n",
      "Epoch: 096, AUC: 0.7670, AP: 0.7895\n",
      "Epoch: 097, AUC: 0.7692, AP: 0.7908\n",
      "Epoch: 098, AUC: 0.7712, AP: 0.7918\n",
      "Epoch: 099, AUC: 0.7738, AP: 0.7934\n",
      "Epoch: 100, AUC: 0.7746, AP: 0.7936\n"
     ]
    }
   ],
   "source": [
    "model.train()\n",
    "model = torch.compile(model, backend=\"hpu_backend\")\n",
    "\n",
    "for epoch in range(1, epochs + 1):\n",
    "    loss = train()\n",
    "    auc, ap = test(data.test_pos_edge_index, data.test_neg_edge_index)\n",
    "    print('Epoch: {:03d}, AUC: {:.4f}, AP: {:.4f}'.format(epoch, auc, ap))"
   ]
  },
  {
   "cell_type": "code",
   "execution_count": 25,
   "metadata": {},
   "outputs": [
    {
     "data": {
      "text/plain": [
       "tensor([[ 0.1883, -0.3782],\n",
       "        [-0.2293,  1.1419],\n",
       "        [ 0.1883, -0.3782],\n",
       "        ...,\n",
       "        [-0.0636,  0.6200],\n",
       "        [ 0.1883, -0.3782],\n",
       "        [ 0.1883, -0.3782]], device='hpu:0', grad_fn=<AddBackward0>)"
      ]
     },
     "execution_count": 25,
     "metadata": {},
     "output_type": "execute_result"
    }
   ],
   "source": [
    "Z = model.encode(x, train_pos_edge_index)\n",
    "Z"
   ]
  },
  {
   "cell_type": "code",
   "execution_count": null,
   "metadata": {},
   "outputs": [],
   "source": []
  },
  {
   "cell_type": "code",
   "execution_count": null,
   "metadata": {},
   "outputs": [],
   "source": []
  },
  {
   "cell_type": "code",
   "execution_count": null,
   "metadata": {},
   "outputs": [],
   "source": []
  },
  {
   "cell_type": "markdown",
   "metadata": {},
   "source": [
    "## Are the results (AUC) and (AP) easy to read and compare?"
   ]
  },
  {
   "cell_type": "markdown",
   "metadata": {},
   "source": [
    "# Use Tensorboard"
   ]
  },
  {
   "cell_type": "code",
   "execution_count": 26,
   "metadata": {},
   "outputs": [],
   "source": [
    "from torch.utils.tensorboard import SummaryWriter"
   ]
  },
  {
   "cell_type": "code",
   "execution_count": 27,
   "metadata": {},
   "outputs": [],
   "source": [
    "# parameters\n",
    "out_channels = 2\n",
    "num_features = dataset.num_features\n",
    "epochs = 100\n",
    "\n",
    "# model\n",
    "model = GAE(GCNEncoder(num_features, out_channels))\n",
    "\n",
    "# move to GPU (if available)\n",
    "# device = torch.device('cuda' if torch.cuda.is_available() else 'cpu')\n",
    "device = torch.device('hpu')\n",
    "model = model.to(device)\n",
    "x = data.x.to(device)\n",
    "train_pos_edge_index = data.train_pos_edge_index.to(device)\n",
    "\n",
    "# inizialize the optimizer\n",
    "optimizer = torch.optim.Adam(model.parameters(), lr=0.01)"
   ]
  },
  {
   "cell_type": "markdown",
   "metadata": {},
   "source": [
    "### Import tensorboard\n",
    "\n",
    "#### Installation: (if needed) \"pip install tensorboard\""
   ]
  },
  {
   "cell_type": "code",
   "execution_count": 28,
   "metadata": {},
   "outputs": [],
   "source": [
    "writer = SummaryWriter('runs/GAE1_experiment_'+'2d_100_epochs')"
   ]
  },
  {
   "cell_type": "code",
   "execution_count": 29,
   "metadata": {
    "scrolled": true
   },
   "outputs": [
    {
     "name": "stdout",
     "output_type": "stream",
     "text": [
      "Epoch: 001, AUC: 0.6138, AP: 0.6300\n",
      "Epoch: 002, AUC: 0.6327, AP: 0.6525\n",
      "Epoch: 003, AUC: 0.6329, AP: 0.6523\n",
      "Epoch: 004, AUC: 0.6336, AP: 0.6534\n",
      "Epoch: 005, AUC: 0.6335, AP: 0.6539\n",
      "Epoch: 006, AUC: 0.6336, AP: 0.6543\n",
      "Epoch: 007, AUC: 0.6332, AP: 0.6544\n",
      "Epoch: 008, AUC: 0.6334, AP: 0.6546\n",
      "Epoch: 009, AUC: 0.6332, AP: 0.6546\n",
      "Epoch: 010, AUC: 0.6330, AP: 0.6547\n",
      "Epoch: 011, AUC: 0.6329, AP: 0.6549\n",
      "Epoch: 012, AUC: 0.6327, AP: 0.6551\n",
      "Epoch: 013, AUC: 0.6333, AP: 0.6560\n",
      "Epoch: 014, AUC: 0.6342, AP: 0.6578\n",
      "Epoch: 015, AUC: 0.6353, AP: 0.6602\n",
      "Epoch: 016, AUC: 0.6368, AP: 0.6634\n",
      "Epoch: 017, AUC: 0.6383, AP: 0.6671\n",
      "Epoch: 018, AUC: 0.6400, AP: 0.6710\n",
      "Epoch: 019, AUC: 0.6418, AP: 0.6753\n",
      "Epoch: 020, AUC: 0.6432, AP: 0.6797\n",
      "Epoch: 021, AUC: 0.6439, AP: 0.6838\n",
      "Epoch: 022, AUC: 0.6450, AP: 0.6882\n",
      "Epoch: 023, AUC: 0.6454, AP: 0.6921\n",
      "Epoch: 024, AUC: 0.6460, AP: 0.6956\n",
      "Epoch: 025, AUC: 0.6460, AP: 0.6987\n",
      "Epoch: 026, AUC: 0.6465, AP: 0.7016\n",
      "Epoch: 027, AUC: 0.6469, AP: 0.7045\n",
      "Epoch: 028, AUC: 0.6472, AP: 0.7064\n",
      "Epoch: 029, AUC: 0.6476, AP: 0.7084\n",
      "Epoch: 030, AUC: 0.6479, AP: 0.7102\n",
      "Epoch: 031, AUC: 0.6481, AP: 0.7114\n",
      "Epoch: 032, AUC: 0.6483, AP: 0.7125\n",
      "Epoch: 033, AUC: 0.6484, AP: 0.7136\n",
      "Epoch: 034, AUC: 0.6485, AP: 0.7143\n",
      "Epoch: 035, AUC: 0.6488, AP: 0.7153\n",
      "Epoch: 036, AUC: 0.6493, AP: 0.7169\n",
      "Epoch: 037, AUC: 0.6495, AP: 0.7183\n",
      "Epoch: 038, AUC: 0.6495, AP: 0.7195\n",
      "Epoch: 039, AUC: 0.6495, AP: 0.7208\n",
      "Epoch: 040, AUC: 0.6498, AP: 0.7224\n",
      "Epoch: 041, AUC: 0.6498, AP: 0.7237\n",
      "Epoch: 042, AUC: 0.6500, AP: 0.7250\n",
      "Epoch: 043, AUC: 0.6502, AP: 0.7263\n",
      "Epoch: 044, AUC: 0.6503, AP: 0.7273\n",
      "Epoch: 045, AUC: 0.6507, AP: 0.7285\n",
      "Epoch: 046, AUC: 0.6511, AP: 0.7298\n",
      "Epoch: 047, AUC: 0.6511, AP: 0.7302\n",
      "Epoch: 048, AUC: 0.6513, AP: 0.7310\n",
      "Epoch: 049, AUC: 0.6515, AP: 0.7316\n",
      "Epoch: 050, AUC: 0.6518, AP: 0.7322\n",
      "Epoch: 051, AUC: 0.6523, AP: 0.7328\n",
      "Epoch: 052, AUC: 0.6527, AP: 0.7336\n",
      "Epoch: 053, AUC: 0.6530, AP: 0.7339\n",
      "Epoch: 054, AUC: 0.6534, AP: 0.7342\n",
      "Epoch: 055, AUC: 0.6540, AP: 0.7350\n",
      "Epoch: 056, AUC: 0.6543, AP: 0.7357\n",
      "Epoch: 057, AUC: 0.6546, AP: 0.7360\n",
      "Epoch: 058, AUC: 0.6550, AP: 0.7363\n",
      "Epoch: 059, AUC: 0.6556, AP: 0.7370\n",
      "Epoch: 060, AUC: 0.6562, AP: 0.7373\n",
      "Epoch: 061, AUC: 0.6564, AP: 0.7377\n",
      "Epoch: 062, AUC: 0.6563, AP: 0.7378\n",
      "Epoch: 063, AUC: 0.6560, AP: 0.7379\n",
      "Epoch: 064, AUC: 0.6557, AP: 0.7380\n",
      "Epoch: 065, AUC: 0.6554, AP: 0.7381\n",
      "Epoch: 066, AUC: 0.6552, AP: 0.7383\n",
      "Epoch: 067, AUC: 0.6554, AP: 0.7386\n",
      "Epoch: 068, AUC: 0.6555, AP: 0.7388\n",
      "Epoch: 069, AUC: 0.6557, AP: 0.7389\n",
      "Epoch: 070, AUC: 0.6558, AP: 0.7391\n",
      "Epoch: 071, AUC: 0.6561, AP: 0.7395\n",
      "Epoch: 072, AUC: 0.6566, AP: 0.7400\n",
      "Epoch: 073, AUC: 0.6572, AP: 0.7405\n",
      "Epoch: 074, AUC: 0.6577, AP: 0.7410\n",
      "Epoch: 075, AUC: 0.6583, AP: 0.7414\n",
      "Epoch: 076, AUC: 0.6589, AP: 0.7422\n",
      "Epoch: 077, AUC: 0.6603, AP: 0.7430\n",
      "Epoch: 078, AUC: 0.6668, AP: 0.7452\n",
      "Epoch: 079, AUC: 0.6925, AP: 0.7529\n",
      "Epoch: 080, AUC: 0.6974, AP: 0.7551\n",
      "Epoch: 081, AUC: 0.7008, AP: 0.7568\n",
      "Epoch: 082, AUC: 0.7033, AP: 0.7580\n",
      "Epoch: 083, AUC: 0.7082, AP: 0.7603\n",
      "Epoch: 084, AUC: 0.7156, AP: 0.7634\n",
      "Epoch: 085, AUC: 0.7192, AP: 0.7651\n",
      "Epoch: 086, AUC: 0.7251, AP: 0.7678\n",
      "Epoch: 087, AUC: 0.7310, AP: 0.7708\n",
      "Epoch: 088, AUC: 0.7349, AP: 0.7728\n",
      "Epoch: 089, AUC: 0.7385, AP: 0.7744\n",
      "Epoch: 090, AUC: 0.7417, AP: 0.7760\n",
      "Epoch: 091, AUC: 0.7440, AP: 0.7768\n",
      "Epoch: 092, AUC: 0.7469, AP: 0.7784\n",
      "Epoch: 093, AUC: 0.7501, AP: 0.7801\n",
      "Epoch: 094, AUC: 0.7544, AP: 0.7824\n",
      "Epoch: 095, AUC: 0.7579, AP: 0.7843\n",
      "Epoch: 096, AUC: 0.7608, AP: 0.7858\n",
      "Epoch: 097, AUC: 0.7634, AP: 0.7874\n",
      "Epoch: 098, AUC: 0.7665, AP: 0.7894\n",
      "Epoch: 099, AUC: 0.7691, AP: 0.7910\n",
      "Epoch: 100, AUC: 0.7717, AP: 0.7926\n"
     ]
    }
   ],
   "source": [
    "model.train()\n",
    "model = torch.compile(model, backend=\"hpu_backend\")\n",
    "\n",
    "for epoch in range(1, epochs + 1):\n",
    "    loss = train()\n",
    "    auc, ap = test(data.test_pos_edge_index, data.test_neg_edge_index)\n",
    "    print('Epoch: {:03d}, AUC: {:.4f}, AP: {:.4f}'.format(epoch, auc, ap))\n",
    "    \n",
    "    \n",
    "    writer.add_scalar('auc train',auc,epoch) # new line\n",
    "    writer.add_scalar('ap train',ap,epoch)   # new line"
   ]
  },
  {
   "cell_type": "code",
   "execution_count": null,
   "metadata": {},
   "outputs": [],
   "source": []
  },
  {
   "cell_type": "markdown",
   "metadata": {},
   "source": [
    "## Graph Variational AutoEncoder (GVAE)"
   ]
  },
  {
   "cell_type": "code",
   "execution_count": 30,
   "metadata": {},
   "outputs": [],
   "source": [
    "from torch_geometric.nn import VGAE"
   ]
  },
  {
   "cell_type": "code",
   "execution_count": 31,
   "metadata": {},
   "outputs": [
    {
     "name": "stderr",
     "output_type": "stream",
     "text": [
      "/usr/local/lib/python3.10/dist-packages/torch_geometric/deprecation.py:26: UserWarning: 'train_test_split_edges' is deprecated, use 'transforms.RandomLinkSplit' instead\n",
      "  warnings.warn(out)\n"
     ]
    }
   ],
   "source": [
    "dataset = Planetoid(\"data\", \"CiteSeer\", transform=T.NormalizeFeatures())\n",
    "data = dataset[0]\n",
    "data.train_mask = data.val_mask = data.test_mask = data.y = None\n",
    "data = train_test_split_edges(data)\n",
    "\n",
    "\n",
    "class VariationalGCNEncoder(torch.nn.Module):\n",
    "    def __init__(self, in_channels, out_channels):\n",
    "        super(VariationalGCNEncoder, self).__init__()\n",
    "        self.conv1 = GCNConv(in_channels, 2 * out_channels, cached=True) # cached only for transductive learning\n",
    "        self.conv_mu = GCNConv(2 * out_channels, out_channels, cached=True)\n",
    "        self.conv_logstd = GCNConv(2 * out_channels, out_channels, cached=True)\n",
    "\n",
    "    def forward(self, x, edge_index):\n",
    "        x = self.conv1(x, edge_index).relu()\n",
    "        return self.conv_mu(x, edge_index), self.conv_logstd(x, edge_index)"
   ]
  },
  {
   "cell_type": "code",
   "execution_count": 32,
   "metadata": {},
   "outputs": [],
   "source": [
    "out_channels = 2\n",
    "num_features = dataset.num_features\n",
    "epochs = 300\n",
    "\n",
    "\n",
    "model = VGAE(VariationalGCNEncoder(num_features, out_channels))  # new line\n",
    "\n",
    "# device = torch.device('cuda' if torch.cuda.is_available() else 'cpu')\n",
    "device = torch.device('hpu')\n",
    "model = model.to(device)\n",
    "x = data.x.to(device)\n",
    "train_pos_edge_index = data.train_pos_edge_index.to(device)\n",
    "optimizer = torch.optim.Adam(model.parameters(), lr=0.01)"
   ]
  },
  {
   "cell_type": "code",
   "execution_count": 33,
   "metadata": {},
   "outputs": [],
   "source": [
    "def train():\n",
    "    model.train()\n",
    "    optimizer.zero_grad()\n",
    "    z = model.encode(x, train_pos_edge_index)\n",
    "    loss = model.recon_loss(z, train_pos_edge_index)\n",
    "    \n",
    "    loss = loss + (1 / data.num_nodes) * model.kl_loss()  # new line\n",
    "    loss.backward()\n",
    "    optimizer.step()\n",
    "    return float(loss)\n",
    "\n",
    "\n",
    "def test(pos_edge_index, neg_edge_index):\n",
    "    model.eval()\n",
    "    with torch.no_grad():\n",
    "        z = model.encode(x, train_pos_edge_index)\n",
    "    return model.test(z, pos_edge_index, neg_edge_index)"
   ]
  },
  {
   "cell_type": "code",
   "execution_count": 34,
   "metadata": {
    "scrolled": true
   },
   "outputs": [
    {
     "name": "stdout",
     "output_type": "stream",
     "text": [
      "Epoch: 001, AUC: 0.6046, AP: 0.6447\n",
      "Epoch: 002, AUC: 0.6140, AP: 0.6550\n",
      "Epoch: 003, AUC: 0.6167, AP: 0.6579\n",
      "Epoch: 004, AUC: 0.6183, AP: 0.6585\n",
      "Epoch: 005, AUC: 0.6203, AP: 0.6594\n",
      "Epoch: 006, AUC: 0.6219, AP: 0.6609\n",
      "Epoch: 007, AUC: 0.6231, AP: 0.6616\n",
      "Epoch: 008, AUC: 0.6241, AP: 0.6622\n",
      "Epoch: 009, AUC: 0.6246, AP: 0.6623\n",
      "Epoch: 010, AUC: 0.6252, AP: 0.6627\n",
      "Epoch: 011, AUC: 0.6258, AP: 0.6628\n",
      "Epoch: 012, AUC: 0.6262, AP: 0.6630\n",
      "Epoch: 013, AUC: 0.6266, AP: 0.6635\n",
      "Epoch: 014, AUC: 0.6269, AP: 0.6638\n",
      "Epoch: 015, AUC: 0.6271, AP: 0.6641\n",
      "Epoch: 016, AUC: 0.6275, AP: 0.6645\n",
      "Epoch: 017, AUC: 0.6278, AP: 0.6649\n",
      "Epoch: 018, AUC: 0.6283, AP: 0.6658\n",
      "Epoch: 019, AUC: 0.6288, AP: 0.6664\n",
      "Epoch: 020, AUC: 0.6290, AP: 0.6668\n",
      "Epoch: 021, AUC: 0.6294, AP: 0.6674\n",
      "Epoch: 022, AUC: 0.6299, AP: 0.6679\n",
      "Epoch: 023, AUC: 0.6302, AP: 0.6685\n",
      "Epoch: 024, AUC: 0.6309, AP: 0.6691\n",
      "Epoch: 025, AUC: 0.6313, AP: 0.6697\n",
      "Epoch: 026, AUC: 0.6316, AP: 0.6702\n",
      "Epoch: 027, AUC: 0.6318, AP: 0.6705\n",
      "Epoch: 028, AUC: 0.6319, AP: 0.6708\n",
      "Epoch: 029, AUC: 0.6322, AP: 0.6714\n",
      "Epoch: 030, AUC: 0.6325, AP: 0.6722\n",
      "Epoch: 031, AUC: 0.6326, AP: 0.6730\n",
      "Epoch: 032, AUC: 0.6322, AP: 0.6731\n",
      "Epoch: 033, AUC: 0.6322, AP: 0.6737\n",
      "Epoch: 034, AUC: 0.6320, AP: 0.6744\n",
      "Epoch: 035, AUC: 0.6316, AP: 0.6750\n",
      "Epoch: 036, AUC: 0.6315, AP: 0.6757\n",
      "Epoch: 037, AUC: 0.6317, AP: 0.6767\n",
      "Epoch: 038, AUC: 0.6313, AP: 0.6769\n",
      "Epoch: 039, AUC: 0.6311, AP: 0.6773\n",
      "Epoch: 040, AUC: 0.6308, AP: 0.6774\n",
      "Epoch: 041, AUC: 0.6307, AP: 0.6777\n",
      "Epoch: 042, AUC: 0.6306, AP: 0.6780\n",
      "Epoch: 043, AUC: 0.6306, AP: 0.6785\n",
      "Epoch: 044, AUC: 0.6304, AP: 0.6789\n",
      "Epoch: 045, AUC: 0.6301, AP: 0.6790\n",
      "Epoch: 046, AUC: 0.6300, AP: 0.6798\n",
      "Epoch: 047, AUC: 0.6296, AP: 0.6802\n",
      "Epoch: 048, AUC: 0.6290, AP: 0.6804\n",
      "Epoch: 049, AUC: 0.6286, AP: 0.6806\n",
      "Epoch: 050, AUC: 0.6285, AP: 0.6816\n",
      "Epoch: 051, AUC: 0.6281, AP: 0.6819\n",
      "Epoch: 052, AUC: 0.6280, AP: 0.6825\n",
      "Epoch: 053, AUC: 0.6274, AP: 0.6824\n",
      "Epoch: 054, AUC: 0.6270, AP: 0.6828\n",
      "Epoch: 055, AUC: 0.6269, AP: 0.6834\n",
      "Epoch: 056, AUC: 0.6268, AP: 0.6836\n",
      "Epoch: 057, AUC: 0.6266, AP: 0.6839\n",
      "Epoch: 058, AUC: 0.6262, AP: 0.6841\n",
      "Epoch: 059, AUC: 0.6258, AP: 0.6844\n",
      "Epoch: 060, AUC: 0.6252, AP: 0.6845\n",
      "Epoch: 061, AUC: 0.6252, AP: 0.6851\n",
      "Epoch: 062, AUC: 0.6249, AP: 0.6855\n",
      "Epoch: 063, AUC: 0.6246, AP: 0.6859\n",
      "Epoch: 064, AUC: 0.6242, AP: 0.6859\n",
      "Epoch: 065, AUC: 0.6242, AP: 0.6865\n",
      "Epoch: 066, AUC: 0.6242, AP: 0.6871\n",
      "Epoch: 067, AUC: 0.6243, AP: 0.6876\n",
      "Epoch: 068, AUC: 0.6244, AP: 0.6880\n",
      "Epoch: 069, AUC: 0.6244, AP: 0.6885\n",
      "Epoch: 070, AUC: 0.6242, AP: 0.6886\n",
      "Epoch: 071, AUC: 0.6243, AP: 0.6889\n",
      "Epoch: 072, AUC: 0.6245, AP: 0.6891\n",
      "Epoch: 073, AUC: 0.6245, AP: 0.6893\n",
      "Epoch: 074, AUC: 0.6246, AP: 0.6897\n",
      "Epoch: 075, AUC: 0.6247, AP: 0.6900\n",
      "Epoch: 076, AUC: 0.6250, AP: 0.6904\n",
      "Epoch: 077, AUC: 0.6250, AP: 0.6906\n",
      "Epoch: 078, AUC: 0.6252, AP: 0.6910\n",
      "Epoch: 079, AUC: 0.6255, AP: 0.6914\n",
      "Epoch: 080, AUC: 0.6259, AP: 0.6917\n",
      "Epoch: 081, AUC: 0.6261, AP: 0.6919\n",
      "Epoch: 082, AUC: 0.6267, AP: 0.6924\n",
      "Epoch: 083, AUC: 0.6272, AP: 0.6926\n",
      "Epoch: 084, AUC: 0.6281, AP: 0.6933\n",
      "Epoch: 085, AUC: 0.6287, AP: 0.6937\n",
      "Epoch: 086, AUC: 0.6295, AP: 0.6942\n",
      "Epoch: 087, AUC: 0.6305, AP: 0.6946\n",
      "Epoch: 088, AUC: 0.6318, AP: 0.6953\n",
      "Epoch: 089, AUC: 0.6335, AP: 0.6963\n",
      "Epoch: 090, AUC: 0.6351, AP: 0.6971\n",
      "Epoch: 091, AUC: 0.6369, AP: 0.6981\n",
      "Epoch: 092, AUC: 0.6388, AP: 0.6990\n",
      "Epoch: 093, AUC: 0.6414, AP: 0.7004\n",
      "Epoch: 094, AUC: 0.6441, AP: 0.7015\n",
      "Epoch: 095, AUC: 0.6464, AP: 0.7029\n",
      "Epoch: 096, AUC: 0.6498, AP: 0.7043\n",
      "Epoch: 097, AUC: 0.6532, AP: 0.7060\n",
      "Epoch: 098, AUC: 0.6573, AP: 0.7083\n",
      "Epoch: 099, AUC: 0.6616, AP: 0.7103\n",
      "Epoch: 100, AUC: 0.6666, AP: 0.7128\n",
      "Epoch: 101, AUC: 0.6725, AP: 0.7160\n",
      "Epoch: 102, AUC: 0.6797, AP: 0.7195\n",
      "Epoch: 103, AUC: 0.6863, AP: 0.7231\n",
      "Epoch: 104, AUC: 0.6927, AP: 0.7265\n",
      "Epoch: 105, AUC: 0.6980, AP: 0.7295\n",
      "Epoch: 106, AUC: 0.7038, AP: 0.7330\n",
      "Epoch: 107, AUC: 0.7111, AP: 0.7371\n",
      "Epoch: 108, AUC: 0.7178, AP: 0.7412\n",
      "Epoch: 109, AUC: 0.7242, AP: 0.7455\n",
      "Epoch: 110, AUC: 0.7294, AP: 0.7492\n",
      "Epoch: 111, AUC: 0.7338, AP: 0.7521\n",
      "Epoch: 112, AUC: 0.7382, AP: 0.7551\n",
      "Epoch: 113, AUC: 0.7426, AP: 0.7583\n",
      "Epoch: 114, AUC: 0.7459, AP: 0.7606\n",
      "Epoch: 115, AUC: 0.7498, AP: 0.7634\n",
      "Epoch: 116, AUC: 0.7528, AP: 0.7651\n",
      "Epoch: 117, AUC: 0.7550, AP: 0.7665\n",
      "Epoch: 118, AUC: 0.7568, AP: 0.7674\n",
      "Epoch: 119, AUC: 0.7585, AP: 0.7682\n",
      "Epoch: 120, AUC: 0.7602, AP: 0.7689\n",
      "Epoch: 121, AUC: 0.7608, AP: 0.7689\n",
      "Epoch: 122, AUC: 0.7618, AP: 0.7692\n",
      "Epoch: 123, AUC: 0.7625, AP: 0.7692\n",
      "Epoch: 124, AUC: 0.7635, AP: 0.7696\n",
      "Epoch: 125, AUC: 0.7641, AP: 0.7695\n",
      "Epoch: 126, AUC: 0.7646, AP: 0.7691\n",
      "Epoch: 127, AUC: 0.7651, AP: 0.7688\n",
      "Epoch: 128, AUC: 0.7656, AP: 0.7687\n",
      "Epoch: 129, AUC: 0.7659, AP: 0.7682\n",
      "Epoch: 130, AUC: 0.7658, AP: 0.7671\n",
      "Epoch: 131, AUC: 0.7662, AP: 0.7669\n",
      "Epoch: 132, AUC: 0.7662, AP: 0.7661\n",
      "Epoch: 133, AUC: 0.7661, AP: 0.7652\n",
      "Epoch: 134, AUC: 0.7657, AP: 0.7643\n",
      "Epoch: 135, AUC: 0.7652, AP: 0.7631\n",
      "Epoch: 136, AUC: 0.7652, AP: 0.7626\n",
      "Epoch: 137, AUC: 0.7660, AP: 0.7632\n",
      "Epoch: 138, AUC: 0.7673, AP: 0.7653\n",
      "Epoch: 139, AUC: 0.7677, AP: 0.7657\n",
      "Epoch: 140, AUC: 0.7674, AP: 0.7649\n",
      "Epoch: 141, AUC: 0.7664, AP: 0.7631\n",
      "Epoch: 142, AUC: 0.7645, AP: 0.7600\n",
      "Epoch: 143, AUC: 0.7642, AP: 0.7592\n",
      "Epoch: 144, AUC: 0.7648, AP: 0.7597\n",
      "Epoch: 145, AUC: 0.7655, AP: 0.7608\n",
      "Epoch: 146, AUC: 0.7662, AP: 0.7614\n",
      "Epoch: 147, AUC: 0.7665, AP: 0.7616\n",
      "Epoch: 148, AUC: 0.7668, AP: 0.7622\n",
      "Epoch: 149, AUC: 0.7665, AP: 0.7611\n",
      "Epoch: 150, AUC: 0.7658, AP: 0.7599\n",
      "Epoch: 151, AUC: 0.7646, AP: 0.7577\n",
      "Epoch: 152, AUC: 0.7632, AP: 0.7554\n",
      "Epoch: 153, AUC: 0.7630, AP: 0.7549\n",
      "Epoch: 154, AUC: 0.7634, AP: 0.7554\n",
      "Epoch: 155, AUC: 0.7640, AP: 0.7561\n",
      "Epoch: 156, AUC: 0.7648, AP: 0.7580\n",
      "Epoch: 157, AUC: 0.7657, AP: 0.7599\n",
      "Epoch: 158, AUC: 0.7655, AP: 0.7598\n",
      "Epoch: 159, AUC: 0.7653, AP: 0.7591\n",
      "Epoch: 160, AUC: 0.7643, AP: 0.7569\n",
      "Epoch: 161, AUC: 0.7629, AP: 0.7539\n",
      "Epoch: 162, AUC: 0.7622, AP: 0.7525\n",
      "Epoch: 163, AUC: 0.7623, AP: 0.7526\n",
      "Epoch: 164, AUC: 0.7631, AP: 0.7540\n",
      "Epoch: 165, AUC: 0.7644, AP: 0.7568\n",
      "Epoch: 166, AUC: 0.7649, AP: 0.7574\n",
      "Epoch: 167, AUC: 0.7647, AP: 0.7570\n",
      "Epoch: 168, AUC: 0.7631, AP: 0.7540\n",
      "Epoch: 169, AUC: 0.7615, AP: 0.7511\n",
      "Epoch: 170, AUC: 0.7616, AP: 0.7513\n",
      "Epoch: 171, AUC: 0.7621, AP: 0.7526\n",
      "Epoch: 172, AUC: 0.7626, AP: 0.7534\n",
      "Epoch: 173, AUC: 0.7621, AP: 0.7526\n",
      "Epoch: 174, AUC: 0.7615, AP: 0.7517\n",
      "Epoch: 175, AUC: 0.7606, AP: 0.7502\n",
      "Epoch: 176, AUC: 0.7609, AP: 0.7506\n",
      "Epoch: 177, AUC: 0.7616, AP: 0.7520\n",
      "Epoch: 178, AUC: 0.7618, AP: 0.7523\n",
      "Epoch: 179, AUC: 0.7617, AP: 0.7523\n",
      "Epoch: 180, AUC: 0.7610, AP: 0.7514\n",
      "Epoch: 181, AUC: 0.7601, AP: 0.7500\n",
      "Epoch: 182, AUC: 0.7588, AP: 0.7480\n",
      "Epoch: 183, AUC: 0.7583, AP: 0.7474\n",
      "Epoch: 184, AUC: 0.7586, AP: 0.7479\n",
      "Epoch: 185, AUC: 0.7595, AP: 0.7496\n",
      "Epoch: 186, AUC: 0.7594, AP: 0.7495\n",
      "Epoch: 187, AUC: 0.7585, AP: 0.7485\n",
      "Epoch: 188, AUC: 0.7573, AP: 0.7469\n",
      "Epoch: 189, AUC: 0.7579, AP: 0.7482\n",
      "Epoch: 190, AUC: 0.7581, AP: 0.7487\n",
      "Epoch: 191, AUC: 0.7568, AP: 0.7472\n",
      "Epoch: 192, AUC: 0.7560, AP: 0.7462\n",
      "Epoch: 193, AUC: 0.7559, AP: 0.7462\n",
      "Epoch: 194, AUC: 0.7561, AP: 0.7466\n",
      "Epoch: 195, AUC: 0.7555, AP: 0.7461\n",
      "Epoch: 196, AUC: 0.7548, AP: 0.7453\n",
      "Epoch: 197, AUC: 0.7542, AP: 0.7441\n",
      "Epoch: 198, AUC: 0.7538, AP: 0.7437\n",
      "Epoch: 199, AUC: 0.7537, AP: 0.7434\n",
      "Epoch: 200, AUC: 0.7538, AP: 0.7436\n",
      "Epoch: 201, AUC: 0.7540, AP: 0.7439\n",
      "Epoch: 202, AUC: 0.7533, AP: 0.7429\n",
      "Epoch: 203, AUC: 0.7514, AP: 0.7405\n",
      "Epoch: 204, AUC: 0.7506, AP: 0.7393\n",
      "Epoch: 205, AUC: 0.7503, AP: 0.7390\n",
      "Epoch: 206, AUC: 0.7511, AP: 0.7401\n",
      "Epoch: 207, AUC: 0.7526, AP: 0.7420\n",
      "Epoch: 208, AUC: 0.7530, AP: 0.7425\n",
      "Epoch: 209, AUC: 0.7515, AP: 0.7406\n",
      "Epoch: 210, AUC: 0.7495, AP: 0.7377\n",
      "Epoch: 211, AUC: 0.7491, AP: 0.7366\n",
      "Epoch: 212, AUC: 0.7505, AP: 0.7385\n",
      "Epoch: 213, AUC: 0.7520, AP: 0.7406\n",
      "Epoch: 214, AUC: 0.7523, AP: 0.7409\n",
      "Epoch: 215, AUC: 0.7525, AP: 0.7412\n",
      "Epoch: 216, AUC: 0.7516, AP: 0.7397\n",
      "Epoch: 217, AUC: 0.7496, AP: 0.7367\n",
      "Epoch: 218, AUC: 0.7472, AP: 0.7329\n",
      "Epoch: 219, AUC: 0.7466, AP: 0.7318\n",
      "Epoch: 220, AUC: 0.7488, AP: 0.7354\n",
      "Epoch: 221, AUC: 0.7516, AP: 0.7397\n",
      "Epoch: 222, AUC: 0.7528, AP: 0.7410\n",
      "Epoch: 223, AUC: 0.7516, AP: 0.7396\n",
      "Epoch: 224, AUC: 0.7495, AP: 0.7363\n",
      "Epoch: 225, AUC: 0.7460, AP: 0.7309\n",
      "Epoch: 226, AUC: 0.7467, AP: 0.7318\n",
      "Epoch: 227, AUC: 0.7499, AP: 0.7369\n",
      "Epoch: 228, AUC: 0.7527, AP: 0.7411\n",
      "Epoch: 229, AUC: 0.7535, AP: 0.7421\n",
      "Epoch: 230, AUC: 0.7519, AP: 0.7401\n",
      "Epoch: 231, AUC: 0.7493, AP: 0.7367\n",
      "Epoch: 232, AUC: 0.7469, AP: 0.7330\n",
      "Epoch: 233, AUC: 0.7491, AP: 0.7362\n",
      "Epoch: 234, AUC: 0.7514, AP: 0.7400\n",
      "Epoch: 235, AUC: 0.7530, AP: 0.7418\n",
      "Epoch: 236, AUC: 0.7530, AP: 0.7420\n",
      "Epoch: 237, AUC: 0.7514, AP: 0.7400\n",
      "Epoch: 238, AUC: 0.7490, AP: 0.7363\n",
      "Epoch: 239, AUC: 0.7485, AP: 0.7353\n",
      "Epoch: 240, AUC: 0.7499, AP: 0.7379\n",
      "Epoch: 241, AUC: 0.7516, AP: 0.7400\n",
      "Epoch: 242, AUC: 0.7527, AP: 0.7413\n",
      "Epoch: 243, AUC: 0.7520, AP: 0.7406\n",
      "Epoch: 244, AUC: 0.7501, AP: 0.7382\n",
      "Epoch: 245, AUC: 0.7483, AP: 0.7355\n",
      "Epoch: 246, AUC: 0.7476, AP: 0.7344\n",
      "Epoch: 247, AUC: 0.7487, AP: 0.7361\n",
      "Epoch: 248, AUC: 0.7508, AP: 0.7389\n",
      "Epoch: 249, AUC: 0.7519, AP: 0.7400\n",
      "Epoch: 250, AUC: 0.7511, AP: 0.7391\n",
      "Epoch: 251, AUC: 0.7493, AP: 0.7371\n",
      "Epoch: 252, AUC: 0.7474, AP: 0.7347\n",
      "Epoch: 253, AUC: 0.7462, AP: 0.7322\n",
      "Epoch: 254, AUC: 0.7460, AP: 0.7322\n",
      "Epoch: 255, AUC: 0.7459, AP: 0.7322\n",
      "Epoch: 256, AUC: 0.7463, AP: 0.7328\n",
      "Epoch: 257, AUC: 0.7468, AP: 0.7334\n",
      "Epoch: 258, AUC: 0.7475, AP: 0.7341\n",
      "Epoch: 259, AUC: 0.7471, AP: 0.7335\n",
      "Epoch: 260, AUC: 0.7458, AP: 0.7321\n",
      "Epoch: 261, AUC: 0.7447, AP: 0.7310\n",
      "Epoch: 262, AUC: 0.7449, AP: 0.7312\n",
      "Epoch: 263, AUC: 0.7455, AP: 0.7318\n",
      "Epoch: 264, AUC: 0.7463, AP: 0.7326\n",
      "Epoch: 265, AUC: 0.7454, AP: 0.7316\n",
      "Epoch: 266, AUC: 0.7439, AP: 0.7292\n",
      "Epoch: 267, AUC: 0.7437, AP: 0.7290\n",
      "Epoch: 268, AUC: 0.7449, AP: 0.7307\n",
      "Epoch: 269, AUC: 0.7462, AP: 0.7322\n",
      "Epoch: 270, AUC: 0.7459, AP: 0.7321\n",
      "Epoch: 271, AUC: 0.7445, AP: 0.7303\n",
      "Epoch: 272, AUC: 0.7422, AP: 0.7269\n",
      "Epoch: 273, AUC: 0.7423, AP: 0.7271\n",
      "Epoch: 274, AUC: 0.7439, AP: 0.7299\n",
      "Epoch: 275, AUC: 0.7452, AP: 0.7319\n",
      "Epoch: 276, AUC: 0.7434, AP: 0.7296\n",
      "Epoch: 277, AUC: 0.7411, AP: 0.7256\n",
      "Epoch: 278, AUC: 0.7426, AP: 0.7287\n",
      "Epoch: 279, AUC: 0.7440, AP: 0.7309\n",
      "Epoch: 280, AUC: 0.7447, AP: 0.7319\n",
      "Epoch: 281, AUC: 0.7446, AP: 0.7320\n",
      "Epoch: 282, AUC: 0.7432, AP: 0.7303\n",
      "Epoch: 283, AUC: 0.7430, AP: 0.7302\n",
      "Epoch: 284, AUC: 0.7426, AP: 0.7299\n",
      "Epoch: 285, AUC: 0.7423, AP: 0.7294\n",
      "Epoch: 286, AUC: 0.7421, AP: 0.7292\n",
      "Epoch: 287, AUC: 0.7420, AP: 0.7295\n",
      "Epoch: 288, AUC: 0.7424, AP: 0.7301\n",
      "Epoch: 289, AUC: 0.7425, AP: 0.7305\n",
      "Epoch: 290, AUC: 0.7429, AP: 0.7311\n",
      "Epoch: 291, AUC: 0.7427, AP: 0.7312\n",
      "Epoch: 292, AUC: 0.7424, AP: 0.7309\n",
      "Epoch: 293, AUC: 0.7423, AP: 0.7309\n",
      "Epoch: 294, AUC: 0.7421, AP: 0.7305\n",
      "Epoch: 295, AUC: 0.7413, AP: 0.7292\n",
      "Epoch: 296, AUC: 0.7399, AP: 0.7267\n",
      "Epoch: 297, AUC: 0.7394, AP: 0.7260\n",
      "Epoch: 298, AUC: 0.7408, AP: 0.7282\n",
      "Epoch: 299, AUC: 0.7426, AP: 0.7311\n",
      "Epoch: 300, AUC: 0.7436, AP: 0.7324\n"
     ]
    }
   ],
   "source": [
    "writer = SummaryWriter('runs/VGAE_experiment_'+'2d_100_epochs')\n",
    "\n",
    "model.train()\n",
    "model = torch.compile(model, backend=\"hpu_backend\")\n",
    "for epoch in range(1, epochs + 1):\n",
    "    loss = train()\n",
    "    auc, ap = test(data.test_pos_edge_index, data.test_neg_edge_index)\n",
    "    print('Epoch: {:03d}, AUC: {:.4f}, AP: {:.4f}'.format(epoch, auc, ap))\n",
    "    \n",
    "    \n",
    "    writer.add_scalar('auc train',auc,epoch) # new line\n",
    "    writer.add_scalar('ap train',ap,epoch)   # new line"
   ]
  },
  {
   "cell_type": "code",
   "execution_count": null,
   "metadata": {},
   "outputs": [],
   "source": []
  }
 ],
 "metadata": {
  "kernelspec": {
   "display_name": "Python 3",
   "language": "python",
   "name": "python3"
  },
  "language_info": {
   "codemirror_mode": {
    "name": "ipython",
    "version": 3
   },
   "file_extension": ".py",
   "mimetype": "text/x-python",
   "name": "python",
   "nbconvert_exporter": "python",
   "pygments_lexer": "ipython3",
   "version": "3.10.12"
  }
 },
 "nbformat": 4,
 "nbformat_minor": 4
}
