{
 "cells": [
  {
   "cell_type": "markdown",
   "id": "69a46b4c",
   "metadata": {},
   "source": [
    "## Tutorial #15: Data Handling in PyG (part 2)"
   ]
  },
  {
   "cell_type": "markdown",
   "id": "e7a6bfa0",
   "metadata": {},
   "source": [
    "### Custom PyG dataset"
   ]
  },
  {
   "cell_type": "markdown",
   "id": "b5560f4f",
   "metadata": {},
   "source": [
    "In the first part of the notebook we will see how to create a custom dataset in PyG. \n",
    "\n",
    "The dataset we'll load is called FRANKENSTEIN, the files can be downloaded from the \n",
    "[networkrepository](http://networkrepository.com/FRANKENSTEIN.php) site. The dataset was originally presented in the paper titled [Graph Invariant Kernels](https://www.ijcai.org/Proceedings/15/Papers/528.pdf).\n",
    "\n",
    "The dataset is a collection of graphs representing molecules, but the atom symbols of the vertices are substituted with MNIST digits. Each graph is associated with a label, indicating the mutagenicity of the molecule."
   ]
  },
  {
   "cell_type": "markdown",
   "id": "b339e866",
   "metadata": {},
   "source": [
    "The following is the README of the dataset:\n",
    "\n",
    ">FRANKENSTEIN contains the following comma separated text files:\n",
    ">\n",
    ">n: total number of nodes\n",
    ">m: total number of edges\n",
    ">N: number of graphs\n",
    ">\n",
    ">\n",
    ">*.node_attrs (n lines) \n",
    "\tmatrix of node attributes,\n",
    "\tthe comma seperated values in the i-th line is the attribute vector of the node with node_id i\n",
    ">\n",
    ">*.edges (m lines) \n",
    "\tsparse (block diagonal) adjacency matrix for all graphs,\n",
    "\teach line corresponds to (row, col) resp. (node_id, node_id)\n",
    ">\n",
    ">*.graph_labels (N lines)\n",
    "\tclass labels for all graphs in the dataset,\n",
    "\tthe value in the i-th line is the class label of the graph with graph_id i\n",
    ">\n",
    ">*.graph_idx (n lines)\n",
    "\tcolumn vector of graph identifiers for all nodes of all graphs,\n",
    "\tthe value in the i-th line is the graph_id of the node with node_id i"
   ]
  },
  {
   "cell_type": "markdown",
   "id": "d39106a1",
   "metadata": {},
   "source": [
    "The dataset is composed as follows:\n",
    "\n",
    "    Nr. of graphs:         4337\n",
    "    Total nr. of nodes:    73283 x 780 (weird, we'll change it later to 784)\n",
    "    Total nr. of edges:    155068"
   ]
  },
  {
   "cell_type": "code",
   "execution_count": 1,
   "id": "db247951",
   "metadata": {},
   "outputs": [
    {
     "name": "stdout",
     "output_type": "stream",
     "text": [
      "PT_HPU_LAZY_MODE: 0\n"
     ]
    },
    {
     "name": "stderr",
     "output_type": "stream",
     "text": [
      "Calling add_step_closure function does not have any effect. It's lazy mode only functionality. (warning logged once)\n",
      "Calling mark_step function does not have any effect. It's lazy mode only functionality. (warning logged once)\n",
      "Calling iter_mark_step function does not have any effect. It's lazy mode only functionality. (warning logged once)\n"
     ]
    },
    {
     "name": "stdout",
     "output_type": "stream",
     "text": [
      "2.4.0a0+git74cd574\n"
     ]
    },
    {
     "name": "stderr",
     "output_type": "stream",
     "text": [
      "/usr/lib/python3.10/inspect.py:288: FutureWarning: `torch.distributed.reduce_op` is deprecated, please use `torch.distributed.ReduceOp` instead\n",
      "  return isinstance(object, types.FunctionType)\n"
     ]
    }
   ],
   "source": [
    "import os\n",
    "\n",
    "# Use the eager mode\n",
    "os.environ['PT_HPU_LAZY_MODE'] = '0'\n",
    "\n",
    "# Verify the environment variable is set\n",
    "print(f\"PT_HPU_LAZY_MODE: {os.environ['PT_HPU_LAZY_MODE']}\")\n",
    "\n",
    "import torch\n",
    "os.environ['TORCH'] = torch.__version__\n",
    "print(torch.__version__)\n",
    "\n",
    "import habana_frameworks.torch.core as htcore"
   ]
  },
  {
   "cell_type": "code",
   "execution_count": 2,
   "id": "7a9ea054",
   "metadata": {},
   "outputs": [],
   "source": [
    "import pandas as pd\n",
    "from torch_geometric.data import InMemoryDataset, Data, download_url, extract_zip\n",
    "from torch_geometric.utils.convert import to_networkx\n",
    "import networkx as nx\n",
    "from tqdm import tqdm\n",
    "import matplotlib.pyplot as plt"
   ]
  },
  {
   "cell_type": "markdown",
   "id": "7d92abcf",
   "metadata": {},
   "source": [
    "To create the dataset we need to convert the raw information into a ```Data``` object (a graph) in PyG.\n",
    "\n",
    "The first step is to load the csv files, this can be done manually or using some data library as Pandas:"
   ]
  },
  {
   "cell_type": "code",
   "execution_count": 3,
   "id": "938a8085",
   "metadata": {},
   "outputs": [],
   "source": [
    "import torch\n",
    "import os\n",
    "import pandas as pd\n",
    "from torch_geometric.data import InMemoryDataset, Data, download_url, extract_zip\n",
    "from torch_geometric.utils.convert import to_networkx\n",
    "import networkx as nx\n",
    "from tqdm import tqdm\n",
    "\n",
    "\n",
    "class Frankenstein(InMemoryDataset):\n",
    "    \n",
    "    # Base url to download the files\n",
    "    url = 'http://nrvis.com/download/data/labeled/FRANKENSTEIN.zip'\n",
    "    \n",
    "    def __init__(self, root, transform=None, pre_transform=None):\n",
    "        super(Frankenstein, self).__init__(root, transform, pre_transform)\n",
    "        self.data, self.slices = torch.load(self.processed_paths[0])\n",
    "\n",
    "    @property\n",
    "    def raw_file_names(self):\n",
    "        # List of the raw files\n",
    "        return ['FRANKENSTEIN.edges', 'FRANKENSTEIN.graph_idx',\n",
    "                'FRANKENSTEIN.graph_labels', 'FRANKENSTEIN.node_attrs']\n",
    "\n",
    "    @property\n",
    "    def processed_file_names(self):\n",
    "        return 'data.pt'\n",
    "\n",
    "    def download(self):\n",
    "        # Download the file specified in self.url and store\n",
    "        # it in self.raw_dir\n",
    "        path = download_url(self.url, self.raw_dir)\n",
    "        extract_zip(path, self.raw_dir)\n",
    "        # The zip file is removed\n",
    "        os.unlink(path)\n",
    "\n",
    "\n",
    "    def process(self):\n",
    "        # Read the files' content as Pandas DataFrame. Nodes and graphs ids\n",
    "        # are based on the file row-index, we adjust the DataFrames indices\n",
    "        # by starting from 1 instead of 0.\n",
    "        \n",
    "        path = os.path.join(self.raw_dir, 'FRANKENSTEIN.node_attrs')\n",
    "        node_attrs = pd.read_csv(path, sep=',', header=None)\n",
    "        node_attrs.index += 1\n",
    "        \n",
    "        path = os.path.join(self.raw_dir, 'FRANKENSTEIN.edges')\n",
    "        edge_index = pd.read_csv(path, sep=',', names=['source', 'target'])\n",
    "        edge_index.index += 1\n",
    "        \n",
    "        path = os.path.join(self.raw_dir, 'FRANKENSTEIN.graph_idx')\n",
    "        graph_idx = pd.read_csv(path, sep=',', names=['idx'])\n",
    "        graph_idx.index += 1\n",
    "        \n",
    "        path = os.path.join(self.raw_dir, 'FRANKENSTEIN.graph_labels')\n",
    "        graph_labels = pd.read_csv(path, sep=',', names=['label'])\n",
    "        graph_labels.index += 1\n",
    "        \n",
    "        \n",
    "        # In the loop we extract the nodes' embeddings, edges connectivity for \n",
    "        # and label for a graph, process the information and put it in a Data\n",
    "        # object, then we add the object to a list\n",
    "        data_list = []\n",
    "        ids_list = graph_idx['idx'].unique()\n",
    "        for g_idx in tqdm(ids_list):\n",
    "            node_ids = graph_idx.loc[graph_idx['idx']==g_idx].index\n",
    "            \n",
    "            # Node features\n",
    "            attributes = node_attrs.loc[node_ids, :]\n",
    "            \n",
    "            # Edges info\n",
    "            edges = edge_index.loc[edge_index['source'].isin(node_ids)]\n",
    "            edges_ids = edges.index\n",
    "            \n",
    "            # Graph label\n",
    "            label = graph_labels.loc[g_idx]\n",
    "            \n",
    "            # Normalize the edges indices\n",
    "            edge_idx = torch.tensor(edges.to_numpy().transpose(), dtype=torch.long)\n",
    "            map_dict = {v.item():i for i,v in enumerate(torch.unique(edge_idx))}\n",
    "            map_edge = torch.zeros_like(edge_idx)\n",
    "            for k,v in map_dict.items():\n",
    "                map_edge[edge_idx==k] = v\n",
    "            \n",
    "            # Convert the DataFrames into tensors \n",
    "            attrs = torch.tensor(attributes.to_numpy(), dtype=torch.float)\n",
    "            pad = torch.zeros((attrs.shape[0], 4), dtype=torch.float)\n",
    "            x = torch.cat((attrs, pad), dim=-1)\n",
    "\n",
    "            edge_idx = map_edge.long()\n",
    "\n",
    "            np_lab = label.to_numpy()\n",
    "            y = torch.tensor(np_lab if np_lab[0] == 1 else [0], dtype=torch.long)\n",
    "            \n",
    "            graph = Data(x=x, edge_index=edge_idx,  y=y)\n",
    "            \n",
    "            data_list.append(graph)\n",
    "            \n",
    "        # Apply the functions specified in pre_filter and pre_transform\n",
    "        if self.pre_filter is not None:\n",
    "            data_list = [data for data in data_list if self.pre_filter(data)]\n",
    "\n",
    "        if self.pre_transform is not None:\n",
    "            data_list = [self.pre_transform(data) for data in data_list]\n",
    "\n",
    "        # Store the processed data\n",
    "        data, slices = self.collate(data_list)\n",
    "        torch.save((data, slices), self.processed_paths[0])  "
   ]
  },
  {
   "cell_type": "code",
   "execution_count": 4,
   "id": "86c5c29e",
   "metadata": {},
   "outputs": [
    {
     "name": "stderr",
     "output_type": "stream",
     "text": [
      "Downloading http://nrvis.com/download/data/labeled/FRANKENSTEIN.zip\n",
      "Extracting data/raw/FRANKENSTEIN.zip\n",
      "Processing...\n",
      "100%|██████████| 4337/4337 [00:16<00:00, 263.69it/s]\n",
      "Done!\n",
      "/tmp/ipykernel_2673104/29631454.py:17: FutureWarning: You are using `torch.load` with `weights_only=False` (the current default value), which uses the default pickle module implicitly. It is possible to construct malicious pickle data which will execute arbitrary code during unpickling (See https://github.com/pytorch/pytorch/blob/main/SECURITY.md#untrusted-models for more details). In a future release, the default value for `weights_only` will be flipped to `True`. This limits the functions that could be executed during unpickling. Arbitrary objects will no longer be allowed to be loaded via this mode unless they are explicitly allowlisted by the user via `torch.serialization.add_safe_globals`. We recommend you start setting `weights_only=True` for any use case where you don't have full control of the loaded file. Please open an issue on GitHub for any issues related to this experimental feature.\n",
      "  self.data, self.slices = torch.load(self.processed_paths[0])\n"
     ]
    }
   ],
   "source": [
    "import torch_geometric.transforms as T\n",
    "dataset = Frankenstein(root='data', pre_transform=T.GCNNorm())"
   ]
  },
  {
   "cell_type": "code",
   "execution_count": 5,
   "id": "671effcc",
   "metadata": {},
   "outputs": [],
   "source": [
    "raw_dir = \"data/raw\"\n",
    "\n",
    "path = os.path.join(raw_dir, 'FRANKENSTEIN.node_attrs')\n",
    "node_attrs = pd.read_csv(path, sep=',', header=None)\n",
    "node_attrs.index += 1\n",
    "\n",
    "path = os.path.join(raw_dir, 'FRANKENSTEIN.edges')\n",
    "edge_index = pd.read_csv(path, sep=',', names=['source', 'target'])\n",
    "edge_index.index += 1\n",
    "\n",
    "path = os.path.join(raw_dir, 'FRANKENSTEIN.graph_idx')\n",
    "graph_idx = pd.read_csv(path, sep=',', names=['idx'])\n",
    "graph_idx.index += 1\n",
    "\n",
    "path = os.path.join(raw_dir, 'FRANKENSTEIN.graph_labels')\n",
    "graph_labels = pd.read_csv(path, sep=',', names=['label'])\n",
    "graph_labels.index += 1"
   ]
  },
  {
   "cell_type": "markdown",
   "id": "12c78ee6",
   "metadata": {},
   "source": [
    "Graph ids go from 1 to 4337, let's extract the information for a single graph (id: 2345)"
   ]
  },
  {
   "cell_type": "code",
   "execution_count": 6,
   "id": "09cfff64",
   "metadata": {},
   "outputs": [],
   "source": [
    "g_idx=2345\n",
    "\n",
    "node_ids = graph_idx.loc[graph_idx['idx']==g_idx].index\n",
    "            \n",
    "# Node features\n",
    "attributes = node_attrs.loc[node_ids, :]\n",
    "\n",
    "# Edges info\n",
    "edges = edge_index.loc[edge_index['source'].isin(node_ids)]\n",
    "edges_ids = edges.index\n",
    "\n",
    "# Graph label\n",
    "label = graph_labels.loc[g_idx]"
   ]
  },
  {
   "cell_type": "code",
   "execution_count": 5,
   "id": "f8b7078b",
   "metadata": {},
   "outputs": [
    {
     "name": "stdout",
     "output_type": "stream",
     "text": [
      "Nodes: (18,)\n",
      "Attributes: (18, 780)\n",
      "Edges: (38, 2)\n",
      "Label: (1,)\n"
     ]
    }
   ],
   "source": [
    "print(\"Nodes:\", node_ids.shape)\n",
    "print(\"Attributes:\", attributes.shape)\n",
    "print(\"Edges:\", edges.shape)\n",
    "print(\"Label:\", label.shape)"
   ]
  },
  {
   "cell_type": "code",
   "execution_count": 6,
   "id": "4123c56e",
   "metadata": {},
   "outputs": [
    {
     "name": "stdout",
     "output_type": "stream",
     "text": [
      "Nodes: Index([38571, 38572, 38573, 38574, 38575, 38576, 38577, 38578, 38579, 38580,\n",
      "       38581, 38582, 38583, 38584, 38585, 38586, 38587, 38588],\n",
      "      dtype='int64')\n",
      "Attributes:        0    1    2    3    4    5    6    7    8    9    ...  770  771  772   \n",
      "38571    0    0    0    0    0    0    0    0    0    0  ...  0.0  0.0  0.0  \\\n",
      "38572    0    0    0    0    0    0    0    0    0    0  ...  0.0  0.0  0.0   \n",
      "38573    0    0    0    0    0    0    0    0    0    0  ...  0.0  0.0  0.0   \n",
      "38574    0    0    0    0    0    0    0    0    0    0  ...  0.0  0.0  0.0   \n",
      "38575    0    0    0    0    0    0    0    0    0    0  ...  0.0  0.0  0.0   \n",
      "38576    0    0    0    0    0    0    0    0    0    0  ...  0.0  0.0  0.0   \n",
      "38577    0    0    0    0    0    0    0    0    0    0  ...  0.0  0.0  0.0   \n",
      "38578    0    0    0    0    0    0    0    0    0    0  ...  0.0  0.0  0.0   \n",
      "38579    0    0    0    0    0    0    0    0    0    0  ...  0.0  0.0  0.0   \n",
      "38580    0    0    0    0    0    0    0    0    0    0  ...  0.0  0.0  0.0   \n",
      "38581    0    0    0    0    0    0    0    0    0    0  ...  0.0  0.0  0.0   \n",
      "38582    0    0    0    0    0    0    0    0    0    0  ...  0.0  0.0  0.0   \n",
      "38583    0    0    0    0    0    0    0    0    0    0  ...  0.0  0.0  0.0   \n",
      "38584    0    0    0    0    0    0    0    0    0    0  ...  0.0  0.0  0.0   \n",
      "38585    0    0    0    0    0    0    0    0    0    0  ...  0.0  0.0  0.0   \n",
      "38586    0    0    0    0    0    0    0    0    0    0  ...  0.0  0.0  0.0   \n",
      "38587    0    0    0    0    0    0    0    0    0    0  ...  0.0  0.0  0.0   \n",
      "38588    0    0    0    0    0    0    0    0    0    0  ...  0.0  0.0  0.0   \n",
      "\n",
      "       773  774  775  776  777  778  779  \n",
      "38571  0.0  0.0  0.0  0.0  0.0  0.0    0  \n",
      "38572  0.0  0.0  0.0  0.0  0.0  0.0    0  \n",
      "38573  0.0  0.0  0.0  0.0  0.0  0.0    0  \n",
      "38574  0.0  0.0  0.0  0.0  0.0  0.0    0  \n",
      "38575  0.0  0.0  0.0  0.0  0.0  0.0    0  \n",
      "38576  0.0  0.0  0.0  0.0  0.0  0.0    0  \n",
      "38577  0.0  0.0  0.0  0.0  0.0  0.0    0  \n",
      "38578  0.0  0.0  0.0  0.0  0.0  0.0    0  \n",
      "38579  0.0  0.0  0.0  0.0  0.0  0.0    0  \n",
      "38580  0.0  0.0  0.0  0.0  0.0  0.0    0  \n",
      "38581  0.0  0.0  0.0  0.0  0.0  0.0    0  \n",
      "38582  0.0  0.0  0.0  0.0  0.0  0.0    0  \n",
      "38583  0.0  0.0  0.0  0.0  0.0  0.0    0  \n",
      "38584  0.0  0.0  0.0  0.0  0.0  0.0    0  \n",
      "38585  0.0  0.0  0.0  0.0  0.0  0.0    0  \n",
      "38586  0.0  0.0  0.0  0.0  0.0  0.0    0  \n",
      "38587  0.0  0.0  0.0  0.0  0.0  0.0    0  \n",
      "38588  0.0  0.0  0.0  0.0  0.0  0.0    0  \n",
      "\n",
      "[18 rows x 780 columns]\n",
      "Edges:        source  target\n",
      "81573   38571   38572\n",
      "81574   38572   38571\n",
      "81575   38571   38573\n",
      "81576   38573   38571\n",
      "81577   38571   38574\n",
      "81578   38574   38571\n",
      "81579   38572   38575\n",
      "81580   38575   38572\n",
      "81581   38572   38576\n",
      "81582   38576   38572\n",
      "81583   38573   38577\n",
      "81584   38577   38573\n",
      "81585   38574   38578\n",
      "81586   38578   38574\n",
      "81587   38575   38579\n",
      "81588   38579   38575\n",
      "81589   38575   38580\n",
      "81590   38580   38575\n",
      "81591   38577   38581\n",
      "81592   38581   38577\n",
      "81593   38578   38581\n",
      "81594   38581   38578\n",
      "81595   38581   38582\n",
      "81596   38582   38581\n",
      "81597   38582   38583\n",
      "81598   38583   38582\n",
      "81599   38583   38584\n",
      "81600   38584   38583\n",
      "81601   38583   38585\n",
      "81602   38585   38583\n",
      "81603   38584   38586\n",
      "81604   38586   38584\n",
      "81605   38585   38587\n",
      "81606   38587   38585\n",
      "81607   38586   38588\n",
      "81608   38588   38586\n",
      "81609   38587   38588\n",
      "81610   38588   38587\n",
      "Label: label    1\n",
      "Name: 2345, dtype: int64\n"
     ]
    }
   ],
   "source": [
    "print(\"Nodes:\", node_ids)\n",
    "print(\"Attributes:\", attributes)\n",
    "print(\"Edges:\", edges)\n",
    "print(\"Label:\", label)"
   ]
  },
  {
   "cell_type": "markdown",
   "id": "1d0804e7",
   "metadata": {},
   "source": [
    "At this stage the indices in the ```edges``` variable are not normalized for the single graph, e.g. they do not start from 0"
   ]
  },
  {
   "cell_type": "code",
   "execution_count": 7,
   "id": "00740510",
   "metadata": {},
   "outputs": [],
   "source": [
    "device = torch.device(\"hpu\")"
   ]
  },
  {
   "cell_type": "code",
   "execution_count": 8,
   "id": "01003f31",
   "metadata": {},
   "outputs": [
    {
     "name": "stderr",
     "output_type": "stream",
     "text": [
      "============================= HABANA PT BRIDGE CONFIGURATION =========================== \n",
      " PT_HPU_LAZY_MODE = 0\n",
      " PT_RECIPE_CACHE_PATH = \n",
      " PT_CACHE_FOLDER_DELETE = 0\n",
      " PT_HPU_RECIPE_CACHE_CONFIG = \n",
      " PT_HPU_MAX_COMPOUND_OP_SIZE = 9223372036854775807\n",
      " PT_HPU_LAZY_ACC_PAR_MODE = 1\n",
      " PT_HPU_ENABLE_REFINE_DYNAMIC_SHAPES = 0\n",
      " PT_HPU_EAGER_PIPELINE_ENABLE = 1\n",
      " PT_HPU_EAGER_COLLECTIVE_PIPELINE_ENABLE = 1\n",
      "---------------------------: System Configuration :---------------------------\n",
      "Num CPU Cores : 160\n",
      "CPU RAM       : 2113407800 KB\n",
      "------------------------------------------------------------------------------\n"
     ]
    }
   ],
   "source": [
    "edge_idx = torch.tensor(edges.to_numpy().transpose(), dtype=torch.long, device=device)\n",
    "map_dict = {v.item():i for i,v in enumerate(torch.unique(edge_idx))}\n",
    "map_edge = torch.zeros_like(edge_idx)\n",
    "for k,v in map_dict.items():\n",
    "    map_edge[edge_idx==k] = v"
   ]
  },
  {
   "cell_type": "code",
   "execution_count": 9,
   "id": "12aa0faf",
   "metadata": {},
   "outputs": [
    {
     "data": {
      "text/plain": [
       "({38571: 0,\n",
       "  38572: 1,\n",
       "  38573: 2,\n",
       "  38574: 3,\n",
       "  38575: 4,\n",
       "  38576: 5,\n",
       "  38577: 6,\n",
       "  38578: 7,\n",
       "  38579: 8,\n",
       "  38580: 9,\n",
       "  38581: 10,\n",
       "  38582: 11,\n",
       "  38583: 12,\n",
       "  38584: 13,\n",
       "  38585: 14,\n",
       "  38586: 15,\n",
       "  38587: 16,\n",
       "  38588: 17},\n",
       " tensor([[ 0,  1,  0,  2,  0,  3,  1,  4,  1,  5,  2,  6,  3,  7,  4,  8,  4,  9,\n",
       "           6, 10,  7, 10, 10, 11, 11, 12, 12, 13, 12, 14, 13, 15, 14, 16, 15, 17,\n",
       "          16, 17],\n",
       "         [ 1,  0,  2,  0,  3,  0,  4,  1,  5,  1,  6,  2,  7,  3,  8,  4,  9,  4,\n",
       "          10,  6, 10,  7, 11, 10, 12, 11, 13, 12, 14, 12, 15, 13, 16, 14, 17, 15,\n",
       "          17, 16]], device='hpu:0'),\n",
       " torch.Size([2, 38]))"
      ]
     },
     "execution_count": 9,
     "metadata": {},
     "output_type": "execute_result"
    }
   ],
   "source": [
    "map_dict, map_edge, map_edge.shape"
   ]
  },
  {
   "cell_type": "markdown",
   "id": "0d71d186",
   "metadata": {},
   "source": [
    "As final step we convert the ```DataFrames``` to torch tensors. The node features are basically MNIST images, therefore their size should be 784 (28x28), but for some reason the files provide vectors of length 780. To adjust this, we simply add a padding of 4 zeros at the end of the vector (it will not affect the digits representation, as we'll see later)."
   ]
  },
  {
   "cell_type": "code",
   "execution_count": 29,
   "id": "62ba9bf9",
   "metadata": {},
   "outputs": [],
   "source": [
    "attrs = torch.tensor(attributes.to_numpy(), dtype=torch.float, device=device)\n",
    "pad = torch.zeros((attrs.shape[0], 4), dtype=torch.float, device=device)\n",
    "x = torch.cat((attrs, pad), dim=-1)\n",
    "\n",
    "edge_idx = map_edge.long()"
   ]
  },
  {
   "cell_type": "code",
   "execution_count": 33,
   "id": "04cd4fe6",
   "metadata": {},
   "outputs": [],
   "source": [
    "np_lab = label.to_numpy()\n",
    "y_data = (np_lab if np_lab[0] == 1 else [0])\n",
    "y = torch.tensor(y_data, dtype=torch.long, device=device)"
   ]
  },
  {
   "cell_type": "code",
   "execution_count": 34,
   "id": "b5e413a4",
   "metadata": {},
   "outputs": [
    {
     "data": {
      "text/plain": [
       "tensor([1], device='hpu:0')"
      ]
     },
     "execution_count": 34,
     "metadata": {},
     "output_type": "execute_result"
    }
   ],
   "source": [
    "y"
   ]
  },
  {
   "cell_type": "code",
   "execution_count": 35,
   "id": "9ec8e317",
   "metadata": {},
   "outputs": [
    {
     "data": {
      "text/plain": [
       "torch.Size([18, 784])"
      ]
     },
     "execution_count": 35,
     "metadata": {},
     "output_type": "execute_result"
    }
   ],
   "source": [
    "x.shape"
   ]
  },
  {
   "cell_type": "markdown",
   "id": "71a27ae1",
   "metadata": {},
   "source": [
    "Then we create the ```Data``` object representing the graph"
   ]
  },
  {
   "cell_type": "code",
   "execution_count": 36,
   "id": "2cc06f18",
   "metadata": {},
   "outputs": [],
   "source": [
    "graph = Data(x=x, edge_index=edge_idx,  y=y)"
   ]
  },
  {
   "cell_type": "markdown",
   "id": "57338892",
   "metadata": {},
   "source": [
    "Let's visualize the graph!"
   ]
  },
  {
   "cell_type": "code",
   "execution_count": 37,
   "id": "1b040996",
   "metadata": {},
   "outputs": [
    {
     "name": "stderr",
     "output_type": "stream",
     "text": [
      "/usr/local/lib/python3.10/dist-packages/networkx/drawing/nx_pylab.py:450: UserWarning: No data for colormapping provided via 'c'. Parameters 'cmap' will be ignored\n",
      "  node_collection = ax.scatter(\n"
     ]
    },
    {
     "data": {
      "image/png": "[encoded data removed]",
      "text/plain": [
       "<Figure size 800x800 with 1 Axes>"
      ]
     },
     "metadata": {},
     "output_type": "display_data"
    }
   ],
   "source": [
    "vis = to_networkx(graph)\n",
    "plt.figure(1,figsize=(8,8)) \n",
    "nx.draw(vis, cmap=plt.get_cmap('Set3'),node_size=70,linewidths=6)\n",
    "plt.show()"
   ]
  },
  {
   "cell_type": "markdown",
   "id": "6221b4cc",
   "metadata": {},
   "source": [
    "We can also plot the vertices attributes (a.k.a. the digits):"
   ]
  },
  {
   "cell_type": "code",
   "execution_count": 39,
   "id": "1e114906",
   "metadata": {},
   "outputs": [
    {
     "data": {
      "text/plain": [
       "<matplotlib.image.AxesImage at 0x7f104b227e20>"
      ]
     },
     "execution_count": 39,
     "metadata": {},
     "output_type": "execute_result"
    },
    {
     "data": {
      "image/png": "[encoded data removed]",
      "text/plain": [
       "<Figure size 480x480 with 1 Axes>"
      ]
     },
     "metadata": {},
     "output_type": "display_data"
    }
   ],
   "source": [
    "digit = x[5].reshape(28,28)\n",
    "plt.matshow(digit.cpu(), cmap='gray')"
   ]
  },
  {
   "cell_type": "markdown",
   "id": "1e184ce0",
   "metadata": {},
   "source": [
    "Let's now put the process above into the ```Dataset``` class of PyG. Specifically, we are going to create an ```InMemoryDataset```. From the official PyG documentation we see that some methods need to be override:"
   ]
  },
  {
   "cell_type": "markdown",
   "id": "a467a5a8",
   "metadata": {},
   "source": [
    "    torch_geometric.data.InMemoryDataset.raw_file_names(): A list of files in the raw_dir which needs to be found in order to skip the download.\n",
    "\n",
    "    torch_geometric.data.InMemoryDataset.processed_file_names(): A list of files in the processed_dir which needs to be found in order to skip the processing.\n",
    "\n",
    "    torch_geometric.data.InMemoryDataset.download(): Downloads raw data into raw_dir.\n",
    "\n",
    "    torch_geometric.data.InMemoryDataset.process(): Processes raw data and saves it into the processed_dir.\n"
   ]
  },
  {
   "cell_type": "markdown",
   "id": "2fc95e99",
   "metadata": {},
   "source": [
    "### Open Graph Benchmark datasets"
   ]
  },
  {
   "cell_type": "markdown",
   "id": "99c18fa1",
   "metadata": {},
   "source": [
    "Open Graph Benchmark is available as a python library, to install it just run\n",
    "\n",
    "```pip install ogb```"
   ]
  },
  {
   "cell_type": "markdown",
   "id": "86f5eab0",
   "metadata": {},
   "source": [
    "OGB allows to load a dataset in three ways: for PyG applications, for DGL (Deep Graph Library, another widely used tool for GNNs in python) and in an 'agnostic' manner. There is a naming convention to load a dataset, depending on the task an the dataset name:\n",
    "\n",
    "    ogbn-[name]: for node tasks\n",
    "    ogbg-[name]: for graph tasks\n",
    "    ogbl-[name]: for link tasks"
   ]
  },
  {
   "cell_type": "code",
   "execution_count": null,
   "id": "74ca64e7",
   "metadata": {},
   "outputs": [],
   "source": [
    "!pip install ogb"
   ]
  },
  {
   "cell_type": "code",
   "execution_count": 7,
   "id": "1c2a3931",
   "metadata": {},
   "outputs": [],
   "source": [
    "from ogb.nodeproppred import PygNodePropPredDataset\n",
    "#from ogb.graphproppred import PygGraphPropPredDataset\n",
    "#from ogb.linkproppred import PygLinkPropPredDataset"
   ]
  },
  {
   "cell_type": "code",
   "execution_count": 8,
   "id": "1ec243ea",
   "metadata": {},
   "outputs": [
    {
     "name": "stdout",
     "output_type": "stream",
     "text": [
      "Downloading http://snap.stanford.edu/ogb/data/nodeproppred/arxiv.zip\n"
     ]
    },
    {
     "name": "stderr",
     "output_type": "stream",
     "text": [
      "Downloaded 0.08 GB: 100%|██████████| 81/81 [00:06<00:00, 12.23it/s]\n",
      "Processing...\n"
     ]
    },
    {
     "name": "stdout",
     "output_type": "stream",
     "text": [
      "Extracting data/arxiv.zip\n",
      "Loading necessary files...\n",
      "This might take a while.\n",
      "Processing graphs...\n"
     ]
    },
    {
     "name": "stderr",
     "output_type": "stream",
     "text": [
      "100%|██████████| 1/1 [00:00<00:00, 17331.83it/s]\n"
     ]
    },
    {
     "name": "stdout",
     "output_type": "stream",
     "text": [
      "Converting graphs into PyG objects...\n"
     ]
    },
    {
     "name": "stderr",
     "output_type": "stream",
     "text": [
      "100%|██████████| 1/1 [00:00<00:00, 3938.31it/s]"
     ]
    },
    {
     "name": "stdout",
     "output_type": "stream",
     "text": [
      "Saving...\n"
     ]
    },
    {
     "name": "stderr",
     "output_type": "stream",
     "text": [
      "\n",
      "Done!\n",
      "/usr/local/lib/python3.10/dist-packages/ogb/nodeproppred/dataset_pyg.py:69: FutureWarning: You are using `torch.load` with `weights_only=False` (the current default value), which uses the default pickle module implicitly. It is possible to construct malicious pickle data which will execute arbitrary code during unpickling (See https://github.com/pytorch/pytorch/blob/main/SECURITY.md#untrusted-models for more details). In a future release, the default value for `weights_only` will be flipped to `True`. This limits the functions that could be executed during unpickling. Arbitrary objects will no longer be allowed to be loaded via this mode unless they are explicitly allowlisted by the user via `torch.serialization.add_safe_globals`. We recommend you start setting `weights_only=True` for any use case where you don't have full control of the loaded file. Please open an issue on GitHub for any issues related to this experimental feature.\n",
      "  self.data, self.slices = torch.load(self.processed_paths[0])\n"
     ]
    }
   ],
   "source": [
    "dataset_name = 'ogbn-arxiv'\n",
    "dataset = PygNodePropPredDataset(name = dataset_name, root='data') \n",
    "\n",
    "split_idx = dataset.get_idx_split()\n",
    "train_idx, valid_idx, test_idx = split_idx[\"train\"], split_idx[\"valid\"], split_idx[\"test\"]\n",
    "graph = dataset[0] "
   ]
  },
  {
   "cell_type": "code",
   "execution_count": 9,
   "id": "9bc1d992",
   "metadata": {},
   "outputs": [
    {
     "data": {
      "text/plain": [
       "Data(num_nodes=169343, edge_index=[2, 1166243], x=[169343, 128], node_year=[169343, 1], y=[169343, 1])"
      ]
     },
     "execution_count": 9,
     "metadata": {},
     "output_type": "execute_result"
    }
   ],
   "source": [
    "graph"
   ]
  },
  {
   "cell_type": "markdown",
   "id": "ac064ad9",
   "metadata": {},
   "source": [
    "### Benchmarking Graph Neural Networks Datasets"
   ]
  },
  {
   "cell_type": "code",
   "execution_count": 10,
   "id": "209977d0",
   "metadata": {},
   "outputs": [
    {
     "data": {
      "text/plain": [
       "['KarateClub',\n",
       " 'TUDataset',\n",
       " 'GNNBenchmarkDataset',\n",
       " 'Planetoid',\n",
       " 'NELL',\n",
       " 'CitationFull',\n",
       " 'CoraFull',\n",
       " 'Coauthor',\n",
       " 'Amazon',\n",
       " 'PPI',\n",
       " 'Reddit',\n",
       " 'Reddit2',\n",
       " 'Flickr',\n",
       " 'Yelp',\n",
       " 'AmazonProducts',\n",
       " 'QM7b',\n",
       " 'QM9',\n",
       " 'MD17',\n",
       " 'ZINC',\n",
       " 'AQSOL',\n",
       " 'MoleculeNet',\n",
       " 'PCQM4Mv2',\n",
       " 'Entities',\n",
       " 'RelLinkPredDataset',\n",
       " 'GEDDataset',\n",
       " 'AttributedGraphDataset',\n",
       " 'MNISTSuperpixels',\n",
       " 'FAUST',\n",
       " 'DynamicFAUST',\n",
       " 'ShapeNet',\n",
       " 'ModelNet',\n",
       " 'CoMA',\n",
       " 'SHREC2016',\n",
       " 'TOSCA',\n",
       " 'PCPNetDataset',\n",
       " 'S3DIS',\n",
       " 'GeometricShapes',\n",
       " 'BitcoinOTC',\n",
       " 'GDELTLite',\n",
       " 'ICEWS18',\n",
       " 'GDELT',\n",
       " 'WILLOWObjectClass',\n",
       " 'PascalVOCKeypoints',\n",
       " 'PascalPF',\n",
       " 'SNAPDataset',\n",
       " 'SuiteSparseMatrixCollection',\n",
       " 'WordNet18',\n",
       " 'WordNet18RR',\n",
       " 'FB15k_237',\n",
       " 'WikiCS',\n",
       " 'WebKB',\n",
       " 'WikipediaNetwork',\n",
       " 'HeterophilousGraphDataset',\n",
       " 'Actor',\n",
       " 'UPFD',\n",
       " 'GitHub',\n",
       " 'FacebookPagePage',\n",
       " 'LastFMAsia',\n",
       " 'DeezerEurope',\n",
       " 'GemsecDeezer',\n",
       " 'Twitch',\n",
       " 'Airports',\n",
       " 'LRGBDataset',\n",
       " 'MalNetTiny',\n",
       " 'OMDB',\n",
       " 'PolBlogs',\n",
       " 'EmailEUCore',\n",
       " 'LINKXDataset',\n",
       " 'EllipticBitcoinDataset',\n",
       " 'EllipticBitcoinTemporalDataset',\n",
       " 'DGraphFin',\n",
       " 'HydroNet',\n",
       " 'AirfRANS',\n",
       " 'JODIEDataset',\n",
       " 'Wikidata5M',\n",
       " 'MyketDataset',\n",
       " 'BrcaTcga',\n",
       " 'NeuroGraphDataset',\n",
       " 'WebQSPDataset',\n",
       " 'DBP15K',\n",
       " 'AMiner',\n",
       " 'OGB_MAG',\n",
       " 'DBLP',\n",
       " 'MovieLens',\n",
       " 'MovieLens100K',\n",
       " 'MovieLens1M',\n",
       " 'IMDB',\n",
       " 'LastFM',\n",
       " 'HGBDataset',\n",
       " 'Taobao',\n",
       " 'IGMCDataset',\n",
       " 'AmazonBook',\n",
       " 'HM',\n",
       " 'OSE_GVCS',\n",
       " 'RCDD',\n",
       " 'OPFDataset',\n",
       " 'CornellTemporalHyperGraphDataset',\n",
       " 'FakeDataset',\n",
       " 'FakeHeteroDataset',\n",
       " 'StochasticBlockModelDataset',\n",
       " 'RandomPartitionGraphDataset',\n",
       " 'MixHopSyntheticDataset',\n",
       " 'ExplainerDataset',\n",
       " 'InfectionDataset',\n",
       " 'BA2MotifDataset',\n",
       " 'BAMultiShapesDataset',\n",
       " 'BAShapes']"
      ]
     },
     "execution_count": 10,
     "metadata": {},
     "output_type": "execute_result"
    }
   ],
   "source": [
    "import torch_geometric.datasets as datasets\n",
    "\n",
    "datasets.__all__"
   ]
  },
  {
   "cell_type": "code",
   "execution_count": 11,
   "id": "5a8fda25",
   "metadata": {},
   "outputs": [
    {
     "data": {
      "text/plain": [
       "['PATTERN', 'CLUSTER', 'MNIST', 'CIFAR10', 'TSP', 'CSL']"
      ]
     },
     "execution_count": 11,
     "metadata": {},
     "output_type": "execute_result"
    }
   ],
   "source": [
    "datasets.GNNBenchmarkDataset.names"
   ]
  },
  {
   "cell_type": "code",
   "execution_count": 12,
   "id": "070cf962",
   "metadata": {},
   "outputs": [
    {
     "name": "stderr",
     "output_type": "stream",
     "text": [
      "Downloading https://data.pyg.org/datasets/benchmarking-gnns/MNIST_v2.zip\n",
      "Extracting data/MNIST/raw/MNIST_v2.zip\n",
      "Processing...\n",
      "Done!\n"
     ]
    }
   ],
   "source": [
    "dataset = datasets.GNNBenchmarkDataset(name='MNIST', root='data')"
   ]
  },
  {
   "cell_type": "code",
   "execution_count": 13,
   "id": "c0137546",
   "metadata": {},
   "outputs": [
    {
     "data": {
      "text/plain": [
       "MNIST(55000)"
      ]
     },
     "execution_count": 13,
     "metadata": {},
     "output_type": "execute_result"
    }
   ],
   "source": [
    "dataset"
   ]
  }
 ],
 "metadata": {
  "kernelspec": {
   "display_name": "Python 3 (ipykernel)",
   "language": "python",
   "name": "python3"
  },
  "language_info": {
   "codemirror_mode": {
    "name": "ipython",
    "version": 3
   },
   "file_extension": ".py",
   "mimetype": "text/x-python",
   "name": "python",
   "nbconvert_exporter": "python",
   "pygments_lexer": "ipython3",
   "version": "3.10.12"
  }
 },
 "nbformat": 4,
 "nbformat_minor": 5
}
