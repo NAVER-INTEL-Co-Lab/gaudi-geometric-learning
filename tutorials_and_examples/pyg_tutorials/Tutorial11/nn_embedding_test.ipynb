{
 "cells": [
  {
   "cell_type": "code",
   "execution_count": 1,
   "metadata": {},
   "outputs": [
    {
     "name": "stdout",
     "output_type": "stream",
     "text": [
      "PT_HPU_LAZY_MODE: 0\n"
     ]
    },
    {
     "name": "stderr",
     "output_type": "stream",
     "text": [
      "Calling add_step_closure function does not have any effect. It's lazy mode only functionality. (warning logged once)\n",
      "Calling mark_step function does not have any effect. It's lazy mode only functionality. (warning logged once)\n",
      "Calling iter_mark_step function does not have any effect. It's lazy mode only functionality. (warning logged once)\n"
     ]
    },
    {
     "name": "stdout",
     "output_type": "stream",
     "text": [
      "2.4.0a0+git74cd574\n"
     ]
    },
    {
     "name": "stderr",
     "output_type": "stream",
     "text": [
      "/usr/lib/python3.10/inspect.py:288: FutureWarning: `torch.distributed.reduce_op` is deprecated, please use `torch.distributed.ReduceOp` instead\n",
      "  return isinstance(object, types.FunctionType)\n"
     ]
    }
   ],
   "source": [
    "import os\n",
    "\n",
    "# Use the eager mode\n",
    "os.environ['PT_HPU_LAZY_MODE'] = '0'\n",
    "\n",
    "# Verify the environment variable is set\n",
    "print(f\"PT_HPU_LAZY_MODE: {os.environ['PT_HPU_LAZY_MODE']}\")\n",
    "\n",
    "import torch\n",
    "os.environ['TORCH'] = torch.__version__\n",
    "print(torch.__version__)\n",
    "\n",
    "import habana_frameworks.torch.core as htcore"
   ]
  },
  {
   "cell_type": "code",
   "execution_count": 2,
   "metadata": {},
   "outputs": [
    {
     "name": "stderr",
     "output_type": "stream",
     "text": [
      "/usr/local/lib/python3.10/dist-packages/torch_geometric/typing.py:68: UserWarning: An issue occurred while importing 'pyg-lib'. Disabling its usage. Stacktrace: /usr/local/lib/python3.10/dist-packages/libpyg.so: undefined symbol: _ZNK5torch8autograd4Node4nameEv\n",
      "  warnings.warn(f\"An issue occurred while importing 'pyg-lib'. \"\n",
      "/usr/local/lib/python3.10/dist-packages/torch_geometric/typing.py:97: UserWarning: An issue occurred while importing 'torch-cluster'. Disabling its usage. Stacktrace: /usr/local/lib/python3.10/dist-packages/torch_cluster/_version_cpu.so: undefined symbol: _ZN5torch3jit17parseSchemaOrNameERKSsb\n",
      "  warnings.warn(f\"An issue occurred while importing 'torch-cluster'. \"\n",
      "/usr/local/lib/python3.10/dist-packages/torch_geometric/typing.py:124: UserWarning: An issue occurred while importing 'torch-sparse'. Disabling its usage. Stacktrace: /usr/local/lib/python3.10/dist-packages/torch_sparse/_version_cpu.so: undefined symbol: _ZN5torch3jit17parseSchemaOrNameERKSsb\n",
      "  warnings.warn(f\"An issue occurred while importing 'torch-sparse'. \"\n"
     ]
    },
    {
     "name": "stdout",
     "output_type": "stream",
     "text": [
      "ModuleSpec(name='_version_cpu', loader=<_frozen_importlib_external.ExtensionFileLoader object at 0x7f03ae3dd900>, origin='/usr/local/lib/python3.10/dist-packages/torch_cluster/_version_cpu.so')\n"
     ]
    }
   ],
   "source": [
    "from torch_geometric.nn import Node2Vec\n",
    "import os.path as osp\n",
    "import torch\n",
    "import matplotlib.pyplot as plt\n",
    "from sklearn.manifold import TSNE\n",
    "from torch_geometric.datasets import Planetoid\n",
    "from tqdm.notebook import tqdm"
   ]
  },
  {
   "cell_type": "code",
   "execution_count": 3,
   "metadata": {},
   "outputs": [],
   "source": [
    "device_hpu = torch.device(\"hpu\")\n",
    "device_cpu = torch.device(\"cpu\")"
   ]
  },
  {
   "cell_type": "code",
   "execution_count": 4,
   "metadata": {},
   "outputs": [
    {
     "name": "stdout",
     "output_type": "stream",
     "text": [
      "Epoch 1, Loss: 4.6468\n",
      "Epoch 2, Loss: 4.6292\n",
      "Epoch 3, Loss: 4.6096\n",
      "Epoch 4, Loss: 4.5400\n",
      "Epoch 5, Loss: 4.4881\n",
      "Epoch 6, Loss: 4.4565\n",
      "Epoch 7, Loss: 4.4128\n",
      "Epoch 8, Loss: 4.3364\n",
      "Epoch 9, Loss: 4.2941\n",
      "Epoch 10, Loss: 4.2305\n"
     ]
    },
    {
     "name": "stderr",
     "output_type": "stream",
     "text": [
      "============================= HABANA PT BRIDGE CONFIGURATION =========================== \n",
      " PT_HPU_LAZY_MODE = 0\n",
      " PT_RECIPE_CACHE_PATH = \n",
      " PT_CACHE_FOLDER_DELETE = 0\n",
      " PT_HPU_RECIPE_CACHE_CONFIG = \n",
      " PT_HPU_MAX_COMPOUND_OP_SIZE = 9223372036854775807\n",
      " PT_HPU_LAZY_ACC_PAR_MODE = 1\n",
      " PT_HPU_ENABLE_REFINE_DYNAMIC_SHAPES = 0\n",
      " PT_HPU_EAGER_PIPELINE_ENABLE = 1\n",
      " PT_HPU_EAGER_COLLECTIVE_PIPELINE_ENABLE = 1\n",
      "---------------------------: System Configuration :---------------------------\n",
      "Num CPU Cores : 160\n",
      "CPU RAM       : 2113407800 KB\n",
      "------------------------------------------------------------------------------\n"
     ]
    },
    {
     "name": "stdout",
     "output_type": "stream",
     "text": [
      "Epoch 1, Loss: 4.7552\n",
      "Epoch 2, Loss: 4.6876\n",
      "Epoch 3, Loss: 4.7158\n",
      "Epoch 4, Loss: 4.6660\n",
      "Epoch 5, Loss: 4.6500\n",
      "Epoch 6, Loss: 4.6848\n",
      "Epoch 7, Loss: 4.6480\n",
      "Epoch 8, Loss: 4.6074\n",
      "Epoch 9, Loss: 4.6044\n",
      "Epoch 10, Loss: 4.5341\n"
     ]
    },
    {
     "data": {
      "image/png": "[encoded data removed]",
      "text/plain": [
       "<Figure size 640x480 with 1 Axes>"
      ]
     },
     "metadata": {},
     "output_type": "display_data"
    }
   ],
   "source": [
    "import torch\n",
    "import torch.nn as nn\n",
    "import torch.optim as optim\n",
    "import matplotlib.pyplot as plt\n",
    "\n",
    "# Setup\n",
    "vocab_size = 1000\n",
    "embedding_dim = 32\n",
    "num_negatives = 5\n",
    "batch_size = 64\n",
    "num_epochs = 10\n",
    "\n",
    "# Model\n",
    "class SimpleEmbedding(nn.Module):\n",
    "    def __init__(self, vocab_size, embedding_dim):\n",
    "        super().__init__()\n",
    "        self.embedding = nn.Embedding(vocab_size, embedding_dim)\n",
    "        \n",
    "    def forward(self, x):\n",
    "        return self.embedding(x)\n",
    "\n",
    "# Training data - simple co-occurrence pairs\n",
    "def generate_batch(batch_size, vocab_size, num_negatives):\n",
    "    # Positive pairs\n",
    "    target = torch.randint(0, vocab_size, (batch_size,))\n",
    "    context = torch.randint(0, vocab_size, (batch_size,))\n",
    "    \n",
    "    # Negative samples\n",
    "    negatives = torch.randint(0, vocab_size, (batch_size, num_negatives))\n",
    "    \n",
    "    return target, context, negatives\n",
    "\n",
    "# Training loop\n",
    "def train_embeddings(device):\n",
    "    model = SimpleEmbedding(vocab_size, embedding_dim).to(device)\n",
    "    optimizer = optim.Adam(model.parameters())\n",
    "    criterion = nn.BCEWithLogitsLoss()\n",
    "    \n",
    "    losses = []\n",
    "    for epoch in range(num_epochs):\n",
    "        epoch_loss = 0\n",
    "        num_batches = 100\n",
    "        \n",
    "        for _ in range(num_batches):\n",
    "            target, context, negatives = generate_batch(batch_size, vocab_size, num_negatives)\n",
    "            target, context, negatives = target.to(device), context.to(device), negatives.to(device)\n",
    "            \n",
    "            # Positive pairs\n",
    "            pos_score = (model(target) * model(context)).sum(dim=1)\n",
    "            pos_loss = criterion(pos_score, torch.ones_like(pos_score))\n",
    "            \n",
    "            # Negative pairs\n",
    "            neg_score = (model(target).unsqueeze(1) * model(negatives)).sum(dim=2)\n",
    "            neg_loss = criterion(neg_score, torch.zeros_like(neg_score))\n",
    "            \n",
    "            loss = pos_loss + neg_loss.mean()\n",
    "            \n",
    "            optimizer.zero_grad()\n",
    "            loss.backward()\n",
    "            optimizer.step()\n",
    "            \n",
    "            epoch_loss += loss.item()\n",
    "            \n",
    "        losses.append(epoch_loss / num_batches)\n",
    "        print(f'Epoch {epoch+1}, Loss: {losses[-1]:.4f}')\n",
    "    \n",
    "    return model, losses\n",
    "\n",
    "# Train on CPU\n",
    "model_cpu, losses_cpu = train_embeddings(device_cpu)\n",
    "\n",
    "# Train on HPU\n",
    "model_hpu, losses_hpu = train_embeddings(device_hpu)\n",
    "\n",
    "# Plot training curves\n",
    "plt.plot(losses_cpu, label='CPU')\n",
    "plt.plot(losses_hpu, label='HPU')\n",
    "plt.xlabel('Epoch')\n",
    "plt.ylabel('Loss')\n",
    "plt.legend()\n",
    "plt.show()"
   ]
  },
  {
   "cell_type": "code",
   "execution_count": 5,
   "metadata": {},
   "outputs": [
    {
     "name": "stdout",
     "output_type": "stream",
     "text": [
      "Epoch 1, Loss: 4.7480\n",
      "Epoch 2, Loss: 4.6279\n",
      "Epoch 3, Loss: 4.6663\n",
      "Epoch 4, Loss: 4.5688\n",
      "Epoch 5, Loss: 4.5341\n",
      "Epoch 6, Loss: 4.4196\n",
      "Epoch 7, Loss: 4.5025\n",
      "Epoch 8, Loss: 4.3616\n",
      "Epoch 9, Loss: 4.3442\n",
      "Epoch 10, Loss: 4.2769\n",
      "Epoch 1, Loss: 4.7537\n",
      "Epoch 2, Loss: 4.6988\n",
      "Epoch 3, Loss: 4.6371\n",
      "Epoch 4, Loss: 4.6294\n",
      "Epoch 5, Loss: 4.6642\n",
      "Epoch 6, Loss: 4.6248\n",
      "Epoch 7, Loss: 4.6056\n",
      "Epoch 8, Loss: 4.5726\n",
      "Epoch 9, Loss: 4.5322\n",
      "Epoch 10, Loss: 4.5964\n"
     ]
    },
    {
     "data": {
      "image/png": "[encoded data removed]",
      "text/plain": [
       "<Figure size 640x480 with 1 Axes>"
      ]
     },
     "metadata": {},
     "output_type": "display_data"
    }
   ],
   "source": [
    "import torch\n",
    "import torch.nn as nn\n",
    "import torch.optim as optim\n",
    "import matplotlib.pyplot as plt\n",
    "\n",
    "# Setup\n",
    "vocab_size = 1000\n",
    "embedding_dim = 32\n",
    "num_negatives = 5\n",
    "batch_size = 64\n",
    "num_epochs = 10\n",
    "\n",
    "# Model\n",
    "class SimpleEmbedding(nn.Module):\n",
    "    def __init__(self, vocab_size, embedding_dim):\n",
    "        super().__init__()\n",
    "        self.embedding = nn.Embedding(vocab_size, embedding_dim)\n",
    "        \n",
    "    def forward(self, x):\n",
    "        return self.embedding(x)\n",
    "\n",
    "# Training data - simple co-occurrence pairs\n",
    "def generate_batch(batch_size, vocab_size, num_negatives):\n",
    "    # Positive pairs\n",
    "    target = torch.randint(0, vocab_size, (batch_size,))\n",
    "    context = torch.randint(0, vocab_size, (batch_size,))\n",
    "    \n",
    "    # Negative samples\n",
    "    negatives = torch.randint(0, vocab_size, (batch_size, num_negatives))\n",
    "    \n",
    "    return target, context, negatives\n",
    "\n",
    "# Training loop\n",
    "def train_embeddings(device):\n",
    "    # model = SimpleEmbedding(vocab_size, embedding_dim).to(device)\n",
    "    # optimizer = optim.Adam(model.parameters())\n",
    "    \n",
    "    # as suggested by sunson at https://forum.habana.ai/t/training-of-torch-nn-embedding-failed-loss-not-decreasing/1409\n",
    "    # try torch.nn.Parameter instead of a model\n",
    "    \n",
    "    params = nn.Parameter(torch.randn(vocab_size, embedding_dim, device=device))\n",
    "    embedding_func = nn.Embedding(vocab_size, embedding_dim)\n",
    "    embedding_func.weight = params\n",
    "    optimizer = optim.Adam([params])\n",
    "    \n",
    "    criterion = nn.BCEWithLogitsLoss()\n",
    "    \n",
    "    losses = []\n",
    "    for epoch in range(num_epochs):\n",
    "        epoch_loss = 0\n",
    "        num_batches = 100\n",
    "        \n",
    "        for _ in range(num_batches):\n",
    "            target, context, negatives = generate_batch(batch_size, vocab_size, num_negatives)\n",
    "            target, context, negatives = target.to(device), context.to(device), negatives.to(device)\n",
    "            \n",
    "            # Positive pairs\n",
    "            # pos_score = (model(target) * model(context)).sum(dim=1)\n",
    "            pos_score = (embedding_func(target) * embedding_func(context)).sum(dim=1)\n",
    "            pos_loss = criterion(pos_score, torch.ones_like(pos_score))\n",
    "            \n",
    "            # Negative pairs\n",
    "            neg_score = (embedding_func(target).unsqueeze(1) * embedding_func(negatives)).sum(dim=2)\n",
    "            neg_loss = criterion(neg_score, torch.zeros_like(neg_score))\n",
    "            \n",
    "            loss = pos_loss + neg_loss.mean()\n",
    "            \n",
    "            optimizer.zero_grad()\n",
    "            loss.backward()\n",
    "            optimizer.step()\n",
    "            \n",
    "            epoch_loss += loss.item()\n",
    "            \n",
    "        losses.append(epoch_loss / num_batches)\n",
    "        print(f'Epoch {epoch+1}, Loss: {losses[-1]:.4f}')\n",
    "    \n",
    "    return embedding_func, losses\n",
    "\n",
    "# Train on CPU\n",
    "model_cpu, losses_cpu = train_embeddings(device_cpu)\n",
    "\n",
    "# Train on HPU\n",
    "model_hpu, losses_hpu = train_embeddings(device_hpu)\n",
    "\n",
    "# Plot training curves\n",
    "plt.plot(losses_cpu, label='CPU')\n",
    "plt.plot(losses_hpu, label='HPU')\n",
    "plt.xlabel('Epoch')\n",
    "plt.ylabel('Loss')\n",
    "plt.legend()\n",
    "plt.show()"
   ]
  }
 ],
 "metadata": {
  "kernelspec": {
   "display_name": "Python 3",
   "language": "python",
   "name": "python3"
  },
  "language_info": {
   "codemirror_mode": {
    "name": "ipython",
    "version": 3
   },
   "file_extension": ".py",
   "mimetype": "text/x-python",
   "name": "python",
   "nbconvert_exporter": "python",
   "pygments_lexer": "ipython3",
   "version": "3.10.12"
  }
 },
 "nbformat": 4,
 "nbformat_minor": 2
}
